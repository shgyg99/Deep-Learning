{
  "cells": [
    {
      "cell_type": "code",
      "execution_count": null,
      "metadata": {
        "colab": {
          "base_uri": "https://localhost:8080/"
        },
        "id": "PTwdG7YJZhq6",
        "outputId": "12c43bc5-bc7f-45a5-a577-56e8051d3c9b"
      },
      "outputs": [
        {
          "name": "stdout",
          "output_type": "stream",
          "text": [
            "Mounted at /content/drive\n"
          ]
        }
      ],
      "source": [
        "from google.colab import drive\n",
        "drive.mount('/content/drive')"
      ]
    },
    {
      "cell_type": "code",
      "execution_count": null,
      "metadata": {
        "id": "ANxKORf-a8lV"
      },
      "outputs": [],
      "source": [
        "! unzip -q /content/drive/MyDrive/all_data/coloring_dataset-v0.3.zip"
      ]
    },
    {
      "cell_type": "code",
      "execution_count": null,
      "metadata": {
        "colab": {
          "base_uri": "https://localhost:8080/"
        },
        "id": "CAtiHOGinmjo",
        "outputId": "48243774-bad9-43ed-c389-d9bebd147c4e"
      },
      "outputs": [
        {
          "name": "stdout",
          "output_type": "stream",
          "text": [
            "\u001b[?25l   \u001b[90m━━━━━━━━━━━━━━━━━━━━━━━━━━━━━━━━━━━━━━━━\u001b[0m \u001b[32m0.0/926.4 kB\u001b[0m \u001b[31m?\u001b[0m eta \u001b[36m-:--:--\u001b[0m\r\u001b[2K   \u001b[91m━━━━━━━━━━━━━━━━━━━━━━━━━━━━━━━━━━━━━━━\u001b[0m\u001b[91m╸\u001b[0m \u001b[32m921.6/926.4 kB\u001b[0m \u001b[31m34.2 MB/s\u001b[0m eta \u001b[36m0:00:01\u001b[0m\r\u001b[2K   \u001b[90m━━━━━━━━━━━━━━━━━━━━━━━━━━━━━━━━━━━━━━━━\u001b[0m \u001b[32m926.4/926.4 kB\u001b[0m \u001b[31m22.9 MB/s\u001b[0m eta \u001b[36m0:00:00\u001b[0m\n",
            "\u001b[?25h"
          ]
        }
      ],
      "source": [
        "!pip install -q torchmetrics"
      ]
    },
    {
      "cell_type": "code",
      "execution_count": null,
      "metadata": {
        "colab": {
          "base_uri": "https://localhost:8080/"
        },
        "id": "y0CpPrljMHIK",
        "outputId": "df30f275-bc88-4da9-f731-dc5cc425e2f4"
      },
      "outputs": [
        {
          "name": "stdout",
          "output_type": "stream",
          "text": [
            "\u001b[?25l   \u001b[90m━━━━━━━━━━━━━━━━━━━━━━━━━━━━━━━━━━━━━━━━\u001b[0m \u001b[32m0.0/182.5 kB\u001b[0m \u001b[31m?\u001b[0m eta \u001b[36m-:--:--\u001b[0m\r\u001b[2K   \u001b[90m━━━━━━━━━━━━━━━━━━━━━━━━━━━━━━━━━━━━━━━━\u001b[0m \u001b[32m182.5/182.5 kB\u001b[0m \u001b[31m6.7 MB/s\u001b[0m eta \u001b[36m0:00:00\u001b[0m\n",
            "\u001b[?25h"
          ]
        }
      ],
      "source": [
        "!pip install -q tensorflow_docs"
      ]
    },
    {
      "cell_type": "markdown",
      "metadata": {
        "id": "Itr36hpJb6KY"
      },
      "source": [
        "#**🔴Import Libs**"
      ]
    },
    {
      "cell_type": "code",
      "execution_count": null,
      "metadata": {
        "id": "tTuabxn3bAmZ"
      },
      "outputs": [],
      "source": [
        "import os\n",
        "from glob import glob\n",
        "import random\n",
        "from pathlib import Path\n",
        "from typing import Any, Callable, Dict, List, Optional, Tuple\n",
        "from pathlib import Path\n",
        "from sklearn.preprocessing import OneHotEncoder\n",
        "import numpy as np\n",
        "import matplotlib.pyplot as plt\n",
        "import pandas as pd\n",
        "import wandb\n",
        "import PIL\n",
        "from PIL import Image\n",
        "import cv2\n",
        "import time\n",
        "import imageio.v2 as imageio\n",
        "from tensorflow_docs.vis import embed\n",
        "import torch\n",
        "from torch.utils.data import DataLoader, Dataset, random_split\n",
        "from torch import optim\n",
        "from torch import nn\n",
        "from torch.nn import functional as F\n",
        "\n",
        "import torchvision\n",
        "from torchvision import io\n",
        "from torchvision.transforms import v2\n",
        "import torchvision.transforms.functional as F\n",
        "from torchvision.datasets import VisionDataset\n",
        "from torchvision import tv_tensors\n",
        "from torchvision.utils import make_grid\n",
        "\n",
        "import tqdm\n",
        "import torchmetrics as tm\n",
        "from torchmetrics import MeanMetric\n",
        "import random\n",
        "import warnings\n",
        "warnings.filterwarnings('ignore')\n"
      ]
    },
    {
      "cell_type": "code",
      "execution_count": null,
      "metadata": {
        "colab": {
          "base_uri": "https://localhost:8080/"
        },
        "id": "j-wQB8zMn1R_",
        "outputId": "f6d26319-2ec5-41fb-b8a3-d4d8234502e5"
      },
      "outputs": [
        {
          "name": "stdout",
          "output_type": "stream",
          "text": [
            "numpy --> 1.26.4\n",
            "torch --> 2.5.1+cu121\n",
            "torchvision --> 0.20.1+cu121\n",
            "torchmetrics --> 1.6.0\n",
            "cv2 --> 4.10.0\n",
            "PIL --> 11.0.0\n",
            "tqdm --> 4.67.1\n"
          ]
        }
      ],
      "source": [
        "for lib in [np, torch, torchvision, tm, cv2, PIL, tqdm]:\n",
        "  print(lib.__name__, '-->', lib.__version__)"
      ]
    },
    {
      "cell_type": "markdown",
      "metadata": {
        "id": "miYVwnMhcFEx"
      },
      "source": [
        "#**🔴Utils**"
      ]
    },
    {
      "cell_type": "code",
      "execution_count": null,
      "metadata": {
        "id": "etv1c2FTWV1K"
      },
      "outputs": [],
      "source": [
        "class AverageMeter(object):\n",
        "    \"\"\"Computes and stores the average and current value\"\"\"\n",
        "    def __init__(self):\n",
        "        self.reset()\n",
        "\n",
        "    def reset(self):\n",
        "        self.val = 0\n",
        "        self.avg = 0\n",
        "        self.sum = 0\n",
        "        self.count = 0\n",
        "\n",
        "    def update(self, val, n=1):\n",
        "        self.val = val\n",
        "        self.sum += val * n\n",
        "        self.count += n\n",
        "        self.avg = self.sum / self.count"
      ]
    },
    {
      "cell_type": "code",
      "execution_count": null,
      "metadata": {
        "id": "6ad3_nkFbr3Z"
      },
      "outputs": [],
      "source": [
        "def num_trainable_params(model):\n",
        "  nums = sum(p.numel() for p in model.parameters() if p.requires_grad)/1e6\n",
        "  return nums"
      ]
    },
    {
      "cell_type": "code",
      "execution_count": null,
      "metadata": {
        "id": "HKy7LKKjdq_7"
      },
      "outputs": [],
      "source": [
        "def set_seed(seed):\n",
        "  np.random.seed(seed)\n",
        "  torch.manual_seed(seed)\n",
        "  if torch.cuda.is_available():\n",
        "      torch.cuda.manual_seed(seed)\n",
        "      # torch.cuda.manual_seed_all(seed)\n",
        "\n",
        "      # torch.backends.cudnn.deterministic = True\n",
        "      # torch.backends.cudnn.benchmark = False\n"
      ]
    },
    {
      "cell_type": "code",
      "execution_count": null,
      "metadata": {
        "id": "EPgeWcewdtuT"
      },
      "outputs": [],
      "source": [
        "def time_for_each_batch(loader):\n",
        "  start = time.time()\n",
        "  for iter, (img, mask) in enumerate(loader, 1):\n",
        "    continue\n",
        "  end = time.time()\n",
        "  total_time = end - start\n",
        "  return total_time, total_time/len(loader)"
      ]
    },
    {
      "cell_type": "markdown",
      "metadata": {
        "id": "8LCVSukQcJnr"
      },
      "source": [
        "#**🔴Arguments**"
      ]
    },
    {
      "cell_type": "code",
      "execution_count": null,
      "metadata": {
        "id": "qG4c9U3kBEKY"
      },
      "outputs": [],
      "source": [
        "root = Path('/content/v0.3/processed/')\n",
        "metadata = pd.read_csv(root/'train/metadata.csv')"
      ]
    },
    {
      "cell_type": "code",
      "execution_count": null,
      "metadata": {
        "colab": {
          "base_uri": "https://localhost:8080/",
          "height": 80
        },
        "id": "yF_TANB-WlAl",
        "outputId": "173317c2-6f83-446b-bce0-e24ce962d362"
      },
      "outputs": [
        {
          "data": {
            "text/html": [
              "<style>#sk-container-id-1 {\n",
              "  /* Definition of color scheme common for light and dark mode */\n",
              "  --sklearn-color-text: #000;\n",
              "  --sklearn-color-text-muted: #666;\n",
              "  --sklearn-color-line: gray;\n",
              "  /* Definition of color scheme for unfitted estimators */\n",
              "  --sklearn-color-unfitted-level-0: #fff5e6;\n",
              "  --sklearn-color-unfitted-level-1: #f6e4d2;\n",
              "  --sklearn-color-unfitted-level-2: #ffe0b3;\n",
              "  --sklearn-color-unfitted-level-3: chocolate;\n",
              "  /* Definition of color scheme for fitted estimators */\n",
              "  --sklearn-color-fitted-level-0: #f0f8ff;\n",
              "  --sklearn-color-fitted-level-1: #d4ebff;\n",
              "  --sklearn-color-fitted-level-2: #b3dbfd;\n",
              "  --sklearn-color-fitted-level-3: cornflowerblue;\n",
              "\n",
              "  /* Specific color for light theme */\n",
              "  --sklearn-color-text-on-default-background: var(--sg-text-color, var(--theme-code-foreground, var(--jp-content-font-color1, black)));\n",
              "  --sklearn-color-background: var(--sg-background-color, var(--theme-background, var(--jp-layout-color0, white)));\n",
              "  --sklearn-color-border-box: var(--sg-text-color, var(--theme-code-foreground, var(--jp-content-font-color1, black)));\n",
              "  --sklearn-color-icon: #696969;\n",
              "\n",
              "  @media (prefers-color-scheme: dark) {\n",
              "    /* Redefinition of color scheme for dark theme */\n",
              "    --sklearn-color-text-on-default-background: var(--sg-text-color, var(--theme-code-foreground, var(--jp-content-font-color1, white)));\n",
              "    --sklearn-color-background: var(--sg-background-color, var(--theme-background, var(--jp-layout-color0, #111)));\n",
              "    --sklearn-color-border-box: var(--sg-text-color, var(--theme-code-foreground, var(--jp-content-font-color1, white)));\n",
              "    --sklearn-color-icon: #878787;\n",
              "  }\n",
              "}\n",
              "\n",
              "#sk-container-id-1 {\n",
              "  color: var(--sklearn-color-text);\n",
              "}\n",
              "\n",
              "#sk-container-id-1 pre {\n",
              "  padding: 0;\n",
              "}\n",
              "\n",
              "#sk-container-id-1 input.sk-hidden--visually {\n",
              "  border: 0;\n",
              "  clip: rect(1px 1px 1px 1px);\n",
              "  clip: rect(1px, 1px, 1px, 1px);\n",
              "  height: 1px;\n",
              "  margin: -1px;\n",
              "  overflow: hidden;\n",
              "  padding: 0;\n",
              "  position: absolute;\n",
              "  width: 1px;\n",
              "}\n",
              "\n",
              "#sk-container-id-1 div.sk-dashed-wrapped {\n",
              "  border: 1px dashed var(--sklearn-color-line);\n",
              "  margin: 0 0.4em 0.5em 0.4em;\n",
              "  box-sizing: border-box;\n",
              "  padding-bottom: 0.4em;\n",
              "  background-color: var(--sklearn-color-background);\n",
              "}\n",
              "\n",
              "#sk-container-id-1 div.sk-container {\n",
              "  /* jupyter's `normalize.less` sets `[hidden] { display: none; }`\n",
              "     but bootstrap.min.css set `[hidden] { display: none !important; }`\n",
              "     so we also need the `!important` here to be able to override the\n",
              "     default hidden behavior on the sphinx rendered scikit-learn.org.\n",
              "     See: https://github.com/scikit-learn/scikit-learn/issues/21755 */\n",
              "  display: inline-block !important;\n",
              "  position: relative;\n",
              "}\n",
              "\n",
              "#sk-container-id-1 div.sk-text-repr-fallback {\n",
              "  display: none;\n",
              "}\n",
              "\n",
              "div.sk-parallel-item,\n",
              "div.sk-serial,\n",
              "div.sk-item {\n",
              "  /* draw centered vertical line to link estimators */\n",
              "  background-image: linear-gradient(var(--sklearn-color-text-on-default-background), var(--sklearn-color-text-on-default-background));\n",
              "  background-size: 2px 100%;\n",
              "  background-repeat: no-repeat;\n",
              "  background-position: center center;\n",
              "}\n",
              "\n",
              "/* Parallel-specific style estimator block */\n",
              "\n",
              "#sk-container-id-1 div.sk-parallel-item::after {\n",
              "  content: \"\";\n",
              "  width: 100%;\n",
              "  border-bottom: 2px solid var(--sklearn-color-text-on-default-background);\n",
              "  flex-grow: 1;\n",
              "}\n",
              "\n",
              "#sk-container-id-1 div.sk-parallel {\n",
              "  display: flex;\n",
              "  align-items: stretch;\n",
              "  justify-content: center;\n",
              "  background-color: var(--sklearn-color-background);\n",
              "  position: relative;\n",
              "}\n",
              "\n",
              "#sk-container-id-1 div.sk-parallel-item {\n",
              "  display: flex;\n",
              "  flex-direction: column;\n",
              "}\n",
              "\n",
              "#sk-container-id-1 div.sk-parallel-item:first-child::after {\n",
              "  align-self: flex-end;\n",
              "  width: 50%;\n",
              "}\n",
              "\n",
              "#sk-container-id-1 div.sk-parallel-item:last-child::after {\n",
              "  align-self: flex-start;\n",
              "  width: 50%;\n",
              "}\n",
              "\n",
              "#sk-container-id-1 div.sk-parallel-item:only-child::after {\n",
              "  width: 0;\n",
              "}\n",
              "\n",
              "/* Serial-specific style estimator block */\n",
              "\n",
              "#sk-container-id-1 div.sk-serial {\n",
              "  display: flex;\n",
              "  flex-direction: column;\n",
              "  align-items: center;\n",
              "  background-color: var(--sklearn-color-background);\n",
              "  padding-right: 1em;\n",
              "  padding-left: 1em;\n",
              "}\n",
              "\n",
              "\n",
              "/* Toggleable style: style used for estimator/Pipeline/ColumnTransformer box that is\n",
              "clickable and can be expanded/collapsed.\n",
              "- Pipeline and ColumnTransformer use this feature and define the default style\n",
              "- Estimators will overwrite some part of the style using the `sk-estimator` class\n",
              "*/\n",
              "\n",
              "/* Pipeline and ColumnTransformer style (default) */\n",
              "\n",
              "#sk-container-id-1 div.sk-toggleable {\n",
              "  /* Default theme specific background. It is overwritten whether we have a\n",
              "  specific estimator or a Pipeline/ColumnTransformer */\n",
              "  background-color: var(--sklearn-color-background);\n",
              "}\n",
              "\n",
              "/* Toggleable label */\n",
              "#sk-container-id-1 label.sk-toggleable__label {\n",
              "  cursor: pointer;\n",
              "  display: flex;\n",
              "  width: 100%;\n",
              "  margin-bottom: 0;\n",
              "  padding: 0.5em;\n",
              "  box-sizing: border-box;\n",
              "  text-align: center;\n",
              "  align-items: start;\n",
              "  justify-content: space-between;\n",
              "  gap: 0.5em;\n",
              "}\n",
              "\n",
              "#sk-container-id-1 label.sk-toggleable__label .caption {\n",
              "  font-size: 0.6rem;\n",
              "  font-weight: lighter;\n",
              "  color: var(--sklearn-color-text-muted);\n",
              "}\n",
              "\n",
              "#sk-container-id-1 label.sk-toggleable__label-arrow:before {\n",
              "  /* Arrow on the left of the label */\n",
              "  content: \"▸\";\n",
              "  float: left;\n",
              "  margin-right: 0.25em;\n",
              "  color: var(--sklearn-color-icon);\n",
              "}\n",
              "\n",
              "#sk-container-id-1 label.sk-toggleable__label-arrow:hover:before {\n",
              "  color: var(--sklearn-color-text);\n",
              "}\n",
              "\n",
              "/* Toggleable content - dropdown */\n",
              "\n",
              "#sk-container-id-1 div.sk-toggleable__content {\n",
              "  max-height: 0;\n",
              "  max-width: 0;\n",
              "  overflow: hidden;\n",
              "  text-align: left;\n",
              "  /* unfitted */\n",
              "  background-color: var(--sklearn-color-unfitted-level-0);\n",
              "}\n",
              "\n",
              "#sk-container-id-1 div.sk-toggleable__content.fitted {\n",
              "  /* fitted */\n",
              "  background-color: var(--sklearn-color-fitted-level-0);\n",
              "}\n",
              "\n",
              "#sk-container-id-1 div.sk-toggleable__content pre {\n",
              "  margin: 0.2em;\n",
              "  border-radius: 0.25em;\n",
              "  color: var(--sklearn-color-text);\n",
              "  /* unfitted */\n",
              "  background-color: var(--sklearn-color-unfitted-level-0);\n",
              "}\n",
              "\n",
              "#sk-container-id-1 div.sk-toggleable__content.fitted pre {\n",
              "  /* unfitted */\n",
              "  background-color: var(--sklearn-color-fitted-level-0);\n",
              "}\n",
              "\n",
              "#sk-container-id-1 input.sk-toggleable__control:checked~div.sk-toggleable__content {\n",
              "  /* Expand drop-down */\n",
              "  max-height: 200px;\n",
              "  max-width: 100%;\n",
              "  overflow: auto;\n",
              "}\n",
              "\n",
              "#sk-container-id-1 input.sk-toggleable__control:checked~label.sk-toggleable__label-arrow:before {\n",
              "  content: \"▾\";\n",
              "}\n",
              "\n",
              "/* Pipeline/ColumnTransformer-specific style */\n",
              "\n",
              "#sk-container-id-1 div.sk-label input.sk-toggleable__control:checked~label.sk-toggleable__label {\n",
              "  color: var(--sklearn-color-text);\n",
              "  background-color: var(--sklearn-color-unfitted-level-2);\n",
              "}\n",
              "\n",
              "#sk-container-id-1 div.sk-label.fitted input.sk-toggleable__control:checked~label.sk-toggleable__label {\n",
              "  background-color: var(--sklearn-color-fitted-level-2);\n",
              "}\n",
              "\n",
              "/* Estimator-specific style */\n",
              "\n",
              "/* Colorize estimator box */\n",
              "#sk-container-id-1 div.sk-estimator input.sk-toggleable__control:checked~label.sk-toggleable__label {\n",
              "  /* unfitted */\n",
              "  background-color: var(--sklearn-color-unfitted-level-2);\n",
              "}\n",
              "\n",
              "#sk-container-id-1 div.sk-estimator.fitted input.sk-toggleable__control:checked~label.sk-toggleable__label {\n",
              "  /* fitted */\n",
              "  background-color: var(--sklearn-color-fitted-level-2);\n",
              "}\n",
              "\n",
              "#sk-container-id-1 div.sk-label label.sk-toggleable__label,\n",
              "#sk-container-id-1 div.sk-label label {\n",
              "  /* The background is the default theme color */\n",
              "  color: var(--sklearn-color-text-on-default-background);\n",
              "}\n",
              "\n",
              "/* On hover, darken the color of the background */\n",
              "#sk-container-id-1 div.sk-label:hover label.sk-toggleable__label {\n",
              "  color: var(--sklearn-color-text);\n",
              "  background-color: var(--sklearn-color-unfitted-level-2);\n",
              "}\n",
              "\n",
              "/* Label box, darken color on hover, fitted */\n",
              "#sk-container-id-1 div.sk-label.fitted:hover label.sk-toggleable__label.fitted {\n",
              "  color: var(--sklearn-color-text);\n",
              "  background-color: var(--sklearn-color-fitted-level-2);\n",
              "}\n",
              "\n",
              "/* Estimator label */\n",
              "\n",
              "#sk-container-id-1 div.sk-label label {\n",
              "  font-family: monospace;\n",
              "  font-weight: bold;\n",
              "  display: inline-block;\n",
              "  line-height: 1.2em;\n",
              "}\n",
              "\n",
              "#sk-container-id-1 div.sk-label-container {\n",
              "  text-align: center;\n",
              "}\n",
              "\n",
              "/* Estimator-specific */\n",
              "#sk-container-id-1 div.sk-estimator {\n",
              "  font-family: monospace;\n",
              "  border: 1px dotted var(--sklearn-color-border-box);\n",
              "  border-radius: 0.25em;\n",
              "  box-sizing: border-box;\n",
              "  margin-bottom: 0.5em;\n",
              "  /* unfitted */\n",
              "  background-color: var(--sklearn-color-unfitted-level-0);\n",
              "}\n",
              "\n",
              "#sk-container-id-1 div.sk-estimator.fitted {\n",
              "  /* fitted */\n",
              "  background-color: var(--sklearn-color-fitted-level-0);\n",
              "}\n",
              "\n",
              "/* on hover */\n",
              "#sk-container-id-1 div.sk-estimator:hover {\n",
              "  /* unfitted */\n",
              "  background-color: var(--sklearn-color-unfitted-level-2);\n",
              "}\n",
              "\n",
              "#sk-container-id-1 div.sk-estimator.fitted:hover {\n",
              "  /* fitted */\n",
              "  background-color: var(--sklearn-color-fitted-level-2);\n",
              "}\n",
              "\n",
              "/* Specification for estimator info (e.g. \"i\" and \"?\") */\n",
              "\n",
              "/* Common style for \"i\" and \"?\" */\n",
              "\n",
              ".sk-estimator-doc-link,\n",
              "a:link.sk-estimator-doc-link,\n",
              "a:visited.sk-estimator-doc-link {\n",
              "  float: right;\n",
              "  font-size: smaller;\n",
              "  line-height: 1em;\n",
              "  font-family: monospace;\n",
              "  background-color: var(--sklearn-color-background);\n",
              "  border-radius: 1em;\n",
              "  height: 1em;\n",
              "  width: 1em;\n",
              "  text-decoration: none !important;\n",
              "  margin-left: 0.5em;\n",
              "  text-align: center;\n",
              "  /* unfitted */\n",
              "  border: var(--sklearn-color-unfitted-level-1) 1pt solid;\n",
              "  color: var(--sklearn-color-unfitted-level-1);\n",
              "}\n",
              "\n",
              ".sk-estimator-doc-link.fitted,\n",
              "a:link.sk-estimator-doc-link.fitted,\n",
              "a:visited.sk-estimator-doc-link.fitted {\n",
              "  /* fitted */\n",
              "  border: var(--sklearn-color-fitted-level-1) 1pt solid;\n",
              "  color: var(--sklearn-color-fitted-level-1);\n",
              "}\n",
              "\n",
              "/* On hover */\n",
              "div.sk-estimator:hover .sk-estimator-doc-link:hover,\n",
              ".sk-estimator-doc-link:hover,\n",
              "div.sk-label-container:hover .sk-estimator-doc-link:hover,\n",
              ".sk-estimator-doc-link:hover {\n",
              "  /* unfitted */\n",
              "  background-color: var(--sklearn-color-unfitted-level-3);\n",
              "  color: var(--sklearn-color-background);\n",
              "  text-decoration: none;\n",
              "}\n",
              "\n",
              "div.sk-estimator.fitted:hover .sk-estimator-doc-link.fitted:hover,\n",
              ".sk-estimator-doc-link.fitted:hover,\n",
              "div.sk-label-container:hover .sk-estimator-doc-link.fitted:hover,\n",
              ".sk-estimator-doc-link.fitted:hover {\n",
              "  /* fitted */\n",
              "  background-color: var(--sklearn-color-fitted-level-3);\n",
              "  color: var(--sklearn-color-background);\n",
              "  text-decoration: none;\n",
              "}\n",
              "\n",
              "/* Span, style for the box shown on hovering the info icon */\n",
              ".sk-estimator-doc-link span {\n",
              "  display: none;\n",
              "  z-index: 9999;\n",
              "  position: relative;\n",
              "  font-weight: normal;\n",
              "  right: .2ex;\n",
              "  padding: .5ex;\n",
              "  margin: .5ex;\n",
              "  width: min-content;\n",
              "  min-width: 20ex;\n",
              "  max-width: 50ex;\n",
              "  color: var(--sklearn-color-text);\n",
              "  box-shadow: 2pt 2pt 4pt #999;\n",
              "  /* unfitted */\n",
              "  background: var(--sklearn-color-unfitted-level-0);\n",
              "  border: .5pt solid var(--sklearn-color-unfitted-level-3);\n",
              "}\n",
              "\n",
              ".sk-estimator-doc-link.fitted span {\n",
              "  /* fitted */\n",
              "  background: var(--sklearn-color-fitted-level-0);\n",
              "  border: var(--sklearn-color-fitted-level-3);\n",
              "}\n",
              "\n",
              ".sk-estimator-doc-link:hover span {\n",
              "  display: block;\n",
              "}\n",
              "\n",
              "/* \"?\"-specific style due to the `<a>` HTML tag */\n",
              "\n",
              "#sk-container-id-1 a.estimator_doc_link {\n",
              "  float: right;\n",
              "  font-size: 1rem;\n",
              "  line-height: 1em;\n",
              "  font-family: monospace;\n",
              "  background-color: var(--sklearn-color-background);\n",
              "  border-radius: 1rem;\n",
              "  height: 1rem;\n",
              "  width: 1rem;\n",
              "  text-decoration: none;\n",
              "  /* unfitted */\n",
              "  color: var(--sklearn-color-unfitted-level-1);\n",
              "  border: var(--sklearn-color-unfitted-level-1) 1pt solid;\n",
              "}\n",
              "\n",
              "#sk-container-id-1 a.estimator_doc_link.fitted {\n",
              "  /* fitted */\n",
              "  border: var(--sklearn-color-fitted-level-1) 1pt solid;\n",
              "  color: var(--sklearn-color-fitted-level-1);\n",
              "}\n",
              "\n",
              "/* On hover */\n",
              "#sk-container-id-1 a.estimator_doc_link:hover {\n",
              "  /* unfitted */\n",
              "  background-color: var(--sklearn-color-unfitted-level-3);\n",
              "  color: var(--sklearn-color-background);\n",
              "  text-decoration: none;\n",
              "}\n",
              "\n",
              "#sk-container-id-1 a.estimator_doc_link.fitted:hover {\n",
              "  /* fitted */\n",
              "  background-color: var(--sklearn-color-fitted-level-3);\n",
              "}\n",
              "</style><div id=\"sk-container-id-1\" class=\"sk-top-container\"><div class=\"sk-text-repr-fallback\"><pre>OneHotEncoder(handle_unknown=&#x27;ignore&#x27;)</pre><b>In a Jupyter environment, please rerun this cell to show the HTML representation or trust the notebook. <br />On GitHub, the HTML representation is unable to render, please try loading this page with nbviewer.org.</b></div><div class=\"sk-container\" hidden><div class=\"sk-item\"><div class=\"sk-estimator fitted sk-toggleable\"><input class=\"sk-toggleable__control sk-hidden--visually\" id=\"sk-estimator-id-1\" type=\"checkbox\" checked><label for=\"sk-estimator-id-1\" class=\"sk-toggleable__label fitted sk-toggleable__label-arrow\"><div><div>OneHotEncoder</div></div><div><a class=\"sk-estimator-doc-link fitted\" rel=\"noreferrer\" target=\"_blank\" href=\"https://scikit-learn.org/1.6/modules/generated/sklearn.preprocessing.OneHotEncoder.html\">?<span>Documentation for OneHotEncoder</span></a><span class=\"sk-estimator-doc-link fitted\">i<span>Fitted</span></span></div></label><div class=\"sk-toggleable__content fitted\"><pre>OneHotEncoder(handle_unknown=&#x27;ignore&#x27;)</pre></div> </div></div></div></div>"
            ],
            "text/plain": [
              "OneHotEncoder(handle_unknown='ignore')"
            ]
          },
          "execution_count": 12,
          "metadata": {},
          "output_type": "execute_result"
        }
      ],
      "source": [
        "enc = OneHotEncoder(handle_unknown='ignore')\n",
        "enc.fit(metadata[['hair', 'shirt']])"
      ]
    },
    {
      "cell_type": "code",
      "execution_count": null,
      "metadata": {
        "id": "sI6oCIltcMYE"
      },
      "outputs": [],
      "source": [
        "seed = 8\n",
        "color_list = ['blue', 'brown', 'red', 'yellow', 'green']\n",
        "wandb_enable = False\n",
        "device = 'cuda' if torch.cuda.is_available() else 'cpu'\n",
        "batch_size = 10\n",
        "lr = 0.01\n",
        "num_epochs = 100\n",
        "pic_dim = 64 * 64\n",
        "im_size = 64\n",
        "num_cls = 5"
      ]
    },
    {
      "cell_type": "code",
      "execution_count": null,
      "metadata": {
        "id": "r4wqcMPcdyn2"
      },
      "outputs": [],
      "source": [
        "if wandb_enable:\n",
        "  wandb_arg_name = input('Please input the WandB argument (run) name:')\n",
        "  print(wandb_arg_name)\n"
      ]
    },
    {
      "cell_type": "markdown",
      "metadata": {
        "id": "on-O-Md_cM1P"
      },
      "source": [
        "#**🔴Dataset**"
      ]
    },
    {
      "cell_type": "code",
      "execution_count": null,
      "metadata": {
        "id": "kC16lySmako5"
      },
      "outputs": [],
      "source": [
        "transform_train = v2.Compose([\n",
        "    v2.Resize(size=(256, 256), antialias=True),\n",
        "    v2.ToDtype(dtype=torch.float32, scale=True),\n",
        "    v2.Normalize(mean=(0.5,), std=(0.5,)),\n",
        "    ])\n",
        "\n",
        "transform_test = v2.Compose([\n",
        "    v2.Resize(size=(256, 256), antialias=True),\n",
        "    v2.ToDtype(dtype=torch.float32, scale=True),\n",
        "    v2.Normalize(mean=(0.5,), std=(0.5,)),\n",
        "    ])"
      ]
    },
    {
      "cell_type": "code",
      "execution_count": null,
      "metadata": {
        "colab": {
          "base_uri": "https://localhost:8080/"
        },
        "id": "agssc-1Kh9-x",
        "outputId": "5a2936fe-fd96-42b0-ef35-3627e6cc3c66"
      },
      "outputs": [
        {
          "data": {
            "text/plain": [
              "torch.Size([250, 10, 1, 1])"
            ]
          },
          "execution_count": 16,
          "metadata": {},
          "output_type": "execute_result"
        }
      ],
      "source": [
        "condition = metadata[['hair', 'shirt']].values.tolist()\n",
        "cons = torch.LongTensor([enc.transform([i]).toarray() for i in condition]).view(250, -1, 1, 1)\n",
        "cons.shape"
      ]
    },
    {
      "cell_type": "code",
      "execution_count": null,
      "metadata": {
        "id": "zdEggp_ocPVn"
      },
      "outputs": [],
      "source": [
        "class ColoringDataset(Dataset):\n",
        "  def __init__(self, root, phase, transform=None):\n",
        "\n",
        "    self.metadata = pd.read_csv(root/f'{phase}/metadata.csv')\n",
        "    self.transform = transform\n",
        "    condition = self.metadata[['hair', 'shirt']].values.tolist()\n",
        "    self.conditions = torch.LongTensor([enc.transform([i]).toarray() for i in condition])\n",
        "    self.images = []\n",
        "    self.targets = []\n",
        "\n",
        "    for i in range(len(self.metadata)):\n",
        "      image = tv_tensors.Image(Image.open(root/f'{phase}/inputs/{self.metadata.iloc[i, 0]}'))\n",
        "      target = tv_tensors.Image(Image.open(root/f'{phase}/targets/{self.metadata.iloc[i, 1]}'))\n",
        "      if self.transform:\n",
        "        self.images.append(self.transform(image))\n",
        "        self.targets.append(self.transform(target))\n",
        "      else:\n",
        "        self.images.append(image)\n",
        "        self.targets.append(target)\n",
        "\n",
        "  def __len__(self):\n",
        "    return len(self.metadata)\n",
        "\n",
        "  def __getitem__(self, index):\n",
        "      return self.images[index], self.targets[index], self.conditions[index].view(-1, 1, 1)"
      ]
    },
    {
      "cell_type": "code",
      "execution_count": null,
      "metadata": {
        "id": "C1cem0qAp7Si"
      },
      "outputs": [],
      "source": [
        "train = ColoringDataset(root, 'train', transform=transform_train)\n",
        "test = ColoringDataset(root, 'test', transform=transform_test)"
      ]
    },
    {
      "cell_type": "code",
      "execution_count": null,
      "metadata": {
        "colab": {
          "base_uri": "https://localhost:8080/"
        },
        "id": "sMJlSXaujNTm",
        "outputId": "2732b731-9924-4143-8ee3-756b7a868b2f"
      },
      "outputs": [
        {
          "data": {
            "text/plain": [
              "(torch.Size([3, 256, 256]), torch.Size([3, 256, 256]), torch.Size([10, 1, 1]))"
            ]
          },
          "execution_count": 19,
          "metadata": {},
          "output_type": "execute_result"
        }
      ],
      "source": [
        "im, tar, con= train.__getitem__(26)\n",
        "im.shape, tar.shape, con.shape"
      ]
    },
    {
      "cell_type": "code",
      "execution_count": null,
      "metadata": {
        "colab": {
          "base_uri": "https://localhost:8080/"
        },
        "id": "eatZqU5yv5cP",
        "outputId": "0b042eb9-13e0-4a4f-87a9-80eb2076ef1d"
      },
      "outputs": [
        {
          "name": "stderr",
          "output_type": "stream",
          "text": [
            "WARNING:matplotlib.image:Clipping input data to the valid range for imshow with RGB data ([0..1] for floats or [0..255] for integers).\n",
            "WARNING:matplotlib.image:Clipping input data to the valid range for imshow with RGB data ([0..1] for floats or [0..255] for integers).\n"
          ]
        },
        {
          "name": "stdout",
          "output_type": "stream",
          "text": [
            "torch.Size([10, 1, 1])\n"
          ]
        },
        {
          "data": {
            "image/png": "[encoded data removed]",
            "text/plain": [
              "<Figure size 640x480 with 2 Axes>"
            ]
          },
          "metadata": {},
          "output_type": "display_data"
        }
      ],
      "source": [
        "idx = random.randint(0, len(train)-1)\n",
        "src, tgt, vecs = train[idx]\n",
        "\n",
        "fig, axes = plt.subplots(1, 2)\n",
        "axes[0].imshow(src.permute(1, 2, 0)), axes[0].axis('off')\n",
        "axes[1].imshow(tgt.permute(1, 2, 0)), axes[1].axis('off');\n",
        "\n",
        "print(vecs.shape)"
      ]
    },
    {
      "cell_type": "code",
      "execution_count": null,
      "metadata": {
        "id": "GMDOSEPUjAs_"
      },
      "outputs": [],
      "source": [
        "train_loader = DataLoader(train, batch_size=batch_size, shuffle=True)\n",
        "test_loader = DataLoader(test, batch_size=batch_size, shuffle=True)"
      ]
    },
    {
      "cell_type": "code",
      "execution_count": null,
      "metadata": {
        "colab": {
          "base_uri": "https://localhost:8080/"
        },
        "id": "t2GOqJ_GjzRl",
        "outputId": "dde10e78-b43a-4783-8162-961809a1e5f3"
      },
      "outputs": [
        {
          "data": {
            "text/plain": [
              "(torch.Size([10, 3, 256, 256]),\n",
              " torch.Size([10, 3, 256, 256]),\n",
              " torch.Size([10, 10, 1, 1]))"
            ]
          },
          "execution_count": 22,
          "metadata": {},
          "output_type": "execute_result"
        }
      ],
      "source": [
        "im, tar, con = next(iter(train_loader))\n",
        "im.shape, tar.shape, con.shape"
      ]
    },
    {
      "cell_type": "markdown",
      "metadata": {
        "id": "TmNkjJSscohT"
      },
      "source": [
        "#**🔴Block Diagrams**"
      ]
    },
    {
      "cell_type": "markdown",
      "metadata": {
        "id": "53jbMPt8pUvu"
      },
      "source": [
        "###🧩Generator"
      ]
    },
    {
      "cell_type": "markdown",
      "metadata": {
        "id": "4HSGGMFapPVP"
      },
      "source": [
        "![download.png](data:image/png;base64,iVBORw0KGgoAAAANSUhEUgAABQAAAALQCAIAAABAH0oBAAAAAXNSR0IArs4c6QAAAARnQU1BAACxjwv8YQUAAAAJcEhZcwAADsMAAA7DAcdvqGQAAP+lSURBVHhe7N0HeBVV2gdw7G1dXct+a1t1bawK7i7LKuAuWBAVERAbiKIiJYAg0kE6GOlVuogI0kS69BpKAiQhvSc3DUJRUCC0ZOZ7z8xlOLy3zb25Nfc/zw+em5kzc2fOTGbmnzOlymNV/wYAAAAAAABQ6SEAAwAAAAAAQFhAAAYAAAAAAICwgAAMAAAAAAAAYQEBGAAAAAAAAMICAjAAAAAAAACEBQRgAAAAAAAACAsIwAAAAAAAABAWEIABAAAAAAAgLCAAAwAAAAAAQFhAAAYAAAAAAICwgAAMAAAAAAAAYQEBGAAAAAAAAMICAjAAAAAAAACEBQRgAAAAAAAACAsIwAAAAAAAABAWEIABAAAAAAAgLCAAAwAAAAAAQFhAAAYAAAAAAICwgAAMAAAAAAAAYQEBGAAAAAAAAMICAjAAAAAAAACEBQRgAAAAAAAACAsIwAAAAAAAABAWEIABAAAAAAAgLCAAAwAAAAAAQFhAAAYAAAAAAICwgAAMAAAAAAAAYQEBGAAAAAAAAMICAjAAAAAAAACEBQRgAAAAAAAACAsIwAAAAAAAABAWEIABAAAAAAAgLCAAAwAAAAAAQFhAAAYAAAAAAICwgAAMAAAAAAAAYQEBGAAAAAAAAMICAjAAAAAAAACEBQRgAAAAAAAACAsIwAAAAAAAABAWEIABAAAAAAAgLCAAAwAAAAAAQFhAAAYAAAAAAICwgAAMAAAAAAAAYQEBGAAAAAAAAMICAjAAAAAAAACEBQRgAAAAAAAACAsIwAAAAAAAABAWEIABAAAAAAAgLCAAAwAAAAAAQFhAAAYAAAAAAICwgAAMAAAAAAAAYQEBGAAAAAAAAMICAjBAZdDgnYfbDq/qRKs+j7FRDHVffbjXrL9Hrn7ih4JqU/Y9QR9adH/0ieq8mBk0G60HPjZk6eM0kYm7xATpf/o8YOHjNAPPN3mElffiVwdcRVZBcKpMa6eywjoCAABwFwIwQGVA+YrOgJ2gk2M2iq7blL+zkjoqb5tXHXmqxkOUe2kUNhGGzYNXvjp4eLwKglOlWTtP1324wTtWFBfZ0JBWyX6DKpk69cUm16L7o7RnGLDwcaL/IYw0fP8R/JECACCAEIAhKNAZGzuHc2LiLreDxJClj7OJOMdGD36epa/OE5yNNSPhyRq1HmKj2KJTbb2x1yV5Hrzy1UHFs1XgBCU3NgWTqPYiV4vGwA6jRLOzBzUZumvnqRoPvd350b5zHx+7zdk2SeuC6ocWkwpXZFmwjoCh0EtZl60Ou2gTpZVImxCbAgAA+BoCMAQFtwIwqVPfjZMGOieem82n4BybQvDzIH1RHbIytihIsLGYhu8/Yr5ujXnwylcHm+AJwLaGLH28WXuzjU6huHZo0Vp0f3TUBvf+zmWYuOsJSqEeNMphHYGh8cePRGrXoruL1lQluzYBACDIIQBDUHA3ALce6MbtlHRayUZ3iU0h+HmQvt7u/CgrY8t5ZqOz/9lpT7JRnDCmVvGvDkLBHIB1tLKo5tm32Aq5tUPZdUaCG9uhI1Q/7t6njXUEhDYD51ccmOHWQQ0AACoCARiCAp2rsbMB50ZtcKNxo+9ct9uF2BSCnwfpy+UoOjaWzOSVfgZjHir+1UEo+AOwjn4dnqrh7OLYEFo7VEUmL783j+rHfFMw1hHUffVhd49fjkSufsL5eodwo98o4UTnCVXZKABgBgIwBAUPTiBM3uFG57JutVLq2ESCnwfpq/HHrhvGx25zmNnotI8VdsmYhwp+dXAKlQBMZiQ86eSSy1BZO7QIHvxqm0FLZzIDYx2FOa9vhBRpPLgUHyortnnYog2GjQIAZiAAQ1DwIACbuVCQNHjHkzNUNpHg50H6qlHrIZenbk7+utxrlv0n0DphzEMFvzo4hVAAJpSvaPrsG3UhsXbq1PdV+tV1m/J39o12YR2FMx/9CaYvbt6Gi9i2YQsBGMAzCMAQFDwIwEOWmjpLcPSmEOfYRIKfZ+nLeTuS83Ywk6uMJjJg4eO0FvTrtYzRK/LVwSm0AjCZuMvh9ZbBv3ZoW2Jz5XUN33f9JiGso7BF1evBYcskWrns6yA8sQ3DFgIwgGcQgCEoeHAmMTe7mpkzPM/OUdhEgp/H6YvOtOzeRdlr1t+dXGROg1h5WzMSnnQeITz76qAVcgGYOGlrCua148Fj7Txg5kEDWEdhq/XAx1i1exHtPPH3CyBsw7CFAAzgGQRgCAqexVQ6D2bTYZ5v4uGJMptO8Ktg+mrwzsM0Bd3bnR91dOGloa6JG4DNX6Pu1lcHLZp/VgNMEAZg4uRGUxKca2eszRN352aLi5ZpDmlxaCZptulHd19+Zsvl8mIdhacatdx4tR6l2b5zHx+w0MW7qRl3H0gOlRLbKmwhAAN4BgEYgoJnAbjXLBf36dEZIRvFJDad4OdySd1NX87ROTebvq1wa8Hw+iowE67olJrWBUNzMmSp2Qd0u/wlCjZP1eBXH1DF2o2IdepX9OU0VJNsmgzWUXiiQMvWkV20itnfI2jrpbXJitnl1psOoLJiW4UtBGAAzyAAQ1DwLADPTnNxnZjd6wPNYNMxqUath+jUtvHHj7Qe+Jh+muvdEPh8k0domm93flRv6ZIH+TkAu7wG1btfZx5VC1URzR5ViLEWWJmK8OcqMBOunJz90ByaeULP3GyzD1QPEvT7Jc8/xUsnb46hOqzIY4oGLHQRQrCOwlCd+q5XOqGg62j/b/Lyac9Wuq/3gY7o39ui+6Ot+ogvZbvHCgrIQtGOhb6Ffklpn+PW1+kj6uPSDDd8X4xOmw0rZgbbJGxVMAD7+qTFLo8rFsCLEIAhKHgWgImTvaeZc1NH2KScoOMHHTmcz3/fuY+beaCOI3Tg7Dbl7zMS7Jwo08GPIhmV8SB90ZzT6M7RorGxdHToYtNnnIe9iny1XXRi5Lw9beKuJ+jMzElScs5Hq8C5CoYrQovMyttFxeSx3F07Zm40oJhqlJd1nuCi0gi7FpR+NAY5T786l9uqE7SkbGoM1pEurK7XpYpli2+L6p+NJaOMYXdnwrCV7px394E0/2x0xjii0abYYVRVu0dAWkbaeKiAMVl3eXehXO6iaSevl6R5ps/sj1Mud+B0NkJj2a0KHU2QFocWio3IOJmCS2aOMrR0tA07/xa3Tlp8XbEAvoAADEHB4z2+sWO1ZeY0xRE2KbvonNLkhXA6WkaaJbf+vEqF6dyCTccWTdaD9GXm3F2+9pLOcelbdAMWulhwOsIZhQ30jZ59tSN03kP1Y+ZUUjc3W0zWrRMyn64C5yoergilGjaKLVpAeRQP1o7L7YE0tnmwLdWtyxspaeWyX5k69R/W1zh9qckTX/O3azIuVxnWEbFdRz5FM0m7fc/a07zCZTgktjXJmDk8BXAf6HIZ39Ye8UDh0+UlDFTArSRPfLRQLnfReoXXffVhuyckTvYGtLrNzy2hSTmJwXa/3STnuywfnbT4rmIBfAcBGIKCx3t8J7tOM6cpjrBJ2aIjOhvFJDrZpZNXNjW76CTAzJmxzuVZiG1FuXsO7fE6MhjN9R6cvtuiM2DPLnGnMxW9zdYlX68C57wSrsw039EpkTyKB2uHzmxYAVu2lxPLbbmOODpNdOuvGOZXIuNylWEdEZctWt5lNOmP2uC6Mc3raJ9gLLgjtIdhY9ky0ybv8jZg3+0DXR499b9psp5O0EbOvsIR3y2UyxmmpaZvd/QXH7t7A/pNdN5G7QT9htLmxCZIKnKodbLL8t1Jiy8qFsDXEIAhKFRkj08ndmxqxMxpihNsarInqnv4bmEDJSWX9724Fb3MsD3GuHsOXZF1pPNiAKYTX5cNU07QuC4bJfywCpwzU0suw5WZkx52nu3Z2jHTwEjnQEZ5+j1y2WZC9W+Urwi3Gj1kdCLOJsVgHXlrHZnHrmmnOeww6tLVJb5Gex752+1qbeL2jYoHaZ/uA10GYA8OB3qjsXM+XSiXOY1+y5xkb7vH0AoeFukbbdtXKzJNu0cZX5+0eL1iAfwAARiCgss9vpPzMNr5sqkRJzf+uWypI2xqMo//3Ms4z8AVPFzZsj3GuHsOXZGjss5bAdjJynWL8+YjP6wC58zUklfCFYt5nq0dMw2McitQ48ufZWWXy+tITaK5ZVM2yWX1Yh15ax2Z5+jXn+J9RR61YJKZ3YKZpEf6zn2ctg3n2CgGX+8D6atZyYqjdOr8wg1fL5TLnOac7e9gxY+JhM4o5MmSikzW7lHG1yct3q1YAP9AAIag4HKP7+S0w24ThJO2DjPNQWxqhgru6GUU6e1e/kTMnKe6y/a46O45dMUP9l4JwDRuRZoIZLQKHJ2Q+WcVOGemlpycIuvMXF7LzsA8Xjsuv4tWnNHc4bJ13YtNi6M2eHj+R7sdNikG68iYst84j0n0W9Z64GNuXSHvFjNZwvkfNyvOD/tAXwRgwm5ll/lhoSp4+Ga/yC5/O8xjf0WqyKHW9ijjh5MW71YsgH8gAENQcLnHd37SQ8dOeWp0AufkUNrMxDVs8tQMFIq8dYTWOcp4Hp+vO2F7XHT3HLoiR2WdVwKwd8/MbP/6rvPPKnDOTC25PHUwc5bGqtrjtUMnnS5/QfTHBdOWwPrb8mKKoPM2NnGTXDblYR3JE/cPM+2EtIy0+CZv9XeLmT2DfBm5L/hhH+jdrzDQb6LtFb86PyyUF3Oamd8O81i1VORQy44y/jlpQQCGUIQADEHB5R6fjjdO7iHRz9gMTq7coy+isxPW05Y8NR0dn7z4F1+D7QWEZmbPA7bpy91z6IoclXXG6bLHp+9mHsmjo2Oqkw1GFsBV4FzFw5WZa2sJnb7IY3m8dojLBkb9ajeXN6NSAXmyFWHmZktHHF2jYcA68j+3LpSlZaEadrkezTOzG/Ti19nyzz6QxmVlvMXuXyX8s1BezGkufzvI7LQnaRSTf32Tr96vyKFWPsr47aQFARhCEQIwBAWXe3zKTk52smwHSmd+rICh25S/m/nbrTw1HR2fWBm76NhM306zSrPEBtll+4dqk8eSURse7zCqKi2OybMB2/Tl7jl0RY7KuooHYJcLS2cb8g1gdAZAtcTKMOz5usRvq8C5ioQrWvDWAx8z+bd/dudkRcKVmQZGM9Vb196T7Tzj8dXstH7ZpGxhHfmfWwFYR1GEfk+90jBbwUdIVJx/9oEmj1/0XTQubS2dJ5h9axH7a7UuqHbsjhi/yPTtbJAtmj3je+mX1+VmI99t8XyTR+hYqWPFbFHENQoT+e8LwXbS4oijPSSATyEAQ1BwGa4af/yI8xNZ+Y/uTg42+kGC9bRlTMpARwhWxhYdGOjQaIxChx+XJ5pUgDUXmElT8sGSmDkjrHgApvMJOlDpzMwklTHK64wzZs9O3102zFJl0pTZWMR5IxuNJa814rdV4JyZWqJp0smHjM5EqarNnKbr6MySLX5FwhVx2cDoknebFj3ISzozAQ/ryP88XqFk1IbHaXQ2QbewCdrFRvEiv+0DaftkZWxRGfngRVOgIyArYyuAO3b61WNlnKBfOlpA43eWAi391ujTcTnDdAQxvlTnsonbdhQdK2aLZpKNYqCqZoVteeWkxVsVC+BPCMAQFFwGYP2sxUkx47TGSb6lM07a13sWgGmvzcowtiepxMz9xnQUN8rTcYUNtWX3SOnyjNY2fVXkHNrMOaiTE03Pvtrln/ydvH3E+Z178qz6cxU4Z6aWKs62QaYiGwah3wKXvyzOebdp0cypvC2TAQ/ryDyaZ+Os1wPGdCh+0KKZ//OBLVp22pnQ/BjTNI9Nyi42CjFz0LGLTcc/+0Di8rfG7vHueRMvN7ZtP/TbQtFWxArYRbt3dsEF09jV09Ftf/Wc//meUKpko+hYMVtOArDL33G7K9HdkxbirYoF8CcEYAgKJgOwk4xhnLA6KaMflszs3/VJGcycvtj9KyYdXVyeqMkHMDMnEHbPBlwegSpBAHa5kTg5o3WeTuW0489V4JyZWqog20YSk9/raMPQmb+jz5bd3yOPuWyrsYvWlJNtSYZ1ZJ7HIVDHpkYoh9AyViQJUxgzuaINbAp2sVGItwKwf/aBxGUAdrQ3Y8Vs2QY2vy2UmZxGIc32163izPzC2n1yNStjy1EA9ttJCwlgxQJ4DAEYgoLLQ6Ceppzs043TRCeT0m8iMhPe9LkymDlZlO+9kdEpGivJyGcSZr6IzumN8oZKH4Bp5bICDB2z5fKM8/qR7/b05ypwzkwtVZDddVSRDUNHK8uzBkb6LbZ7Fugx5+fHdtE8mG/exDoyz+sB2EBJuO/cx2nG2Chm0FyxqTnHRreLjUK8EoD9tg8kHgdgJ8dfHctO/lwol7toIt9p7EVmfmGpDBuLsDK2HAVgv520kABWLIDHEIAhKLg8atIeVi/p5KTN+X3CRkL2IACb2b/bPXoRM+N6VljmckTb85WKnEP7PwCbGcVjcuX4cxU459NFJo4uLKzIhmHwrIHRs6ZFRzzIeLSXcOsiPawj83wXgHW0uukk290kHEIB2G/7QOK3AOzPhTKzb3d3e5DRstBJCH3LgIWXnpdhfmuk0dkECStji9WnwczC2v1G4u5B0NcVC+ALCMAQFFweNWkPq5d08rdJGuRkR2xcDeX8yRk6vaTByZca2CgGM2eZxiMlXB5I6ITemLLM5Yi25ytmzjwcnUP7PwBX8OzZOTpHMb7In6vAOTO15DEnMaYiG4bBs/Dp3eZfMzc7yGanPenuWRrWkXkV/BVmU3NCT8K0w2dTsMvdNW6mxtgjgojHy+6ViZgh7wMJxSpWgHG0N3N5KGeBzZ8L5XIXTdzdHghtb3RS4fxuZDPol5pNmbAythwFYL+dtBAfVSyATyEAQ1AwH4AbOn6yP52aODkIGXnMzM5aL2lweS7lKBQRM1nRuKTW5UFr7Db7RzsP0ldFzqH9H4DdDTPuMg7n/lwFzvkoXNG26mTVEK+EK+LyUTGMk0fdeIDOSt16BybtOuxe2S6jeqOFkvtgHZlXwajDpmYG1ZLLIOfuebmZnGN7Cb3Hyy5PxG/7QOK3AOzPhfJFTqP5N/M3ETNoc2UTJ6yMLUcB2G8nLcQXFQvgawjAEBRcHjU7XHyrHp3XunxCg13GgdCDAOzx2QAxcywxjg0u05ejo12lD8B05s0KeJdx8uHPVeCcmVpyV+cJVeUzQrsqsmHIatRy/TxtmaMb0jxj5tfcQLsX2rGwKTBGq4hcEuvIPI9DoI5NzQlaQRRLTF4L7e55OU2WTcGW7VX0Hi+7PBG/7QOJx4c8l4dytv/050J5Pae5PFi4RZ5VAytjy9HxyOM1SNw6aSFer1gAP0AAhqDg8qgpn8yZOQVh5IOEmZ21UVjn8vWG7FIrmZljidFi4PKA6uig5UH6qsg5tP8DsJkL1yvCOPnw5ypwzkwtmTR22xOU3+yeYNmqyIYhoyDHxnLOuEmh4ugXykz4IaM2PG7mkVcU/IwJytWIdWSexyFQx6ZmV2P3nwvt7nm5y3f2ENtdH60v2j/ITNa8PBG/7QOJ3wKwPxeKqp0NtWV+e/DgPMQ5u7/7rIwtRwHYbyctxLsVC+AfCMAQFFweNeWTOQ8umqIzS2N0M2ceRmFdtymu/9DLRjGYOZYYt9W5PLtydNmSyyOQ7flKRc6h/R+A3b1W013GyYc/V4FzZmrJLjolInQCRLNE55fu3rRZkQ3DQF9qMoLKzGRRM8xcp0rrkfYkbES76tR/2NhBsbWPdWSe7wIwTZl20bRq2ChmuHtebiawGdcrOWFyy5FH8ds+kNDGyYYyjvZmLg/lNGW5vD8Xyos5zcwRUKf/prusTyLPqoGVscXq0+C3kxbixYoF8BsEYAgKLo+a8sncUzXcPm+TDy00KTbUllFYZ+YyLbtHL+Ly2CD/IdbMgcQoLHM5ou35Cs0wK2PL0Tm0/wMwnXazAgwtoHGq4QHjcO7PVeCcmVqiOWdjVVxFNgyDyUcQMRRc2XQ84PK3dXbak7SyXF7zTKgMBR65RbHz5Q+mwjoyz+sBuE79h2l1uDx2OEHjurzxm3HyEAqDo7+RycysQSKP4rd9IKEf2cQZR3szl6uDpiyX9+dCmdm3m8lptFtw+deWvnMfl7+asAK2aJOQy+tYGVu0jGwUnd9OWsyUJwjAEGwQgCEouDxqDll62VmXy8t7ZOyMzYMAbKbN2dGJlMsWRflMwt2/vBo8SF8VOYf2fwCmpWYFGEfnAe7y5ypwzkwteWupZRXZMHQuT2qdaHz5U6bcRfnE5V/HJu7iZ8l22W1GZu2fWEfmeSsA028f/a7RSmQF3EJHEI+3NDNNzS4nbmYNEnkUv+0DCU2KTZxxtDdzeShnM+nPhfJWTnN5jLD7q8fK2KJNgo1CWBlbjurHbyctBAEYQhECMAQFd4+aZlKKgfbO8rh0cGIFbMnlyfNNXB9L2LcYXJ6oydnezDmi3WDp8ghke75SkXNoM/Vvdz51nn01K2DLbi615bzpz5+rwDkzteTFs0NDRTYMnWdNizpHD9k2w0z6rQjbxk+sI/O8FYDd2vkzlF3p5J5qz5iaB8zcRMP+YmvLzBokbCw21JZX9oGENlo2ZcbR3szdQzlhBWx5a6G8ldNc/u7YnWFWxpbdzZKVseXoigy/nbQQb1UsgD8hAENQcPeo6fLPxjL2Z06Xh3Yilyd0ZHX5YBU6ZrCxiJmDUGvpzSJP1XC9XHT0NcobwiEAuzztoKOyy3MgOgzTSbCT6x79uQqcM1NLQRiuzGzzznnWNOfr9EtadOebNNaR/3kWgCknmLzl2yWTtddtirM/QJhZg4SN5Z99IHF5lPRiAPbbQnkrpznPhzQbrLyOFbNFmwQbhbAythytCL+dtBAEYAhFCMAQFDw4aro8QutsDw9mRmSjEDOPlKDDgDwKRSkzbyJlfy02Mwo7+6z76sMuD3W29VCRc+iABGAzd9/RWI5eIUP9O4yqqmckqg1HxYjfVoFzZmrJ9vei4iqyYRCXteeyougM0uX5LuOH9EvTt91msI78z60ATAtCu27nucgDLpvIdLTq7e5nKIpTBbLCdrER/bYPdHmUdLQ3o/6sJGP76+C3hfJWTnO+q7EbgOmXhRWzRb/UbCxiZjuhyMrG0vntpAUBGEIRAjAEBQ+OmsZrOZ2jQyMb0eWhnbBRiMm/+tNxms7PaF9Ps2fmQGK7XGaur6MDMBWj8wY6kaIPLs9Wie35SkXOoQMSgInL7YRQbbQe+BitAjrrpdMO+kBhlabGasnJNYp+WwXOhWK4oqpmJRmqt7om3lEkP7bdJSrscoIVZ7snIVhH/mcyANPul0r6KKWbeRa0gTIMbQMUEvrOfdzM0UfGvpf4Zx/ocj4d7c1czp7dXwf/LJS3cprLvT39+sjlaW5prlgZW/RLLY+lM7nBUD3Q0umMb/fbSYu3KhbAnxCAISh4cNQ0cwpIbHe7Zo4obBSdyb/6u8X2oko6erEyXmF7vlKRc+hABWA6AWLFKoKCK5u+zm+rwDkztWT3bLKCKrJhuDx/ogxAxVz+icFkA+NTNR5yef2kVziaH6wjecr+4XznQ7mdFtxRm5gXmYk0Fce+lPhnH+jyKOlob+bBoZz4Z6G8ldPsPh5PRpWgX29PWZ0O8WZOOQj9UsvfojPTisvIR17/nLQgAEMoQgCGoODZUdPlcYhO0dgoxMzRiI2ic9ly4i5Hj68w81dYd9mer1TkHDpQAZhOuF2udLc4ui3QP6vAuZALV2a2Cr11wsyfGOicWJ64LZqIy/2GtzjamLGO5In7h6NFoHN9OjV3cgWsd9Wo9RAdX9g8eB37UuKffaDLo6SjvZlnh3L/LJS3chr9ZrGxvMLuV7cyd6WbTN5Z+eekBQEYQhECMAQFz46aLne7dk8BXR7aCRvF4LJVxLy52fb/4ku8ftAitucrHp9DEzOn0Y4yA6nIV9O4XjzvpLVgt7HIP6vAOTO1FDzhik5hXa4X+epEly23tGrsPkxVR1HH5TW63uJoUyRYR07WkY/Y7nz6zn08IKfXvthLyBxdZO6HfaDLo6R3AzDxw0J5K6eZuWnZAzRZ9kXEg22MHXn9cNKCAAyhCAEYgoJnR8069V2cBdo9org8tBM2isGLf6h2kg+J1y/srDQBmNChlBX22Oy0J/X2Llt+WAXOmaml4AlXZloq6GTOKG+mgdHupYw0e/65+lRHa81JoyLWkaPLTX3H2PnQqmk98DH/J3CZmVN/D1DScHRxis7X+0CXR0lHezPqz0oyTn4dfL1QHuS0hg0bREYOW7Jk0dq1P6ckJx06eBAqmaysTFq5hFb0+x80l9c+VG4IwBAUPD5qOhmRDoGUV1l54vLQTtgoMjr1rHgGdvSnfQOd1bmsE7fYnq94dg6tC2wAJnSa7vJJJC45Sb/ED6vAuRAKV2aaFsfavDzW5e8Ra2Ckzx7cEVcRdtuRZFhHbB35Ae1Yhix93O4fNwPCK/siGa0mM81lPt0HujxKOtqbudxnOv918OlCmQ/A1apXpTiExBuG8i2W6dOn1qpdU95yoFJCAIag4PFRs8Moh4c0/VEutlwe2gkbhaFTSY8vK6Jjs5mTG0LnuOYDGJV0vly25ysenEMbAh6ACZ12V+QvETRuHVcvR/H1KnDOTC05P5v0jAdrx8mvocH20Sl0ssvK2DK+iFZWxc+M3WU7zwzWEXH5q1rp0cbplacNUfRt1ecxu3+3tct3+0CXR0lHezOXO0yXvw6+WyiTATgiog2ib5ijGBwZOYxtP1DJIABDUPD4qPm84wf9O7qEzOWhnbBR7KJTQ5ezzVAmd6u1hAqbudqTDvlU0vnR3fZ8xYNzaEMwBGAdLbW7d45ReeeXF8p8ugqcC5VwRQs+19XtuFTndk/rzTxsTG/MMbPJeZeZi3uxjnROrqQIE09pb6N1d19koBFp7+HZE7x8sQ90eZR0tDfz+FDO+GKhnO+fycKCGj/8OI1lIQhba9f+XKNGdbYVQaWBAAxBoSJHTbuHSTrbc3Qy4fLQTtgoTjR452E60XTeNkVLV5F71Rq+/4ijeabF7Dbl7/ppq/OEYHu+UpEUGjwBWNf440f6znURU6muqAzNlfkGFoOPVoFzoRKuzFwNQaeeRnmZmQ1pwEJxKQf9Ovvz1l+Tt7ZiHen0dQSEMpjLfZFh7LYnKDZ75c8H3t0HujxKOtqbVeRQbsu7C+U8AFP6TTu4jkUgCHPxcbG4HLqyQgCGoPB8k0coSTrh5BSBBrHCxMmde3bLM2wUl+jQq49IQZeOsroW3cXL5Z3fQ2geBQA6xhsTJ/SjHPIpYOvzYJftbBjz7ISja8mcf5fOSeCvyFc7QbVBI9IJqF4/dKZF5/30oVWfx6g/K+wBr68C58zUki9a3txdOy5/eYlcSzIz30WM8voq9jWKl8Y3Ood1ZGBjhTl9V0CHANpL9Jr1d9oX6fQ9EqGhTvaQHtN/QSq+D3R5lHS0N3O5pXnw6+CthaLfa2M2bDlq+41bGrOi88Lvm0yf88rXo+8bCJXMNy9MpJX7U/v50d9FFVkK2dona9f+XK26vx/1B36AAAwAAAAAYapLl44s9hCKvlP/M5rlJajEvv7HiB1fb2abARkzZiTbYKASQAAGAAAAgHBUrXpV26dere7xI0tHECa+bzK9INMibwz5Fkv9l55jmw2EOgRgAAAAAAhHkyaNl9MOQfoNc5SB2eXQS5YsYpsNhDoEYAAAAAAIO9WqV83KypSjTvR3USwOQRj6ud8yeasgeBpWJYMADAAAAABh5513m8khp8hS+PU/RrAsBGFo3ENDcpOy5W2jR4+ubOOBkIYADAAAAABhh13/vG/BbhaEIGxtGLxS3jbWrv2ZbTwQ0hCAAQAAACDsrFh+2ZWuP7Wfz1IQhK1vXpgobxvxcbFs44GQhgAMAAAAAGEnKmq7HHLwsl+QydtGvsXCNh4IaQjAAAAAABB22BOw/Pbi35n1JqRuS9S/NDcxa/vkTbPrT2ZlIODY+5DYxgMhDQEYAAAAAMKOHG8Iyz8+sv7ym0sN8Sv3TXz8S1YYAoitILbxQEhDAAYAAACAsMMSDss/vuAo/ep2TtvCyoe6pW3m7Vu0e27jaax/SGBrh208ENIQgAEAAAAg7LCEw/KP1y1s+a3xXdlxGXosnPHsuF3fbCvIyS8uKFrQfLZcPtQZy5u1Pz0UG7eNlaVjGw+ENARgAAAAAAg7LOGw/ONd4x4ZmpeSo39RYV7B1JqjWIHKxwjAIbq8+swb2MYDIQ0BGAAAAADCDks4LP941545O/RvqXwtvY7MfnFSQU4+LTICMAQbBGAAAAAACDss4bD840VGFCTmb/SdWW/C3h92GbOXm5i19ovl8rXEa/svp8lmx2VQvJQLUx/bjO1yavr9yfrlynNfn0aFncwzFTAeZE2RPn7lPuNGX+f3Oe/6ZpsxkbEPDt701Zrs2Ax9kD5LxlDi1ix5nf5FBrbxQEhDAAYAAACAsMMSDss/XmQ0/5q/G3Zhy2+NsCczpkDpMXnjAb1n+u4UVpi1M7s1NSORGuSpUUkKsayAjkKpPB27jNZg+Y8CMiPZmp8lH2HfyDYeCGkIwAAAAAAQdljCYfnHW+S7f1f3/FHvuaT199HzdqZuS8yMSZNzoJ5IHYVDnT4Rl1Ez4edY/bu8MjUzxfSZp7DNFkqm51u5Tmy5NUu+w76ObTwQ0hCAAQAAACDssITD8o+3sFth9euW5e9lKNfJNwyv7LaEJjKz3oT0ncl6Tz1D2uZD/cnSts9e9mBqVHL75E2Tn/rK6KkXky9vpunT18kjGo23OmPBbVtr5VnSL3umWTKmo8+5yVnyHeOrdWzjgZCGAAwAAAAAYYclHJZ/vMUIjZTr5r0xw3n6pRC76P05Rhm9kfOnDj/IY9ltILW9tFiPkXLzr8mp0aSMG3qNpErF5GbbhJ9j9XTtQQCWpyOPwp4abWaWjHF9Qf8WA9t4IKQhAAMAAABA2GEJh+UfbzECMIVGyn5602tuYtb2yZvmvzWLYqRRQA+KRg6kMLyi62KjqVZnJEYWgI00yFqAPZiaHCz1tEzjUiK1G2gdjUiMoMsCMAu6Rn82fTOzZPT0Bf2rDWzjgZCGAAwAAAAAYYclHJZ/vMVosbx0U279ycZQ1s5JoU6+zFhGkY8CszGi3I6qZ129PwvAJqdmzAYLqzI2Zb2nBwFYbhI3pkNYeTOz5FP6TBrYxgMhDQEYAAAAAMIOSzgs/3iL3ALMBhEjVRK9PdY2srKwqpMDsDxl1r5qcmoeB2BiJHx2CbTLFmA2HaMFmF0CHRIBuGnTRpGRw+rWq8P6Q3BCAAYAAACAsMMSDss/3uKowZPIN+ga1wPLkTh9d4px7ysjB2A5ebIYaXJqbgVgY1Z1LgMwkRuHHU2HVVSoBOAaNaqvXfuzUaxLl46sAAQhBGAAAAAACDtGaNGx/OMtcsrd9c02PQNTutv01RqjPzEiolw+dmm0cb30jGfH6aPot7/KxewGYD03mpyambTJ2pz1BVnaZp5xX7GjS5qJHIDl/sYo8qO59MUJiQBct16dmOg9crGoqO2sDAQhBGAAAAAACDtybiEs/3iR0UbqCGs7dV5eD4Rm4qXe38zUTKZNlwvifE4MthdmG4xm4eAPwA0bNkhJTmLFlixZxIpBEEIABgAAAICww6ILyz9eRFGQPX7ZQOlOfxGujLLf3h92sZIGPS07ipdGbjT6m5maybTpZEF08t3Ixhzaneaub7bJI+rkkkEegN//oHm+xcLKEErFrCQEIQRgAAAAAAg7LLqw/ONdFOd+6vBDZkya8XX0efvkTfI1w8zc16elbks0LgzOTcyKX7lPvol3Zr0J0fN2ruy2xOgj9982br3c0+OpMbQgm75akx2boU8nOy6DRpnx7DgKq5RUWUvv7Bcn7f8x2tE0l7aZR7OkT4fGjV0azWrD5Cz5iD5jBnnL6dGjKxtKKA+3bt1KLgZBCwEYAAAAAMIOCzAs/0CYY5uHsdmMGTOSDSJZWZlo+w0hCMAAAAAAEHZYhmH5B8Ic2zxog6lWveq3337D+pOY6D14AVJoQQAGAAAAgLDDYgzLPxDm2ObBXndk2Lx5Iw1imxYEOe8E4PpvPvxDQTVd/4V/dzRozOYnnqh+aVAQqvr4g80/e3TIT3835nnc9icaf/QIK+YjlaYaodJge3kAAIDKhjrtA8s/EOYubSGaqKjtrA+Y9M67zdjpZcB5rQX4rY6P6vFsTuaT/3z6skF6eAv+2PZ0vYe+SXny+5wnaVn0Pq++9wj1oZlv1s5PGbgSVCNUJmwXBgAAUNkgAIM9l7YQqJjKHIApnlFm6zNHtJ2yuKgHS79lSI/p89l2+GNyz3e6iETqt9hZCaoRKhO2CwMAAKhsEIDBnktbCFRMZQ7AFBQpJb763iOU3Gwv3/0+58nnGz8s9wwVerurbXusjKLp0OWPO0nIb3V8tFW/y3K1I5W1GiFEsV0YAABAZYMADPZc2kKgYipzAO409jEKbBQCp+5/gsVFCnXOA2Qw0wOw8xZg563E+tAeM6qy/nZV1mqEEMV2YQAAAJUNAjDYc2kL0eRbLKwPmFRpA7Ae2NoOf6zq4w8OXHTZ5bt6H9aYGUIokdo2xtpylIH1/iYXvxJXI4QotgtjQwEAAEIXO8ax/ANhjm0eDRs2yMrKZD3J4MED2HYF7HHZlTYAP13voRkHntCvzmWRzwh1+o9ep7fQmuHB9cP6bbcm211tM7Bb6ZcEsBoB7JL3X4QNBQAACF3sGMfyD4Q5tnnQBlO3Xp2Y6D2sP/n222/k7QrCJQBTCjVSIguNoXvnqt7o6tbMyxnYSLBGHnapUlYjhDR5/0XYUAAAgNDFjnEs//jUjGfH7fpmW3ZshvHtmTFp+xbtntt4GisJgWKsGp2+zdSoUX3z5o1sEFmxfBneBmwIlwDcaexjRssnu3yXcqDJFtRgo1/87O5Tl/XcO2Hn4+6mX1IpqxFCmrz/ImwoAABA6GLHOJZ/fGTsg4M3j1rLvloWv3LfxMe/ZGN5xcKW3xbk5BcXFK3u+SMb5AHvTi0IsfVibDbVqlddsmQRG0qiorbXql3TKBbOwiIA61FNvjrXaPykz3Koc86IfMHQ1KkvgvFCYPNoKfTk7G5e9VY1OhdUlQzBT95/ETYUAAAgdLFjHMs/vkDpd8+cHex7bWXtT/c4Ay9tM89uSzJ9dfLGAxWfvs67UwtO+tIZ2MYzadJ4VoDEx8UiA5OwCMD6xbpyS6lx+W7N/z7k7p2rlPQC3tSp31fs2Q23cguwW5HVu9XoXDBUMoQEef9F2FAAAIDQxY5xLP/4gpx+s+My5r81yxg09/Vpe3/YZQzdOW2LMci8hS2/1Ue3G0rRAuwWY13o2MZD+vXrzcoQCsasWBgKiwBse3uq0czYvOujLNQ5p4/oVm7Uw6oZJts89dhpPH3KLUabLc2//tn8snixGp3zoJIhbMn7L8KGAgAAhC52jGP5x+uMdEoSfo6122pqJGTPmlWNryjMK5hacxQbCm7Ra9LANh5dREQb9nqkmOg9rEwYCosATEnPNk3p8W/E2sftxk7KYB1GPEahjsqQXrOr6qPT/3pTJ6XQL1e53YhacfoMsC+lz5P2WB/O7IScfuU+JhfBi9VIaj770GcTq+r9x22/bOapDB4oDSbJ+y/ChgIAAIQudoxj+ce7xj0yNC8lR/8iJ+HWSLDFBUULms9mQ12a/eKkgpx8Gt1kANZbcWOXRrP+QPQVYWAbj4HSnfx6JLQAk8ofgB01J+rtqJS+bAdRNtNDZp0GD9EgCrpGc6venNtt6t8/HvAYDdLjn7daPs2gb7S9NvjV9x5x2Xqsz6qcfp33Z7xbjUYjNvWnKbMLnvVK9metQuiS91+EDQUAAAhd7BjH8o93mUy2Rk42iq3tv1zPtNsnbzKukaahlFqNFL1+8Eq9v127vtmmF6N4vP/H6JXdlug/yvfxru7548x6E4zp08QnP/XVpq/WGM+plr9Ox6ZGnM8GW3D560huYtbaL5bLX6FPTf9jgX59uF4PxLPrw92lf5eBbTyyuvXqUO6l1NevX+9q1auyoWGo8gdgCod245me6PTsZ9tfLk/xzGiNNOKi/KPfopqRNm05v2OWzTbTYYR4JpajoTovViP1YY3YLPHS3Jq8GhxA3n8RNhQAACB0sWMcyz9eJEfNhJ9j2VCZ3FBMoVT+0VZ2XMbUmqPkidultwbbRmt54lFTNhvx0hF5zm2n5nI2iHG3sN7yzIYSo21cnpr8sigdy9I+wr6UbTzgRCUPwPL9t7bhTY+F7FJb582PrK3Sz89q0mfYLuezQQvVY4azv/dQBnbyQGnvVqNeXh6kF9anYJucAZyQ91+EDQUAAAhd7BjH8o8XsVjLhspYSeOSZkf0tlDKk5kxaY5K6mWcB2Az5NhpOzXivAXYCLfOF0qvH5dx2nk1egX7RrbxgBNhcQ+wW5xkWr3p0mjq1H9EVLPLSTXaDpIjMatkAOfk/RdhQwEAAEIXO8ax/ONFRuRz2XTJSrKMGr9yn/5+IyNqsnt9nXyR7SDbAEwZ9acOPxg/Usm1XyyfWW+CUcyInWaWSA6xcjHjQV/UU7+Cmr4ifWey3lOP6ywAU8ntkzdNfuoro6cfroI2vl3HNh5wAgH4Ms6bH/UrkI2mS/1H1vIJxEk12g7S+xjXPMutwQAuyfsvwoYCAACELnaMY/nHi4wbgF0+m4qVlDOqHPnsNsAStwIwC5n6Fc7GDOjXV7NixjyYCcByg7BtcjZ6UuQ2+hg95S+lqjBea2yEZ7QABzME4MvYjWf/qfuQ/pmymXxvqpOrfMOck2q0HaRXo9Hk+w5uAAZ3yPsvwoYCAACELnaMY/nHi8wHYPYaJLvhk8j95SjoKBgTI3ka8yBPxLg+2ZhVow8x5so2ADtaIjnoyjcPywF7RdfFRsOvzpi+owXU07IRzn3KmCsd23jACQRgrtPYx4wAVvNZ8a4jozWSXbtrRLVX33vE+R22YchJNer1pt9yrLeiy3lYrlW0A4NL8v6LsKEAAAChix3jWP7xIjPtpUQOjXoU9FsAdp5sjbZcI8raLWaQp8wKOLpPmDLt/LdmGcWMKTivMZ+SZ4+wjQecQADmqj7+oPx+2sYfWRt4bZsu9VxHaa19pHglkt4TdI6qUdey16P646yp9vQXShmD9EhM/Vv1Q/oF1+T9F2FDAQAAQhc7xrH840WOrmRmjIZW5xmV9fdDALZtFnYegI0FIexaZdsAzKKvDgE4pCEAA0AIk/dfhA0FAAAIXewYx/KPdxmZ0FGik5OhEUcdBWAjf7KpyUmbJU+TAdhuhLa9hNtJAJYXxPadT8akSPruFOPmXgYBOKQhAANACJP3X4QNBQAACF3sGMfyj3fJ0ZTELo2eXX+yPmhmvQl7f9hlDJJvviVGcqZR9P5U3giuLH9WPADLPY0p2OZtRwFYzre22ZgYIxK5EmY8O27TV2tokH5/LwJwSEMABoAQJu+/CBsKAAAQutgxjuUfr5OznyO2j3eSLye2xVKuxwHYKGy3p+1k7QZgSr9OFpDirl7M+RLpiRcBOKQhAANACJP3X4QNBQAACF3sGMfyjy/IL7y1Fb9yn9z2q3MSF41IabB7AbPObmQ1Jm43ANteF22UtJ2ay3gvB2+5xZvRvxQBOKQhAANACJP3X4QNBQAACF3sGMfyj+/MfX0aJUAjLlLGo+hr+yAonZFRqZj+gaTvTlnZbQkrqaMguv/HaLtDl7aZR4PkPEmBPHrezu2TN9m96Nr5ddFsas6zPWFxnSohdVuiUQm5iVlUCfItwfq8OVpMPzDmXMc2HnACARgAQpi8/yJsKAAAQOjKt1jkY9yEvw9nESgY2MZRX6O4a5uK9Ti6bdx6o0+lV5B52ebBNh5wAgEYAEKYvP8ibCgAAEDoio+LlY9x37wwkUWggLN7QTL4h7Fh6NjGA04gAANACJP3X4QNBQAACF3sNH1hy29ZBAo4BOBAmfqf0caGQVKSk9jGA04gAANACJP3X4QNBQAACF3Tp0+Vj3E7vt7MUlDAIQAHyorOC40Ng0RFbWcbDziBAAwAIUzefxE2FAAAIHRFRLSRj3G5SdnjHhrCglBgIQAHSuq2JGPDIGPGjGQbDziBAAwAIUzefxE2FAAAIHTVqFGdHeY2DF7JglDA+f8hWLCw5bfGJqELwggXzBCA3dCwYYOsrEy5vsADrFYBKgJbFwAAVGJLliySD3NFlsIZz45jcSiw7D6TGXxnwt+HZ8dmyFsFbgB2FwKwWUi/3sIqFqAisHUBAEAlRuef7EhH4SfYMjD4DaXfpA3Wa84NrVu3YpsNOIcAbArSrxexugWoCGxdAABQubFHYZGCTMtP7eezaASV3vy3Z7G2X4LHX3kAAdg1pF/vYtULUBHYugAAoHKrVr1qTPQedrwjqduSVnReOPU/o1lMgkpmwt+H/9R+/oHVl70UWkcJpW69OmyDAZcQgF1A+vU6VsMAFYGtCwAAKj0KOc5PRwsyLawPVAK5SdmsjyzfYgnC5BYSEICdsZt+01JTp0ycOGHMGHCE6odqidWbgVUyQEVg6wIAgHBQ/6Xn7LYDQ3iihIL06zEEYIeQfj3jPP0SVs8AFYGtCwAAwkSNGtXnz/+eHfggDEVFbceVzxWBAGwf0q9nXKZfwqoaoCKwdQEAQFihk3V2+g7hIyU5qUuXjmyTAHchANuB9OsZu+m3sKCA9WG1DVAR2LoAACAM1X/pucjIYbgoOkzEx8VOnz4VrzvyFgRgDunXM47S7/AhQ1hPVuEAFYGtCwAAAADMQwC+jN30W5Cf/+OiRQvmzQMnHKXfVu+9x/qzOgeoCGxdAAAAAGAeAvAldtMveMZIvwjA4FPYugAAAADAPATgS5B+vUVOvwjA4FPYugAAAADAPATgS+SKAI+x9IsADD6FrQsAAAAAzEMAvkSuCPDYjGnT5PSLAAw+ha0LAAAAAMxDAL5ErgiyLyYGzMjOypLrbeK4cQjA4DfYugAAAADAPATgS+SKID27dgUzNm3cKNcbAjD4E7YuAAAAADAPAfgSuSIIi3ngCAIwBBC2LgAAAAAwDwH4ErkiCIt54AgCMAQQti4AAAAAMA8B+BK5IgiLeeAIAjAEELYuAAAAADAPAfgSuSIIi3ngCAIwBBC2LgAAAAAwDwH4ErkiCIt54AgCMAQQti4AAAAAMA8B+BK5IgiLeeAIAjAEELYuAAAAADAPAfgSuSIIi3ngCAIwBBC2LgAAAAAwDwH4ErkiCIt54AgCMAQQti4AAICAaNiwQWTksCVLFlGcSElOYkfkSiArK5MWjdBivv9Bc7b4ELoQgC+RK4KwmAeOIABDAGHrAgAA8Kdq1atSIKyUide5fItl+vSptWrXZBUCIQcB+BK5IgiLeeAIAjAEELYuAAAAv4mIaBOG0VdGMZjyP6sWCC0IwJfIFUFYzANHEIAhgLB1AQAA+EG16lWnT5/KDrthixJUjRrVWRVBqEAAvkSuCMJiHjiCAAwBhK0LAADA1yj9sswA8XGxuBw6RCEAXyJXBGExDxxBAIYAwtYFAADga47aflflbOqTOLZlXO+3Y7tV292skmmyvzMtWreEkQuzVucXF7BlJ5SjqlWvyuoKgh8C8CVyRRAW88ARBGAIIGxdAAAAPtWlS0d2tCUUfV/c25YlxkqsbsxHMzOXsEogY8aMZNUFwQ8B+BK5IgiLeeAIAjAEELYuAAAA36lWvartU68GJE9m+TBMtIzrnV2UI1dFvsVS/6XnWKVBkEMAvkSuCMJiHjiCAAwBhK0LAADAdyZNGs8OtWGbfnWUgdnl0EuWLGKVBkEOAfgSuSIIi3ngCAIwBBC2LgAAAB+pVr1qVlamfJxdmLWaBcIwNCxlmlwnBE/DCi0IwJfIFUFYzANHEIAhgLB1AQAA+AgFA/kgm19cUDfmI5YGw1CNPe+kFKbLNdOjR1dWdRDMEIAvkSuCsJgHjiAAQwBh6wIAAPARdv3z0ux1LAqGrZGps+SaoUDFqg6CGQLwJXJFEBbzwBEEYAggbF0AAAA+smL5Mvkg2y1hJMuBYavJ/s5yzcTHxbKqg2CGAHyJXBGExTxwBAEYAghbFwAAgI9ERW2XD7KV8mW/HpNrJt9iYVUHwQwB+BK5IgiLeeAIAjAEELYuAAAAH2FPwAqrF/+6xN6HxKoOghkC8CVyRRAW88ARBGAIIGxdAAAAPsIOsiwBhjlWOazqIJghAF8iVwRhMQ8cQQCGAMLWBQAA4CPsIMsSYJhjlcOqDoIZAvAlckUQFvPAEQRgCCBsXQAAAD7CDrIsAYY5Vjms6iCYIQBfIlcEYTEPHEEAhgDC1gUAAOAj7CDLEmCYY5XDqg6CGQLwJXJFEBbzwBEEYAggbF0AAAA+wg6yLAGGOVY5rOogmCEAXyJXBGExDxxBAIYAwtYFAADgI+wgyxJgmGOVw6oOghkC8CVyRRAW88ARBGAIIGxdAAAAPsIOsiwBhjlWOazqIJghAF8iVwRhMQ8cQQCGAMLWBQAA4CPsIMsSYJhjlcOqDoIZAvAlckUQFvPAEQRgCCBsXQAAAD7CDrIsAYY5Vjms6iCYIQBfIlcEYTEPHEEAhgDC1gUAAOAj7CDLEmBo6ZQw/O3Ybq/u60AfpqTPX5e3g6QUptNyHShI0n+k/u0ODH4muiUb1y65ZgirOghmCMCXyBVBWMwDRxCAIYCwdQEAAPgIO8iyBOgSJcnxad/NzFxCsZMNMlAoXZi1mtAHNsiLKOKyZXEiuyiHYjCbgi02Fqs6CGYIwJfIFUFYzANHEIAhgLB1AQAA+Ag7yLIE6NJOyz59xJTC9LoxH7GhhBKy3garl6mx5x1WwIwByZPziwu+y1rG+hua7O+sf4V5W/J2s4nYYqOwqoNghgB8iVwRhMU8cAQBGAIIWxcAAIC7qlWv2qNH14iINjVqVGeDZOwgyxKgc+0ODJbHHZYyjRUgI1NnyWUoyrICLnVKGG6M7qjZ9u3YbkYZk2ZmLmETscVGYVUHwQwB+BK5IgiLeeAIAjAEELYuAAAAt1DoTUm2XhKclZXp5OzfOLzqWAJ0bmn2Onlcu22q6/J2yGXoR1bAuVf3dcgvLjBGX5i1mhXQvbi3rVGG0Jx8l7WMAnnLuN46Ss4UxfUbgw8UJNFQu+3VjDxNwqoOghkC8CVyRRAW88ARBGAIIGxdAAAAbunSpaN86My3WKgPK6OTixGWAJ2osecdOZrq2BXOtmWyi3LkAs7R6MYl1rq9+fGsjI5KysUoD7MCnpGnSVjVQTBDAL5ErgjCYh44ggAMAYStCwAAwC2tW7diR08yePAAVoywMiwBOtEyrjcblzTZ39llGTNNr7rxad+xcQnL2Aa5DAIwIABfIlcEYTEPHEEAhgDC1gUAAOCuqKjt7ABKvv32G1aMFWAJ0IlhKdPYuKRP4li5jN0E+1F8f7mMI3bDM3H0KGm5DAIwIABfIlcEYTEPHEEAhgDC1gUAAOCuWrVr2s3AK5Yvkx+LxYayBOjEwqzVbFwyJX2+XIZdwKwz8xysGnve2Zsfz0bU2R39meiWchkEYEAAvkSuCMJiHjjibgAOco5ug4HgxFYfGwoAAAB2UdCluMsOo4SCMcVjvQwbxBKgE3YDKiVeowB7MJXBzOOX5WdH5xcXbMnbbfxo9zlY7LsQgAEB+BK5IgiLeeAIAjAEEFt9bCgAAAA48e2337AjKYmPi63/0nM0lPVnCdAR9tAp2TPRLfUyfRLHskE6ly/gpfgqPzprfNp3ch4+UJDEyhP2GqROCcNbxvXuljCSRiSrcjaty9thNEdThDZ5H7IxQZ1cqxDkEIAvkSuCsJgHjiAAQwCx1ceGAgAAgHODBw9gB1Oivx6J9WQJ0BEn7901XtVLsZMN0rl8ELQ8YkphOoVt9sJh2wZeRzcMO8Iu1XaEjcVqFYIZAvAlckUQFvPAEQRgCCC2+thQgEBhWyYAQMjJt1gOXt6HJUBHBiRPNkahQEuMH8enfUcFnoluKbfiUuA0PhMnDbAs63ZKGE492RXORsY2dEsYKRdwydH7hBk2FrglsOfbIR+AGzZsEBk5bMXyZbQk9IFqU7533y1yRRAW88ARBGAIILb62FCAQGFbJgBAiJIzMEuAjqzL22GMsjR7HTF+pEFUgCVSSrBySHb0IOgae95JKUw3iumT0smj27bfuhWADxQkOXqUNMNGBLcgADvnMABT0J0//3t57g1LlizyYEnYRFjMA0fcDcCs2gOO3f2CABxa5HVH2FCAQGFbJgBA6DIyMEuAdtWN+cgYkQxIniw3COcXF1COlROynmPlPiNTZ8kTNLCGYppsn8Sx+n28lFqN/vKjtnTyDBjoG8nCrNX6FFrG9SYmo6+OTRDcggDsnP0AXLdenZjoPfKs25o0aTwbyzk2Oot54AgCMASQvO4IGwoQKGzLBACoBFgCtIs1tzbZ35nIfTolDJd/pPI0lhxu9UjMUNaVr5p2Qs/Y8riUb42hdifuGWOa4AEEYOfsBOBq1atu3nxZ6HIkIqING9cJNi6LeeAIAjAEkLzuCBsKEChsywQACEnUST+yBGiX/AZg44lW8iXK8mXMFFb150LLsdl5gjWjZVxvR6OvytkkD6oIY5rgAQRg5+wE4OnTp8ozTbKyMtmS6BCA/QABGAJIXneEDQUIFGyZABAqGjZsQCfSbK9FIiOHsT4sAdolZ92l2ev0nnIqlhmPm3p1Xwe5P7sUeXzad/JQlwYkT5ZHlwPwd1nL5EEVYUxTx2oVmKA63w69AEy/pfIcE6pQ48FXtADGIsVE76lWvaoxokvGBHUs5oEjCMAQQPK6I2woQKBgywSAkNC6dat8i4XtsqiPfjrE+rMEaItd7WwEUUePoZKf2Cwn52Ep04z+7NlXe/PjKdDq7/IlxouF5YxtBG+dnJ991wIs1yrYQgB2Cw/AS5Yskud48+aNtimXFoN+n1lPl+TJEhbzwBEEYAgged0RNhQgULBlAkDw69GjK9tZkayszPc/aK4XYINYArTFHjdFeVjvz95UpGOXOts+LFrHpsladw3yrcVsyv65B9ioVbALAdgtlwVg1vybb7HUrVdHLlAR8pQJi3ngCAIwBJC87ggbChAo2DIBIMhNmjSe7alISnISnWwbZdhQlgBtySGWyClUflCzzrj+Wcdu9DWadvfmxxs9UwrT2e3BBupPudcoqT9bSydH6C15u43+FWRMU2dUGtiFAOyWywIwu/vX3ec8OydPmbCYB44gAEMAyeuOsKEAgYItEwCCme3zdEhU1HbWsMQKsARoi+KlUZiCqzyIvcSIyNc/k5ZxveWhnRKGU8+P4vvLPR01/+ocXQX9dmw3oz+FZMrG+uXTBuN1SsNSpr26r4MxonPGNHVyvYEtBGC3XBaA5Yc/51sstWrXlIdWkDFlHYt54AgCMASQvO4IGwoQKNgyASBo2T5Ph1AkMB6pY2BlWAK0JTfzshtxKWcagwiLx+SZ6JZyAf1pVXJsdtL8q5PvQKaga/RnjcMuvbi3rTGuE2wsVnXAIAC75bIALD+kjsKwPKjijCnrWMwDRxCAIYDkdUfYUIBAwZYJAEGrX7/LsiiZP/97uw+OZcVYArQltwDbttbKFzP3SRzLhhL5Cmr9aVVyprU7CmMEZnavL8VpYzouyY/gcoKNxaoOGARgt1wKwLVq15Tndfr0qcYgr5AnTljMA0cQgCGA5HVH2FCAQMGWCQBBq269OvIOyskdhXIxwhKgrW4JI/WHOdu91fbVfR12WvalFKaPT/uODdJRAaOp1oi77Q4Mnpm5RL6n14kae96hiVN5diXzM9Et5XDuXMvLXyPsCBuLVR0wCMBucRiAvXsDMJEnTljMA0cQgCGA5HVH2FCAQMGWCQDBjM74lyxZNH/+985fm8J2ZSwB2kVR03j4swde3Nt2WMo0kxHUXTRjI1NnLcxavS5vh11T0uebn3lWOazqgEEAdstll0CnJF+6tQCXQAcJBGAIIHndETYUIFCwZQJAJcB2ZSwBhjlWOazqgEEAdstlAZi9BLhfv97yUF2NGtUHDx6wYvkyd2tWnjJhMQ8cQQCGAJLXHWFDAQIFWyYAVAJsV8YSYJhjlcOqDhgEYLdcFoAp2cqzSygSN23aSB/asGGDSZPGyw/KGjNmpDGuS8ZYOhbzwBEEYAgged0RNhQgULBlAkAlwHZlLAGGOVY5rOqAQQB2y2UBuFr1qmyOnaPC8ujOsXFZzANHEIAhgOR1R9hQgEDBlgkAlQDblbEEGOZY5bCqAwYB2C2XBWBSq3ZN+U5g59yqXDYui3ngCAIwBJC87ggbChAo2DIBoBJguzKWAMMcqxxWdcAgALuFB2DSsGGDqKjt8nzbysrK7NGjKxvROTYFFvPAEQRgCCB53RE2FCBQsGUCQCXAdmUsAYY5Vjms6oBBAHaLnQCsi4hoY7cpOCZ6T79+vWvUqM7Ku8Smw2IeOIIADAEkrzvChgIECrZMAKgE2K6MJcAwxyqHVR0wCMBucRiAdXXr1aGZHjx4QGTkMKrK+i89xwqYJ1cEYTEPHEEAhgCS1x1hQwECBVsmAFQCbFfGEmCYY5XDqg4YBGC3uAjAXiRXBGExDxxBAIYAktcdYUMBAgVbJgBUAmxXxhJgmGOVw6oOGARgtyAABzsEYAgged0RNhQgULBlAkAlwHZlLAGGOVY5rOqAQQB2CwJwsEMAhgCS1x1hQwECBVsmAFQCbFfGEmCYY5XDqg4YBGC3IAAHOwRgCCB53RE2FCBQsGUCQCXAdmUsAYY5Vjms6oBBAHYLAnCwQwCGAJLXHWFDAQIFWyYAVAL5Fou8K3smuiULgeEsuyhHrhxWdcAgALsFATjYIQBDAMnrjrChAIGCLRMAKoH4uFh5V9Zkf2cWAsOZXDOEVR0wCMBuQQAOdgjAEEDyuiNsKECgYMsEgEqA5YR2BwazEBi2XtzbVq6ZlOQkVnXAIAC7BQE42CEAQwDJ646woQCBgi0TACqB6dOnyruymZlLWA4MW30Sx8o1ExW1nVUdMAjAbkEADnYIwBBA8rojbChAoGDLBIBKICKijbwrSylMr7HnHRYFw9NOyz65ZsaMGcmqDhgEYLcgAAc7BGAIIHndETYUIFCwZQJAJVCjRnW2NxuZOotFwTDU7sBgVi1BmKCCDQKwWxCAgx0CMASQvO4IGwoQKNgyAaByWLJkkbw3yy8ueHVfBxYIw8oz0S0PFCTJdYIbgM1AAHYLAnCwQwCGAJLXHWFDAQIFWyYAVA4NGzZgOzSKf2GbgSn9bsnbzSqkdetWrNLAFgKwWxCAgx0CMASQvO4IGwoQKNgyAaDSYI/CItlFOd0SRrJwWOl9FN+ftf0SPP7KJARgtyAABzsEYAgged0RNhQgULBlAkClUa161ZjoPWy3RnZa9vVJHPvi3rYsKFYyz0S3pLS/Lm8HW3ySlZVZt14dVl1gFwKwWxCAgx0CMASQvO4IGwoQKNgyAaAyoZhHYY/t2WTZRTmsTyWQUpjO+sjyLZYgDE5BCwHYLQjAwQ4BGAJIXneEDQUIFGyZAFDJ1H/pObvtwOEpKysT6dctCMBuQQAOdgjAEEDyuiNsKECgYMsEgMqnRo3q8+d/z/ZvYSgqajuufHYXArBbEICDHQIwBJC87ggbChAo2DIBoLKitMDyg78VF/M+/pKSnIQTRc8gALsFATjYIQBDAMnrjrChAIGCLRMAKrf6Lz0XGTksTC6Kjo+LnT59Kl53VBEIwG5BAA52CMAQQPK6I2woQKBgywQA8KJq1avKoSXfYmnYsAErA8EMAdgtCMDBDgEYAkhed4QNBQgUbJkAAF5ke+9xSnISbsQNIQjAbkEADnYIwBBA8rojbChAoGDLBADwljFjRrKdqi4mek+NGtVZYQhOCMBuQQAOdgjAEEDyuiNsKECgYMuE0ELHPsoSmzdvNHNZ6fTpU6kwHT3rv/QcGwTgdT16dGV7VBklmWrVq7JRIAghALsFATjYIQBDAMnrjrChAIGCLRNCSOvWrYxtNSsrs1btmqyATG6Lo8JofwOfev+D5sb25sj8+d+zsSAIIQC7BQE42CEAQwDJ646woQCBgi0TQgi7u3LF8mWsgKFhwwb5FotcGA8iAt+x3d4cGTNmJBsXgg0CsFsQgIMdAjAEkLzuCBsKECjYMiGEDB48gG2xERFtWBndkiWL5GIpyUmsAIC31K1XhzYweXtzrkePrmwKEFQQgN2CABzsEIAhgOR1R9hQgEDBlgkhpEaN6ixp0I+21zY3bNhALkMoObMyAF5Bm58Hbxh+/4PmbDoQPBCA3YIAHOwQgCGA5HVH2FCAQMGWCaElIqIN22gnTRrPyrDm33yLxfndwgCeYa/81UVFbWd/pmHnbwQvBw5mCMBuQQAOdgjAEEDyuiNsKECgYMv0kbr16lAwox21y+e+Nm3aaPPmjcTR1bzAUMCQN1rKEvJDnm2bf20TMoBX2L7yNz4utlbtmvS/3JP2BrYZmEIyXg4cnBCA3YIAHOwQgCGA5HVH2FCAQMGW6Qt0Bmw8EYfSmpPnD1P6lZ+dg0YhM6jSjBrTLVmyyBiK5l/wD/mZ5LqsrEz9bzG2Abha9aorli+TexJ5u4XggQDsFgTgYIcADAEkrzvChgIECrZMX5BfwEMcZWDbZ+fgVlWTWMol+t8OqEpZfzT/go9ERg6Tt7R8i8UIJ7YBmHrSToBdvBATvUcvD0EFAdgtCMDBDgEYAkhed4QNBQgUbJm+QPtnVrGbN29k10JTYGPpl6AF2KT6Lz0nt5wTvTGN4q7cE82/4DvyhR5EvoXBbgAm9EEe1K9fb2MUCB4IwG5BAA52CMAQQPK6I2woQKBgy/QRtscm06dPNYbSSUxWViYrgOZft7CsS97/oDlLxWj+BZ+iM7GY6D0UUVgscRSACX2mzTIlOYl2ES4fEAABgQDsFgTgYIcADAEkrzvChgIECrZM37HNwPp+u0ePrqw/iYwcJo8LLtWqXZP9EYGlXzT/QqA4CcAQ/BCA3YIAHOycB+Dv58yRhxJW7QGHABzS5HVH2FCAQMGW6Tu2r0ihSGb72FhCkZiNC2b069eb1aSMDpqsPIB/IACHNARgtyAABzsnAdg2/RJW7QGHABzS5HVH2FCAQMGW6VO1ate0vdFXRpG4detWbCwwqVr1qk6qFzdUQ6AgAIc0BGC3IAAHO0cB2G76DcKr0RCAQ5q87ggbChAo2DJ9jc5XWCUbsrIyg/BsJrRERLRhtarDC2YggBCAQxoCsFsQgIOd3QAcKumXIACHNHndETYUIFCwZfoBe12KjtIvmii9gr1aRoe6hQBCAA5pCMBuQQAOdrYBOITSL0EADmnyuiNsKECgYMv0NduXf+rw1Ctvad26FatbNP9CYCEAhzQEYLcgAAc7FoDj9u+Xf9QF8xkJAnBIk9cdYUMBAgVbpk/Vql3Tbvol+RYLrn/2CtsAjOZfCCwE4JCGAOwWBOBgxwKwrSD/ezwCcEiT1x1hQwECBVum79BZLzsPZlKSk3BmXHHsBBHNvxBwCMAhDQHYLQjAwc55AA7+q9EQgEOavO4IGwoQKNgyfcRu+rXtExW1vVr1qmxcMK9hwwasSvFUbQg4BOCQhgDsFgTgYOckAIfEvVgIwCFNXneEDQUIFGyZvkDnKFlZmaxuVyxfRll30qTxrP/8+d+z0cG8JUsWyZUZFbWdFQDwPwTgkIYA7JaABWCooFB5EgkCcEiT1x1hQwECBVum173/QfN8i4VVLO3AjZZeSsJs6ODBA4zRwbxatWuyqo6IaMPKAPgfAnBIQwB2CwJwSAqV9EsQgEOavO4IGwoQKNgyvYvOdO2mX7lMjRrVY6L3sDK4cNcDgwcPkOswJTkJ15NDMEAADmkIwG5BAA49IZR+CQJwSJPXHWFDAQIFW6Z3sUhGpk+fysoQOiFm10gjvHmAKk2uw9A6pkMlhgAc0hCA3YIAHGJC7kiJABzS5HVH2FCAQMGW6V3smUxODjR0HsPaitEI7BaqQLn2SK3aNVkZgIBAAA5pCMBuQQAOJaH4d2IE4JAmrzvChgIECrZMr6PjS0pyEoXbHj26skFMREQbo+bRAuwu9jgxOk1kBQACBQE4pCEAu8V/ARjCEwJwSJPXHWFDAQIFW2ZgtW7dis5vaPde/6Xn2CBwLipqu7zpuvxzA4DfIACHNARgtyAAg28hAIc0ed0RNhQgULBlQoiSj4n5FkuNGtVZAYBAQQAOaQjAbkEABt9CAA5p8rojbChAoGDLhBDVsGEDI2bggAhBBQE4pCEAuwUBGHwLATikyeuOsKEAgYItE0IaxWC0/UKwQQAOaQjAbkEABt9CAA5p8rojbChAoGDLBADwLgTgkIYA7BYEYPAtBOCQJq87woYCBAq2TAAA70IADmkIwG5BAAbfQgAOafK6I2woQKBgywQA8C4E4JCGAOwWBGDwLQTgkCavO8KGAgQKtkwAAO9CAA5pCMBuQQAG3wrpAFytetUxY0bSr/GSJYtozsPwmSXyuiNsaFihjSEiog1tz7Q90P94gE1gYcsEAPAuBOCQhgDsFgRg8K2QDsCUfuWZJ/Qr3a9f7/A5KrDFZ0PDQa3aNWmjXbJkUb7FIlfFiuXLWEnwJ3ldEDYUAADchQAc0hCA3YIADL4V0gE4JTlJnnlZVNT2yMhhDRs2YKNUMmyp2dBKjA78/fr1Zntwho0S0h597EGdevasqpSriqKev6BeKFPPn1fPlKplZVYXzqvnzqmiU9TycvFZOKteuKCWEa0MDaIfz54ThWk6VKy8TEyTfqSpiR81eqd/LtO+kToasfSMNhHRlZWVWfJyCwuLfj12fPq0GZ06df5h3oL2bdt+8OEnbF188P5HY8aM37U75ufVP+dk52RnZp4+dVqfiLWjKZ85K+ZWzJX27bSApaXqqVPacl3QCl2cH1qis2e0SjgvBlEfffbO0Oi0LIpYWL0/dTQ1miwtAnU0KZqs/uHMxQWhKj13Tq5t0TNoOqrk3377raiwcP26dZFffdWqVatn69R54MEHb7jhhioXu+uvv+7++/9ap3bt9z94f/iwYWvWrMnPLzhx4sQFo96Co7tsSw6mTq/kQqrkDRu/GjG61Yef/Lfuiw/8reoNN91Wpco11kq+8U9/feDROv99/v0PPh7+5Yg1P6/Nz88PzkqGygoBOKQhALvFfwHYuu8Mjq6SHfKDWUgHYHnOHaEDxqRJ44Pwd9sr2MKyoZVPw4YNIiOHRUVtZwtuFxs3dFFaeORR8sDDjzwgIh+lO4qsFOros/4/JT3KdUTPxvqPeu7Vw6HIhFpaFgX0TFtmzYdUksIkTfP8OREFqSeNZexF9ZJ6vNS6c7/9fqi4ePOWrTNnzv5iwNA3mr09duzIGVNH9/j0teH9P144Z8yEyE6TR3abHPnJym97bl8xeHC/TyJav9Ep4t3B/d4f0rfj5x0/Gj64f/fuPUaOHBu9e09KcnK+Jf8UpVxakHKaT+0b9eWihEwZVfTXZpjmgeaK0j71ofRO/+tLRPTZptFLz2rLqAVjfZ7pPyqmLywtOPWniYg+tIwXy9CClytyhYuege6OHz9OlbNw0cJ27do98cQT+lHv5ptvvuuuux566CHq869//es/T/+nVq1azzz9DH2mPtSfhlIZvfBjjz3W+pPWCxcuTElJ+e3336zTDWh32ZYcBB2dMFDlLFq0uF1Epyer/7tKleuqVLni5puuueuOG/52702PP/THf/791ppP/qnWU7c9Xf1P9PmJh/740H1/uOvOG26+6VoqWaXKtY9Wrf5J2wiagqjk34KikuUtGSoZBOCQhgDslvAKwJXykM/qOdhU+gBsSElOooVt3bpVtepV2XRCF1tGNrTSoF3zpEnj2bHfJTaREKVlBgoM9//tob/+7aH71HNabNMzoZFUReSjQKgFYPq/9Ix68pQIe6oW+QR96MUcK+Kflo3pf5ogBULqrBPRsqL+vwjVepOyGPHwoYPRMTHfzZ03YfyEd95u/mbjl95qUq97x0ar5n8Qv6l3/r62x+O6/p7S/3zeeDW9t5r5kZr6mZrVXzk07nzOkFN5gwtj2yau+GTtrHc2L+s39etRH7d6q0njRk3eaD5g0JAdUbt+OXT41PHj2ryViZRL0VdvodXzKv1PKZf+15u4aZ71madBtLD6HFIfMefazNMg/W8BeiM5jUU9ddRHH2os5rmzVFKuczEbgeuSkpLmzv3urbfevOH66+mgdsstt1SrVq1BgwYdO3acNGnSmjWrDxw4cPDgwXNiqa3d+fPnDx06mJCYsGbNmq+nTOncpfOrDV+tXr0ajUtTuOnGm1q812LBwgU5OTnWEQLUXbYlB7RLTk6eO/f7t99574abbqcq+uNNVZ58+MaXat/e4Z0HJvR+cuWk/8Quqle4qcHpvY3U5KZqWlM1penpfY2KNjWIXVxv1eSnJ/ep1rnFA688e0e1h2+ican7wx///F7LVnTuEfBKlrdkqGQQgEMaArBbwiUAV+JDPqvnYBM+AdiQb7HMn/89LWkleE4SWzQ2NKRVq161detWtH1mZWWyxTSJTTAU6S1mWma474EH7/3r/fdYU58cZfXgJzKelg/1xEuhTlwarbWO6u2o4hpg/ZJgrSmVyog0qLUJ6x3116dM/+sJ+ayWh1X16OHDS5Ys6f/FgM86d+7c7oOvR/XeMK/z3lVtSxK7lVt6qPld1YKxak43NauLenCQmhahZnVWLR3U3IFqdnc1o52a21nN7aBmRKh5PdWDn6qHRpcdXWw50HPDsgGRgyIiB3T66cfZC+bOHjd6XPy+fWU0w3pHc0KzrS8vzbxIrVpTNn2g5RVRn5ZUG0qdmNsz2oJry6UvlFFYoHEvNiOLSKzVFS2mmLiYglztYtxAdNu3bevZq9eDDz6oHwTrv1S/V69eS3/8MTfXk6NYXl7ejz/+2KNnj+eff/5G7eKpGjVqjBw5KiUlxVrC791lW3KAuu3bt/fq3edvD/+dKuSPN1Z58Znben708OIxNTPXvEgpV81+U01/Q00ViVdNaqIkNiknCeJ/+kx9RH8aSmWoZErTrDX1F42p2f3Dh5+r+acbtGula9SsNXLUqNTUVOv3+b2Tt2SoZBCAQxoCsFsqfwCu9Id8Vs/BpjIF4JKXRpYMXVqyJ5n1d4J2AT16dA3dowhbHDY0FNWoUZ02wvnzv2cPtXImNr1kyvrDzSay/mzKoUhv/n3o4b+KzPDXu++97y9avtVCnd6Va22Y4oOW7ijL6ZmWPlMGPn1KS7/aFcIUmel/PVJSRyXpxwsXW4aJPh3qxGfKkCIMnzx+PCkpefTYCdWqP/nxh+8u/67vgY0jfk3or6Z/oP4yWy0epma0UXIGK+l9leT2Sk4HJeNzJbWzktZBye2kHByk5PVT0voq+QOUlI+VhA6KZbCSN1zJ/ErN6a7md1JLBigHx1hiem9b2mns4A9avPnKu81bbli/8UhJyTmKwWJxLmjtvVoOJ8Z8isXRhupRloI95V6RdS/WhtFRMeMDDaJIL0KyNkFx5fPFi6LLy+Vqt47ix27Xrl2fdup422230TGrWrVqffv2+fnnn0/8dsI6uGLdsV+OLV++rHPnT++7916a/lNPPTV69OjDhw9bB/uxu2xL9nu3e/fuTp0+vf3Ou6gSnnzo+t4fP7Lm61q/7HxVzX1TzWxGabY8ofGFA26g8iIP07g5bx7e8cpP45/u2PyBe+68UlTyP2pQJR85csT63X7s5C0ZKhkE4JCGAOyWyhyAw+SQz+o52FSmAHz4wR5WtYeW9F5waGMcK+BEVNT2wYMH1H/pOfYVQY4tBRsaQuhA3qNHV7ZHdq5kT7L4e8dLI431zgqwrwhFIgA/8sDfHvrr/Q/cc+99d919z/+JK34ps1FXriVAI+9RiqP+Is1qrZ3Un5Lw6dOip/6MK+rKKAGetV5LrAfCM6WiMHX0mVAxCofaNMvOnz9z5szChYs/+uC9zyOafh35VvzPvU9lTlaPjFEPjVOzeyr5k5XkgUriJ0rxVOXwXKVguJLXX8TdtH5K1igls7dSHKkcmqDkjBC5N6mtkjdIKRojfswZruSOU9K/VIpnqr8sUI9MP2WZX7Triz1Lunza/v133n6rb6/PFy9afKa0VJtnfYm0vEqplTox51rUpw/6gghiiOjos/FBWxDrZz1Ci/ZhLTzrHU1Hv8z7fMAeglVSUtK/f/8H7r+fjlPPPPPM9OnTfdd4uDcmZuCAAXfccQd9V7169VatWmUd4K/usi3Zjx1V8oABAx948GFa8Kef/MPU/k+lrHjB2oqb3JTFWs+IJJxDU2sSs6Bu/3aP3iEuRKvy3PMvrF692joT/urkLRkqGQTgkIYA7JbKGYDD6pDP6jnYVM4AbPj3oJKO35YsjGIlnaADzKRJ45s2bcS+KzixmWdDg1/9l54z/1Arq41xJb0XHK49lK/ryhyA7/vr/ffcc+9f7rr7z9aLfikQisZMyoRaxqOkJwKw3rB5QdzmSv31yCf66MFYC4F6NhYftByoR0QRCPUYrDUgq+rxX37ZtHHz7t27hw3oPqTzfzO3dlEKp6m5X6h5kUpaF6VoplI0Skn6TEnsq2T3V35dpfy2SsnoKKKvZZIIxrkzlKR+Ss5AJesLpeArJbenkttXyekqmoILvlAOT1PyxiiJ7ZX8GUrBLCVvlnp4mVo4Ws0dUZT0zaJZH7Vo9uxL9RvGxOwtPX26nJZLn0PRdq3d/0wzT59FsNdCOxGfKQxrD8QWxYzLnrVl1OnjElpGo9ML0P9nSuVqtw71fbdu7bo6tevQsen++/86berUvLw86wBfdrGxsW3btaUvpcNi//5fnDx50jrA991lW7K/uvXr19d59n+ikv/vqin9qudteEm02WY2K09oIidYr1CSmqjZzbQYXO+TN/5KX3rnn/8ycOBAf1ayvCVDJYMAHNIQgN1SCQNwuB3yWT0Hm0oegA2P9S5pM6tk1qaSzDw2liPGQ7PYlwYVNs9saNBq2rSRuw+1KlkYVdLx28P/HsTXrISNwr40FFEAfpgFYGuK09pyKe+JRzppN/3qbaGUe/VkSDlQXEWsigKlF2OhXoyyoj4RvaM+FCn1Hy/2TEvLmDB+zPjBH8T81O631BFq0Vg1r7eS+J6S1U3J+FQ52F05PFLJ7Cly7JGVSsk4pbC3ktZNSe2jFHRSLFQmUsmfrViGKpmfKDk9lYIRSuYXSkZf5eBwpWiakk/BuL+S3l+xjFcyuyg5X6pF/ZXMT9WUIeqRWReyem5Z8OnkLyMih30xffrMX3/9VcyQWCLtJUm0CPSB8jwtl/4oLEKLIJb3jPggKkS/upsqRIq4pafFYuol9T5iwfWrwcUNz3K1i54+7i5cOD9i5IjbbxdPYOrQoUNmZqZ1gF+6U6dPLflxyUMPPXRFlSpvNHujoCDfOsDHnZ8D8IULF0aNGn3HHf9Hldz+7fvTVr4g2mkz3ihz81Jnd4kYnNns5P5GC0fV/Ns911xxxVXNmr1VUFBgnS0fd/KWDJUMAnBIQwB2S6UKwOF5yGf1HGzCJQBLSpp/XTJl/aGkLDa6I/pDsyIi2gThQ7PYrLKhwUZ/qJWTtzczJZl54m8WbWYdfqw3W4l2sdHZt4ciKQDfbY0NeuMtZbbz58SLc0XqO6+91FeLc1qWswY/KkmduKpZj8pa9qOehGIkhUD6QP/TdGgKomVYUS+Unz17NiZm/9gxI6eNbp2zd4xSPEMt7K9m9VQzBqj5Y5SSSUp2J6VgnJITqaR2VDJ6KBkDlZy+yqGpSnZfJa6dUjRUNPZmdFNy+iu5A5Tcjkre+0pxPyXzK8UySsn+QtwtnNFLyR2m5g1Qiyaqh6aov8xRj81Qi0Ypmd2U4llqSnslocvZ7J5jvvyo8euvjh091pKVUyZCr9asfY6WV3vmM32moEvLW64lYaoHcavzxSSv9xTN4FoxIhZTrzTt4dJ6ANZriSrHv0+B/u3EiYiIiCuvvPLuu+7+YcEPZ2iWAtGlp2e81ug1OhzXqV07JSXZ2teX3WVbso+733//vUOHjldddc1dt18xL7JGaWwjcc1zUhMfpV9xP3CyeD4WpV+9jwjbqU1Tlr/Q8L93ikp+tq5/nkUib8lQySAAhzQEYLdUngActod8Vs/BJgwDsEHcPjpyhVsPzVqxfFmPHl1r1a7J5iRQ2OyxocHA44dalTT/mq0vl9h02JyEIjsB+KwW80To1VpERe41LnXWoqzeUbTT7/ulTgRjLQyLvKc1mdKIehimJKk3h1J/Rc3JzJo86eueXdtt/Onz3zJ6qwVD1fyhatEENX/CBcsEhcLq0XFq4RQ1b6aa3F9N/lxN66SmdVeyhok8nNxFyeutFAxQMr9UDrRVEpsrGZ0Vy1fKoRFq9qdK8USluIea10nNilDTP1FzuqqFA8sKBp7JHZu1s1PGln5nU4arBUOUQyOV7C7iOdLFfdN29p8you1Lz9f5tEOHjLQ0bUG0ORdN3HrKpRB7XoRb/bXA9CPRO+pJfWjRxNJprwWmyqH/9aqgD3rtiYSspeiyMrnarRPxTffLL7+0aNGCjkHPPP10bGysta+Pu9OnTx85cuQ8Lfjl3fHjx9u1a0cz868aNZKSEq19fdb5LQBTJb/33vu0XP954uZ9C+uJLJoinuRsfYxzZjM17Q3Kq9THSLAeEBOkqdGkssQztH6Lfu3Q1ldK9zcyMrYokPbGsahX274pLof+97+fTkpKss6izzp5S4ZKBgE4pCEAu6WSBOBwPuSzeg424RyADSX1IkP0oVlsrtjQAKpVu2aPHl1XLF/G5tCJkj3J4u8R0kOt3MUmyGYpFNkJwHpDrt56qX/Wgx99EE2gF+/ppVxHn0UC1F/ne/FhUXr8M6ZAffTy5eW79+zp3r1XxEfNlk1pcdbSj6KvkjZQyfvyXMbAuDXdFszstmJet8wtPQt2DzkX314t7q5mfibuCs6PVLN7qQenqJbh6rHJIjCnDlMzh6t5PdT0XmpyO/XgF2rJePWXMWphVzWjq5o3ojzjsxOJPeM3dVu7sNPc6X26RLw9ZlC7hLXt1CN9xIOj88eJJuLMLmrhyGNpkXOntO3Q7sOvJ02mg4jIq2fOCjTzNM9nz4jsSh/OaUukx1oRaDVi6cTCac/QutjeSx39TyX1zzQuocJnz8rVLgb5pjtx4kSLFs3p6NPg5Qby7T8Xyi5s3bp1/vz5dHwsLCws1R8AVrHu5MmT+fn5NMF58+Z9+OGHzz777MwZM63DpI6+q1u37ldccUXtWrV9/dZA/wTg3377rUWL96iSX6p1e/a6lyiCKonWht8t3zw7L/Lf+xbWzd/Y4PeY19TUN8STq7KbqRlviBxLaTaZv/2IWF+ApDXwimbkjGbi6VnikVdNT+x+LXfdS/sW1Zsb+a+Pmtzz7D//NG3gP2hSZRdDMn2gsU7tbdT1/b9dUaVKnTrP5ubmWmfUN528JUMlgwAc0hCA3VIZAnCYH/JZPQcbBODL/HtQSde5bj00KyZ6z6RJ4xs2bMDmzT/YzLCh/lf/pecGDx7gwUOtSupF8nXhPjZlNm920Qy3bt0qMnJYREQbt/6cUaNGdb1Zm/6v4BUBNPqK5ctoUtOnT61Wvao8yE4APq+1dlInoqx2ATB9OFOqvQX3nAh7lOgu6DfKalf/UtijYvobffWwR6NbP2uxkD6oanpy8nvvf9ChVcMt8z8+k9tdLRyuHOii5ExSDs+2xH4xbsyg91p8+Por9dt/8Grfri1+mNVlw6IP9i59a+fKDgdWR+RubJmzu/PveV+fsww8uqvbiV1d1IOTL+TPPJ/S/UL6JyWxHyRv7Zu1rVvOlj6r57VfOLv/5MiPOrdr9uYbDd9v2bxfjx5fR3755ZCBE0a1ytsfoeZ2VTIGKdkDlcRPVdEE3fPEgc57VkZ+NWzQqlUrS0+etC6UWEaRWq1pVlwCrT3dmj5TPKb/jcWkBaSQTDVjTb9aWr641NYKOXOGak+udjHIB92pU6ciIiLoUPjKyy/TIc/aV+vy8y3/qyse1ETdv2v+u23btpMmTVy5YuXOnTuTkpLooPbLL8fosKXoS3F5d+FCGU35yOHDlKwOJCRs27Zt6dKlo0aNavXBB9WrV9en+Yc/3ET///Of/7TeU315d/r06U8//ZQKvPrKK0ePHrX29UHnhwBMVdGxYydalga1brdsaiDu+NWCKIXS3LUv/a+GeBwmdf9+8qY2b943oVe15ROe3vHdfw8sfZ5y7JEdr5yMee18vHYxM+Vhyrr0v3ZV89m410/sEQ28WWvqxy15buvsZ5eM/c+Izx//oNHdTz0mXrhI3U03/KFKlav++fdbju54VUm67OHSNJGT+1/v+O4DVKzha418WsnylgyVDAJwSEMAdkvIB2Ac8lk9BxsEYLtKqn0hHpo1d6tbD82iAOPnh2axeWBD/UZ/qFVM9B42P06Ih1p1nev8oVbuYl/BZpKhuMsOAIQWoUePriyF2qL0K4d8yvysgFuo6oxJURKWv91OAC49bc1vtGOkOEeJl9Jv6anLmn/ps2jw1JtGtQCsJ1499RkdFdBGKS8r6z9g8GuNmuxbM/BCfk+1qJOS+KGS/qWaPaQ866PCpKnLlq34bsrkqSMj+/XqPXDg4FYft33lhbofvP1y249afPD2iz26tJw6rvuE4W99M/rj/p2brvh+wKrpzSd92WrE4HfmzPh85eKJ3T5t0aF10769Or744nP/q/3sm83e+aD5O19+0f27sZEH1i0/smvDF107/69uvc0/DlHTPtPek9RXSemoxHVWCueqRQMP7/p4ZL83xo8atD82nvbbYhnoH0V6MevaNcy0gKWl1r8FnD6j1YyW7cUfAi5eJa6XpB8JjatXhT6KuI76vFHnRAzydnehrGz06NF0xHn6madt/+q6a9euO++8s2rVqk2bNn3yySdv0F5iT93VV111//3316r1TKPXG9HRrVOnTj179Oj/xRcDBw4cMGBAv759u3X7vH37iBYt3nv55Zdr/Otfd999tz4idbfeeus///HPt956a9CggYsWLWze/N3rr79h8uTJ1q+8vDt+/Pjbb79NY3X5rAtVsrWvtztfB+ALFy6MHTu2SpUrnq52S9Za8bRnoyVWzX6Tgu6df7qu6oMPNH7+f08+/MgN11FeFd3VV1V54O6raz11c6N6d3zw+t0dm9/f46OH+rV9dEDEYwPaP9qnzSPdWv2t/dt/bd7wrpfr3Fbj8Zvu+bN406/e3Xrzn/5RteqbLz0/oMNHC0YPeeeVl2647opJfavT1xnp1zoD6W/8sqfhW/XFW4i7dv3cd5Usb8lQySAAhzQEYLeEdgDGIZ86Vs/BBgHYpZJW09x6aFZWVqbXH5pFEYuOfEuWLGI7KfbV8iAKeLRy9VjuMtF5htI+Tdy9h1rN3Wr+oVbuYl/H5lZG2zkrLKMlotXHRjGw9EsiI4exMm6RAzCRM7CdAEz57bz2JKcLF59xRZH4vIhwepq1duLuVi0HioCnXxKst3lqCVmPf+KDWn7+/Jo1a5u/1WT22M7nD36nHuynpHZT4jsracOVvCFq0Qfpe8dOmjglY+eWM5mx2bs3WxL3R636cfXsqXPGjpg5cezwAf1njP5yzpQJPbr37tmz7+A+fb8eP2H44OH9+w5o8+Enw/r237lu3aghg2dMHP/TggXfjRmx7vtvMqI2HoyPOleQqh7JVY9Y1IKU9Yvmtmj50cLpA9XM3mrhF0phT6WAZqOLUjhGLep9Pr1L+rp2U7/q1PHTHtu3bRNzLp5xpTXqUrilZaD/z5SKll7R7k0Lqz3bWRTT/kZAnVh8rbDeOEw1I64M1/46oA+6fEctRvF2t2Xr1tvvuOORhx+Oi4uz9pK6+fPn0ZEoMjLy/PnzqampK1eupMNW7z69W7Z8/4Xnn69Wrdo999xz003iT7q23VVXXXXLLbc88MADNWrUeOXVVz75pPWgQYNmzpy5fv36rMws6xeoakxM9JVXXvHiCy/8dtz+y/YLCwtr1vz39ddf/8MPP1h7ebvzdQDetnXrnXf+30P33bBvQT0161L6Ffkz5825X9ag6hr+WfuzabuTVny/bNJXE/t17dm65Xuvvfz8M/+p9shjd//57ptuuKVKlesoQut1e7G74qorb7jl5tvuv/uv/3riyZf/W+fjZq9T4p0+uNfaGWPT1vxwIXGHWnBALUzY9cO0K6+89oWnb/815jXjaViX5iHzjbx1Df79xK3X3/iHBQsWWGfa2528JUMlgwAc0hCA3RLaARiHfOpYPQcbBGDzSl4aWTJutVsPzaLIWvGHZjVs2ECe5vsfNDcGyf2J0Z9GoRxu9O/Xr7cxqIIo/lE4pIQvT9+FpCzxUKtW01h9eh37XjbnBufp1yDXs2zz5o1yMQrDFfz7AlUpO62h6tUH2QnA4jJgyntn1dIzIgfq0ZeiLCU9ynL0o0h95do1z9rl0PRZT7z0I+U9Cn40OpUUaZAS44X4vXubvvH2oG5v/bKng3poplI4VcmaoGR+oWZ2UPO+PJbQb9rYT6eMGv178m61OFk9lKWWZKmH0tWC1PMZsScSd53L3l+an5oXu7M4LqowZtuvSTFZ21cfi912InX/wbjdR/dv/+3AziP7tp1L368WZqoHM9Vf8tVDmWpRmlqQrh4rVA9mqwdzi5LjBw8Y1KLZy5Z9g9TDPZSsz5W8YUraF0pmPyX7YzV7gHLwx/TocSOHdxo3buKvh49ooVdfBG3Z6fM57Qpw6qMvmlhGfcG1oEt9KDDTIOr0xEtVJy4aP6+eP6s/F9pYHUTbc3uzO3rkaM2aNW+88Ya5c7+z9pK6s2fPdvms89VXX7106VJrr4vdubPnDh06lJ6evn///u3bt6/fsH7VqlXLly+nkj/99BN9WLNmzcaNm3bu3BkfH5+Tk3Ps2FGFFtleV1pa2qRJ45tuvNHJwW7DhvV//vOfH/rbQz56R4NPA/CRI0f+80ydG66t8u3Qf2qv+b2UPCmLlsY27tziwauvum7xuKFqcaKaFaPmxaqFB9Tc/afjNhduXZ6yan7Moplb5kz6efqY5ZO/WjrhyyXjhi0ZP2zpxC9Xfj1i/cyx2+d+vf/H2RlrF5ZErT6fuF3NjxOhN3e/mhmtpO68kLRDTd/z274NjZ+vd+MNV86LrEGR25gBXVlCY4rlP0+t9ec/XfXww1Wzs7Ots+7VTt6SoZJBAA5pCMBuCeEAjEO+3rF6DjYIwB4oqRd5qP/iku0JbAacoJhEKdStu0wNY8aMlCeVb7EYtxzL/Ynekw6K7DC5YvkyfZDH9IdaUZ6XJ+tcyZ5k8feCCjzUyl1sBtgi6CjWsmKEMq3tQ6qp2tm4pHXrVnIZWq1eaee3XWX6tfT27gHWmjcpwpWWiuQmMq3WyEmdHvNokJ4MKRLT/3reo//ps7hpVr+BVn9bklL66y/jx06IHNp324KOanZPpehLJX+skve1cvArNaudmto6dXu/vr0+nztp/PlMSrDJSmGKkp+k5MWr2QlqTqJqSVRzY9X8FNGWm5+sWpLV4nT1cIZamKpm7FMPpqkl2mcqkJOg5iWpRemKJVE5kqvkpSpZB5Tjh5WiLLU4u+xY0aYFs5u/897yRSPOWyaq2f2VrAHKgV5K+ufKwT5K4Xz10Gy1dOK6pX1afdj2u9lzSk+eEstrXTTt3b+0XLREFPupWs5dfGMwDRWBX6sE/c8E+l8B6MfS06I29IloVSGvDtHfe115efmXXw6vUqXKxx9/fEb/0ss7OopVfeyxJ554Ii093drLN936detoNho3afzbb79Ze13elZVd6Ne3H5Xp/OmnZ7zxVA7W+S4AUyVHRn5Fc/5hk/vOJDYuv7z1VU1vlrm6/mMPXPfEI4+krJpH6Zfyqq4sOUpN26VmRKtZe9WcfSLQUjC2xKn58ZfQj9STBmXvE8k5Y4+auotGNCZiTErJiqH8XKXKFY2f+z/RCJx82Z3ApCypyfnUN/p88gjNapfPup454/1KlrdkqGQQgEMaArBbQjUA45BvdKyegw0CcIXoD836aTebEydiovdQsnLroVm2mS0lOUk/8rH+1Mf2Al3i8U2qlNgpt9tO0ImS7QneeqiVu9icsGUhVO0s6NKiGeuC6llO+LZ/rahWvap8vTd9rmDbvoxWqDxvNGPU004AphRHuY7QfvX0aZGB9aQnwp7eCHzx8c5EfzKWeMiT9sZgEZgvvhxI61JTUtu3/WTj8mmlRT+rJZFKUWsl73Mlt7eS9amaP/RMwYJvJn/WsWOnvetWU75VjuQpxelKYZpSmK7kJCgFqUpOrJK+SylMVYoylbwDSl6ykpeoWBKUzHglfZ+Sn6CU5Ci5iUpmrJITJwblHlCy4pRiKpykZMeKCR7Mpj7qL/m5UeuGDRr0+Wdt1ywerf4+V8nqqWT2V/J6aS9G6qkUjlJ//7EgYdL0SYO+/np6dmaWWBBaKJHkLz7UipaaPpw+JS6HpqHWvwVoLb16AUIBmKqIOupJBajT+5eXy+tC9Pdel56Wfsstf3z44YczMjKsvS7vVq1aRQegtm3bXtDnzWfd8ePHX23Y8Nprr122bJm1l01HW1/N/9S8/vrrd+6MsvbyXue7AEx1e+ttf3no3utSV7ygZrxxIV7KnAmNqc/yic9QJbd5q/GF9N3lKaLB1hfUzJiju39+9X/PXntNlaVja9o2AtOMqelvFG56ueaTt1x//Y07d+60LoD3OnlLhkoGATikIQC7JVQDMA75RsfqOdggAHuF8dCsQ5ZCNleOUHyaPn2qo+tsZZS72K6KUJCmrMt6UknbNw/RIdPdnEaZkFK6ew+1+mm31x9q5S42S2yhiO3Vy7btt7TslPnt1hj1l0d3cp+wZ3r06CpPn3601wJ8sVH3jP4mW61FV1wLrV0AXKq9GYg+iP5aQ7He8Et9RCbUXodL5bXuYEHBwAH9233cKGFTf7VghJLfRykZqeSNUpLbqMkfqzmDsw8sbdv6zeH9+/+SEK0WJCu5yYqFYnC+SLC5cUrGXiVzn5KXohwtVo7mKUWpSuZ+JSdJS7zxStp+EXcPZirFGSIJF6UpuQlKarSSHq1k7xPtwBSe6X9Kzpl7KR6X5aXsXrW0+XsfTpvU43xRP7UoQinurhwcoWR3VXJ6KXldlPx+alaPwr3TRnwVGRk54uQvx8Si6c/30g8iIt9q9wbr4Vb8qD3/mXqKa6Spfi7eJk2D9CqiH+kzOXtOXhGijPe6T7WHEg8fPtz68+VdaWnpxx9/fM01V8+fP8/ay5fd0p9+opl5++23T548ae1l082YOeOqq65q1uyN0lIvPxrDdwH4085dabmGdKxK8dJ4Da9OTW76+95GHzW99+qrr5sb+YVqiWOp1bvUnP1Lxg2rUuWKt166+3h0IzWVNwITNavZtAFPXXVFlTffepc2AOsyeKmTt2SoZBCAQxoCsFtCNQDjkG90rJ6DDQKw14mHZs3a5MFDs5zcSko5zTaO2qZitjYJTdz8ddeUxt16qBWlff2hVpT/WSUEBJs9tnRUw/JQu+nXCdb8u2TJIlbALY4uAZAb2+nr7ARgvTFTNGxejLIU5PRUTPmWeorQqz0oS8+5VIb60FBCn/X/tWGLFy5s0qTxd5M/OJ9BAXiikt9LKRgmLoHOj1QSO6tFA34tihoyaMCcCaPL8xJVS6qSnahYUpTibKU4S8lLEE24mXFKbopSlKEcylQKkpTiHDE0P0Vr192rpO9RSrKVAi3r5qcqRyyirTjngGg9pjBckKZY0sWF0Nn7VZpCftrRxJjZ077u2KHVvnVd1V+mKUUDKfQqGV2VvNFKXj8le4CaPShve99Rw3q1aN4idv8+6y3Qeiu3vqRULeIi53PaXwfOaz9qyf+s9m4kqjrqqAb0J2lTHhaPzrLGYHktiGJe6nKys2+77bZHHn3kyJEj1l6XdympqTfddNN//vN0UVGRtZcvu8OHD7/a8FU6IK5avcray6Y7derUs8/WoTJRO7z8F2EfBeCcnJzb7/jLI/ddd3DrKxR3edpMfyPppxduuqHKf6o/mb91OW2WLLJ6l5oZfTBq1Sv/q00VuGLSM2r2m/KzuHRKcpPfYhrV+cetVa641uuNwPKWDJUMAnBIQwB2S0gGYBzy5Y7Vc7BBAPah18aUjFt9KDadzacTFKtoFdhtfqRDnRvPndLkWywud2qU64L2oVbuYvPJFlOOr1Qz7t6Pze7+tfu+K5rmiuXL6IucPBfauEbdbss8rX35W95+pxkPwCKwaU2ahCIf0ds29Ychl2qJTo+FIuuq6gXtrlfRMqxdHS16ikdA/fbb799+O+eDdxslreuupnZQLcOV/KmKZZZy6Cslb4CaM/lkSrcfZg3t1KFj3MYVKsXdnCTRWluQIa5zzo5TDmaIEEuRmP7PpRAbqxRSiE0X1zbnp4mro/PilbxY0QJMhbPjRdAtzhRjFadrQ1NEY7KYQoIYpSBdzUuk5Lx/w5rmzd8b1rf9yZRI9eBUJXeYkvmFkj9KKZmqFI1RioapJZOWz/q00asNvv9+vjXqiyXVngUtgr0qlp36U1VQ6KUe9COV0TMw9ade+o/0UTSV6/cJixHltSCm46Wuf//+V1111cBBg6w/23TDhg6l406/fl9Yf/Z9t2DhgmuvvbZJ4yaObguibvqM6Vdfc3Xz5s0VvVa91PkoAA8YOIgqeUC7h9WUpuUJl939W57UhPoM6fRYlSpX9GnXytfNv6QseYeaFzd/5MBrr7m28fN/+XVXQzXtDXmWiLgqO/2Nqf2rX3NVlfdatvJuJctbMlQyCMAhDQHYLSEZgHHIlztWz4FCO8p+/XrTrx/bYzr/haRfCYpGPXp0dautzG/kOScsDgUPDx6atXnzRlpfbGU1bdrI9llNTji5Rpeil7sPtaIkT3meUj1buuDBZlhe3sGDB8iDPLgpWv5NoYhrt7l++vSpRhkqz4YSI/3qJk0azwrQZOW/REyaOM4mAGtPb6aAR8lNJDqt5ZM+ULI9c1agQZR4xcOfKB9eEPf9ikdGl4ooeOq0NS2Xl+/Ytu31xk2H9Xy/NHGYmt9fNLHmjVOKpyklo9WSyapl3KIp7zdu+MKwPt3OWVLUwmwlK1bJ2q9YxBOwlPTdItzmxIkW3WJKwvEi4ualiqxLyZbyLeXeojTlUIbonxojylhSRE4uTFbyk0Xbb1G2cjBNtBXnpiglFpGB0/aplqTMqE3vv/Nu+w9fz9z6mVoUqVIAtnytFM9QShYpeZFK3mdqbu8DP3fq0K7F11OmnT19Siy1CPbGpeBa9NU/0P+0I6cfdUZdUUnxxGzt9mDxWaso3wTgUydPVqte/dZbbs3KuvRuArkrKiq677777n/ggeSUZGsv33dHjx1t1KgRHYKXL19u7WXTHTt2rGrVqrfeekt2tv0596zzRQA+derUU/+ocetNVdJXvqgmN+HXP6c0zd/Q4L6/XHv/PXcnLJurZkSzvOoLSvqew3vWvlbvWarkn8b/R0njV2WLGUtqcmT7q489cN2tf/qzdx8HLW/JUMkgAIc0BGC3hF4AxiGfdayeA0U+7ZYbr5z8Qspn87Zn6sHAmD0di0PBqPbQkq5zD63Zy+bcCfbQLNYO6YTdjKf/HYTdCuucyO2U3gPxUCt3sTmXF1xeZEfx1Tm5AdnRrwP7gwIrxtIvsbuO5F9JOt2xeQjWxWRLKU7/S51Ielrzr/Wu4Ithj8qcvfgwZEp6VEC0fGpXSl8oS05IaNe21ZRhLcqz+qkFnyuZnyuWbuLtu4enqKf3H8n5oUObhoMHDU7dvEI8+ZayblqMyLfFaeI+XtHGm6JkU6BNVSzxItaKW3njRYvuoVwlY5/WDpwsnpVFMThzn4jK2YlKZoySES1SdHG2NuIB5fgR5cQR5bej4v+CDDVj78mM2Mi+vV59+bkZ4zqWpnVX83or+WOUoinK0XVK8Swlvbua3ed88eSPP3i5U6fO6WlpYjFpcU5rb0KmZRQxWPSzBl3xv9ZfrwTq6H9RCRdv/RV9tBZ13wTg1atW3XLLLU0aN3H0R9WRI0fQUal9+3bWn/3VLVmy5Oabb3722Wd//fVXay+brnuPHtdcc42j+5g863wRgNesWXPLrX96ve7t5+NFqpRDZnliY4rEX3V9nCq57dtN1KwY20c3+0TiDtUSt2jMkJtvuum//7rt6I5X1TR+YXZ5QhM1tennHzx4zTVXfxk5wrow3ujkLRkqGQTgkIYA7JbQC8A45LOO1XNA0JYtb+j5FkvTpo30QY5+IVmLGY0ShI3A8hwSFoeCmXhoVsdv3XpoFh35pk+fSquSPYrJLiopV5TnD7WqPZTNeTBji2AsPp0lyP2pAo1BJrHfILvXPxP6InYluVGyVu2aLP3Sj3ZzOHsU1vMv1L08AIsnNqmnS0UD5qVQp73M9vQp0RZqpDsqRqFX7+hHvT91ogG5bO5337f+oEHy5vbqkWFKbn8lsYNSPFD5ZZlydI56Kir9wIZmTV+bMuar0sIM9WCWcixftNZSjqVYK2JwjriemT4fLxENuZZYJW2PcqRQ5NjcFHG18+E85WihdnV0grjjtyhLKcwUVzvnxov0mxGn5CQqh/OV0yeUo/miufhwrlKSp2TsVQuScvZsHdij62ddPs3ZN0stGqAeHqYcX6/8ukvJGKrspwzTQS0a9dOc7t27fTZm9NjS334TgV9czKzdFF2mveCXQrC+vHoa1luAKQZTH0rCFICVcvWCVlGiTqzVIq8CMZY3uo6dOl5xxRWOXsJXWFh43333/uUvf0lOSrL28ld38uTJN99sRgfi7777zvonA5sudn/sDTdc//R/nr5gbEUV7nwRgDt26nzFFVd9H/kv7Wrny0ImpV/L+gb3/uXa/7v9jgM/fadm7OZJ1WfKU3f+fmDrG/XrUSXPGfav8uSmbN602Wu6d0Hd66+p8nStZ71YyfKWDJUMAnBIQwB2S+gFYBzyWcfqOSDo5Fve0Amdpuu7Tru/kOxxQYQCsDG14MFmksWh0PBYbw8emhW9x9mLl4y3/uoPtWKHTGf0h1pRMg+Oh1q5iy2OsZ3If82h2pNjJ/1qUEaNjBy2ZMkiOh6w+Lp580b9T0X0eyH3d3La0fDyNy3pv2jUk62FmOg9jiZCheWS7dp9cllsoCB3QXuek57oyJmz4gZXCsClp0WW07Mf9SFUjOi5V4yoNQ6XlR0/9svwYUM7tqr7a1IPtaivkj1WKZypFAxUCiaq+aMuFM9bt3Juu09ax29ZqR62KIVZysFccd0yZWDx9OY48VncFXxAXNVsOaDkJ4qXGxWli3BrSRU3+h6ziJchZexT0veK9yHR6KLVN0PISRKRmOLu4Szl10LRRExZupAmqL1CqShbPZges3TO+y3eWzx7uJLfVz02XDkyX8xeSi8l6zMlt7Oa8snv+zsNH9i1T88+eRkZ1kUWF3try0sLSJ2+yNTRjxR69TL0mdJvaan2mOizlyqEwvP58/IqsI5bsa70dGmtWrVuuPEGS77F2uvyrkePnnQ8+uyzz6w/+7fbuGnTHXfc8cjDDx86dMja6/Lu3LlzNWrUuP322/ft22ftVeHO6wG4tLS0Vu1nb7iuSs7a+ux5y+WJoom1+0cPUyV3ef8dNWNPuX+af3WJO9Tc/etmjrvjT396+K83Fm1qoKbYPJ0rqcnpfa//q+qNd9z5f7GxsdZFqnAnb8lQySAAhzQEYLeEWADGId+2Y/UcKPPnfy9v64T2pDVqVLf9haRfA9sbTXv06MomGAzYTLI4FHqaTXT3oVm2du6M+vTTCFqtLMs5k5RFCVw81Oqx3nyWQgpbLmM7kXf0xtObaVNnTbJ26eUpIRt9UpKT9Ck4wt7bTL9o7BeK5sf59RRy4T59e10WG/RrmCnIUXij/ynllmpv/aE4p2jZjzp9kECZUIt/etjTM/OF81s3bercucvcqX3PZ/RUC7op6UOV7NFKei81q8eFvKFrf+j1Wcd200YMPpu+T82JF3f/FqZaE+/BLCV7v7iqOVc8uUpJ261k7BJ9ClKV/CRxhTMFWgrAhSniXUfZceINwKJkqnhwdEGGYknTLqWOF1k3M1o8OLooVUycSubTVyQphyzqwawTsdsHduva9sN3Vs/vrBSMUS1DlIwByoEIpWCsUjBMtXQ7mfRp/+6NmzZusjNql1heCrSi+Vd75jMtoP4/RWBaZLH4F6tFLLv2nLBLkZiqRa9P7wfgvXv3/vWv99WtV/fUyVPWXlK3f//+O/985z333JNnybP28m9XVl7+8Set6XA8aKDDp3UMGDDguuuuGzHCaxfoej0A79u3/6/3P1j3Xzef2PMaS5iUfvcuqHvnbVff+39/yVm/WE33X/Ovrjwlqix998fNxL1XAyMeLUtsQplcnkMlUdyx/EXbh6+//rqRI0dbF6nCnbwlQyWDABzSEIDdEmIBGId8247Vc6BUq17V9s5P6sOC8ZgxI22DU3DeAEzYfLI4FLpK6kWWDF3q+qFZ1F3eJy83tyA/n/V0SH+oVbOJ7NtDF1tAYzuRb9/Vr382//QvCslUXr4fPiZ6jzFlR+TAzNAh0OUdyPJZzuhRIy4PwNYWS/GB/idnpPcAWSPuxQdl0VDKwOe0AhTzRBlxxe+cb79t1zYiYdtXam4XNX+kkjVGKZqs5HRTc9qdyJk+YeyXXSPaZmxephalKxSAKZcezBYttMXZyqEc8frftL3iHmDqaUkQrzvKTVCOFogom7tftAMXpIlkW5AgPpfki9ybc0C8Q7gwQ8Tg3Dglj4LxXnEzcGGaGMuiPV86L0XJiNUeqRWr5sZnb107ftjgbyf1LtrZVi0cpBxdqBycrhRPULIHK4VDLmS1j1/TvlvXzlu2bhcLJWpDb+DV2nX168CpJ6ViPf1ST1p8vUmcaon+pz7WDKwFZh+0AM+aNfOGG67/ot8XZfRdl3fl5eVvvfUWHYnGjR1r7RWILi0t7b57773lllsPHDhg7XV5t337dprJJk2aWH+ucOf1APzNN7NvuPEPfdv87Wzs64p0AzB9Pn+g8Vv176L5H93zUzVtN8VRFlD9QM2MTl41jxb31puvjF38HGVy+ZVI4lnQKU23fiNeP9G06ZvWRapwJ2/JUMkgAIc0BGC3hFgAxiHftmP1HEA1alRne08zjBazIMRmlcWhyqD20JLeC9x6aJZLlKtFug6Fh1q5iy2pvpFQ2pR7tm7dinb0ch/n3v+gOU1kxfJlRh86bOhTds7uk8bYvdmOyE3Ts2fPuiw20K6Vgpye9Kij8HbmtLXNUzzt+bQYKi6KPqc9KEvLhKIdWHstkNYdP3FiyNBhLd5+I2dDDzV3kJI1TMnsrxT0Vg8NOZP+xbeTu/Xt+8WGZYsv5Cao+QfEQ62OFonGXkrCOQnac5u1puCsOPE5P1U86Uo874pybLKIx4coysZbn3F1MFPcLUzjpscoCTtEYfHorFhxHbWFRk8SAZjGpQlaUkTATosW35IdR/3VoqyMvTt7dOs8Z8Ibp1M7qIcGK8X9lNx+Ss5wpWi4emjQ4ehe3T/rMGnS5N9PnBBLRXHXCLcXzmtVcUb8pUCn/zlArzHRhH5OLdVeFEzl9U4pl+vf2rNiXffu3elQsuynn6w/S92cOXOuueaa2nVqHz9+3NorQN2IEeKRHG80fcP2kE3d4cOH77jjjurVqx0+ctjaq2Kd1wNwd+2asiVj/01JUn7SsprZbPbQf11zTZVa/3jq6K41qo/f/etIWXKUmrHny67tRSW/+JdzcZeldDGfqU0Pbn359j9eUf2pfzp6baS7nbwlQyWDABzSEIDdEmIBGId8247Vc2DR7tKNK2O1JmKXrVUBxOaWxaHKxPrQrIVR5h+axa3ZS1k6tB5q5S62yPpGUv+l5+SeTZs2ot8CuQ+hswo6GERGDhs8eIB8ubKRdT0IwJMmjTdG0Zn/W5J8ZOIBmOIcxTYj71H0pQ8UdMXnMu1O4FL15Cn1jPaULPGyHy3m0eeLT4c6WFw8cNDgscP7/L7vC7VwvJLRTcnrrxyaciHrq/VzO7z3TpN+Xbscjo1SD2VozbMUfZNFQC2i/7UnWmXFikdYZWtJNWO/eCJ0bpJ4uhXFWkqzWfu1G4OTRDymMFycJhp10/cryXvExc/p0aLFWFz/vF/EXQrJBaliUjR9mjJNkKaclaDkpar5acdS933+2WdTxn6eH9Vezeko0m9uN8XSU8npqxYNPnHg055dmnf9rOuh4mKxn6UaINSJhdUff629DooqRDT8XrxfWr9onD5QXREqrI9S7u0ArKhvvfX2FVdckZiYaO1zscvOzv7HP/9x3fXXb9y40dorcN1vJ07UeuaZq666as63c6y9pO7UqVOvvNzg7rvu2rZ1q7VXxTqvB+C33373iipV4hY/p2Y0u5QqM5plrqn/j6p/vO6669bNGKtmRvvp4c/2qGm7j+1Z+8xT1a+6qsrsYf9U09+QG4HV5KYn9rzWoNatd91977Zt26xLVbFO3pKhkkEADmkIwG4JqQCMQ769jtVzwJl/lyztaoPwyc8yNsMsDlVOFx+aVZKZZ13w4mL6nzrrjzJLIWXm0H2olbvY4usbCW3wck/9jKFHj660eZPp06caT0Qn7AnbxouU5eOWmQBs9xJo+r2Tv8sJ+XndEyeM47FBC2wiv+k3+lKio7wnMp62x6FIXKq1CevFrCge66lP9J8+/ZsFk9pcKPxWPTJPyeyiZA5SD359NLrPkP6d2rX6YN+Pc9RDWeqRApFsU/cqmQnKwTyl4ICSnyCacIuzlPQ4JYWibLySGSfyqngrUqJo9c3apyRGiSgrhsaJ/HwoWzz/2ZIsUnTKHiU1SlwmnRkvrnamJJy1R4Re0aRMETpBOWIRkzqSLx4onRWnHkw/UmiZPnXSrOGv/bLzIzV/iFIySjk0WSkareZHlmx7a+GUTitXroqLixdLTcuop1n6oEdcCsAi+mr3S4sWcq26KA8bf0E4f058uEiufzGdinW/nfitXt16d955Z17eZff7lJaWtm3btkqVKj179TxH8xME3aZNm66//vqqVavm5uZae13sysrK+vbre/11102dMtXaq2KddwPwb7/9Vq/eC3f+sUrWmvoULPVIqaQ0LU1o0ubN+6mSu3/8XmnCNiVtFwul/iQagdN3r5857vprr6/64E1ZP9dXM964EH8xACc1ORv7ep/Wf7vu+humTp1mXbCKdfKWDJUMAnBIQwB2SygFYBzy7XasnoOBmXfJ6k+vZSMGGzbPLA6FkX8P4n3CEtse9I2EPQLdyV6+WvWq8t3C9CtgXP4wZsxIo79+V7AT7CAno+nT/LDytuSznC+HD728BVh7jBMFOdqXEkp69D+FPZHoLj7mijoKdXoLp6I1Ap/TQjIFQkUpKiwaPHjgTzNfu5A9VM0eqqT1VtM/P7Hvgy3LRw0dFrn62xnl2QkqpdC8JNFOW5ChHD+s/FqsHMpSijLEM64o0GbsFymXYm1hlvZ4Z/qQKJ78TCFWf95Verx23+8+ccNwfqr2GqQM7fJm7Xla6TFi4oXp4sVIecliqCVN/F+SK4b+UqzdEnxALck6k58+bezI/r07/TDhAzWrp1o0XDkyWsnpqaT2K43rtm/1wPHjJ678aZlYXpHtL97/LF4HdfEeaYq+IvNfbB8WBbR7oalnqfbWKPqRRrx8Ry0KVKzLysyq/lT1f9f8d0lJibWX1s2ZM+faa6+t8a9/FRYWWHsFuqNDXvce4tKtDz/8sLT0tLXvxW7BggUiSXbvYf25Yp13A3BWFlVyjRpVryvc9LKaJgJwWWITNaPZt8P+de21Vf7197/nb1qqZu9lidT/lNRd55J2dPuwBdXkR03uO32gcfnFC6HLE5soyU3nffUvGtSjZy/rglWsk7dkqGQQgEMaArBbQikA45Bvt2P1HCScv0vWfFNVYLHZZnEIwg3bHoztRL7kwWjUZSjrytc5E/l+XflFSs6fAs2OcPTVbLJmbiuQy3/6aYfLYgNF2VOnROilpCdubdVucC1XrEGO+p89Y81+FHdFSD4vAjOhz1rSW7xo8TtvN/l+fPMzu9qqSW3UjE5lll5LZ37w/HP/69ejx7GkGPVYgXj3b/Y+kVpL8pTidKUwSSlKEY93ptCbtldEXCpAIVa03B5QLPHiRb6WA0rSNnEbcEmOUpStlFhEeRoqGnupZJySs097YVKseDES9SEUno8ViZcJHzuo5GeI/vRd2fFKyi6amnowoyznQPSyeX379J0xcVDxtg5q+ieqpa+S0V090LI8p/fmxX3fb/Huyh+Xiv2svuy04PQ/JVv6kcI/VRERfwLQqog6PQDrfxcQ8VhrEqcq9XYLcHR09AMPPNDo9UbHpdfOJyUlVa1a9fbbb1+/fr21V3B0h48crlnzP9dff/3sb2ZZe13s9u7dS0fD5u+8a/25Yp13A3BMTMwDDz7S6L9/OrrjVf35UmpmswM/Pl/1wZtuv/XWn6eNpvTr11cfOaZmRBdvW1HzySevv67KzEH/pJRuvBZYTW8WPb+uqOTmLawLVrFO3pKhkkEADmkIwG4JpQCMQ77djtVz8LC9R9HQunUrVjg4sdlmcQjCDdsejO1EvqKY8qfR30CnEexgQClXPregA5U81G4rrm2EpvT7/gfNqT+bOB0F2bgy9h7gjz764LLYQOFNRNkL4p4T+iwu9JUe5nThnLj7V4+CFIDFs6BKrZcEExrnwoXFCxd3bP/hmjkfno/voKZ1UYs+L0wY3ur9N5+v98KuNUvVw5misbcwWdzTqydeyrQUd/OTxQt7LSniouiseLU4VS3JVXMTRCvxoVzRZkvJVoThZCVHf8yV9nwsis1ZFH2TxSD6TFPOpTCcopKCdKUgvfxwvmjypbRMWTqTRkwSU8jTLp8uzlAPZp7LjtuwaO6kMaN+mt2ncMfnF/KnqCUz1bzu6qEx+9YPafzaSzNnziqnRaMa0P/XHwFNlVOmNQLTB+pEI/DFKqKOfiynhEwftMAs4rGX7wHesHHjnXfe+dGHH506ZX0hwi+/HHvttYZ0ZBk8ZPB5yt5B1m3buvWOO26///779+7ba+2ldVlZWdddd139l+qfpa2owp13A7Co5D/f0+r1u8Q7kJKbqmlvHN3ZsOH//kyVPLBD67Opu8pNXPxcnhJVwWdEl6fs1Kawk/WXUQ5XM2M2zR5/+6233X/3DdE/1FWzrDctUxhOW/nCdVdXeanBK16pZHlLhkoGATikIQC7JZQCMA75djtWz0HF7stg9PfEhAQ25ywOQbhh24OxnbC/9VAGplxKu3tCRyB2TCK2V0BQSbmA7V+IbNNvVlam/gRpYvsAdie/ZSxsv/xK/ctig/48JxHntFZf0ciptXbqbZ4U7fSGTepPH3Ti8Vdad+GCUla2bdv2EZGD4jZGqAXd1OKvjhzoOevr/i3efvfH6RPVojSRVynKUtzNiVdSdylZB5TiXPFmo4OZIgYX56jF2Wp2/PH0/YVxu86k71ML05RfDirHisVLj/ITxLOdSdp+5UCUSLOUgcXDsSjNZorLmyn05qeqRennLckZ29flb12t5iWp+ZSWk8Szow+mW9uNxaOzMkVL8sFs9Uh+eU7CkukTP+3wyezpX5UW/aQem6UWT1Iz+pTsHzx82IAhAwefN67iEZWgRf1zeuvuxSufqaPKEaFXy8n6HwiowJlScWW4qE8vB+Dly5b94aabPvvsM/2un3Pnzvft248Oha+//vqv0h+InXeKohQVFZXRqvS0O3vufG5e7gXx5xIXXVlZ2egxo2kOn322jkW6iSk/P//+v/716WeedvTyfLc67wbg5ctX/OGPt3du8dfT+xqp6W+cOdC4b5tHaBEaPfffYzHr1ayYC4k8iDJKys5zidvzN/909sA22trZUDPU1F2lcVuy1y8+c2CrkuosA4vpp+0e2b2jqOR//ilnYwM1U2Rgyu25617665+vfKZWHa9UsrwlQyWDABzSEIDdEkoBGId8ux2r56BCZ+3sZS1B+8pfu+Q5JywOQbhh24OxndSqXVO+udcl28uk6TdFfny67duMevToagwlVLhhwwZygfovPSdfiU2fWQGDfIyk052HH3ngsthgJDr6IMKt9qMe5/Q+RsajvSj1FEO1Zz7pBVR1xYqVEW0/2rNxnJrX+1xaz6+/+uitZm9PHDLwbMZ+NeeAuBT5sEVE1rwEEUeJeFBzgrgBuDhDOZijHs45lRE3YuigiLZtNi2Zr1ji1KO5ym9HtfbhBOVIrvayX+3y5kPZ2jOi48Wjs3JTRKgWT3tOVH8pyInd3bdr5xmTxsfv2n6uxKL+Wqy9AVh7nlZOgpKbKEanCeYlK7nJ6rHCk0V5U8aNafVByxED2mTHfKUeHKwWjy5KnDt0cJ+ZU6cf/+UXsZi0jLTU+mJeKNMuddYCMP1P/U+f1lt6Bb2M/lcD0Yc+eDkAL1q48Lprr+3bt6/+4/fz5l1//Q3Vq1dLS0vT+7jsfvvtt4iIiKeeeqpTp07H9AV0szt69GhEhw5PPvlk609a09SsfR13p0tL23zShg6ILVu2/OXiNx46VFKz5r+feOKJtNRUvU9FOu8G4EWLFl97wx97f/ygHiPnflnjhuuuqPbIw8krv1dz9rlOv2m7j8esb/9u0+qPPdyxRbMju36mPqyMc1T+8M7VEe82efKRv7Vu1ujXPWudTSFxu5oZfTp+yyfNXqdKfq/hPUd2NqTcrqY2Ldr88r//fv2T1f5hfvNw0slbMlQyCMAhDQHYLaEUgHHIt9uxeg4SdPI9ePCAyMhh33wzyzgvT09Lmz//e+pJgvCXwZbxq6tjcQjCDdse5E3F+U3vBgquFGXlEQ3yoYt+ZSgSy0PlB8vROYrd85L3P2hulCF2/9hEk5Vz8rTpU3gApk5EOP2Rzlq+pSB3/pyIf0bi1aOd/mdE+kwfzmqvvT0r/jS5ffPmxq832bqwn5rZ/6fpbZs2eb1Pl86H9mxWLRQ7M7U22BwlL0Xk3sI00ep7LF9cBU0hNj9ZLU4tz4tfN2/Wu+++27BR47mzZ57IiFbztRf5HikQj3HO1F50dDBb+f2YuEk4eY9oST5aIDKtuIiaInGmejBn77rVkV9+2aXr56+9/jqFYdGMXJCm3Qa8XzxK2pIk7g2mwhmxRC3KVn859EtSzIhB/erXf2ly5PuHD3yhlow7cmBg5IAP+/T5Ii4uTiyp/ucAWl7qysu0zK/VEiVhCsC07FQD1rirVY5+V7AoLMaS14K1fwW6+fPnX3XVVYMGDaLPu3ftvp26225btXKlPtRMt3//fpoCHZtuueWW1WtWW/u6061evfqPt/yRpnDFFVfs3XvZVU6OuqNHjzRu3JhG6dixwwntBcu//vpr/Zde/Nvf/rZv3z69TEU67wZgUcnX3Dig/cNqStNd3//v9luuuu2WPy2b9JWavdfle4+0hzPviVk086qrrqTlvfXmP6ycMkLN3c+KOUflV04ZecvNf6ApXHnFldELZ6gZe5x/tZoVc2jHqtef/y+N0uGdB37d1VDNefPIjldefPqPDz382P7YWOuyVaCTt2SoZBCAQxoCsFtCKQDjkG+3Y/UcWHQKPn36VLYPtaLu8j4pyUn06xrM9wOzGWZxCMIN2x7Y1kIHG7kV1xZt7U4e0RwR0UYubHsNMwVamv7mzRudTES+vNnubxYL6i3fb24vAOv5TW/eFBc2i8c4lZZaE6Ce7ijyieZQLeZRT4p/2jOilfKylKSkDhER62a2yd05pE/Pzu0/bp247kc1a7+4VvnEEaUgUzTDFlFSTREv9S3JVk4dV34pVDJjxIOsilIoJMes+fHVV1557bVGCxcuPJafrVK4Td4t2ntPHBbPzaIRKfGKUfaJ50UXZipHi0WmpURN0fqXQ2pBysEDu3/6cUnPXr0avfxC9vafVXGzcZpIvDn7teuotTidlaAk7hQ3Bpdkq6J1Onbvup+6tG3TpOGL0yf2O57SqSS63fB+bTt3+TwjI0NUi7gqXLvOWa8Zqgex1BSDtbrS64T+P3tW/C8+WJ8KpnfyWrD2qkA3f/48OpZ99dVXGRnpT1V/io4v48aNtQ4z123ftu3KK0U2+8Mf/vDDDz9Y+7rTLVy44Oabb9aPhubf6peXl/fSS/VprA8+bHXk6JFz5869+fZb9957b1RUlLVEBTqvB+Crr7nxy86Ppq184R+P0ZJeNbrnp0rGHue34+r0txNtnjORKkdU8o03zhsxQM2LZcWco/LzRw28+aab9Ere/O0EmqbL7K1mxmSvX/xCrf/QWB82vq9k+yun9zVq9sLt993/t127dlmXrQKdvCVDJYMAHNIQgN0SWgEYh3w7HavngKhWvSqdWDs/+3eCRoyMHBaE7wRm88niEIQbtj2wrYVQNB0zZiTt940roul8gn40c8kDbf9y22xM9B7PfiMaNmwwffpUuw+jprMZ+VJt+vxktcfsBGDxBGMt31KKo47SnbiXVXvms97yeeaM+F+8+uis+KA3AhMt70XviW7bulXvNvU6tGn28Uetd68W6VdN1G73PX5IJN68BBE7CyiypojXIB0rFg9qLkhT0qPVvOQyS9pP0ybUf+65uv+rO2vWN78WWUT7bXKUcrRQOfWL9hqkdNEUTFlaPDFrn5JLfSzi0VaUgQ9miDcMZ+/PjNo4etSoiZMmD/+ib2H0FpXG/eWQcojCM331Ae3G40zx/uG0/SKE69dC58Ur+fE5MZuH9u/Xo3uHaaPeWz3znc5t3xgxYnR2ds7FejgjlprqQaR96+OdRZ3QglNPQh9EQtYagenH0jOiWrSWYHlFiJ8r1i1Y8MP111//ySefPPfcc3Rk+axrl3Kjwdlct2P79quvvprG/eMf/7hw4UJrX3e6xYsX3XLLLTQFOi7TsdXa10SXm5vbsKF4eEedOnWWLFlCn++9774dO3ZYB1eg824AXrBg4Q033vxJ03ue+8/tNLedW74l4qW5t/7qAXjLd5Ou1v7m/sc/3PTDqEEeBOAFYwbrLcBUyVvmTDQTgMVXZ0ZnrVv8St06NOKz/7xl8Ziar9b50733PeCVSpa3ZKhkEIBDGgKwW0IpAOOQb7dj9ex/rVu3st/k6yY6HXfy5J6AYHPI4hCEG7Y9sK2l4ljzrJkXGplHk2I35NPR8dHHHuQBWKTZ8+p5PdppN7tSkKMAXFqqRbuL7Z+Ue6nYmbPif70PpUEtMMfHxbVv365Zs6bvtWy5edkS8cKhnANKyj7RVHvMoj16Kke8v1e0xyaJu3npR9Gum6qk71Wz45XitLWLvq9Zo8arDV/7duaMIylxak6ckrJbvMX3cK5SoD3wmQofKdAunE4VEZoG5R0QDcgH0yldq0VpK+ZMHTp02KDBg4f07lGSGK0eyRWPkqagm71f3G+ckyAehVWUKVJ3JmVg+tIsys9qQap6NO/8keIf5nzzzfRpH77/1quvNhgyZOiJY7+I2qDESwsoll2L+vRZD//6Z+qvfy7TP2jXRZ+mejstynv7Euhly5fffvvt1157LR1TWjRv8fvJk9YBprttW7dqbZNV/nDTTfPnz7f2daf74YcfbtayGXVbt2yx9jXXHT129NNPP/3Tn/5E415z9dUPP/zw7t27rcMq0Hk3AC9fvvyOO+68VpwyVHn31RdP7N1A+ZOlTUf0ALzp24laHVf5w403fO9RC/C8kQNvvulGbRpXbJptqgWYlNG46XtKdq7u2OLNW/8ozliuubLKI488smfPHuuyVaCTt2SoZBCAQxoCsFtCKQDjkG+3Y/XsT7RzZKfUFUf73+B5RTCbNxaHINyw7YFtLV4RFbVd/ooVy5d5JQPXql2T/arSlKm/nQBMWY5SHHWU4ii56W2YlPTEI+u1FyOJ/lq6u1CuXf2rPfqYUALUuqysrH79+n3+WdfNa9ecL8pQKXOKlJurpdxEcSF0TqJ4/nNeihY7E5TsOJFI89PEM5mLMsoPZf743YyXG776z3//58u+vX6Pj1KLk8QTnnNTxLiHMsXtvmn7xOt881O0NuRU0Yqbl6DkUpSNUbMPlBWkL587o23rj5o0aTJ00IDjqXvUQu3tR8UZ4hJomsJByt6JSm6ydvNwkpIco+RQqE5RirKUo/lqUaZ6rDA3ds+GZUuHDhnSv3//YoulnJaXOv2CcFr8csXa+i3y8HnxBwK9PxEVqEVlGuUc/aj9BaGsTF4dWj1VqFu9etXtt99Gh5LXXmvIXoxvsktISLj2GnEwve22P23atMna152OxqJxaQpXX311fFy8ta873dKlS5s0bXrbbbfdddddW01fUeWk824AXr16tV7Jr9atfXD7CoqUZsKnTgTgjOjYpd9ee40I0Lfd8sf1M8eJR2fZlHRCzdm/fsbY2/4oLjq7+qqr9i2ZTdM0Pw9q2m4ldeePE75s/Pz/bvvjH++5555t7vzV3lEnb8lQySAAhzQEYLeEUgDGId9ux+rZbyimOr/m+ZeUNSejhpzc2vPsyiaG0xsiqOeJuO9Kii5d7cnkWyyOHhTkZ2zGWBwKI7WHHm42Ufj3ID4onLDtgW0tXsFe0ksoElfw7gA6iWG/qvQrpp/Z2A/AlOIoA+tBl+jhlkKdaPnUG3u1a4Ap2omorFifBaWqp0+d2r59xxdf9I+IiPhu6sSThVlqSaYIt4XaG3p/OSheZZSxT8mjDKy9CakwTWu2zVAO54kWWkuqmp2k5Mcfitm4afas6eNH7123Qs1PVAuTRUjO115iZElRLWnq4TzxSK2CNPVIjlqcUZ59QLxY+HCOkhOvFqZfKM76LTtu3YLZk8aM3L9pVXkhTTZeSYsTNwxnxSpF2juQaGqUgSlXZx0QD9OiFJ2XLN6idDhfTCQ/WT1iOZOXOuebGb169Z4165v09Azrm/ZoSS9odaLXEnUiA2sXP4uWcy0A638REElYaxCm/73aArx5y+aGDRteddWV1apVoxmz9nWzKy0tjYz8qlGjRiNGjPj999+tfd3pfvvtt8gvv3z55ZeHDBly+tTFN0W52ZWWnn7rrbeuvPLKhq+9tnnTZmtfTzsvBuAtW7Y0bPjaVVddVe2Rv6Wsnq9mxZTZJEw7KJ2m7ixL20UfytN2nYrf/GX3iEbPPxv5ecSJvRvKbd5jRBlVa1XeTv/TZza0PHXX8Zh1w7q0ffl/tQZ/1ub3uM3lVCY5qixtJ32L+K7Ly9sS7we2xP2+f+ObL9W78qqrXmvUiJbLuoSedvKWDJUMAnBIQwB2S8gEYBzyHXWsnv2Dfq/k+xVlFG4p5ZbNe1yZ81cnyuc+XPrz+yf2z3SUhIPhhUlsllgcqvxqDy2Zu7UkM++yekjKKpmyXoRhVjgMXFYPvgnApHXrViyvjhkzkpVxCzsopiQnGRdZ2AnAlNbOnrU254r8ZrQGa7cEiySsDdIDnqI9/OlMKfU4evTo6DFjXnnh+U/btenTp8/m5YvVY4XqoWwRd0uyRQCmiHsoR6TQ3DhxO66Fwme8kr1PPJC5KLd8d1T5zm3l27eWpyeoO7eq69er2cnqoUz1YJZosC1KFe23+alqTkJpdtL+9asORW9VC9JK4nf+mrJXyYxVD6aLm4rz4pW8A2r+ASUz+nxmvJK8T90fpezaUb5pbfmqZeXRUeW7tygp+8XdwoXp4hLoI/niA81hQaZoYS7OVo4WaU3EWWpuUnlmwrw5sz9u3XrAF18MHjgoLjaujJI/Lbh+0y/V0pkz1jCs1wl1VEtURSISaw/HovJnqI+4NNpYHcRa2P1OUZTv5837y11/qaJ1HSIiKvgyeePdBLZdQWFBUXExfSgqKiosLNR72nae/THa6OhoGBERoS/O//3fX77/fp67dzbJnVcCMFXy/Pnz77r7bn2u2r/b9FTsZi2m8njJpUSdj9t6duvq0p+Xlq5cXLpi0bk1Sy9sXlny82Ltiug9FxK3G4XLksX/lk1L87f8pBYlFmxZRp+N/laJ29WMPecTtxeuXHBu44pzNNkVi8SUf156duuq83Fb6BsvFXaA5vz3fRvbv9NEXxyqmnnz5tEyWpfW/U7ekqGSQQAOaQjAbgmBAIxDvvOO1bMfREYOkzdrw6+JS88v+S8Lui6VLfjnb3u/ZpPSeev6T4+x+WFxqDJ7rHfJ0KWHLIWsBi4Tm17S8Vs+YqXGaoBtLV5Epx3ytdAVvDdevrWYjklye7L9FuBzWgAWSY+ynP4cLO3ZV3pHOyvaXYk8fI52zyIEll24cPbsggUL3n3rzQn9e0//aljzFi3mz5pxIS9FPZwn4m5hsnazbpp2mXGmaIPNjFNSo0XyzD5QnrS/PGZn2YrlZVu2lW3dWrZpQ9nqn8u2blMoD+/bIUpSeKbp5Cer2bEUenP27xzSt/eE4UPXL108edyYDT8tLs86oBali/cb6S9JssQrabFK9C5l09qyXTvKNm8s26BNc8OWsk0by1cuKY/ZZJ2ZYorBGeIKakuKkpcqLoem+dSukVZzE0uT9o4bEdm/d4+vR33ZtHHj9u3aH9i//2IlaHcCi1cfnRVhWK8rirv0P/0omsq1m6XFB+3G4PPnjTon1om4323auPH22++476/3derU8a677mrRooVnf8l12R0uOfz2W2//77//7dOn73P1nqPPFTzqOepo/t9r8R4tS6dOne6///7bb79944aN1mHud14JwJs3bbrjjjvu/b87OjRv+pc7b2/+Wv1fo9eJ+GqTLS/RUuvZnWtPL55/cs7s32dO/32G1enZs84vnHd29Y/n9m2W22wp2RZvW/7Wy8//99//6Nfho+ee/tdbDZ4v3raC+htlqPy5/ZtFil44n6ZjTJOmf2rON6cXz6Nv1IpdLG8PBeBfo9e3aFj/L3fc3rH5G3+lRbrjjo0bPa9keUuGSgYBOKQhALslBAIwDvnOO1bPvtajR1d5m9YdyYk9u7IJS7ZuObf0hWNpdm4nnj//ezYD/sRmhsWhyqqk2hcl2xPYsjtCJUvqRbIpVFZs2dnW4l3VqlcdPHjAiuXLKL5W8M9A+qSWLFlke2eBnQAsYpt2d6ve3ivCrvYK3AsXA7BoO9IelEUFKNrR/6p67PDhLp279O/W9XR67OYf5zV5/fW5oyPL0qPV/CRxtXNurJKzT1z/LBpys0Sja8ZuJXmXkpNUnhJXFruvLCa6bPXasg3ry7ZrAXjporKdW8p2bCmjDJy8V9ysKxps05WcBAq6p9L37t+w6od530cOHRzZv1/CuuUUXNW0GJFjxcOx8ql8+e6osrXry7ZtK1u3rmzjurINlIE3lq3fXLby57Kli8s2/Vyek6TQvFmSxUOwUneKh2PlHlDSKULvF5/FpdSpJ1P2jhw6sHun9gnb1y+dO+uFuv8dNWrU6dPahT/6gpeXqWfPiAbwc2cu3RJMg/RLxKmiiP6qJG9cAn306NHatWrdeOONixYtSklOfuzRR1997dVff/3VOtirXenp0t69e+t/paWue48e1gX3dnf8+PGGrzV89JFHkpOTFy9ZTEtX65lnjh45Yh3sZlfxACwquc6zN153zYLRgxOWz33k/vte/V+tI7vWXJZLbaXuPL9v86kF35+cMf3kNzNPzp51mVkzfp8+/QzlWArAFzOwkrb75P5NvVq3tFZxlSrdPnqX+lB/6zRFyagzPy+lcWkKfJr0LTOmn1owV+RqmyurZRTdj+7+ueH/atGyJCz7buGYIbR0terUoSW1LrObnbwlQyWDABzSEIDdEuwBGId8lx2rZ5+iLdj2ymcKri4veDajfO7DdpuC6dydzYbfsDlhcahyeqx3yU+72YK7kJQVJvcGswVnW0soshOAqaNopz/VSdHagamjXKd/1uKu+JE+WC+KVi6cPbts6dJP27Xbsmieevpo0vYN7dt8Mm3k0DOpO9RDmeJeX4qmWdFKcarya7F40FRBsrgEuiRHyU8pj91dFhVVtmFT2Yp1ZevWitC7fm3Z6pVlGzeUrVlRFr2TErJSlCNu0M1JULITKJeqlkT1WMHx/IzMbT+X7FxfnpesFmeKB03nJYlW3MP5Sure8h3byrbtKNu7r2zNz2VRO8ri40UMXrWybPmqslVryrZuLs9NUIrTlLw4JXOvmMOiNCX7gHg2NQXgnFjVkqD+kp8StbHxq68M7N7lbF5SeXFmz47tOn/6aV56hqgH/WVIVCf0gaKv/iPVBv0vmoW1Z4aJKjqv0kGEfrx8Ry3q0P1uzc9r6MD0zjvvlJeX5+TkPPnkE88884yP/kpLXemZ0qgdO6ZPm7Z5y+bTpeIqd190hw8frlW79hNPPJGbk0PL1fzdd2kZ16z25C391FU8AP/88880A2+//Hx5bmzmukVPPPK3Z556onjbcjUjmgXLy6TsPL9346l5c07OnGEnAH8z8/fp00pXLhYlpdba8pSdp2M3b50z+esB3dbPGncydpMiR1mtZOnKJTSu3WnSd9E3novZ6CIAZ0QXb19R66knnnj4wYy1C2i53nnlBVHJa9ZYl9nNTt6SoZJBAA5pCMBuCfYAjEO+y47Vs+/QrtD2qVcn9s+k4MqibEWc2tSFfQVp3boVmxn/YLPB4lAl5EH61ZT0XsAnVRmxpWZbSyiy1wJcJl5upOc3vflXb8kkIulplz2XaTfBUrrT2jlphzZu9OgJkcOily9Qfy04sHFNp/btBvbo+mt8lHowW1xXnKE98qokQzlWoL18KFU8vVk0BacqeYnlmfFlOzeXbdkirFpetpZi8O6ybTvLdkWV5WQolgzxtqSCdPVwrnowQy3OKreknCnKPllSUF6QopZkUk8RZYvT1ZJsGioeN50Zo+QmliXsF1PYskk0L0fvKdu9U1wLvXtXWRJ9Y4JyJFe0FYtrsOPFKEcLxWOoKUJTzLYkKpY4mmD8z8saN3xl9KB+SnG2ejhnzTdfd+/SefWKVWVUP1QPonlcqxzRGlymXQtNAVh7Q3L5xRZyGqq/OrjCAbjsQlnPnj1vuunGb7+dTT8eO3aszrN17r33XoslXy8Qol1+QcG9991Xu07to8dEg+R3c+bcdNNNPXr2uCA2P7e7CgbgsrKy3r373Hj9dbOG9lELD5TsWFX7n9Xu/cufczYsUbNiWLC8DIXVxO1nN688NfdbkU5niXQqmm2Jll1PL553LnoD5WQqrN0PvFvN2qvm7FNz94v/03Zrn2PF/9TfeNdRyk4ai8a1Jl59gmLKYpqn5s6hbxT3FTu/BDozJnfjkvv+8uda/3iyZMdKWq7Zw/vedP11vXr19qyS5S0ZKhkE4JCGAOyWoA7AOOSb6Vg9+w57QQv5be/XLL56xel1rdkX5VsstWrXZPPjB2w2WByqfEpmbWKLbLUxrqTjt4f6Ly6Zsp4/E0sTJjcDs6VmW0soshOAT2vvrdUv5RW05znpeY92UKIpWAvDlz6U5WZlfdG7d89O7S27N6olGb+m7R3Wv+/wgf1PxEWph3JE4s3PEC8cyj8gHlJVnCGaW+nDwUzlWKH2al9KyHvLdm8u27S+bPO6su2byjJSyuJjyjO0F/bmxIvcW5h+OmVXYUJ0atTGZd99M+yLPu0++nDKyC83LVmQsHH55oWzdq3+6VhafJklVT1EYdUiMnZhenlhVlnsnrID+8rSk2iCZTE7y5JjxJXPRUnie0X8PqDFXVFY3Aycn66k7qFUrBamlRem/zR76ltvvbnxxwXqwSwK2z/NnNStS5foXXsuRV/6UK5dC63/OYBCL32g/hcfiy06vU+FA/CZM2feeeedu+++e8e27eJnRX399UZXXHFFWlqaNtxr3e+//56dnR0XF7t+3br58+fPmfPtD/Pnr1+7Li42lvr//ttv1nJe6tLT06+88srXXntN/3HHjh333HPP22+/Rcur93Grq2AApi99t3mLu++8fcucSWr23rLUXY2ee5ZmL2nl9/QjC5Z2JO84H7PxzNqfTi/54fTC708t+P70ou9PL1t0dsuqC/Fb9Yuf1Yw9lKV/jVmXuW7RvsXfrJk+Zt6oQd8O7z9/5OCfp4/Zt3hW5tpF4pZjisH6Rdc0VvxWmsLpZQtpamKaC7+n6dO30Hc5j746mvOUVfPEQzfr1qYloh+3fTf5nj/f8c67zT2rZHlLhkoGATikIQC7JagDMA75ZjpWzz4SEdFG3pTJLylrvNv2Kzu56yv2dQF5KDSbBxaHKpmS3gvY8upKus69rORjvUUYjk2/VGBPMvW8rEwlZSyyjm0tQatGjer9+vW2exmFnQBM4U3RQp14y5GWeAl9EM2b2gOfxLtttZtdL3ZnS0vHT5jw+acdC3ZtUAuS1eOF30we17//F/n7o1QKmQVpIlsezhNBl1DUTN+rWA6IAEwp1JIkImhhmmgoLs5RjhSKZ1llxYhHZGXFKzkH1PykC/mpWXs2Tx0z4qOW70e0adPmw+YNGtSvVbtWwwYvvPpi7ffea/rRhx9GtGn7WUS7TUsXKYfz1ZI85WCWiNk05ex4cQdy7gElm/6nGUgTT8kSnxNFmYJEcVuyuBOY5oe+PU/csSyeU51cln1g35Z1vXv1ilnzk5qfoBanz5kwss0nH0ftiNIeA6Y1/FKF0Ifz58QV46KuLvanVKw3nlMngrFoS5er3TrIne7smTMtmre46y9/2bbF+vK8Dh3EkxQ3bfL8+RGsO37i+NIff2z5Xsv/+7//oynbdn/+853vtWjx49Ifjx8/bh2nwt2mTZtoyu3bt9d/3Lp161133fXuu+8GJACfPXu2xXst/3LHbZtmj1czo9X8+Ih3xcOT188ap2Y6bQE2UF7VJW0/f0B75vOlPjtE9I1et2T8sPcavXLXHXdplcq7/7v9rvcavrJ4/LBfotdam52lKWjT3C73cYkWZMOscTTldu80oSWiHzd/O+GuO25v/t57CMDAIACHNARgtwR1AMYh30zH6tmk+i89Fxk5rGHDBqy/XdWqV01JTpI35SM5sV6579eJ4wcuy2P5FovJuTWDJkWL73LnLs8AYXGoUvn3ILvPfHbStEuDSmZtEhc/h0f6Jaxy2NYSnOQ7F+jkhm3zDu4BPi+iHcW58xSDKddpjZki752zoj2VEYAVhXZck7+e2qF9u8TNq1RLgpKf/sOs6cMHfpG1fa2aEUPRUeTe/EQlN0akzXz6MV0pzBCXH1NGzU0WWTc/SSnJVSi4FmYq6btEXs3PUHLj1eIMSsg5O9eOGDas+Zsv9+744ozRn+2c33rNd202zf943+peMes+Xb+41cKZ7Ud90ejt12t0/bTt16NHFOzfoR7NEc+C1rM3fYu4FTlR3N+blag96SpepGua1Zw48SzonANK8k76Ou1O4EQlZa+al1Saun/mhDHvvfv27p++U49knsxKnD91Yvv27aJ27FDKtIZfIpp2jbcll4vMS7UkB2AqSXUl4nFFX4NUXlY2eNCg66+7bvLkyXqfCRMmXH311SNGjCiX/hjhcVdYWPhx64/pwHTjjTc8++yzLd977/PPug4ePDgyMnLI4MGfd+1Kff777LM0lMp89OGHhQUF1jEr0CmKMnLECFqK8ePH632mfD3l+uuuHzRwUBlVo/tdBQMw1eTgwUOuu+aaif26qpZ4NXf/uN6dr77qqq8+j6AkqWgXMJuVrDF+TNyuZu0t3Lb84zdeowq84foqdf55a4tX7/ns/b8NjHhs2Kd/HxDxWJf3/9b81XuoPw0VlfxGw4Kty2ks+eVJfLKu6PM8olvE1VdfNabXp+KK6/z4yV98Tss4eMhgzypZ3pKhkkEADmkIwG4J6gCMQ76ZjtWzGfJ7jObP/97lM2bl16jozi17heVVR05viDgR990vKWt0J6OGmHxedNmCf7JXBC9ZsojNmGcmTRqvT5BCtfMdhPHVOhaHKpOSuVvZwgr9F7NiYY7VD9tagtPgwQPkeaYwbLwEmNgJwBTcKPTqoU482VhLvLRruqDdG0yfRZ+L7/7RGjzPlJauXbOm66edpo+JLM2KVw+mF8btWvLDvDULvz+btlel5GlJEtGXlGhtvMcPiQycGaMcylYKMpSceKEgVbQJH8wSwfhQjtaEm6wezEzdtOyLrp92bvfugsltDu0foGYNVdMj1IK+ak6EWthXPdJXPRShFg88HN06aWOrmeM/qPmf2rOmTj5Bs1GQqPx60PoKJfrGwjQldZeSEadfVi1afUVT834lLVo0OBcki7R8KFfcrpyyX83Ydy474cshg7p2aJMbtVb9xbJ1ybyObT7p269fSXGxWGpRCdobgPWOPlD90P90YCJUOeJ/7TVIVI1UbxcuGHVOrGO52e3YvoOORK+88srJkyfpR/0vp41ff/3UqVN6AY+7EydOtG7dmibeoEGDpUuXHjly2Drg8u7I4ZKlPy19+eWXqWTrjz+msawDPO1Ol5a+3vh1WootW7bQj//P3nnARXmkf5z0dinXcv+79ItJTNFLzjRNcuoltmgSE5MYExUVG6IiIkjvCqLYe68xSuy9xRhiQwEVUaQICCq2xK5D2f0/877r3uvDLrCwC7vsbz7fDy7zzvvuzOO777tfZt6ZK5cvf/zxx3Twn3coY74sT9UUYEo7lCC3fv+dSyk/6XOSts4e9/e//vnT5u9f2rdZb5yf2XJKj+76PWmbW4dP6OAtm/z1xzFvn9reWp/xhT7nS332l/rjyk96ndGB8mkrlaGSZMu/J22lfdnRKg/VmWpO9f/7X/68ZfZYatGlAz+1+eDd6gRZeyaDOgYE2KGBAFuEXQswJdzyK0wszpWBzWW1bdsW7dKgDNJjNvPz7wcWM1k1yY21Hc9m33YxNXImJ/Xy7tGkuGwXBpVhO1a/E5iaw5ofFxfLyhjRFiOYDtUdOoxnLSUKJ2/ixZweFiJ2ttgnTIAJ+ji7u/dSt5oQYFV9pf3ekNALKcDKfE5qvuz8LP3fpNC0Sa+/+vvvM6dP93TvsyAu6lLWQf3V80O9vYYPG3bzxFH9iTQ5A1Z+uu58gRTRwuOy+5f89uQRXc5B6caUI9cuSpGr8p7OkBNl5RzQHdyhP3Hw/MFd4yJD23/22azIViXZMfqCcfqsbrpMH/3xCF2m77XdXUuygvRnZuhPRetPjdSfH3v5+LiRUT06f+f664/z9acz9Hlp8vg5KdJ+M5MNQ6ALMuTMz8f2yVHQZ0/IAdJZibKj+PhBOSI6/5g+5zDtmPXzmuAAvw0/zNefzzt3PH1i3MiRI0Yk7tlTKqe5utUTTqKr/iFAHTGuJlWD1T8iyO5fKk9RKjX+jxCGkhamq9eu0r3jnnvuiYmJoV+vXbvWqFGjxx577NSpU2qBKqd5c+fdd999H3744enTpw1Z5tPpwtNU8r5775szZ44hq6qJ3u7Rxx7797//rS64MGJE7L333PPpp59cqer9vfoCTF8tPmvf/p677hzu1VeflXg1Zfu/X33psYf/kP/TigomgjaPnPUqZ//sYQEUtOZv/yV/S2vpukc+Lzn4WcmBz3SH2tNrfWp7ek058nXOV/lbW/33nT/fe+99s6L89cf3G+bEshyqc8H2lVT/f7/y0lVS+qx9MV5977nrrk8/+6zKX6K0ZzKoY0CAHRoIsEXYuwDjll9hYnGuDGWns9q7Z7e5K52bm6u2ZGFBblH8B8xUy3Jtszvrvy0LFaBibEctpfPrkSprd4mOjmLVsxRSfebzhLlucFaM6VAd4SU/E6v+JqU7z8DmysOixM4W+6Ts8wsq6upipp4BviV1pLgkt+Rv5HKq48lMpc9TFTz6qc4LTaan1//+22/zZs/6/OOWI8ND0vfvnjZx/LTp0zISfyHLlSOZz+XqzmTJGbByj8hhz1mHdBfy5Zjn7INyMqrsA8pszBm6U+myQPp+fWZyaVbSprlT+vfsPXfGiEsZo/S5UbrD/XU5Q/S/zfo91XvDnO+mRH6bumOs/vKPuhPddPkx+lOT9Kdjj+wI8BrkPiLY//Sezfq8VD2pLx38RLouK1l2LJP9FmTKgdZpyvLCv5/RnSP3TtYdTVS6qdNJlfUnDpReOLFp2fdDhnhnHUpK+WVLj66d+7m7JyYm3rx8yRAKOcnzLQyxuhU3+inn0Faeo5bRU14UFWn/U2QMq5SSkpPqvfDCQw89NHTo0MuXLg0YMMDFxWXFihWGzVVKdD18++23H3v0sZ9//tmQdSutW7euXbt2+/bvM/x+K+3YseOxRx996623cnNyDFlVSlRzqr9Hf4/Lly/7+wf84Q8P16tXLykpybDZ8lR9AaaUnCSD/IcH7h/q9t3viVv6f9eBKrls3HDd0Z1VE1ES6Zyty95u8Nqjf3DZNuM9feaXJLrFqu4e67B64rvtmv5t7+Jm+swOlGnIz/py26z3qPxbDV47vmVZpabgKgPVluq8fPxwqn+/bzv8vm+zX8/Of3jgAWpddYKsPZNBHQMC7NBAgC3C3gWYEm755ScW58rQpWsn7XmpwsZGGmGfqIv7ZzBNLcv19V20u5TPtY1ubHctl3cEaQuTurPqVQHjEGgtJrvBWRmmQ3UDOaPV7c0kznQYz4oBgkWJnS12S4uWzdnXGpVp06aYEGB17C4lcjm1n5MSZdIL+kmZqv2qpkfqq4qfkjKPZfj5+3/XqVPXTh2HDhnSp1eveRPHlB5P1Rcck48B56TILt88Zb6rjCT5UG7WQd3hPXJKqsxkqalyKqwDcpKq7EP609mXs1LHRIV3+farPfF99Sf89LkhumPB+hPD9OcmJy7r3vHLj7/o0HHLsnB94Qj9SW9dvq8+Y6g+07foeMC8yZ4ffdRm9fyZ+sJMPb0pGTV5Lx05Z78ua78u74gchn0yS3csRVbgJBkyCfA+XSZ58hEdOfOJg6dS94QG+H3TseOMqVP69HR7/fXXp0+ffu3KFUNP+E2lS7xY7Ri/9TCOGgcZsSKJ2ltOBdSZsUqt0AOspp9++unVV1+hm0iDBg1eefmVO+64w9W1a3WeCRo5ciQdzXOgJ1uG4PTp0x+1bEGbevXsxXoLqeQgz0G0KTY21pBledLpdK6urlT/l19+uUGDhnS0V16pv23bNsPmKiWrCDAlGeTXXpNBrvfcK/985o47XLp+1kYc+ll/ZCeTzArRH92pz9gzYkg/F5c7Bnz7XNHBz3SHP1dFV5/+xcntbT56V4527tnhmcv7PtEf/ULdRGWo5MDvnqO9Yga7yxm50i0eCE21LTq0g2oug/zPZ157gY7m8vIrr1QzyNozGdQxIMAODQTYIhxAgCnhll9OYnGuJPTBKNsRSjllp4plA4bL91WiKP6DCvt+tVxMnseOoKV4yTusfPWvyA0a1meXCRW69JMqaEuyAkyH6gZlF/7F4GdzsEBpTxU7p1GjhmXHfRCrVi5//Y3Xbu8BLpZDfOnCqNqvOgMWuRxJHQkeXXXVRZKUXk2ZI+1O7eQs1hUXX/r9903r1s2ZPmPCuPFubj1GhfqfTtymJ/uV000dlU/kEuTDWSnKZMuHdBnJskv2xFH5a3qSPvug/nSm/mS6vuDo9tUrXLu6zhzR5Wpyf/0JH/0RT32Gp/7ipAsHonzdP3n7nfeiI8NWLJ2375fZ17OG6LM99MdC9UeH6HN892wY2q3r50F+vuk7t5fkHNafO6E/n68/laHLOyg7e4mCI7LbmYw3N01quZyCK1eZGStZLvmbeyQ9YUu/vn2io6KW/vDD6lWr9yYmXiX71Sl/CKAmq/GRY5tv/VGAoBzaRD+LlbDQC7mJAqUMGi+xwjPAxpSdnTV06NA///lP999/P91NnvjHE7m5uYZtFqYtW7c+8vAjL774YnJysiFLSXR7jYqKuvOuO+9R0ogRI4T6p5BbKSUlhfZ6+OGHN2/aQvc1Q64lKS8v76mnnqT6UyuoLb6+vllZmYZtVU3WEmBKWVlZvhTkvz5uCPLjf83eEm/RY8By5HP6bn32vs0zxz7yhz++8PQD+5YYunllH+9RqbiR/evfeafL3Xfdfc/dLjGDXrm+/1OyYv3h9rJARod9S5u/8MwDDz/06MYZY3TH9ugz9tIBK98LTbXN2fLjk3973BDkv/zVx9c3M7O6QdaeyaCOAQF2aCDAFuHCfrcdhmtnVRNu+eYSi3PlodORya1KYKCftox2E5lthUsfnT/Gv2fTXld2xlxJiCB+O7SMbb2y3ZcdgXEuc7e2vI+Pl7F61aHss5EEBUT7KWVbmQ7VAQobBJWd/LmwWTQrBlRYoIzniUPQoGH9+PglrAlEwi873nv/bU0PMMmb8tzvtav66+rqPqWyz/PmTYlqvGoBKXsKan6JMmSaUlFRaVHRyZMnR8bGduvaZWv8XH1+qj7ngFwH+OxxOc45+6AuJ1XplT0ou38Ls5X+2CT9saSSvCP6gvQrSTvmjxnxxRdfj4kJOH/QT1/grj8VIYdA5/gXHAyPCujcq4/77u3bdq9fGejj4zlo0NolI84kx1w6MlafHaI/M11/KnTL0h5BgUOiIyI3L5pzbPeOq5mHpeueSFOe9T0k3zf3kO4kiTcJ8EHdqSzd+VNSgDOS9fnpIvfopJHRbt27b9u44bez53TUNErUamqm6vzGEc70moJDoaAX9JNeq6iJXtBe9JPKC+sMgTamkpKSwsLCX3f92rlL57vvvnv4sGGGDZVOV69eXb58+ZNPPUk3u5kzZxpylXTlypW4uDgXF5d333130qSJb775pvyjcK9eGceO3bj5v6UKFixY8NBDDz3xxBPR0dFH09MvWbheYPTw4XfffVfnzp0TdiZQW6q2DD5LVhRgSlQlGeRfKchd7r7rrijP3vpjeyrpn3K934w9V5O2LR8f/fTf/0F+Oy30dbJf+Yjv0S9Ibi/ubjtqyKsU2HcavjYhxKfRqy/LIH/59NHVH91Ikl3BsnDeV3OH/fuhB+584m9/ix7sfmTNoouJm/RHKjUSW+r3sT3DPHtTzSnI1IozZ85YJcjaMxnUMSDADg0E2CIcRoAp4ZZvMrE4W0Tbtq3Y9U7FuOgus0TSV2anjLKDn8l+xbIPtWXoV6MGk9xWOBUWabPxaMSiRQuM9a8m5rrBjVcNtonpUB2g7Pjnwh8SWBlghMXKeCI5ECbH/ycnJX34UbNbAnyrd1f2cypr2NIL+pVeS/1TOzZv/flPnRBLvihViikmfCsdSEnx9PRcOmf69cxD+hOH5XRTqnOeytSdIuklEz4kO10Ls+REzXnkoqm7N67a9/O26PDQzz9rO7Bvx/SdsbrssGtHBt7IGpC2zWvl99F9enbq9E2nuPDg63Jkdfq+dcvHxcZMGT/We5D7xFGDNy0fs3nFmLw9w35dOXj6pMjggCGdv+303TedwgL8f/pxkf6UsiRSYY5cDOnEEflAspybOlNO0EVCnr5Pl3VAX3B03aJZPbp3m79gwbWrVw0LQakeKwc2q73fJeoiRzJRQKjJsttciRVFiQqrqH8jkCOi5R9Stf8L6q5WSUePHn3sj398+eX6v/32myGronTy5MmVq1a59eh+//33Pfroo3TjU/Nv3LhBm3b8suPrr7+m29+LL76wYcNGyt+9a/f7H3xwxx13PPboo/08+q1ZszY1NTU3N+fkyVM+Pj733nMvFX70kUe/+uqr9evWq4eqMFFtX3n55UcffeTIkSOGLGsk6wqwMdG9/rE//an+c0+f27m+MqOgST7zt69cMSGmxxft7r/v3kf/cNdI79f0aZ8TV/Z+UrC19fbZ73/d6v8obi88/cz66aP1+Qd/XTT1/X+/fscddz72B5d+3zy9ZuK7B5f/N2dTyxNbWw3pVo/8WQb54T983fq/66aOLK3EgkxUT6rty/98+tHH/mjdIGvPZFDHgAA7NBBgi3AkATYm3PK1icXZUho3ecvk2Mj4+CUNGtZnX5cr7K0t2/1rbsh0UfwHN1e3r7A/mbixtqP2gPShYk2oDua6wdUpglgm06E6wOl1ibyN7eJYGQPt4gp7zSyMXFY4Zq3cS0WzY+GOg4WdJvG96hba9hLR0VGVZ9XKFXTq2gNl/+hDZGZkfPnVF1IbVJcjSOFI7Uhr1R5Ocjlpere6OtWkllF/Xr8mRwXT61vp8uXLdKWNHT4sccPKUvn0rzLqOEd51jfvqHTOY/sNj/6eztAXHLmeeWBcTJRrd7eP230aGuw7PrrXmlnfbZnfZVR4r+iwHt07f9qjh1uQr8+SqWN/27dFGVyaqj+bd/l42poF04f7D+3bs1dvt57fftMxJNDXved3A/p817HDJx991KKbq+tHzZqOigjWnzqqP3lUmfUqVXo4kZUkFwfOTpY9w7kH9Wezf8tImTwmtm/v3gnblcXnpdMqf6akdpUq45xV0aUIUI7MJPMvUabLVgJFqNFQd5ThKpJlrPcMcNnUp28fulWNrPSzOVFRw6ROKenVV18dOXLkuHHjhg0b1s/d/S3lL7/33Xvfx20/3r17t2EHvf7MmTOhYWGvv/76/fcra9S6uDz33HNvvfXW++9/8IeH/qDmUGrWtJlhh4oSvemdd9zRu08vw+9WSjYSYEp9+va9w8VlxGB3ffa+kjK2qUV2vWbsiRjQyxAUF5dXnn8wdvDLY4e+FjXgpb5fP/3mazJi995zf5sPmpD36jMTS5Xe2lM7Vof06/Gv+i/ef69cefGOO1z++eTdb7360HtvPPyQzDCkpm+9UZKWUKEDUz1jh/SjOvfu3cfQBisl7ZkM6hgQYIcGAmwRDinAlHDLNyb6bq09yawIifHSJYu1OeU/AFy2+7eSCyaVD6my9piZGce0XqFCH3vtV3yLMNkHTrBLCcF0yOF5M4w1sDAj57YCTSLPxK4qK8lmyc0vbBl72xHqFoZmnjz5vybXLQb07yc7dcnxVMVVNY9SiTLQ98Z1aXrkdTJTyaeSqh5TosLqC9pK+VICSw4mJfXp0ydsqPeplF36307K5XbVNXhzDkn7JR8+flBOzpyfoc86cDM9edfa5fFzpgcMGRwZ6BsRGDDA3SM0MGiI15Bebr3GRoZuWTKv8OBOffYe2Z98jI6TpstP1V84of/9ZHFa4vkD+7L2JuzcuHrZ3Jkzx4+ZOiZ2xqQJ4cGBP86cumbutPy9W/W5qbILOp/2OiK7gnNTlKWAk+WU1Hnkw6nk4Xs2rw3w99u4Zs1NdXSP4q7/iwO9MGitMv01ZRYrfxEoVtdMpmjclM/9qsUM+yqDw609BFqbDh069MgjD7/88ssn8iq1Uv3OnTvpP6VZs2YvvPjCI488YriTubg89NBDL7/y8pcdvpw5c+aVq3LdQZby8/Pnzp0zYOCA9u3bv//++2/I9HqTJk1atmz59Vdf93Pvt3r1akPRctOJ/PxXXnmF3vrQoYOGLCsl2wmwDPKjj7783DM5W34kv2W2qYUEuPTozl8WTOn19ackq/WeefKRP9AXBlJRSnc+9ODDLz//zy9aNJ8R4XcxcbM+Y69xR/3RXfqsfblbl82KCvD49stPm/+nyRuvv/Hyy6/Xf6nxvxq0aPLWl62a9+3YfsXEGF1Fo6CphlTPV55/hupMNTe0wUqJbrjaiwaow0CAHQsIsEU4qgDjlm9MNr0b5eXd1ll0c3V7Zqda2MO6BBv8XDVKFr5iOGDNiwclza9Mhxydwk6TtK0jjOOfC5tF02u2tVIELzUev+5haGPdFWDi+rVrBtmTdner11edyriIlE+1uyIpwPSC3I9+qoUJKkZQJnkg2eCNm5fPng0MDOrY8ZtNK3+8nLlfn75Hl5ki1zo6niKd8/JZuURw2i5lEuaD+vx0/blcktvTST8X7t6Y88u65NWLj/y0/veCvPxjqef3btFn7defPKrPPSAVOvuALmOvLnW7LjNJLt6bnqzPPKA/eUx/+til9P1nDu65lJ5081Q2Wbc+/4j+/Ak5/vlklhztfDJDkrFHTkNNSnw8TZedSpXRn8n6LW1vdEhgixYf7f71V9koNVEQVNdVX1M0jJGhpI5wLiqWyHzFhClTFWBKJWpXsA17gEtLSwMDA+h2NmiQlyGrEomubTt37Vy+fNmcOXNmzJgxd95cupelpqYaNpebdKWlhYWFWVlZmZkZeXl5F367YNhQuTR48GCqbUCAf2np/wbMWyXZToCVIAfJIHf9Wpe+uzStgqdw5bzNWYn521f+smBy/JgoctqpYb6zhwWsnBiTsmJuyeFf9DlJJkdTSw0+nqTPTREHdxT8vPLY+h+Orvs+e1P8mV/Xyr7lEykVLolUmvar7thuL1c5qC0gIKA604WaTBBg5wEC7FhAgC3CUQUYt3xjqsm7UfGSd5idGilZ/AYrbJXuXxXDtNK1LR5MhxydQq/5rIGFfovlpnZxhRk5bFMlMRyhjmJoZt0V4Hlz5xim9yOPNfTiKmpHP42Jvk/TRYxypPgpZeSDwcrDwPSaCt+4YZBDelFaeuxYelho6FBPj+SNP+oLjuqO7dMVpMnO24JMue5uzgGZcyxJOu2JY7qcNH12iv74fn02OUAyybC+4JicxvnscX1mkj4rRa5mlHdEdyxZThydpwyiTt8vZ9U6kS4PkrFf7iIHVKfpC7P0Bel6MtvMfYYBz2dz5XO/OVQ4TRp4VpI8Wv5ROQr6WJL+95O71q3o0OHLiZMm3VAWaTckqa9Kc9SGU6IQGVc/MgZBCZsSLjL/G8oj08ozwGp8SkpsdzeklJ9/4rUGr/3xscc2bNxgyLLXtGnjxj/+8Y+vvfYa3UYNWdZLthNgSvn5+Q0aNvzjw39YN3WUPjep/IHQhPTV9N36rH3SdfNSFJKl3Gbu1VXiIV7dkV/l7nLy5z3yZ/quyuxFtaIPzvppcX985A+vNWhgiyBDgJ0HCLBjAQG2CEcVYEq45avJpnejU7d/1y9HgNmTukT53cUWceaE8phurYiH5k2ZDjk8sauMTVMpdJ1K+RaMeWYkpZ95M+y2t6hbGJpZRwV4dNwoqQ2keSR49FOd61j2aiqjfNWOTbI7UjvaSpn0Wrof2Z3ywDApIPkeqSNB+apCl0pz3rF9e4f2nw5w73109w792Rz5CG56siKuKfJJ4Px0acKns+XcVCTGZMJHdkmhPZmlO5MnO4qPJerSE3WnjstiZK1H9upyjuouFEiJzdgje3ELj0uzpRe5B3Sns3QkGLSJDDnroPKI7z452vlUpi7/mHz2WBrvbjngmY6WfYiOLNU651Di5lV9err5+QecOZEvL6zUohJlJLNsmvKrarPUKHWcM+XIBqp/IyiSZWQxtYdc+avBTaUnnH6l6NnyGWA1LY2Pd3FxeefddzMzswxZ9peysrMaN2lM9VyydIkhy6rJpgJMKV4J8rv/ejVzc3yFPbG1AtUqc8uPTf4l55deunSpod5WTRBg5wEC7FhAgC3CgQWYEm75lGx3N8rMzNi/f582R6xow9TUyJXtvtqSRMnCV1iZKmM4Zs2KR9lng5kOOTqF87fzBnYYL/Or2v1rdgKtugJrL330Kk+Xrp3oBlDrBAb6sVao+PoOMWgDCRtBpicFWPE6UlnVbMnoKF/dSj+lIiqzZKnFVEUk2aNM0mP6STlKT+mFs2e9vLy+7dx52aIFZ48l60+m647uUebEIg3eo6NfyYrl2rzpUoBPZssR0RmJcmKqsyTAqXKYdPZBXV6GnLo5a78cRH0mR3c2Xw5+zkrRnT4uJ3aWBQ7LQ50rkI8WHyVJPiRt+ehOXcY++dDvyUxpv1kH5NjprH1SgI8l0zH1BRn63INJqxZHhQT2cXfftHGjbJpsCImuZkpn2Rwl39i/LS33pqHhpMpqlNSOYPpBZeRAaOVvBCTDNpsF2piKi4oHeXnSjaZPn95XTT3OU+vp2tWrfd37Ug09Bw4sMv7JwKrJ1gJM1R40aJAM8lefXk7aqj9W3sPANQ/V53LStr5ff0Y1HDjQ00ZBpqsZu3qAugoE2LGAAFuEYwswbvmUWJyrgMmVUUj/WrRsvmrlCm3m9fVdmJoaubh/hrbk2ewkVqDKFC95R3tkk5Ng0edc+y3fIkxOgk2ZjZu8xTKZDjk6p7ck8wY2iaR8Oc/z7fmEnOQ5cllhr5lSkl/yK1umcPdh7cHrJKzJ7HNk/7i5uZpc98u1W+f/aQN5rzRYdVSzIrqU6Kec/kq132JlzLPiyeR+dFkzvpYvSA51BlWmpGSWXL9+5OjRmTNmuPfuvXLBbN2JQ/oTB2TfLwlq1l45MvnCaWUqrKPKEsHkwMfkdFkktzmHZTF6nXtYCjOhjp3OSJadt9kHlAWNSJuV4dPH9kjRzVUGSB9XlhrOoSMclCVJfU9lyv5k6cb7pUjTcTJInrP1pzNPpezyH9S/U6dOK1asKBJGp1UcXn2tNs3QwFsvZMMVyVejRBFTy1NS3VjNlH9HkN3I2v8IQzFrp5MnT7Zp3fquu+4cMWKEIcue0sgRsXfddVfLlq0KCgoMWdZOthZgShTk1m3a3HXnHdFe7qVpv+rTdzELrS2oJlSfWO9+VLeWrVoV5CsDGWyQtGcyAMB+gABbhGMLMCXc8lmcLaJBw/qLFi3QnqMqqv5RAfZxurrVk9mpESbAZ05ksAJVRqxooz3ytm1btE2oDtT8+Pgl2oOrkPY3atSQCrB8pkOODikrb6AqwA2CjJ3D0nv9Fqv5/+PNsNO5+ca9DNTp6a9UWJO155L94+PjxepPZGZkfPZZ29u0gbyOhE3tyCWk/imzQKudmSR7ZL+0VR0IrXoglaGkzhStOqHxCJq0ccMG165du3bu/NPKJfqCQ/J54LzDch7m3EO6/CzD4GeS1eOHdAWHpa+S7h4/LH89uluXlSxzssmZU3VHE+UY6ez9cncyWzmfFh3noBwpnZcqB0uTA2cmy/7h01myPzlXWXWJIJ0mMc5U5t+iMoU5+tMZZ5IT5kweHxgYOHb06BtXrigtUlSWmqC2xRAERXrVMeEUEbXhVIZ+UsPV8jI+ShBu3tDrlD8E0K+0ScnX/l8YImKDtHfPnvr167u4uMycMcOQZR9p1sxZVKuXXnpp9+49hiwbpBoQYEp79u6tX/9las70cF/STv3R2ndgOXVW+u4ZkX6GIO+xYZC1ZzIAwH6AAFuEwwswJSe/5bM4Vx5yPJJJ7QmqQvpHZqiWib59sNOlxEnMTo1c2RmjLUmU88CwRZB1aw9LympsQnUw13y6ghibzzYxHXJ0CpfvYg0sbBbNypjEZBdx3X76V4U12Xgu2T9xcbGs8kRKctJHLZrVe+HZ27Thfw/33urqJNclo6MX6q9C6dKUUqfpICXUTErqC0N3MRmjzKMClNauW+fu7h4XHXFi54aijAP6M7l60leSUvJe0lf1oV8S3cJs2QlckCU7e8mKSVYpkww584B04AySW2UiaGnOxwy6m7FfmvDJDCnMJzPl3M7kvbT7iXQ5uPoEqW+KMsRamQGrIIPy9efzfj+YMHNs7DfffDM8MrJQ7TGjCt9Q+sDV1lEQbpDJK0pMzTEm+lUNlOwwV3p6CVV9ZWSUWFEZiaG3XPvfYTiIbdLatWv/9vjf7r7r7rlz5xqyajvNn7fgnrvvefzxv65ZU6lFE6qcakaAKckg/9//3X2ny5xhAXKqqvTdzEhrErUCc4cH3XPnHY//7W+VXJmiykl7JgMA7AcIsEXUBQGm5My3fBbnStK02Xt79/BVi4hp06Zoi7m799JuPZOTyuzUyLWNbtqSxG+HlrEyWq5tdr+SEFH+wsIqdBztYemrvLaGVcNc89nB2VamQ45OWY9VnwEun8KWsWW7f8mlWbE6CWu19lSxZ+hDzWpOqKM8XnzpOS7AqrkVkcSSuSkjnAk5rbEympfkUCqforhktgbFVXYx+CGZsDIzlirABhs0TAR18+bNvYmJU6ZOGRMZvnberOJzJ+Q8zFlKb23OQd3ZE7ozuVJ0fzupu3hadypXDmM+slu67oUCOWnW0UTdqQzpvVSGhJn2JTGWnb2Juuwk+Vxx2m7loWKy5aNyKDUVKzimO3VMSm/+EWnL53Ll+OfsVH1++tnUvfOnjP3i8/ZTp049cUJdTu+WxqtzWVG7KMnmXzfExNjYIiEf8aVQ0AtSZSpMO1K+QfsVHyaUR6Bl/u0Xaplpy7Tsx2V/+ctf7r77HmpaCdWn9lJpaem0adPuuedeqk98fLwh12apxgSY0rJly/7y17/ec4fLlJAhJYd/LX9xYNuhz9hdmvbrtDCfe++6s2aCrD2TAQD2AwTYIuqIAFNy2ls+i3NlaNGyeWamMq/y7YSHh7CSDRrWZw8NmpsHq3R+PcNiRRp+P7CY9QOXLHzl6lbPs9n/m1/qys4YbQEGlWeH/fzzT1glLYWan3Y4VXtMFR8fL1aSFWA65OgU+i1mDaxwESOyX5NTZKnTR9d5WKvZ2WKftG3bilWbMI7yMCHAlEjYrl2XSIVTe3cV2SMPlEsBK/3AqvJJ31MH+iqypxqjYZO6di7trmy9ek0eRDn49i1bIiIi+vXts2Tq2BMJ6/WF6fqCNNmFm3VI+qpcm1dZ1uhklhzSrLox/czcL+e1ks/0JsvHg6l8AZXJlJn5yvzPR/fKh4pzjygDntPkphPHlImmD8l9yZyVA+qzD+lPZRblpS+aObV79x7jx4377fx5WTG1XdRAQqrsrYHQqvBTIhOm12q+uCmVnrhxQ/b6UgHKKVHDovT6UmE5SlwRZjLnGnkGWJtWrFj+5BNPuLi4hIVHXLp0yZBbs+ny5UuRkZFUhyeeeGL5smWGXFummhRgSsuXL3/iySdlkPv3vLRvsz5rH7NTW0PveHn/lsgBPWWQn3ySnNxQM1sm7ZkMALAfIMAWUXcEmJJz3vJZnCtD2QdfyXLNfVTYPFjl+GrZUdAqF9LWXdw/40pCxG+HlhkWNLodkmd2KCOsYzklOYlVrwqYbL6bmysrRrBiTIccHbJW1sAKJrLqMN60/f6QwEvWUVjD2dlin7CnGAi6Rxq3mhZgsjjV7kj26DUpnOzqvLXWkURJ0gOV/mEyQKl/SucnlVG1kH7K3lGl+5cwCKGyupJef+bUyaDAwHZtWs8aH3f5TL7+fIH++BG5PFJBluynlXM1H9SdOa47n687XyBXMzqyW1eYpfv9jDK3c7LU4HN5unzS5mTpumfz5AjnnAOym/fiWTlHdN4ROU30hdMyk2z5RKru1DH9qSz9yWP6zKRjOzatWxbfv1+/ieMnGEY+G9tI7mrs0ZV1VsY506/GHIMbK/KvDn5WtxIyJtR8pQwdkHLUMFKxmu0BVtOWLZsbNGxIN6PO33U+cuSIIbem0tGj6V27dKV3f7XBa1s2bzHk2jjVsABT2rJliyHIn7Q6un6xPieptBKr9VYfOf9WTlL6+sVdP21F7/5agwabN2821MnGSXsmAwDsBwiwRdQpAabkhLd8FufKwDp1MzMzyjk16SOkLXwmJ9Wcr1K+tmu3khQW5JYjwOeP3TZF84QJY1n1LKVBw/raAxLUfHO9yqwk0yFHp7BZNGsgUbh8l4kngTuMN7c4cOGOg2de8uPl6yis7exssU/o3NbWmY3yMC3AJG9S9pReTUJ24SpmSwZL+fSrMZEEUgGpu1RM6SsmRaRfb5D93poAWU1SCEkLb5mkXn/8+PEfFi8OCg4JDg7+efWP+rwj+uOpejk3Va702ALlud8LJ+USR5n7lRmbj8suXJJkcuCTGbrfT8vuYrmQ7345M1ZmkvTh/HTd74VyMaRj++RkV8cPyfJU5uRRfZ4c9py8adWY8MB+fXu79x+waOHCSxd+M9RN7bMl1F8NEqu8liOf1Worzad8ahf9Klt0KxTyhfJ3AXohVz9S1kNS9Vg9bA0+A6xNBw8e/PTTT+mW9Pq/Xv/+++8NubZP9D/7+utv0Pt+8sknBw4cMOTaPtW8AFP6X5Dr11scFy7VNGNvyeEEpqzWgo5Mx9cd+fWH0RFv1K9H79uuZoOsPZMBAPYDBNgi6poAU3K2Wz6Lc2XQdoGmJCe1bduKFdDSqFFDY2GVcjqBi5e8Y6kDl/MY8PX1XVhhq3yEtOseqas9sQJGjMVUmA7VAUxOZ0XInl4y3nWJZWeKvo3UTD5BdJ2GNZ+dLXYL3QXpnCfKDnMwIcCkqbIXlJSP5FborysDoSmR76lPAssuUOWBWFXzpD0qXaZqGXVfVZgpn45gTPKYSjE6spJKi4vXrV3b1dW1Q/vPli2YcyX/+JWcY7pTGfpTR/UnUuUI55xUqbLHD8iBzcf2ShMm9SUxPpGuyzggdffkMd2hBNk/nE3F9is5yqxX2UlyxwJlmd+TWfrTmReSflo2fbyba5ehQ/1mTJ++fcuWYlV3pdbeGqusQu26rkz6JbcWy8eeqYBstfIXAfpZqrRRdu0q01xREOhXiomx+SqUKIeScnBt2GVmTaUzZ84EBQW53HHHww8/7OrqeujQIcMG26TUw4e7d+v+yMMP060wMCCgsLDQsKFGUq0IMCUlyMF33HX3ww8+4Nq+zcGVC/QZe/RH5bpEJYe5wVYNOo5U66O76MipqxZ0++LjRx56wOXOuwJqPMjaMxkAYD9AgC2iDgowJae65bM4VwZy2vDwEDo7o6Oj1OWOyoctFFxYkFuy+A0mq0Zo08Xkedry5jh/bIe5J4qJ0vn1zuTc9qQufYNnFasaTZu9p14m4uOXlN987bsTTIfqAm+GmRzVXCly88+0i+MHrNOwCLCzxRExIcDkeEVCPsFLL24qPcCkf+R4pIukfNLxlHmSxa2Bwao0qslggLfLpPIErMxXdZG2Kj2iMlMIcfXqsaNHZ8+ePWfuvIEDB0wZF3c5++DFI4lFJ9L1hcf1J47ocw/q5QPAScqMVkrPcHayHPAsHwDOkKsHn8ySOScOycWQCo5JThzVH96pP5Gmv1hYkpV6Yl/CrpVL/Ab1b92yZQ83tz2//nrV8IAMVUAZua32aRvqpozcVsctKzWUqDnG9srC5P/KmHDZKGqjEi7ZLuVvAfRCvla2UgSUfm9t2OURajAVFxdv2rT5nXfeoTvUE0884e09JPt4jmGb9VJOTo6Pj++TyjOxb7/99sYNG+l9DdtqKtWWAFNSgrzpnXcbyyA//pch3Ttlb1oqlTV9t2rCTGgrj8F75TK/Ccc3x/u6fUvHl0F+592NG2shyNozGQBgP0CALaJuCjAl57nlszjbArJENmr69wOLma8yyGzPHzWxyJDKb4eWXV/fhe3CuJIQwfYy+ZiuTWEVYDpUNyg7FValSM2szJTRdQwWBHa2OCImBFgandLBSwpneLhXWeDnxq2VkKQQKk5Lv5IlqoasaqEqhDJf+an+SpdEsmXanXRaHpnkUHmAlhKVIQuVOlmctHevz5AhHb7sMC4mamJkSGbChgspP5Vmp+jzyYHT9Dlp+oJj+tPp9FqXsV9/bL8c0lxwhCRZV5itz0jUZx2QxpuZoj+aJAtnpdzMPlSYsnvaiIgO7T527dLlyw5fzpszJysjnd5LqWqpsmSR+pTyrWrTC8qhArJdt4ZDy0xl+it6oSbaV4qx0i0sW6TIMOXQAeW+ShtllJSx0HRY2czbLtTqYWo4nT9/fuyYMf/4xz/uueeex//6uEe/fnv3Jl65csWwuaqJjpCYuK9//wF/+9vj99xz79///ve4uLhz584ZNtdsqkUBVhMFeczYsVQDGeQ/Ptav0xd7fph+ed8W8lh9xl5jt7DWb01i7OxVR1PTEfb+MHPAdx3+70+P3XvPPX9/4slaDLL2TAYA2A8QYIuoswKsJme45bM424iy64iSoDJlLQtp8I21Hankxf0zLqStu7x79OUdQZVZH7js4GdrLf9rEawOTIfqDIWTN7GWlo9c9MgJVv0tC4sDO1scEVNDoBV9VZNQVrWlRJk3yQyVfFUDyQal9d0yW/JGNbOUjFEpoCZVEckDpQoqnaWyZ5Xyb70LZUqFLi4tKTl79uyGjRtDgoPHxMUFDh3iM6Dvooljdq74IX3/7uJz+SXpe/U5KcVqz/Dxw/qsZP3ZbH1+qj57v/74QX1Giv5E6vXDe08n7vj9ROb2FT/ERYQM9fIcOmRIj+7d16xZk5KUVERvZEiK8aoqTjYrq638pIpJ4VebeasTW+3INcRB1XtF6WVAlOecr11Xdi81rJZEu8gj3+rllkewCwFWU15eXlho2D+fe+7BBx648647GzduPGbMmJSUlNOnT1+/ft1QqKJEJal8yoGDY8eOe69JkzvvuuuBBx549tlngoOD6fiGQrWRal2A1URBCA0Le+755x988MG77nB57/XXRg8dsP/H2ad+WX15/xbdkV+Vk3a/PitRn7lXQm6svqAcys/eT2Wo5Kkdq1OWzxnn7/n+G6/RcWSQn3suOCSkdoOsPZMBAPYDBNgi6rgAq6lu3/JZnG1Eg4b1yy4dVGEvbtUoiv+g7IpK5T+obCNYHZgO1SUKPeacTkpn7TXBukQn7Pg1wqLBzhZHxIQAq+amQoorxVVROFI+cjlDuuV1JIFU/votT5buR5ZrVEoFOoKhW1XpHSWLlkdWepWpmDrWWnPw/BMnUpNT5s+e3a9fv88+/axN61bjxoz5ae3yGaNjFk0avX/Lqux9CUkrl2xbOjfpp3Up2zdl79yybeG0jQtmblu6YNHU8WEBfiNHxPTu1dvTc+C0KZO3rF9/JPVw0bWr6sHlu6h1U1VWzaFELaXq0UtVd+kV5VC16bWKjAM1R1kMydAcxeepmHoc+kmtUFtHL9RMig/dYqilxUXasMtNtZrOnDkzfvy45s2bPfHEE3fccYeLi8sbb/x7QP/+U6ZM2bx58/79+9PS0rKysnJzc+nulpuTS68ph/Jp65SpU6jkm43epL0o0RGaNWs2bty4MzX77I/JZCcCrCYZ5AkTmv/3v088+aQa5EavvNT/2w5TQoZsmjk2cenMQ6sWHFv/Q/bm+ONbfqSf9Dp11QLKp61TQodQybdeq28I8pNPNmvenIJcww9YmUzaMxkAYD9AgC3CKQRYTXX1ls/ibDvc3Fy1ZzNBmnpzdXumr9WE7LfsNFrVn/y5arBqMB2qexR2mlQYuUx2CK9LPJ2aSU1WZ8MqnL+90Gu+idmhnQztyUCws8URMTMJVon+2jXZt3lTXeT21vBgSvK1orgyRz5qInOk7ylbKVMVP/opRVHxQCqjijQl8kO101UtRi9KlDKkiHQcNamHKio6mZe3YP58r8HeAQEB3Xr0+PDDjz799LOYqPAhgwcH+gzx8/Hp2qVLl66unb/97tN27f7bvHnjxo2//vrrth+3HeI9ZP68eYcOHrh++bJyRKXalOhdCKq/rLZSc2qU2rNtfHdKtJUUl7RctlQpRnVW96WSapPVpLq0GhlKqvkTQhkiTntdvaon9yYHvnldG3ZDeTtIhw4dmjBhwift2j362KPq3Y3SXXfd/be//e2FF15o2KDhG6+/0aBBwxfqvUA5d911l6GEi8sjjzzy8cdt6JZq6yk2LEp2JcDGpAR54ieffPLYH/9oCJ+Lyz133/1/f/nzi88+/a+X6r3xyov0k15TDuUbSlCQH320zccfjxs3/uDBg4Zj2UHSnskAAPsBAmwRTiTAxlTHbvkszjal7JqixNWtnkxiq8z19V3KLhRMnyJWjRqD1YTpEHA22PnAzhZHxIQAUyLBk/2WRQbRVUWRfqpKTDZ77boc+UyZxm5SSiSuUm7JCdW5o24tHUxHMD5AK4+jlFFfq/3G6ms6iJxbyzCU+sypU8n79+fk5CxdurRFy5Yft2kdN3r01ClTJscMmzJi2J5ff9mxfduUsSMnDAuLDvQfHh7Wr8s3vgPde/Xu3b9//87ffDN79uxTdGm6euXC+XMl6rvQe1JVi27Kpqk59I704n9Du28NeKYKU0m1ztLeFeOV6q482XudGq7Yu7oLFZYoIVJz1ES7XFeaQ4eiArU3C3T56eDBQytWrBg0aNDjj//VcJ9zcfnTn/703HPPvfLKK6+99qrKKy+/Qjl/+vOfDCVcXP785z97enouW778gD25md0KsAyyl9fj//d3Q/goyI8+8uwTf6//z2derfecCr2mHMo3lHBx+ctfH/f0HET7QoABABUCAbYIZxTgOnbLZ3G2NdollIxcSpxUsvAVZrOWUnbWKyIlOalRo4asDjUGqwzTIeBssPOBnS2OiGkBJmEjsyWFU3WOXlAOeeOVq1ICSQWl35L3KmZI7iflUun/VC1RrpakFFO3ShSLliUVC1WEUHkXZVyxmmgr7Xv9ekFu7vq1ayMiIvr26T1zxvSFc2bPjIveOn9q7oHE9F+3/Hbgl+tH91w9kX791PGi7APFR/YU56TmHdybu3Nj5q6ffl2/auWc6SODh04ePWL29Gkb1q+PjIj4fvHi7Oxs+Rb0pvTuV6kVt6Z0pkoaKqN09qq1kvnUtFs9vfQrJXJ7Ul9ql9pwmRRhJmRjtePDlaRGQ7bakK8Nu5pTi+nc2XPz58/v1s31pZcMg2z//cYb3bp1i4yMnD1n9rp1a3fv3k3alpZ2WOXQwUOUQ/lz5syhMt27d2/UqJG644svvujazXXu3LkYAs3SuXPnFixc2K179/r1X1Zj9Xr9el0/axPev+esSP/Vk2MTFk5JXjbn4Mr5h1bOp5/0mnIof1aUP5Vxbd/m3y+/qO740ksv0f/O/AULamuqEW3SnskAAPsBAmwRTiTAdfWWz+Jsaxo0rL93z27taa1yJif1ynZf5rSV5Pr6LiZXD87MzChnkd4agNWH6RBwNtj5wM4WR8TMEGjF/VRlVbWQXpP4kRbST1UI1Uz6KQWScpRfi5WZkEmVpVgqR5BurGy6edOwI7kiia7ci+xRsU3lRWnRzbRDh5YsXjxsxIivv/3uvx+1GODeJ2n7xsvHkm9mH9JnH5CTA+Uc0Bcc1ucd0Ock6bOT9DmH9AVp+nM5+vMn9Gfz9AVH9flHLx9IuHx494mdm8aEB/br1+/Ljh27d3VduHDRuvXrk/bvlxWQ9SRfNYp36S1jV2pFW6nmsmLqaGdjnZXm01Z6QT+pwE1qrJIpSyp/L1AT5VCLKMmm35Jkvb30AJ87f27M6NH/+c9/1MFNd999d58+fdasXnP0yNEbFIfKJSqZnp6+Zs0aDw+Pe++9l45zxx13fPD++6NGjTp79qyhUG0kOxFgOfvm2LFNmze/+4EHZJDvuKPXl5+umTLy8OqFV/Zv1ecm60+o5/A+featebAkiTKH8mlrbvLVpK1paxaunjLS/Zv29959Jx3nrvvv/0+zZqPHjKldDdaeyQAA+wECbBFOIcB1+5bP4lwDNGrUkJ3ZRshjr212r2RvcOn8eqS+5lZLSklOqpWJr7SwKhlFCDgn7HxgZ4sjYnoSLFX8yOgIdT4n1ehUV6QCalKFkCTQIMC3tLlIWUKJCssyt/qEKVM1YYI2lSqji+mn4odHUlPj4+Onz5w5bkTs1L69fhw6OLi/h2vnbzfMmaLPP6Q/l6u/UKDL3KdLT9blHtFlJOmyEnXpibqCDF1htu5Emi4/XZd+QJedqssiT07RXzhxPftgtP9gv8CAzdOnbQ8J37T4h0FeXt927vzTTz+dys9Xaq8kendZYWWVI7X+as0pX22dbIsyHJryKZP8n16oraCGqw8/U3kqo/Yq017UWCpJVkwlqflStmX0tGFX37yGkxBi1sxZ77z9Dt256P71zTfftG/fnu5l8+fPN5SwPC1ZuuSBBx9o165dp06d6JiU3nr7rZkzZ9B7GUrUbKp1AaaGz5kzp/F77915zz0UjfZ//cvHf/nLffffNy86SH8hQ07yfHRXyeEEtuhRWaiMXAaJyl/IWDwq/MEHH2jxlz/T0eiYd9x99zuNG8+eM6eITrDaSNozGQBgP0CALaKOC7Az3PJZnGuMadOmaE9uxoW0dVe2+95c3Z4sl3mvWNGGJPli8ryyUz0boU9OLY58NsJqxXQIOBvsfGBniyNiqgeYdE598FXxWOOExnJM760HYtXxvZRP0K9qoky6BhKUIw2QbFnxRjWTflW7WGVJTeeqXn/+3LlFi3+IDAn+MTL8sK//BS8PvXe/HT4DWrZqNS4iSJ9zUJ9Dcpuiyzygyzmiyzqky07WZe/XHT+oyzss7Zd+nszU5Wfosg/JzOMH9KcyMnduGeI9aFh/93PjRusDh/7m77+8X7+ebm4DBg4cP2FiTk6OfGNjzUngqYZqq9UaUrXJY2XNVXsn6VVcnXahHOnDyhTWMkeRedJdQeVvKL3HSr48gjK7tXrA2hbgffv2f/LJJw8oHZKdu3TZs3fPxYsXt2/fTr9++eWXRfLPExan0tKSb5Wb4ObNmy5dvLh3794uXbvQr/Qubdt+nJi4z1CuBlPtCnBSUtKn7ds/+PDDFIQOjz++7p23T7b8cNlb/5ZBbtX85sEd5LRMdMtHd3RnUVpCp3Yt6Ag/NHqDjrb+3be/+tvj9Cu9C73XPnVQQ80m7ZkMALAfIMAWUZcF2Elu+SzONYmPj5f2/C6HMzmpJgc5m4TUmr1RbcEqxnQIOBvsfGBniyNiugf4urKerbQ+VeeUKZ1JDqXvKR25ar9ukdILqmqkThFgmSmUPk9lhLC6QC5daelX2vEm+aFig8ruN2/cyMzMXL1u3fCRI6MGDtjQvfsFXz/Rp0/J0KF6r8H5PoOGuXssXDDvTGqi/niS/th+3ZkC3fkCqbt5qbrz+bqLZ3R5R3Tpe3QnjujOFuhyUqX95qboz+ZcTf01Yf3ywUN8ZvXqcc3LWxcVURIUfD1mxC5Prwl9enn07RsVEb5h3borF87/z4Gp5qqsqj26UnSVybGo1ZSvNoGar26iTHWKLFleaZG6VYUSZdIBbygDpNWc2psE6/r16+PHj//zn/9M96n//Oc/W7duvXbtmrrpwoULrVq3vveee5YuWaLmWJSWr1hON77mzZsbx0DRkX/a9lOz/zSl9/rTn/40dtxY43vVTKotAaYgT5g48a//+Ac1/J2H/xD/5r/zW/73UpuW19q2PvbfZs3++Mf7Hnxw8ahwfU5SZbp/VWQncG7Sj+OGPfjwH95/9NGj/21KR6Nj0pF/fOvf7z7yB3qvv/zf/42fMKHyqzlaJWnPZACA/QABtoi6KcBOdctnca5hWrRsbnJarKpBHxi7+pCw6jEdAs4GOx/Y2eKImBBgddQuaZ6qdpTUscGlt7p8CZLDGzcMA5tVD6S9SIDpNZUk9aV8ddiwmmS+MjaY8qmA4oTbd+zo3a9f3x7dR3frkurR56aPf0lAYNFgd+HtVRwbdWX4iP2DhiwICZk3d9b5I8n6nDRdYY7uVKbuxGHdmRzd74W6U8d1Gcm6o7t0GftkD3Bumi4vTV+QXpJzKH3P9pkzp4/wHJg9aawuJlLMmCVWri6eOksXPjwvLm6V18D+/3m/RfPmi75fdFadxIHqI/t1FV+lOlMNCXpNLaKfZBe0SSq90idsaK/SM0zFlP0NndtqeSpAP6n5N5Rh1Woqqp11gHNz81xdXene9Oc//yk6JvrypUuGDbfShg0b7rvvvrffejs9/aghq3IpKyvrvffeu+++e1evXm3IupUuX74cMyJGvf927dI1JzfXsMH2qVYEOC8vr3uPHi533PGYi0vQC89nftjs9zYtL7RpcabVR8Slj1t93+iN++64461/vZq2dpE+e39lh0Af35+xcUmTRv+694475v/7X3Qc9YB0ZDp+1kfNgl+oJ1dVuuOObt2759ZgkLVnMgDAfoAAW0QdFGBnu+WzONcKdGZv22b6Ud5KkpCww83NlR221mGVZDoEnA12PrCzxRExIcDS65R+TtV11RdSEUnnFN+jn2R3pILqY66qEFKm9D11dLQykJheG1+oHaT0q/KgbMmNm9u3b5+7YMGiCWN/iQg+2bVz6RefFw0cKIaHiQA/MdRXDAsvCfK9PsB9SusWHb76euzouNSdW0rl85O79Xnput8KdaezdVnJumOJupwU2fGblaQ/l6cvzC7N2P/r0lmxI2ImhIXv+bZTac9viwK9RQ930WeQmDKlaOWa0hkzLw4P/7lvr+4f/Oe7jl+tXLE85/hxWbEb1w0Sq7or/bx2TbZONkF9mlfzYDO1iBqirvNUqnb5Kj3GFAF5hFtuLIVfmfGLNLi0VBt2uYvtU2LivnfffZduSe81eW/79p8NubcnIURQcBCV+eyzT/MqfdsqKCj48ssOtNfQob43KHSm0o4dv9DtkspQHRL3JhpybZxqXoD379/f5P33qZlvPvyHlW83ukjq21qqb+EtzrdpebLVh4P++RyV+fTDD7I3x+tz9uuP7GTGq0V3ZKf+eFLetuUdWjanvTyefbqg5YcX2rQ0HlNqcOsW9F6r3n7zbWXEdeP339+3r4YGoGnPZACA/QABtoi6JsBOeMtnca5FunTtNG3alJTkyg51JtIOp9InlnZkh7ITWG2ZDgFng50P7GxxREwIMOkfWZwc93urL1S1PulySvem1D+1i1gZHa0m8kN1qDBtovIEvSBFJC2kF5SkGcq+3yuXLh06dKjjt536fvH5nqGDrvv4lIZGCY+BYvAg4dNPxESL8Ajh7y/8vXSRwb8F+i7q0+eTD/87PGToqeSE4owD+pOZ+nP5+pMZusz9uswkfcEx/e9n9KeO6guP6s/lLp83tbtr5wFff73ZZ+j1oSElI0eLiBC63IuIcBHkL2LjRHBQiUeP68PDsqOGz+vZvfNXX0ZGDcs4ekRcuyqbRkmqvlJn+qn2CVMO/SpNWGP1qi1Tk6kYFfhfGSU4tMmQqQ78ln840IZdvpGN09atW59/oR7djFy7uRbkFxhyTaUzZ89QGSr54YcfJvySYMg1n3bt2tm6VSsq/02nb0+dOmXINZUKCk52796NSj7//PObN28x5Noy1bAAb9u27YX6clGJr//+fwebfXDp45Za9TVCppr+32Zf/10uAvzfJm/vmD9Jzvl83IQGK+q7n7YmLJzS6oPGVP7z//vbkf/+5+LHrdgxCXqvSx+3ovft+Pf/o5L1XnqJ/tMNNbNl0p7JAAD7AQJsEXVKgJ3zls/ibA+0bdsqOjqKzn72AVBJSNhB+aTKdvh5YLCaMx0CzgY7H9jZ4oiYEGDZsSn04taMUGRxlOiH6n7qY7GUaXhxy41VbZb5t0RReqDmNRVQDrVs+fI5c+dO8B3yk0d/ERpR3NdTxI0SAUNFgI8ICxIrl4lRI0RksOwK9vIsHdjvTL+esz3cA/v29R80cPrYUYd+2vD7sZSzh/boz2Tqcw8XZ6deyjhwKmXH7g3LVyxZ8HHbj7t/8J9f/f2vTZtVGhwlVq8VM+aKefPEiAjh0VOE+YlxsWJg7+Lhw0qihucN9p7f3bX3d528vL3Tjx2TDaFElaQKU22pzmqT1fobfiXjvaHER3n4mYJAr3Uk9kf56b0AAIVDSURBVMqO6r4qchy48icAigClmh0CvW7duieffJJuQ/5+/pV5QLSwsNDDw4PKP/7Xx0NDQ/fs2VNCTbg9lZbq9iYmRkRE/F3Rrd59ehcUlHeTVRO9e0BAAJWn+qxds86Qa7NUkwK8fv36p599lpo24NlnTrT47++aHlrGacVUjzZv2v0p+Z/yt789HtKv+54fZhQd2qHPPyhXRcpJkj/zDxYf+iVxyczw/m7/+IcMcpcnnzjc/D+X27aiI7BjGqH3pXcf+JysyVPPPEP/9Yb62Sxpz2QAgP0AAbaIuiPATnvLZ3G2T5o2e6/W1zSqAtpPL8F0CDgb7HxgZ4sjYlqA1V5N1dwo0Quj7qpCSIleyF5QKqZ0mdJetFWWVHpB6VfVeGnHGzf116/JX/X643m5w4dHL/H3LxzioxseW+TaR/TrJ76fJyZNEGFRsvs3NlJMGS/GjBLevmLUmKJpE4tjI0/067vr2y9Gdv3Ws29ft+7d/H29hgUNzdz3a9pPG1YtmrNh+Q8rFi8c6j149PCYif099waHlEZElsQMF2PHiblzxaBBwneQ8Owv/LxFwGD5MypKjJskZs/WDxteHBUe36tHeNduAcFB/xtBSk2gFpHZXrt2KxTKKO4Syr+pL1FkXo2D2liCNql7yc5epTeYylDD6cWtY2rDbsi0Tdq0afMTTzxxxx0u0dHRZW9q5hLdtqZPn/5qg9ekRz31VKdOnSLCI2bMmLFo4cKZM2dGRkV+++13zzzzDG19+eWXJ0+edPXqVcOeFaXS0pLomBjakWq1adNGQ65tUo0J8ObNm598+mlqVEC958+0avFb6xbMSxmKA7fMa/HfUa++/NL999OOTz/9RKd2LSMG9poR4bdgRCj9jBzY+9tPWz37jPwaU++++2JeqZ/bojmZczn2qyIHXbf+KPCF52nHJ596iupmqKVtkvZMBgDYDxBgi6gjAuzMt3wWZ2BFtJ9egukQcDbY+cDOFkfEhADT9ZPkjX6qAkw/6TWpXYk6AxaJnzKxk+ztpE06pfOTBO/W6kdSepVxv2oxKcA3VPv9efv2Pv36jR3kkRkZVuw7pDjQX0QOE759xYThIjZWjBgr4sYJHy8xepSIGyNGx4lxo0VkeNEAr5Ko4UXjRtwMHJDqN3iMf4BPpy7vN232xRcdhnp49O3d2/W7zlFe3msGDTkxeOj1gCB93Jii0FDh4yGPEzFcDIsSIX5i8iQRFi6io4Snp+g3UAT4izGji8KHicioi9GRP4+M696rZ0xsbGZmpqwzNZMqTAIs43CrsZSpdvzKJ3uVnm0yfym6SiZBrSaMEZB/R1AWBFZ3v/1CLTNtk37d+evTipjRrbCUKmlhSjuSNnLUqPeVB3nUdPfddxteubg0adx4xIiY1NRUQ+lKJ6pJTPQIOsLTTz+VkFDxkKsqp5oR4J07dz7zz39Sc8g5z7Vu8Zv5vl8t5LEX2rS8/HGrhPebhL5U760/PKQEVYb43gceoJ/qb40eejD4hXo73m9M6kvlK7RfFarD+dYtghQHfvrZZ3/99VdDXW2QtGcyAMB+gABbRF0QYCe/5bM4Ayui/fQSTIeAs8HOB3a2OCImBJguoeR4Vy7LRYxkx686pld9slfxQCnD6sBg8j3lGlSqjASmJGVYJ73xuuJ+qgoq9pubmzvQ0zPQwz1tbHTR1k3FY0aJ2GEicY+YPEZ0+0b06SNChgvvIDHEXwwJFot/EOPHiF4eYthwMWKYWL286OCBkvmzSob6XZw2uzBw+C/z5y4b1H9rP489ru6/tG6RHhV+3du3uEv3Eg83+SxxhJ8YGSOCI8TMWWLzZrFyufjlF7FsuQgOlj7s1ku4dhaD+ovpU4sG9C2NDLu8Ys2q4LBOnTqFhoZkZWQYqi0bqPQDFxcZ4kDIUc23xnULZaVfKcDK079G/1eDQz+N48NJhmtEgA8fPvyvf/2LbjrBwcFFxs5ny1NBfv7uXbsW/7B4xIgRoaGhI0ZEL178/a5du/JPnDCUsDwVFxdTrahuDRs0rML9tJKpBgSYgvx6o0bUEK/nnjurjEBmLlo+Z1p9RA5MZnug6Qdr33lrasNXg57/p/ezTwc+/8/JDV6lnJSm79PWKx+3ooOzfcuHHJgOPvh5OdvW62+8Ybsga89kAID9AAG2CIcXYNzyWZyBFdF+egmmQ05Bh/EsCEThzK2FrlPPvOTHC9d1WBzY2eKImBDga8r6RtevGZb/MfZqqlooOzZvSieUpqeMASYtlG6sPABMSqyWJ29UM2W+nmLlHxTY89N2iQP76AMDiydNE6Fh5J/SfgP8xKDBwnuQ8PEV3XuKmFjh6y/Ch4nhw0VgkAgNF7NnilXx8sHgIZ5FoQGlY8fpxo/Tx4XrZ0woiRyh6+el/7azfvLU4jnzRLC/iAwQY0aIWePlwUlxw0JE7HAREiQPGztKvoiLld2/ffuKSH8xeawY7CPCIvThUb/FDFsR5OvVvevEiRNPnzxpuLYWqY1VhJaaQfcXei2n/lJe0yY55TW57q2WUlKjRFvVHIoD+b8cF21zAS48U/j555/T7cbd3f2m8kcHq6Qq/E3ZXKJaufdzpxp+9tlnheoCVNZOthbgM2fOfNHhS2pC16eezG/x4UUL7dfIWWUO56ttW6uLG51q+SH9vNimFeVQPm1l5SsJ7VvQ4sNuypPGX3zxhY2CrD2TAQD2AwTYIhxbgHHLp8TiDKyI9tNLMB2qs7zkV9hrprTcjBwWgdvIzS/8IaHQY05hgyB+hDoKiwA7WxwREwIs1U7RNtnTq/RqyhG/itOqj/JKCVSukKr4UQHaKvs8FehX1Q9lR6gsdvW334JDQj5u0njjqJjr0ycVD+gnoiLEtJliWKjwcBP9B4r1m8WyxcKrv/DsJ+dqDg4Xgz2F/yAxfaaYMk2MGydio4RnLzF5nFj6vQgaIiKHioVzimbMLgoMKYqKFBMniVmzxJSJYtIYsXyp2LBGjI4QY2LE7KliTLQYPED4+ogBfcXQIWLECOEfKIYGiLBIEb9EjJ8ghoaIUXEi2FcX6H05cEj41x1atmjx/eLFN0n+qWmkuGoDVSgg1C6KBjVTGr7yrA3lU0AYVIB2lIUVE1aSNuxqjhUT3bMoyHSjadeuLUmaIdf+Et0E27VrR/UMDg4uVU4P6yabCjAFOTQsjCr/0V/+nNb8P+SuzD+rAHnvudYtVOg121oFqFZUN6oh1TMkNNSKX2aMSXsmAwDsBwiwRTiwAOOWryYWZ2BFtJ9egulQHYM8VtrsDwlktqzhFbMusdBv8ZkmkeyYdQzWana2OCKmh0ALZQ4n2cOp6Ny1a//zW4JyVC2UnZ/KFFBUUv37o8ESFVGkYqKo+Pr15StWfPrJJ2HffH1h5mTdyOHC31tEDBMBISIiUIQHCU8vsWC+mDdT+PsI78HCN0D4h4iBfUWQtxgRJyIjxKC+YnSkmDZZxI4WEyeIqHARESSf5iWVDQ2SfbxTpoqJ44TfIBEWIIvNmyVGDRdBfsLPR/YbB/gIn/4iKlBERMr+5B69RR8PER4sRkTJCbFGjRGjR4pAn2LX7sVxMSu9Pd07dfL19k7Zt08nm6ZO+qUEgZp584Yc8ywngr710K80f9qqdHerrkt7URDUn2qI1L8j2Hgd4NWrV9Mt5vl69fbs2WPIstdENaynLNawaiVfTr/6yaYCvGbt2jvuv//Z++7d+O7bV6xhvzaC6rbp3befu+/eO+67b/WaNYbaWy9pz2QAgP0AAbYIBxZg3PLVxOIMrIj200swHaojNIkkdyWDZY01SWGZHEbhjoOFkcsKm0Xzd6kTsMays8URMSHAalItjlBVVsrerT/eqflUgGzwxnWpu9IAlRz5uKxmyLRef+rECe/B3nG9emePiC6NDBYDPITPEDFmgggOkJ29Y8bIAckRYdJIg4bKx31HxoioUDFulIgk0Q2V45n9BoqY4WL4KOHWW/T3ELHRyqjmADEsXM7nHBkqJ9CKixNDh4pAXzkE2neo8A+S3bwDfMT4idKBo4PEggUiOEoM8REeXsLbTwQSQ2R5EmASab8gERohZszWj4w7HDk82MNjTNyonMxMxW9vzWtNyJYWGfSe8ikItEnVY9leJT5qJnkv5dDucgy54U8G2rDLktZLBQUFr7766t133z1r5ixDln2nOXNm3333Pa+9+tqJ/Ko/YWQy2U6AKcgNX3/9LheXMa++fNWO7VeFajj21ZfvdnF57V//ys/PN7TBSkl7JgMA7AcIsEU4qgDjlm9MLM7Aimg/vQTTIYemsGWsNNUdB1kby+HAgQN5ubks0yxJ6YVj1p7pMJ69r0PD2sjOFkfEhACTuRkf8SXIe9XuTUpS6hTxI/0ju1M7e2WOoscEmbBUQWXmJ/mjaN7CReMjIpN7Dyz28y8a6i3X440aJsKGi/6DpHOOGCECvaSLjholYiLlA7pUICxIzJ4l/Hxl/vjxshM4OEwEhoj+7mKoj/D3FR69pCSPiRMREWLIIEGHXThfBAaK0BARGihnew4IEoMHi7AIsWSJHD4dFSwmTxMTxomQQDHQS0TFiHFjROxI4RcuggKkgYdEiREjRfiw0sDwkwHBW338wn2HLly0SJnTS441kvarSKxExkdZ5pdyKKmGTJlqooZTWKg8Rck4OZYSH23YDYWtlLy8vFxcXLp06WKL8a62SFTPrl3lOvyeAz0NWVZKthPgwUOGUIW/+r+/nVGe4GXCaW9QDameX//f36jOXoMHG9pgpaQ9kwEA9gME2CIcVYBxyzcmFmdgRbSfXoLpkEPSYTx5Kdkpa5o5yHjj45fQZbRxk7coIA0a1nd370UX2czMDFbSLKmZdWbSLNY07anioJgQYGluynhmcjnyWym0igwbE11yZf+nglRExYTV67DqgVSYrnelpWvXr+/09VfjO3W5HDGieNo0MX6UCPEXUSOl0A4cJAYNFMsXi+Ghon9fERQsZs0Q2zfJsdC+fiLQX0ybIn/27i06fCrddd060a+n6NZJ9uiGhYhBHmKol4iNEX7+old34eMthvrKybR69BD9+sgFkPq6i2++EzPniB1bpFTPni3Gx8nx1UODRdeeIjJSRMeIrj2Ee18x1E+Eh4phYWLqeDFzasnUqXnefr3af+7l45OZlaU0qlTqrhzjrbbu1q9qk2U0SI8V1Nf0UxVmNYeCQ4Vttg7wrwm/PvjgA0899dSx9HRDliOkY8eOPfPMMw888ADV35BljWQjAf51586HHnvsibvv2fl+k0ouelTr/N6mJdX2yXvuoZpT/Q0tsUbSnskAAPsBAmwRDinAuOVrE4szsCLaTy/BdMhheMmP/JMslFyUtcgc5Ld0JSXXJeNlMTFCl7Np06akJCexfc2Sm184f7tDT5rFWsQC4oiYfgaY/I207boyvJkS5RQXSbUj9yMrVjs8VdelpCqfMam76/X79u3z9fOL8/VL8gko8fSU3blxw8Ti78XYSXKBooAAEe4rxgwTo0eL9WvF4qViWISIVJ4KjgiWM10FBgvfIDFW6Rnu1kV2F48ZLWLDhVdfETBE9gNPmijXCo6MEjEjRFSkHDU9LFIOhx41TgQHSbsODpZdvtHDREiwHCkdFilGDBdBvsK9n+jdU4SFyrmg3QcItx6iZ2fh2VP4DhLeA4qCA2/Exi308m7/+RcDBg7Uqc82U6uNAkytu3FN5qi/UqJ/i4oNoquWJ2eWVlysv35Tf0N5Bvj2C7UsY41UXFz88ccfu7i4xMXFGbIcJ40ePZpq/vHHbaqzfANLthBgCnLbTz+lqoa9WO/Sx3KpIaaa9gnVk2ob/qJ89orqT60wtKfaSXsmAwDsBwiwRTieAOOWzxKLM7Ai2k8vwXTIzjFMajV/e+UntSKbJae19DrVtm2ruLjYvXt2s6OVQ+HyXYVe8x1u0izWChYHR8R0D7A0XvI3ZVYn2cF7U2aS4xEkeIrOyUSbjD6s/C433dq6bPmyiePG/RwxXC63OzJajBwuXXd4jOjvJfoMEAPdxbypYs5s4e0rO4EDh8q5miODxPBgMXq4GDxQDHAXQwbIibKC/cXA/mKArxgwSOn47Sef3R00SI5zJr8NGCw8+pO4inExcr6rMePkrNHBAXJdJX8/4TtQeHsJv2CZM3CQGDtC9O8mYiPFxLHC31906SUlOTRQ9O8tHbt3LzmBVohPqVuXc1HDYwYPHhYVde7UKdkYdUgzJdnvTUG4oRc3DNpPORQB+VoJFMXHGBN6QVasdg7rddqwyx2tkZYvX37fffe98cYbFy9eNGQ5Trp06dIb/37j3nvvXbZsmSGr2skWArxy5cr7H3rotYcezPiw2Xm7H/yshWpLdW7w0INU/+UrVhjaU+2kPZMBAPYDBNgiHE+AcctnicUZWBHtp5dgOmSnNIkkt6zkpFYq5K5ksOSxrPmW0rTZe4GBftu2bWHHLwf5EHLwUkeZNItVnjXfETH9DDAlUjjSPPW1qrWya1fp2FS7N0tvbZKZytO/pH9qR7Fef/TQoWnTpoT1dj8+fnxp7DDZMTtxslxwyG+I7I8d7CUChor5s8TatXI6qz49RH9PuUgv2W+kjxwmHak+3OslfJWu4JExYto00dNN9OoignzkU8QhPqJfb+HpLQK8Zb+u72CpuD4+wstTrqUUTVobLJcR9vcWwyOEf4B8DNiDdDdIxAyTvcex0SI8Uq48HOAnTdi9pxxKHR0ppsaJEWHCs/+N/v2Oh4avjo9PTk7WkcRKlVXGPFNY1M5egn6VfqtMgkWtJm6qs0MrQVALUwDVWbJKrP8McFFRUcsWLV1cXBYvXmzIcrT0/eLvqf4fffSRtf4ibHUBlkFu04YqOaXBq7+1cZjuXxWqLdV5aoPXqP4tWre2VpC1ZzIAwH6AAFuEgwkwbvllE4szsCLaTy/BdMiuIIeUJmnJpFZkquSrZK2s1dWncZO36MobH7+EvWN5qJNmtYtj7bIrWJ1Zqx0R00Ogyd9u3JACTK/VnkxV8OgF/SqVT53lWF3qVtqd1Dx6rZQnM17yw2K37t1nf/PdVb8hJYEBIny48PKRQ5ejw+QcV33cxKD+YoivHPMc4S/ndh4WLsLodaDUV19/MXyYYTJnz0FSYqMCRWy47Msd5Cl8gqTcDvMXdNgh/rIfeHSMHD4dGiIPSF4dOFSOcx7iLXr1El27yMm0OncWA3pJ7+0/WK60FBYihsXI/uFAfznvdPQI4T9E9g9HhYlhQSIoRPT1KBk58qRP0LQRIxbOn38oMVHxWGVYOCEFWJkFWs2khpMbU760XyUC12/IybFJgylQlKiYTv7tQBt25cpd3bRixYqHH374nXfe/f333w1ZjpYuXrz47rvv/uEPf1ix3Dr9k1YX4JWrVj3yxz/++6EHj33Y7IKDPP2rheqc8WEzqj+1YsXKlYZWVS9pz2QAgP0AAbYIBxNg3PLLJhZnYEW0n16C6ZBd0C7OokmtCO2kVrZGnTRr0aIFlk2aNXmTnDSLtdQOYFVljXVETAuwVFyl95Jekwar3iv9lnyPpPfWM8BURgrwLT2mwpTohV6/YdPGeePGF0yaWDw8SnT+VvbiLvlehAZI7/3yC9G9h/D2F6tWiQ1r5KK+bl3FwAFyCqv5C8S4iSImVixaJDw8RMdvxWdfSAGeMkVMmCgHKvfoIdz7y6WAXbuI7r3kg8Q+g8WwEDkoOjZW9PMSg31Ez+6y9zgkQLh1EV9/Jxdecushn0D28RSTJsuuYDLkwFDRsavo/J34fqH4caXU7IH95bjooKFigKfo+q0I9rvp3i99wcLgkJDpU6YY2kWWS22kF7LVt3p9VSuWYlwkY0U+fPWq/uo1+fg0ibEaKCpWXKQNuzxg9VJJSUmnTp1cXFzmzZ1nyHLMNH/ePGrFN506ldCpVe1kXQEuLS39rnMXqt74114536al/U/+XBaq84U2LSa8+gq1otN331GLDG2rRtKeyQAA+wECbBGOJMC45ZtMLM7Aimg/vQTToVrEFpNa2ZouXTtNmzYl7XAqq5tZ1Emzes20n0mzWA1ZAx0REwJMSXVgKXvF+uvX/recj3ETvSavU9e5lTm3Cuh0JUJkHTvmHxyytLubWLGyeMFcKcB9+4vJU+TEy0HBope76PC1GOIn5TMqQvbHzp8jZs+RXurlLQc2L1kspkwXIUNFnz6C/Hn4MFl4wXzxwwLhMUB0/EYunuRFrustxzyPjJVzOHdzFcOGC99g0bWX8BgovvtOBAeK4BDh6ir6uco5rkiYh/qLWbOEv48YM1KMjBC9esq1l9ZvEuFR4ruv5VBq8mrS6cXzpQl7e+nculyJjvbr27dr167XrlxV1gRW1z1SvVfpBJYhUia7kpkUsVtKTDKsZsqfxTI+Ois/A7xr166nn376+eeft/oqrzWcCvLz/1mvHrVl167dhqxqJOsK8J49e5597p/P3HVXctP3L9n92r/moJpT/Z+5+65nnntu924rBFl7JgMA7AcIsEU4kgDjlm8ysTgDK6L99BJMh2oYOakV2aAlk1qRbZJzknmydtUuVZ80680wFpMahtWKtcsRMS3A6mOu5G9qByb9SiInXY58T1E+g9opM2OR9UkZVoYE6/V5OTk+Q4f+t2nTbW3a6qOjiqaMlhLrHyB7ZYcFix9/EPPmCv9gOftUoL8YMECMiRVrVoj5M+VkV27dhXc/ERIuF+kdESX69xc/Lhfz5smVjfy8xA8L5QjnoBCxYJ5Yu1JMmyS6fC0+biP6uYmxo8X0GXJxo4H9RESkcO0pps8S4ybI96UdA4eIIQOl+kYGizFjRPBQ0e1buVzwnO+Fh68YMFBMHCWmjBNhwcKjj4iOkHNE9+1VHOJ/c7DXUrduX3/zzarly4vlk71KH7hQ/jRw86biwEoE1OAozTe8pgJUknaR3eOGrdqwy5LVS5GRkS4uLhHh4Vac3bdWEtU/IjJCtiUi3JBVjWRdAY6MiqKK+f7zOdLIcw7Y/aui1tz3+eeoLXTaGNpWjaQ9kwEA9gME2CIcSYBxyzeZWJyBFdF+egmmQzXEm2HkfmSArDLlYK1JrWxNi5bNAwP9EhJ2sPqXQ+GOg4V+i2tr0ixWGdYcR8SEAN8sMnT5qkk6nmJx9IK8Tq90/MoxwMr8T5RDmid9TxHg0tKVy5f3de+3NDzoQlRo6dQJYtlSERQqrXL6ZOE/WFpur/6i3wA5GdWYCWJ4tIgJlXM4h/uLgb2F/1A5l1VktJgwWU5/5e0jAsLFiGgR5if8vUTfPsKzv4iJk5NpTRorZ8Pq5Sr69hOeHiIiQu4S4id6dxa9ugnvoSIiRvpwaKDwGyz7df18xcA+ItRPFvbyEiHDhH+k6D9EjBwt5s0Xc+eI4ZEiwFc+ZjxqjPCjI/cSHj31PoNTRo5w69x51syZVy9fktGgJhNCmduZ1PemkE/80gsKTokyOJwic0OZPExGRiksoyf/XqANuxLZqqfz5y989FGLBx98YPeuXYYsR067d+9+4MEHP/rowwvnzxuyqpqsKMAXLlxo2abN/S4ua99986rDdv+qXG3bat27bz+gTIVF7TK0sKpJeyYDAOwHCLBFOIwA45ZvLrE4Ayui/fQSTIdsSpUntSKrZK2wfxo3ecvHx8uiSbMKdx8uHLO2sGUsi5tNYXVgrXBETAgw2a/qbGoihVMfA6Yc8jpdqewCvXFTyp6apPvJZX7oZWlx8ei4uIED+h8aEXrDx6NozRoxdaro20tOsDx5uhg9Xs6D9dWnotM3cnxy9Eg5BDp0qFj6g9i2VU7L7B8kTfWH70XUcDF0oFwQeKCXCA2SywWTyoaGiMAw4TVEjB0runcTvV3lRFmhESJulAgIlR2/Q3xEzx7Cva/s1B3sJWW7T0/h4y28PGS+z1Axe5aswOSx4scl0rRHDhN79ogFC+RY6769Zc6kcWLDWjnoOiioaECf4siRB2dMHdHTdfnq1Zd/+002liKg9uuS36oxkS9urQB87bpUYoqYDBSVVIZDq387KCnRhl0eqhpp48aNjzzySOvWrc6dO2fIcuR0/vy51q1bU4s2bNhgyKpqsqIAb9q06dE//anZow+nNf/P7w44/ZUWqn9a86bNH32EWkQnj6GFVU3aMxkAYD9AgC3CYQQYt3xzicUZWBHtp5dgOmQLyOik1+0+zN66HMgbyR5rZlIrW9OoUUN7njSLvTWrvCNidgi02oEpn2tVunbp9Y3rUuToNf2kApSjYujhNAjzvAULPmvVMtHDTe/VWz5tO3aMiIsVMTHCw0t4k3yOEUPcxICeYnSciBspgn2khW7/WWzcJHx95XTQAX5i4gQR6i+CvUVYgOyeXbpEzp41PFxsXCtmTBHhYWLiFDFhipg8WVo0ma23l+xMHhogAgLlDNLTpopxcWLubOnVw4YLz75idJSYMEFERsmHh2OHiZHhwtdLLrY0aZJcmjgiXNZzOCm3j/AaIKvhFySfSZ4zuzgs6nzM8FlDBo0ePfp03gl9KSm+Tv6BgGJSemvSLwoIWa763K/0YUV9DflKRzoJsxIcbdhlgWqkETEjXFxcxowZo76V4yfd2LFjqUXRMTGGjKomKwpwbGysHKX10ouXHG31o7JQ/S+2aRlZ/0VqUcyIEYYWVjVpz2QAgP0AAbYIhxFg3PLNJRZnYEW0n16C6ZAVkZNaTd5k0aRWZInkimSMrM51Bjc3V4smzSrMyLH1pFnsHVmFHRETAkxX2JtCryOnVToz1USyp8qwdLxbD/3K52BvGjSY8vX6SxcvRo0Y0e3D5sd6dNUP6S+nVg4IkGsUDfUVHTvJaa42rxdjR8pJm8k5h/jIgcejY8W0GWLKTLlMUd+usv92iKK+Y0fLWam2bRXf/yC6fCcfA/55u5i7QAzyFR6DxJo14qefRHConPPZb7BYslAeMzhIDB8pXTpqmLTo0WPlxFf+g+TSvr5+cv6t8CAxbqScNXroIDF3uohfLgYPlX3F82fKmbf69ZI63bOv8A8Us6aL4WHFfbrd8B6U4ue3Zt68w6mpRdeuy35uajg1n5pMzZfmr/yZgHK0dya1mCrDsoBUZW3Y1VJVS7///vsXX3zx4IMPbtv2kyHL8dNPP22nFn3++Re//16t5f2tJcAXL17s8PXXD7i4/PhWoxvtWjOfdERutGuz/K1G97u4fPHV19VcREN7JgMA7AcIsEU4hgDjll9OYnEGVkT76SWYDlUT46RWZG7sjcyhTmpFZsjqWbf5/PNPJkwYa9mkWT8k2GLSLPYurJ6OiAkBJqm7cUNRO2Wsr1btyOXU0b/qayrwv2eDZdr566+ftGs38sv2v/sPKfUfLJcsCo8WY8YLd3e59m+gjxgRI2JGiLlzRfRw4dFPivHQoSIgRKpsRIAY5C483OSjwqHhsut4dIwYO04M9BQ9usjCSxaJ2BGiv6ec8zkqQowfJ8KiRIC/GOwh5k0TY+PEkADhHSAfJO7rLpcIDo2SbxQTIV16kI/w8xfTJ4jZ02VXcGiomDlLzJ0vp8WKDhFTJ4oxo0REiBgzWlp0oL80837uolt3nYfXOfcBS4ZFL13242+Fp2UjSykIiv1eV7rEVQe+FQFDkhFTUV4TRVZbBiklJeWJJ5549+13c3NzDVmOn6gt7777zj/+8QS1zpBVpWQtAT5w4MCT9er9+8EH9zd9/6KDj39WoVbs/8/71KInn69XzSBrz2QAgP0AAbYIxxBg3PLLSSzOwIpoP70E06Eqok5q9UMCO3g5kPuRAdr/pFa2pkXL5uHhIRZNmnV6S7IVJ81iB2fVc0RM9wCrUqe1O8qkn+KmHOtLL9StUvMUE6bXenLhksXfL3bt8MUvkUGl0ycWDRsh7XfxUjFmnFxkKNRHePYR/v5yvd/ICPmIb2iI+Kaz6N1Pzl/1w/fy165ussc4LEz2xPb4Ts4aPW60CPKTAty9s5gQK2fDGughvvtSePYUi34Qs+cJ/yEiYJDsRp4wQY5wHuApBnmLLzrLrt3oaBHgI/q6iaHK+sA+3mL2NPlMcuQwKcBDh8h5uRbMlu7d1VUMHCTXQ4oZLkZEisggERQox2x7BhQHhub399g8bdrEKVMOJCUZgqPO/0xxIORiSLf+QKAmNVzG10VFyihoq02CtXr1ahcXl/4eHlZZ09VOErWl/4D+1K5Vq1YasqqUrCXAa9ascbnzzu5PPXG2dQvHnf9ZC7XiTOsWPZ58gtq1atUqQzurlLRnMgDAfoAAW4RjCDBu+eUkFmdgRbSfXoLpkEWQg5GJkY+xY5YDmR75niNOamVr1EmzVq1cwSJWDoW7D5+JXVXNSbPYMVmtHBHTAkzCJie+UlZCko6n/rz1GHCRMg0y5aiQABN0QSsq+X7J0oFffZEVHqKfOF2EDRdB4XKd3vHjRHC4CPIXk8bIft2hAVJrA/2kbfbqJTwHybmgR0bLRX0H9BMBwcLbV3z7lej5nSy/Yb3U2vBQOXvzsngxdboyqtlbLJollq2SrhvoI6KC5bq+o+i9osW48WLmDDnfVfhwETFM+CnLL42gdw+UIt27m/AbIqKHSZEeN1aEhomIMDFgkPDwkEsQD/SW80UTg73lkUMiREyUCA8oHup9dMKYcWPHbN+ypZQiQG1XBz9TQG4KGQ16LZMSN4qelF9FgCk416/L7nRxk/K1YZdbq5h0sbEj6a4xfvx4Q0ZdSRMmTqR2xY6MNfxepWQtAR4VF0eVGf7yS6JdG2aSjgu1Jfrll6hdI0eNMrSzSkl7JgMA7AcIsEU4hADjll9eYnEGVkT76SWYDlUGaVzkXZZMakVeV2cmtbI1jRo1pEv8okUL8nJzWRjNok6a1WkS+5+qDOxQrDKOiKkh0MrYZp3SdUmyRy9I6qToKgOeyXUNsz3dUl+CXuv1WUePftetm8fHrU/5+unJeH185TK/ocEiNk5MmycXHCITlusbhQhfH/lEbmiofOI3MkxOzjx3hnxU2GOAGDxEzsbcuaPwGiRiouWkWWNGi8kThOcAMWe+GEf+7C2XRJo6RsRGy4OMpgKjhGc/MTpaLJ4nfpwvJk8U3/YUnn5ipDJGmo4f5CUGeUgG95GLIQ2PELGxYsQo6cCRsWKAl/j2G9GpsxRvj37ykWAS4KAAMXI41aRoQP9i7/7po4b37t591vQZSmOVIeJXryoB0awRpc6DZYiVMkyacq5dlQ5Mr2+/UCtX7qqkq1evdu/e7f7771uzZrUhq66ktWvXULu6detGbTRkWZ6sIsAyyL163ePisuDfr19vWxceAFahtiz89+v3urh079W7OkHWnskAAPsBAmwRDiDAuOWXn1icgRXRfnoJpkPlQH5l0aRW5G91flIrW+Pm5kpXf8smzZq5tbDXzDMv+bH/PnOwI7AKOCKmnwFW/ZZ+ShO+NfMzUURGd83Q/0kFVNlT0ev3JSZ26Nix/8etzwYO1gUPFgMHyPmZ+/SVFjpsmAgiH+4nxk4QcXEiJEB4DBTd3ESQt4iJFPHxIv57+Qhun4Gif38RGSDc3eTQ6OHhIipUDI8SPp5SlRcvFrGhclGlnt8Jf085b/O4iSI8XHj3l13Eo2LE/Fli0Rw54vqrLsI3QK4D7OUl/ALlIGfvgSIoRM6qNTpW/BAvJkyXc1NPGC8HaXu4C/d+UpiDw8TAfnLFJr9BYlBv+SRwYJDo2083sM+B8KCvW3w0c/ZsHTWZ5Fbt11WbTz/Jb69eMTw4Tb/KlaKK9FevyWI3lV50JV8bdvXSXYVUUFDQuHHjF154oZoPzthhOpCS8uILL7z77rv5+fmGLMuTVQSYgtykefPn7r57W5N3Lzn4CsBaqC3bmrzzz7vvotZRGw2ttTxpz2QAgP0AAbYIBxBg3PLLTyzOwIpoP70E0yHOS35yUityKksmtaILlrNNamVr1EmzUpKTWLTLQU6a5TGnwkmz2F7sfR0R0wIs1/hR7E667q0+XmOvplH8KFExyqdd9PrszMwhfkNnu/cqjg0tCvER3t6iSze5stHUsSLAUz7WS6+HDBG+Q+RoZ1JN0k76GRwi5s0Rs6ZIyx3QX45YHh4igoJkL/GsaWLKZBHiKwb1Er37iohoMX2aHEpNe0UFy7mjFy6R3b/e/WSB4cFi+TIxZZKcFmtooBzSHBYo/TkmRoSFiomjRdBQ4eEqgpTZsKjA7IVi9EQxbpzscA4fJnuqh4WJiAi5NtLYOOHtKWfbio0u6j+gpFffTH+/Xh2/GR4be4OclpLqtCVKEAjZ03tdxkFV32LlwWkKndohbOgZLtWGXR6kSintyJG//OUvzZo1O3Om0JBVV9LZwsLmzZpT644cSTNkWZ6sIsBHjx59/NlnmzzycGqz//xWJ2bAUqG2HG7+n/ceeYRad+TIEUNrLU/aMxkAYD9AgC3CAQQYt/zyE4szsCLaTy/BdMjAm2HkThZNakVuRoZGnsbeDliXFi2bR0dHVWHSrDNNIvn/sgIrzN7OETEhwDdvKB2/pHml+iKlE1h99FcO9L2lfPQreZ0qxvSitLS0WGxYs/bbLp2Xu/XQx44sihsrgqJEnwFyAqqIMKmggUFi1Ai5ClE/D9n32+lb4e8nIiLlo8IzZ4tpE0XIEDEmWg51lo8BD5FrJpEbjxgposJEzDARM1IMHSCf4w0NE4MHy8eAJ02Uyx2RNo+MFEPdpdmOjBHjR4vwSDFzjggbJkJC5bDqkEAxsJeIIIvuIw8e6i96dpGrIvkFiwGDRXiEnAt6ZKzo+pWcEZp2jB4hfIJk9zJJ+PQpIiKqtFu/q7FjfL744ttu3U7l5clrLoWiSPFbioMaEEmp7AS+oXaPq0Ojla1SgCl01pkEa19i4p133tmxY8cSqkPdSsUlxd988w21LjEx0ZBlebKKAO/bt++uBx747K9/Pa3MHcU00nGhtlCL2v/tr3fdf391gqw9kwEA9gME2CIcQIBxyy8/sTgDK6L99BK36VCTSExq5Sg0bfaej48XuxyXT+Huw4WRy9ikWawMexdHxIQAk7xJc1PmcCJ/I6m7fkO+JqTaKfZL+Wo/p3whNbi0uHjd+vU9e/TYO8RH7xesGzmmdObMkpDQEve+pV7epaPG6WbN1c2cUTTYs6RPP11UbHFgWLG3r25RvH7MlOKBg4vDAkqjI/XjR+qChpQOHlS6cH7JlOklHgOLe/cr8ehfOnGyfsLk0kHdS4Z6lK5YWTJhjC4ipDjEv2Swt667a/HgfiUhvsUB3sWeHsVdOpf066tbHq8bM7IkKLQoMqp03KjSmEDdnKmlkZHFkTG6KeN0A/qW9O5Z3LdP0SDvYnePkvETS0ZHFwV4lYaG6IODdD4+JR59S+MiSpYvLf1pc2lclD4m5sKAQSM7fdO1Z8/so0flNZciQK0mxS2W0zsrkSmWASHRpV+Jm7dWkKJNak5JiTbsypW7Kunnn392cXHp59HP8HvdSv37y1kht2/fbvjd8mQVAf55xw6qRvennrjZrs3Z1i3OtPqobkBtoRb1ePoJah2dSIbWWp60ZzIAwH6AAFuEAwgwbvnlJxZnYEW0n16CFIiMSHqRJZNa0VWA7IscjB0c1DxVmTQrKb1w8qYzHcY7iwCr2kYarMrtTSHVTtulaVz1R46UVnqAi4qKrl2bv2BBx44dl3h5pfr4p4aEZU+dnDtiZHbv3oeH+maGhO0Lj0wM8L8+1Dvbx/fgmAnX4kb/3mfAXt/AhIEDLg8P/z02NjMsbHf/nkm+Xqn9embERJ6OG5U92Puy5+BC127H+nps7tIjp1vnkwM9UidPOD1q+MHYYaejh2UHhSV5Dbro4XY2yOd8eODFoT4X3Xqe69z5cEzkoUC/vNDgGytWHI4KTpsyfv+kiRljxtyYMulIVGTyQI9T/r5XQv2KYqKuhIcVTppc6D24NDjw8MD+G7/qsM+zX4G/7zEf78L5C1Kjww6Pir46duzp/h5xg736DRyYfviwEg3lbwGq4hLipuwkV/NV41Uf/ZUhUnKKZG+5NuxK+KqSfvzxR7pfhIaEGH6vWyk8LIxa92P8j4bfLU9WEeAfly2jagx5/jn9Z+0utmlZl6AW+Tz/HLUu/seqB1l7JgMA7AcIsEU4gADjll9+YnEGVkT76ZUkpfMcM6iTWtHVB5Na2ScNGtavwqRZLIcd0xHRCPATBm2QPZaKy5HaGez31oRYJHKku4ZFgJRf5TDpIsopvnrlh8WL27Vr177Nx1493Pp1/Obrli0Hd+8R3KNnt08/7dOxY/9u3QZ2/m60r0/4oEFuHb+O7NlrVD+Pr1q37vXN1zHeXrNHxEZ7e7dv9p+vWnw0qHMn787fBfToET3Y27N9e98OXw76ptOAbt17tmrl+uGHg7t36/V5+w6tW40LDh4XEjrU3T3Svc+Q7q5De/QY0qnThCE+3f77Yad2bbt89qnHt50iAwMGunYdMzy6v1vP3t996/Zpu/ZNm3b+pJ1X167enTtN9PMd5T040MMjqFfvUQMHen7bqWv7z7/9pJ37l191af2xd89eg127DujZ0/3zz4e59w328/vvhx/+tHmzDItsvtLxqyaKAIVCPjV9q8tX/qoEkH4SVKDUOs8AT5s2le4XTz31VJMm7zVp/F7jxk0I9qKc/AoLWCu/wgJl85s0bkLtotZNmzrV0FrL021nclXT9OnTqRpP3H9/kz/98Z0/PlaXoBZRu6h1U6sRZO2ZDACwHyDAFuEAAoxbfvmJxRlYEe2ntzIYJ7Uiv2KHAnYLXZctnTRLhR3HESEBfoEJsOzVVK4sUvNuPfSrdgjfvK6/cU196Fd2e167qnb/0q/XLlwYM3p0ly5d/AMD+3h4fPzJpy/Vr//Nd9+NHDPG08ur5ccfN23ePDwycub8+b379u3eo8eEKVO+dXX997//7evnt+mnn6bOmunj79+1R49O3347NCBwwCCvvv37D/LxWRgfP33u3I/atGn72acz5s0Ljojo2acP7Th3wYI5CxZ6DBzYrUePEaNHL1m+IjAszD80NDAiYvz06X6BQeMnTpw+e7ZfQIDn4MFBwSF9+vRx7dGje69eAwYN6uzq2vHbbwcMHhwYHt6jb99+AwaMHDs2IDSke/fun3Xo8NY774RERMyePz9y+PB+Awb6BQZ6DvH5ftmyqOHDO3755d4dysBRig9Fg+JjGPOsWQDpprLqL2WqD+xQGQoR/bz9Qi03VSmNGzee7hd1O40dO87QWsuTVQR4woQJhqrU3TRuXNWDrD2TAQD2AwTYIhxAgHHLLz+xOAMrov30loM6qZUdfryBRbRt28qiSbPY7o7ILQF++plnn3jyqb//44m/kTn8/e9/tX/CQoO1sK21zD8e/8c/HicNe/qZfzz3z6fqvfAsxZlF3v5p2uw9+jgYqd3vUhXiuGeyXVMnzmQAnAQIsEXUnAAD4HCU/6QomRJ9LyRrYnsBR4e++gcG+rHLd1nYXo6I1IYXn32+3tPPPvfk00//48mn/u+JJ//2xBN/I3+wc9j/Bdtau1AAyRmeevrvJGOkZCRmjqgN9H1FG2H6OLACdoXjnsn2TN04kwFwEiDAFgEBBsAsixYt0H6AVehTTXaESa2cAXXSrPj4JWX/FJKSnMQKOyKKNjxX74Vn/vn8U9Icnnni6Wf+Qf5g/7D/Dra19nnmH+QMz/3zqefrPUNiBgG2NY57Jts7jn8mA+AkQIAtAgIMgFnIctUBseQ/ZEF0NcGkVs5Jg4b13d170d0lMzODzoe0w6l1ZhlnxRyeVczhaZIH+qbrEBhvqypsqz1A8XRoZ3AsASYc9Ey2fxz9TAbASYAAWwQEGAAAnBrFHFR5kP7gEGjvrATbagc8+wKhOAMEuMZwxDPZ7nH4MxkAJwECbBEQYAAAcHbUb7cOhPbOSrCt9gOLswPhiAJMsPgDa8HiDACwNyDAFgEBBgAA4GBo76wE2wqqj4MKMAAAOCcQYIuAAHMaNWpYZ57uAwCAOon2zkqwraD6QIABAMCBgABbhFMIsJub6949uwl3915sE4NOF/W/igo3bvIW2woAAMAeMN5WVdhWUH0gwAAA4EBAgC2i7gtwi5bNtf8H0dFRrICRLl07aUuGh4ewAgAAAOwB7bWaYFtB9YEAAwCAAwEBtoi6L8Bubq7a/wPCpNmS/bKlPqdNm8LKAAAAsAe012qCbQXVBwIMAAAOBATYIuq+ADdoWD8lOUn730CQFWvLlLVf+rVt21baMgAAAOwE7eWaYFtB9YEAAwCAAwEBtgineAaYVDYzM0P7P0G/Nm32nro1MNBPu0mlwqeFAQAA1Bbsis22guoDAQYAAAcCAmwRTiHARFkHTkjY0ahRQ3a6qNTuSQMAAKB82EWbbQXVBwIMAAAOBATYIpxFgAk2xxXBlJjIy82lYmxHAAAAdgW7dLOtoPpAgAEAwIGAAFuEEwkwERcXq/3/YJAP47lfAACwf9jVm20F1QcCDAAADgQE2CKcS4AbNKy/bdsW7X+JkZTkJONTwQAAAOwZdgFnW0H1gQADAIADAQG2COcSYKLsqkhEQsKOxk3eYiUBAADYJ+wazraC6gMBBgAABwICbBHOJcBlp8JS2btnd6NGDVlhAAAA9gm7hrOtoPpAgAEAwIGAAFuEEwmwOftVWbVyBSsPAHAsyv+Mg0rComqfOGKdHQsIMAAAOBAQYItwFgGuzDfjCRPGsr0AAI4C7NdasMDaJ45YZ8cCAgwAADXMIK8BOcez1avuqpXLG735L1agHCDAFuEUAtyla6ey34zpRElI2MEya/d0AQBUDdivFWGxtU8csc6OBQQYAABqkujhkdqrLpGbk/PBfxqzYuaAAFtE3RdgOgO0/wcqdJbQpqbN3ks7nKrNz8vN/fzzT7S7AwDsHNivdWHhtU8csc6OBQQYAABqjIb/euXIkSPaq67Kpo0bWElzQIAtoo4LsEn7jY6OMhag/xKSXu1WUmKshwSAowD7tToswvaJI9bZsYAAAwBAjWFcpEbt9W33SWt1LHRy0v5KDoSGAFtEXRZg8lht9FXCw0NYMR8fL1YmIWFHg4b1WTEAgL1h0n6PHjkyefz4cXFxwBwUH4oSi5sRFmT7xBHr7FhAgAEAoMYwjn9WjdfYIQwBthF1WYC7dO2kjT5h7myYMGEsK+nm5srKAADsCthv1SjffgkWZ/uE1Zluro6F/T9rQ5XURhgCDAAAtoMJsLEHeNbM6aykOSDAFlHHh0Abp7nKy80t32lXrVxh/H8ifHy8WAEAgP0A+60aFdovwUJtn7A6OxwpyUmsRfYGBBgAAGoMJsALF85Xfy3Iz586dXJlOoEhwBZRxwW4UaOGpLLTpk2hr8tsE6NBw/rbtm1R/5/27tmNIdAA2C2w36ph0n7zT5xgOSza9gmrs8MBAQYAAGBEK8DvNn7zp21bjZdfojJTYUGALaKOC7CluLv3wuBnAOwZ2G/VMGe/wyIiWCYLuH3C6uxwQIABAAAYMQqw6rrGX41UOBYaAmwREGAAgMNg0n5P5OX9uGTJ4oULQTmYs1/X775j+Szm9gmrs8MBAQYAAGCECbDKq6+9aBwLXeFsWBBgi4AAAwAcA5P2C6qG0X4dVIDp5upYGB+xUYEAAwAAMGIUXTba2TgbVkF+frfuXbSbGBBgi4AAAwAcA9ivtdDar4MKsMPBluWDAAMAADBiToCN6yFBgK0LBBgA4BhoL6agyjD7hQDXDBBgAAAA5jAKMHvWFwJsIyDAAADHQHsxBVVm+tSpWvuFANcMEGAAAADmMCfAbm6uaj4E2LpAgAEAjoH2Ykrs27sXVIaszExt3MaPGQMBrnkgwAAAAEzy6msvGtc9Sk7a/3XHL9T8QV4D1AeA1XxMgmVFIMAAAMdAezElfL28QGXYuuW26ZcgwLUCBBgAAIBJtAJsjuAgf7YXAwJsERBgAIBjoL2YEkzzgDkgwPYABBgAAIBJKhTgChcBJiDAFgEBBgA4BtqLKcE0D5gDAmwPQIABAACYRCvAdHcwXngPpx5at3aNcUR0+UCALQICDABwDLQXU4JpHjAHBNgegAADAAAwSeWnei4HCLBFQIABAI6B9mJKMM0D5oAA1zwtWjZv1KihNqdCAW7c5C3ai2XWIhBgAACoGdp90lqd7AoCXGNAgAEAjoH2YkowzQPmgADXJOSxe/fspjBmZmYEBvoZ88sX4Li42LzcXMpPSNjRoGF97abaAgIMAAA1g1GAc3NyPvhPY7a1kkCALQICDABwDLQXU4JpHjAHBLgmmTBhrDaYxq8g5QhwdHSUdpNWm2sRCDAAANQMxmeAKzPZlTkgwBYBAQYAOAbaiynBNA+YAwJckyxatEAbzLzc3C5dO1G+OQGm7yjafIK+xKibahcIMAAAOBAQYIuAAAMAHAPtxZRgmgfMAQGuSdzde7F4ZmZmtG3byqQAkxurI5+1qMJc60CAAQDAgYAAWwQEGADgGGgvpgTTPGAOCHANw76FEKS7zCcph6yY3FibSURHR7Gj1RYQYAAAcCAgwBYBAQYAOAbaiynBNA+YAwJcwzRoWH/VyhUsqmS82l9JfVkOYSeDn1UgwAAA4EBAgC0CAgwAcAy0F1OCaR4wBwS45mnUqGFCwg4W2PIhZ7aT+Z9VIMAAAOBAQIAtAgIMAHAMtBdTgmkeMAcEuFZo2uy9sn285iBbZusG1zoQYAAAcCAgwBYBAQYAOAbaiynBNA+YAwJcW5h8yrcs5Mlky2zfWgcCDEAdY0B/9xUrlnfr3qXCTOCIQIAtAgIMAHAMtBdTgmkeMAcEuBYxOc+zFnWOaLaXPQABBsDhmDtvdkF+vkmbbfdJ65zj2fRZzs3J+eA/jcvJrDyDvAbQ7ubeEdQwEGCLgAADABwD7cWUYJoHzAEBrl3oWwiLsBHjKsF2CAQYAMfCzc1V/bQmJ+1v9Oa/2FarC3D08Ej17YjgIH+2FdQ8EGCLgAADABwD7cWUYJoHzAEBrnWio6NYkFVq9wtK+UCAAXAgjCpLmLRZKwrwq6+9uHTpD+p7qUCA7QEIsEVAgAEAjoH2YkowzQPmgADbA+yrCWE/S/6aBAIMgAOxcOF846fV5Jhkawkw2e9P27Ya34vAEGg7AQJsERBgAIBjoL2YEkzzgDkgwLVI27atwsNDyHVnzJx27Nix07dSSnISZRJ2+LVABQIMgKNgHPxspGyXrLUE2LiLEQiwnQABtggIMADAMdBeTAmmecAcEOCap0vXTtOmTankMkhph1Ppiwt9hWUHqV0gwAA4BA3/9cqRI0e0n1Zi1szprJi1BJiYO2827bJh43p1XwiwnQABtggIMADAMdBeTAmmecAcEOAao0HD+oGBfpVZ+sgktGN0dJSdLAgMAQbAITBORpWctH/5snj19aaNG1gxKwqwilG8yxHgV197cUB/94Rfdmj/Gkjl8cywLYAAWwQEGADgGGgvpgTTPGAOCHDN4ObmWsku3/JJO5xKFs0OXvNAgAGwf7QDkskqtTLMJoKueQGmArt37VTrwzA5TzWoJhBgi4AAAwAcA+3FlGCaB8wBAbY1TZu9t23bbUGuPuTSn3/+CXujmgQCDID9Y5z7Su3yNT4MXFZKbSfA5vbVrpPEgADbAgiwRUCAAQCOgfZiSjDNA+aAANsU0tTyxzxfSFt3JSHiynbfm6vbG7m22Z0yLybPKyzIZeWN5OXm+vh4sberMSDAANg5Rt01Kqj2eWA2zLjmBVgr50bdVa247CPKoPpAgC0CAgwAcAy0F1OCaR4wBwTYdtA3DNJUFkAVkluy3JKFr+jmPl0OpfPrXV/f5eL+GeZMeMKEsexNawYIMAD2TNnliBhMMmtRgAvy88MjQtHla2sgwBYBAQYAOAbaiynBNA+YAwJsI6Kjo1joVH47tKwo/gMmuhVSsviNS4mT2KFUVq1c0aBhffbutgYCDIDdQva7dOkP2k9oWdg8WDUvwMaDq5AGr1q5HBpsOyDAFgEBBgA4BtqLKcE0D5gDAmwLfHy8WNyIs9lJN1e3Z2ZrEWLZh+ePmniceNGiBawCtgYCDIDdUnbh37IwL615ASZat/ko4Zcdan1USIMnTRzPigGrAAG2CAgwAMAx0F5MCaZ5wBwQYKtD9/KyI59JXCsc8FwZSufXM9kVHB4ewqphUyDAANgtlZntmc2DVSsCrEIazPqr8QywLYAAWwQEGADgGGgvpgTTPGAOCLB1adrsvbKzXl3cP4PElalsdbi61ZO9BeHm5soqYzsgwADYJ0bzJMqapLmttSjAKq++9uLcebPVilXh7UCFQIAtAgIMAHAMtBdTgmkeMAcE2LokJNw2oo+4lDiJ6atVuLbRjb1RXm5u4yZvsfrYCAgwAPZJOWsdqRhnn9L2D1tRgI0eq+XAgRRtZUiP1UWA161d83XHL9TMyMgwtTAE2BZAgC0CAgwAcAy0F1OCaR4wBwTYiri792LhupC2zrp9v1qu7Ixhb1djk0JDgAGwT0z6rRaThmwtATbuUhaTHc4mwTrAtgACbBEQYACAY6C9mBJM84A5IMDWokHD+mmHU7WxOpudZJXnfsvh9wOLte+Yl5vbtm0rVjFbAAEGwA7RjnBmK/0a0a6QZCxjLQE2NwE16wEuZ5Umcx3XoJpAgC0CAgwAcAy0F1OCaR4wBwS4HBo3eSs8PKSSShkY6MdiJVa0Yb5aPmLZh5ZOE12y+A22RHB8/BJWsbKQq7u795owYWyVbRkCDIB9EhkZRtZafieqarYmh0BXmGktyIEHeQ3Yvy/ReBmh11OnTkbfr42AAFsEBBgA4BhoL6YE0zxgDgiwObp07WSczHnVyhWNGjVkBbSQUrKZn38/sJjJqjlIei+krdPueyYn9VLipOvru7CSJrm8e7R2X6J8rSWr1z6o7OPjxQpUBggwAHWMAf3dl/241PhEbjmZwBGBAFsEBBgA4BhoL6YE0zxgDgiwORYtWqBtOEljOVNMsYU3Cwtyi+I/YKZaltL59S7un6HdkUEmfGW7L9uLQQehYtq9oqOjWPWMtGjZPCU5SVuY2sXKVAYIMAAA2Cd0nS/7Z9AKBfjzzz+hHVmmjYAAAwCAddBeTAmmecAcEGBzxMcvYW0ndTTXucq+W5DWMk0tS8nCV84fvS345vj9wOLyZ9K6vCNIW96c09KXjLJLNFVmyHRZIMAAAGCHREdHGS/LTZu9Z8wvR4DpvmYcFlQzPcMQYAAAsA7aiynBNA+YAwJsDvpOwEY1EySQXbp2YiUJJpbXNroxRy0Lm7+qfK4kRLDdtRQveYeV137vUXF371W2OVWeNAsCDAAA9kbjJm9pr/MpyUnGh3fMCTBbuz7tcGqDhvXVTbYDAgwAANZBezElmOYBc0CAy4Fct2yXKcGem2U2WFiQW+HSR1e2+2p3qZCLyfPYERjnMndry7MahoeHaLeqUNOq/LUDAgwAAPYG2az2ykxs27ZFFVqTAkx6zB6KIcr+/dTqQIABAMA6aC+mBNM8YA4IcPm0bduq7PcDQrviLtPL3w4tY3bKKDt1M3EhbV3xkndoq1jR5tpGt/PH/jdPFVHh7NBXEiK05RctWmCs3rRpU7SbVMoZzl0ZIMAAAGCHkPFqL86E+pxLWQEmMS5beNXKFdqj2QgIMAAAWAftxZRgmgfMAQGuEDZtshH6VqH+ZZ1kWJtf4bRVZedtJvst22l8bbP72eykMzmpl3cEsU1lubG2o/aAqpFS9co+yUyUP6FXZYAAAwCAHdKiZfOyA5foJlVWgE3Oc1HNW0MlgQADAIB10F5MCaZ5wBwQ4MrQqFHDVStXsFAQZJK0ic0XXf4DwGW7f8+cyKBMVsxSiuI/0B5TffTLpLdXuKRTZYAAAwCAfULXZ5MTWGh/LTuyiQpgFmgjEGAAgGOgvZgSTPOAOSwV4OjoqBpgwoSxdIO0N1goVOhrxE8/bdPmlD9cuWz3b4U9xpWhZOEr2mOeyMsr+/3GdlBw2OcRAABAbeHu3otdpcuHhLkmLZTdTyHAAACno1GjhoGBfkbHiI9f4unpUYVBONqLKcE0D5ijsgJ88qSxDGCcuj046qO85uDdvzmpFc6YVUn+d+Qa/8+CAAMAgF1hcu5Dc5Aws91tCgQYAODUuLm5mpxllyAT/vzzT1j5cmC7M80D5oAAW51yBJgNVCas0v2rcuaE6Y9SDQABBsAZYEN12FZgb5icAbEspMpsR1sDAQYAOC+enh7aK6BJ1Jn6KwPbkWkeMAcE2OqIFW2Ymhq5ttGNFa7+079GjMekZHxdM0CAAXAG2AefbQV2iMnZK7SQJLNdagAIMADASaHrXdlJGkxSyQl72F5M84A5IMDVZ+evCdpfr6/vwtTUyJWdMdqSZ05ksAJVpnjJO9ojpx0+bG5shS2AAAPgDLAPPtsK7BCTax0ZiVdWSKp5IMAAAGekcZO30g6nai9/RELCDrom7t2zW5tJX+LVlWYqRLsXwTQPmMM+J8EKDw+hO6JdYXIsWV5ubpeundjyEle3ejI7NXJx/wxtyfPHdrACVUasaKM9Mn3jadGyucl5sLQrGAMAQOVhFxO2FdgnjRo1NHkvoNtEJb9fWR0IMADAGWHrpqoWYdz6+eefqIN2KD8w0M+YXz7aAxJM84A5LBVgFnYnweRsImmHU9u2bUVbydi1+ZcSJzE7NcIEuLAglxWoMmTd2iOrf9c3t4LxokULaut7DwDAcWFXErYV2C1Nm71Xdhmk6q+HV2UgwAAAp4O+lLPBzyYtl9TCoquz9oAE0zxgDghwhZjs+927Zzd9pVALsAUnzuSkMjs1cnlHkLYkcWNtR1amavx2aJn2sHFxsWrd6ENk8hmwbdu21OK3HwCAI8IuI2wrsEPoq1R4eEh0dNTSJT8YFywoyM9ftuxHdbxVrcgnBBgA4HSw7l/6ds4KVA3tMQmmecAcEOByaNCwfnz8EhYBgtkjFWN/0zE3DxYbqEyQLZubNfrm6vaq1tLP8ufKKln4CltdSTuDOlWPDdJW0To8AABUCLuGsK3AfujStdO0aVPMrgZ/+6QeaYdT6R7h5ubKDmI7IMAAAKeDjcNRB5FWH+0xCaZ5wBwQYHOQN1Z+/DDrZb2yM4Y5qpFzmbc95U6cOZFxJSGiKP4DtUDp/HrXNrufP3bbW58/usV4hLKwyaXpSw+rHsHGaavQh7EKa24DAJwTdgFhW0GtQ/emwEC/Ks+ASDvSnaIGBgdBgAEAzgV929Ze9aw4A6H2sATTPGAOCLA56GsEazthbgYptqbXmZxU8limqSrX13fRlqw85XQCM1uuZCVVMCcWAKCSsKsH2wpqFzc3V7NdvpaQdji18tOvVA0IMADAuejStZP2qmfFi6z2sATTPGAOCLA5yj46W87p2qhRQ1a4nE7gS4mTWOEKKWe+6LJGXc6XCfoAss6BvXt2szIAAGAS7aWDYFtBbdG02XvlrHVUNciltY/SWBcIMADAuWC9atrJn6uJ9rAE0zxgDgiwOXx8vIytzsvNdXfvxQow2MPthQW55fTZsumgy+dc5m7jAGlG6fx6Z3JuW1EsIWEHqxijbdtW2kXI0AMMAKgkxuuGCtsKagXS1PLHPF9IW3clIeLKdt+bq9sbubbZnTIvJs9j80dooRsf3QfZ21kFCDAAwLnQSgVhxUkXtIclmOYBc0CAzdGoUcPAQD9yxVUrV1TmD+Flpzf//cBi5qtarq/vcja7guFq6uPBJQtfYfsaoa1sl8p8pqiq4eEh9BXE09ODbQIAAHOwqw3bCmoeuoaz+44Rkluy3HJuHyql8+vRzeji/hnmTNgWfySFAAMAnIu2bVtpr3rGxVqqj/awBNM8YA4IsBWh85mFiwSVfdvQQt88Lu8IMqnB549uqfC7S9nBz1Z8qB4AABjsgsO2ghrG5NSGxG+HlpkbNFQOJYvfMPd4zqqVK8pO/VgdIMAAAOeCrqHav1bSa5MXPsqkr/IJCTsqHHdqxHhMFaZ5wBwQYCtCp7d2dLEKaSr7nmESsezDm6vbq6PUKvybPUHfb8r+wd5ac6oDAEBZ2AWHbQU1CRtPp3I2O4nuIOxmYRF0Jzp/1MTjxIsWLWAVqA4QYACA01F2bqE5c2bR5a9ps/datGzu6emxd89t68RU8ju9dheCaR4wBwTYuri5ubKIkaZW8xtJWch+y/Yb42leAIBNYdccthXUGPSVqezIZxLXyvzxtEJK59cz2RUcHh7CqlFlIMAAAKejcZO3yvaSlUMlr7lsL6Z5wBwQYKtjclja1a2e7EtGlbm+vsuZE3zKE/o+waoBAADWhV122FZQMzRt9l7ZWa8u7p9hbu29qkH3LPYWhLXmbYEAAwCcEZN/vDRJSnISXevZ7iZhOzLNA+aAANuC+PglLG7EpcRJ1f/zfNlZrwj6mDRq1JDVAQAArAu78rCtoGZISLht4XeCbi7sTmEVrm10Y29E39waN3mL1acKQIABAE5Kl66d2FDnssyZM6vyl1q2L9M8YA4IsC1o0LC+ydP7TE7qle2+7EtGJTE3a3RmZkaLls1ZBQAAwOqwiw/bCmoAd/de7H/hQto66/b9armyM4a9nVWetYEAAwCcmsBAv7IjedIOp8bFxVay49cIOwjTPGAOCLCNaNSoIbvHGyGPrczqFCrqGhUmZyUhUpKTMPEVAKBmYNcfthXYmrLzLNLdxCrP/ZbD7wcWa98xLze3+jcdCDAAAEjo8ufu3ouozIKrJtFeTAmmecAcEGCbMm3aFBZALRfS1qnTPpf9+71Y0YYk+WLyPHNrMxL0HQIjnwEANQa7BLGtwNYEBvqx/wK6U7B7h9UpWfwGuw1Vf709CDAAAFgH7cWUYJoHzAEBtjUmF6swyZmcVJODnE1Cas3eCAAAbAq7CrGtwKawVSSJ3w8sZrJqIy7vHq19X6KancAQYAAAsA7aiynBNA+YAwJcA7Ro2dzktFhVg7462OHXBQBAnYddi9hWYFPYGnuFBblF8R8wU7URpfPrncm5beh1dHQUq55FQIABAMA6aC+mBNM8YA4IcI1B9/ht20w/yltJEhJ2WGsVCgAAsBR2RWJbgU2ZM2eWNvgX989gmlo+JQtfUZ/mPZe5+/r6LmxrhVzeEaR9d7oZsepZBAQYAACsg/ZiSjDNA+aAANcwXbp2mjZtSkpyZYc6E2mHU+mrD+3IDgUAADUJuzSxrcCmsBlDr210Y45aPheT5xn3rULvcfGSd4y7q1g6U6kWCDAAAFgH7cWUYJoHzAEBri3atm0VHR1F3wPYVwGVhIQdlE+qjNHOAAA7gV2m2FZgO+hGoI08GaylSx+xiayubXZnBSrkXOZta/v5+HixSlYeCDAAAFgH7cWUYJoHzAEBtgcQZACA/YMrVW0RHh6ijfxvh5YxOy2fsv23VRgFfSUhQnuERYsWsEpWHggwAABYB+3FlGCaB8wBAbYHEGQAgP2DK1VtMWHCWG3kr2z3ZXZaPmJFG+3uxM3V7VmZCrmxtqP2CCSxrJKVBwIMAADWQXsxJZjmAXNAgO0BBBkAYP/gSlVbLFq0QBt5Sx8ALor/QLs7UQUBZgfJzDgWHR1VNdgsGBBgAACoItqLKcE0D5gDAmwPIMgAAPsHV6ragnWZlq+vJQtfubx79IW0dQR79NccZ3JSryREsOMw6LBsL2sBAQYAgCrCrqdM84A5IMD2AIIMALB/cKWqLViXafGSd5idaiHv1RauPBU6cCV12lIgwAAAUEXY9ZRpHjAHBNgeQJABAPYPrlS1RdrhVG3kyxfgMyduWzCp8pA5s0Mxqnzk8oEAAwBAFWHXU6Z5wBwQYHsAQQYA2D+4UtUWCQk7tJEXK9owNdWiXfLXIi7un8EOxWDlrQUEGAAAqgi7njLNA+aAANsDCDIAwP7Blaq2WLVyhTbyFS5idGW774W0dZXvsD2Tk3opcVLJwlfYcbSwtZSqMwkWo2mz91h7ax0IMADAMdBelwmmecAcEGB7AEEGANg/uFLVFnPmzNJG/upWT2an5VN2HeAqzALN1lLatm0Lq2RdAgIMAHAMtNdlgmkeMAcE2B5AkAEA9g+uVLVFdHSUNvKXEicxOy0fqwgwWbf2CPHxS1gl6xIQYACAY6C9LhNM84A5IMD2AIIMALB/cKWqLdzde2kjfyYnldlp+VhFgH87tEx7hLi4WFbJugQEGADgGGivywTTPGAOCLA9gCCDqtGgYX36Grphw/r4+CWenh6NGjVkBQCwIrhS1Rb0Sc/LvW0JovLnwWKUFWCLdidKFr7C1kD6/PNPWCXrEhBgAIBjoL0uE0zzgDkgwPYAggyqBtkvO3lIhgMD/exwUhlQB2AnG9sKbAqbB+vKzhjmqOWjnRDrbHYS21oh1za6GXcnUpKTWPXqGBBgAIBjoL00E0zzgDkgwPYAggyqBlsdVEtCwo7o6Ki2bVuxXQCoMuwcY1uBTfH09NAG/0xOaun8ekxTy0GsaHMuc7fc8URGhZNIl+X8sdvWYZowYSyrXh0DAgwAcAy0l2aCaR4wBwTYHkCQQdVgZ45JUpKT6NuqHa60CRwOdmqxrcCmNGrUkMXf0k7gKkPCzN66zl9PIMAAAMeAXZ2Z5gFzQIDtAQQZVA125pRP2uHUOXNmubm5NmhYnx0HgMrAzii2FdiaCRPGauNfWJBbsvgNJqtWp3R+vTM5t400SUjYwSpW94AAAwAcA+3VmWCaB8wBAbYHEGRQNdiZU0nycnMXLVqASbOApbATiW0FtqZxk7fYVFi/H1jMfNXqXEmI0L4j4ebmyipW94AAAwAcA3aBZpoHzAEBtgcQZFA12JnTPnb7yGXJiYdzWH45bNiw3sfHC5NmgcrATh62FdQAZee9I0FlympFyg5+rtvL/xqBAAMAHAN2jWaaB8wBAbYHEGRQNdiZ09BnvUqLyK2hi/dtSsxkBcohIWFHeHhIi5bN2VsA56Rps/caN3mLZbJzhm1t1KghJl2zNQ0a1i879V0VJrWqDEXxH7Cljwgn+S+GAAMAHAN2jWaaB8wBAbYHEGRQNdiZYxRgI83CtgyZs3tZwtG8/JOssDnUSbPq9iKfoBxIsbZtk/eFvNzcuLhY7SbteUJoNwUG+mVmyoV26Pwpa87Airi5uWr/FwjS1Jur2zN9rSZkv2ezk9gb1fnJn41AgAEAjgG7TDPNA+aAANsDCDKoGuzMYfar5U2/DQNm7pq3NS0rJ5/tZQ7jpFnsTUHdxt29l/Y00DqPNp8w5rMVepxHk2qL6OgobcBVrm71ZBJbZa6v76JdN1hlw4b1rBp1GAgwAMAxYFdqpnnAHBBgewBBBlWDnTlMes3RefwvMzelHkjngxvNoU6aRV6ESbOcgbJyFRjop25i+Wpml66d2MxMdLaom4DtiI9foo25yqXESRYtDmySsrNeESnJSU718YcAAwAcA3axZpoHzAEBtgcQZFA12JnDRLdCqjBp1qqVK3x8vDDGtQ7Ttm0r9p9OqAMBWKZaWB35rMXT08N4NGAjGjSsv3fPbhZ54kxOapW7gq+v71J22DNB/8XONjsABBgA4Biw6zXTPGAOCLA9gCCDqsHOHOa3lQeTZgEtZTuB83JzP//8E5bZtNl7Kcncl5xklmB7oFGjhhs2rGfxVzmXufvaZveSha8wxTVJ6fx6pL7nj972ZcAI/Rc74dxmEGAAgGPALtlM84A5IMD2AIIMqgY7c5jWVoEqTJq1d8/uCRPGYvrfOsacObPYf3TZnt6EhB0sZ9u2LQ0a1meHAjZl2rQp7H9By4W0dVe2+95c3b7s0Gixog1J8sXkeWWnejZCgu2cDz5AgAEAjgG7ajPNA+aAANsDCDKoGuzMYTZbHao2aRZ9F8ekWXUD8thVK1ew/+LycbbHRO0HHx8v9n9hjjM5qSYHOZuEPs7sjZwHCDAAwDFgF26mecAcEGB7AEEGVYOdOUxirYWlk2ZlZmZg0qw6AP33le3jNQf9pzdt9h47AqgxWrRsbnJarKqxYcP6jt90YG/hVECAAQCOAbt8M80D5oAA2wMIMqga7Mxh4mp1qjBpFn0px6RZjovJp3zLoj4hzPYFNQ9Zq7qGc5VJSNiBQRwEBBgA4BiwizjTPGAOCLA9gCCDqsHOHOartqNqk2YFBvph0iyHw+Q8z4wuXTuxvUAtQv8d06ZNMfuXi5MmHu9XF/3G/6MRCDAAwDFgV3OmecAcEGB7AEEGVYOdOUxTa4CqTZoVFxeLSbMciLIr/Wrx8fFi5YGdQJ+y6OioDRvWm5wsOiFhB+WTKjv5aGeTQIABAI4Bu7IzzQPmgADbAwgyqBrszGF2WpNUedIsdDo5BJ6eHuy/TyUuLpaVBHZIg4b1tQ6cl5uLv0CVDwQYAOAYGK/sKkzzgDkgwPYAggyqBjtzmJTWFlWeNAsr6NgzZRcHpv81VgbYJ2Xnx0o7nIpJy8oBAgwAcAzYxZ1pHjBH+QK8YO5c7VaChR1YBQQZVA125jARrXWqNmmWp6cHJs2qDOoAV4rYhg3ryWdYJG0CJZZjSzIzM9Thu9RMjBSoMhMmjGWBVdm7ZzfmaTcHBBgA4BiwKzvTPGCOcgS4rP0SLOzAKiDIoGqwM4f5p/1QhUmztm3bEhjoh06qsjRoWJ+EsIaM157Iy82dNm0K/jhiEfQhYmHUsmHDegy7MAkEGADgGLDLOtM8YA5zAmzSfulbFws7sAoszmwrAOZgZw7TTjsEk2ZVE3f3Xk6ovlpIg3EnqiRubq4semXBOHaTQIABAI4Bu6YzzQPmMCnAsN8ahoWabQXAHOzMYbZpz1Rh0qyU5CRnnrG2QcP61HwWE6dlw4b1GL5bPp9//kk5c3drwUxmZYEAAwAcA3ZBZ5oHzFFWgGG/NQ+LNtsKgDnYmcMk01GowqRZc+bMcqpJs6ilpHwsDk5OSnIShkObo0XL5hWu3qwFa1kxIMAAAMeAXc2Z5gFzMAFO3r9f+6sK7NfWsICzrQCYg505TCwdDksnzcrLzXWSSbPM9f2uyd7qf2h052S/r5O8G+zqUMdov38gNc37YOwPmWvzTp5gbSfwCKtJ6OOQkpzEYlUhmGZMCwQYAOAYsEs50zxgDibAZYH91gAs5mwrAOZgZw7zScelCpNmkQu5ubmy+NQNTK7BS+r7UWJvZox1mKZ7u8/IiGdBIDB8l9GgYf2EhB0sSpTDHh0vuzASFgfWAgEGADgG7FLONA+Yo3wBhv3WDCzsbCsA5mBnDtPIOoClk2bVvUsW+UzZWa9CDk9kfugkdE72yyrI1oaCtK1Fy+YsaM7MqpUrtPEh1LHirE+4abP3sDhwOUCAAQCOAbuOM80D5ihHgGG/NQaLPNsKgDnYmcPssS5RyUmz6Bs8C5GjU3YRV6e1XxVyYDYcmkSOBc1p+fzzT7SRITIzM9Q/EJQV4AYN62/bxr8AoEddBQIMAHAM2EUcVBPYb03Cgs+2AmAOduYwaayrlD9pFguRQ0OKwqYy+iFzLRNCJyQqbao2JgRmw1KhG7c2LHm5ucZZ08sKMGU2atSQ5Sck7FDLOzkQYACAY6C9goNqAvutYVj82VYAzMHOHCaKdR510iwWBBYih4bsRdu0vJMnmu7tzmzQCWm0u2Nafro2MpjEWKVt21basLi79zJuMinABL3Q/pElMNDPuIszAwEGADgGxss3qCaw35qH/RewrQCYg505zA+dBBYEFiKHho1/Xpa1kamg0xJ7ZKY2Mhs2rGehc1rIYPfu2U0BYStmmxNggl5PmzYl7XDqnDmzMKu2CgQYAOAYaK/soMrAfmsF9r/AtgJgDnbmMDN0ElgQWIgcGjahkffBWOaBTkv7/QO1kSG7Y6EDjHIEGJQFAgwAcAy0V3ZQNWC/tQX7j2BbATAHO3OYGToJLAgsRA4NW8+mTi72W2W0kcnLzWWhAwwIsEVAgAEAAADbov1eQrCtAJiDnTnMDJ0EFgQWIoeGzYDlVAv/VghbD4mFDjAgwBYBAQYAAABsi/Z7CcG2AmAOduYwM3QSWBBYiBwa1jRmgE4OCw4LHWBAgC0CAgwAAADYFu33EoJtBcAc7MxhZugksCCwEDk0rGnMAJ0cFhwWOsCAAFsEBBgAAACwLdrvJQTbCoA52JnDzNBJYEFgIXJoWNOYATo5LDgsdIABAbYICDAAAABgW7TfSwi2FQBzsDOHmaGTwILAQuTQsKYxA3RyWHBY6AADAmwREGAAAADAtmi/lxBsKwDmYGcOM0MngQWBhcihYU1jBujksOCw0AEGBNgiIMAAAACAbdF+LyHYVgDMwc4cZobWpXHQpnGrDmxKzJy89mDb6G1say3CgsBC5NCwpjEDdHJYcFjoAAMCbBEQYAAAAMC2aL+XEGwrAOZgZw4zQyvSLGzLgfRc7Xut2ZXeY9KvrFitoK0VwULk0LCmMQN0clhwWOgAAwJsERBgAAAAwLZov5cQbCsA5mBnDjNDKzJvaxp7L5WdB7OHzNnNCtcwrEosRA4NaxozQCeHBYeFDjAgwBYBAQYAAABsi/Z7CcG2AmAOduYwM7QiWTn57L20pGXmRS3d3zhoE9urZmCVYSFyaFjTmAE6OSw4LHSAAQG2CAgwAAAAYFu030sIthUAc7Azh5mhFWFvZJK8/JMzN6XW/OPBrBosRA4NaxozQIv4eF+/zsl+Ku/u6cy2Wh16i6+TvOkFvW//g8PGHp23MecXLT9kro09MpM2fZTYW7tj5WHBYaEDDAiwRUCAAQAAANui/V5CsK0AmIOdOcwMrQh7o/JZsyu98/hf2BFsB3t3FiKHhjWNGWBlIMNclrWRHYfIKsienL6o6d7urHwVIMUllaWfxhx607yTJ9g7lsNPObuqoMHsICx0gAEBtggIMAAAAGBbtN9LCLYVAHOwM4eZoRUpfwi0ScatOsAOYiPY+7IQOTSsacwAK6Rzsh87AoM0dezReY12d2Q7lkP3lGAy6rT89LKHMur0xpxf2NYKmZe5wvgWlYQdgYUOMCDAFgEBBgAAAGyL9nsJwbYCZ6Nt21aLFi0gKvySys4cZoZWhE0BTb+u2cUVqCw/JWc1C9vCDmV12JuyENknDRrW9/Hxcnfv1ahRQ7ZJC2saM8AKIbllRzAJ+WplBkV/vK/fr7n72L5aotKmqiUPnEhlmypkcvoi4xtVEnYEFjrAgABbBAQYAAAAsC3a7yUE2wqcCrJf45mQmZnRpWsnVkCLsaQKM0MrwgR4U2ImZbaN3jZzU2pe/kntJkZWTr6tV0ti78hCZIc0bvJW2mGDItJ/ccdvOrACRoyNUmEGWCHzMlewI5hjWdZGti+j/8FhWQXZbC8G+bZaODEvhW0ic6bKxB6ZqfJD5lqybuMwadqqHUFdSYwHV2GhAwwIsEVAgAEAAADbov1eQrCtwKmIjo7Sngx5ubmenh6sjBFtSYKZoRUxKcAqzcK2jFyWXP4Y6ail+43lrQ57LxYiOyQw8LaRyeX8F2uLEcwAK0QrwCScxnyyzRkZ8cZNKn0OhBsLMLwPxrLCJjEOY16TvdWYSa+NxylLo90d1bmyqoDxLVRY6AADAmwREGAAAADAtmi/lxBsK3Aq3Nxc2flAkBWzYiqsGDNDK1KOAKu86bfBf/5eVkyL7ZYLZm/EQmSHmPwvDg8PYcUIVoYZYIXEHplp3FcrwCrdU4K1U1X9lLOLFVAhMTaWUUnLTw85PLFzsh8dQdstTFKt7qIVb6MVWx3jW6iw0AEGBNgiIMAAAACAbdF+LyHYVuBsJCTsYKcEMWfOrAYN67OSrAwzQytSoQCrkAZHLd1vclA0ZdpoLDR7IxYi+8TcfzErxgowA6yQ8gWYmJy+yFiAtJZtJT5K7M1GPq/J3qp9YJgc2LjJ2IcMAbZDIMAWAQEGAAAAbIv2ewnBtgJno1Gjhhs2cK8jVq1cweZMYgWYGVqRSgqwSse4n012Badl5jUO2sQKVx/2Ltr42C2Nm7xl0oHZfzHbygywQioU4JDDE40FSHTZ1ka7O/6Us8tYgCD7LTtldOdkP3qj/geHGXN+yFxr3AUCbCdAgC0CAgwAAADYFu33EoJtBU5Ig4b1Fy1awE4MgqyJ3MlYjG1lZmhFLBJggkTX5DTRk9ceZCWrD3sLY3DsHBJd0l1WeUL7X8w2MQOskAoFmDKNBcrOg8UmkU7MS6nkgknaw1ZheudKYnwLFWNggUkgwBYBAQYAAABsi/Z7CcG2AqclLs7E5EP0RbZt21ZqAbaJmaEVSTyco32jCgWYIAfeedDEvMHtY7ezktWEHd8YPYdgzpxZrP4E/Re3aNmctrJ8ZoAVUo4Ak8oyvzUuYqTSdG937RPCWQXZHyX21hYoB22/MdVBu4net3OyH+F9MJY2hRyeWPnDMoxvoaKNKigLBNgiIMAAAACAbdF+LyHYVuDM+Ph4sdODMK6dw/KZGVoRMl7tG1VGgIkWkVvTMvO0OxJW7wRmx9dGzyEIDw9hTSDU/2KWyQywQrQCfOBEqjpzFf2ckRGfln9b/zy5LluISPt4MKEd4Vwh2nWA6TW5N6HVaUb7/QPZESoDOwiLKmBAgC0CAgwAAADYFu33EgAqg7p2DstkZmhFqibAROjifdodCVJiVqaasOPXGei/mOUwA6wQrQCXj/fBWLav1pB/zd3HtpZPhSsGM1gvcSVhB4mOjgLlkJmZoQ0XBLh8IMAAAACAbdF+LwGg8lDS/srM0IpUWYDf9NtQthO4Y9zPrFh1YAevwzADrJBKCjD5LXu4t3PybSsVd08J1m6tEO2+lcGi7mUj7CDAIiDA5QMBBgAAAGwL+2oCgAWc/N+aQ8wMrUiVBZhYlnBUuy9h3TWB2cHrMMwAK6TyPcDkwNpncbXjn7MKsis595XKu3s6G/ctn59ydm3M+aVs53MlYUcDFgEBLh8IMAAAAGBb2FcTACqJ/fcAE+NWHdDuS0Qt3c/KVAd28DoMM8AKqbwAE2n56cbHgNdkbzXm/5C51njAykAibdyXIMulahAkuur0V9plhKuD9l2ApUCAywcCDAAAANgW9tUEgAqp4WeAqzALtJEhc3Zr9yVGLktmZaoDO3gdhhlghWgFmM0CTa479ug87WxVBMmqujUxL8WYScWMe1WGr5O8jfsSZLysgLXQvguwFAhw+UCAAQAAAABqBzuZBdrSdYC1kO5q9yVCF+9jZaoDO7g2eg5B27at2ARFKtHRUSyHGWCFlCPAKo12d/whc62xDNHnQDjla8WYDqLdpULY88Nscmkron0XQjvhE6iQRo0asvMQaIEAAwAAAADUAvazDjCbyMoiAZ63NU27L9F36k5Wpjqwgxuj5xC4ubmWne1Z7d6nrSyfGWCFVCjABDmwdsJndTXgZVkbjTn0Wlue0f/gsDXZW8cenWd8TpgJcJWX+a0Q7bsQ2qgCUE0gwAAAAAAANUqDhvUXLVrAvuITCQk7Gjd5y1iMbWVmaEXYG1VegE3OAt0+djsrVh3YwY3BsX/Mde936dpJLcA2MQOskMoI8Mf7+mlX6FWnpNLuSFtNrtPbdG937aPCxo5iCDCoA0CAAQAAAABqjkaNGm7YYOLR1lUrV7CBi6wAM0Mrwt6o8gJc8+sAa+Njz0yYMJbVnEg7nGrs3ifYVmaAFVKOAL+7p3OfA+Fs/DOh+ip7jjcxL4VyjPuS+tKR2WK/xrWC2SRYNfYMsDFoAFQfCDAAAAAAQM2RkLCDfbkn5syZ1aBhfVaSlWFmaC3e9NvA3qiSAtwsbEvZ7l/rTgFNsOOzENkn06ZNYdUm6P+dTU3ECjADrBCtAJOgdk8JppzJ6YvotTFfS8jhicZ9Z2TEs63qqkUEy1dRx04TbBkk9aFiW6B9F0IbNwCqCQQYAAAAAKCGcHNzZd/siejoKFZMhRVjZmgtWkT+b6SrSiUFuOwKwHn5J8mKWbFqwt6ChcgOadu2FaszsWHD+rLzErEyzAArRCvAFUKFtfuSx2qfDS6HvJMn/A+N1u6r3ZGEmY5skmVZG+dlrtD2LVuE8S1UWOgAqA4QYAAAAACAGoJcV/u13jgfkkm0JQlmhtaiCgLcOGgTlWF7EfO2prGS1Ye9BQuRHRIeHsLqvGjRgrLd+wQrxgywQqLSprIjmOTX3H0mByq33z9Qux6SSWjfsk8Ilx1ZXQ7kz8YJtCyCHYeFDoDqAAEGAAAAAKghtN2D2vmQTGIsqcLM0FqUFeCsnPyopftN9uV2jPt55qZUKsB2IQ6k577pt4GVrz7sXViI7BDWAzxhwlhWwIi2GMEMsEKa7u2uneCqLD/l7GKdtwxS07JjoVVIffsfHMbKq7BHiCukasOk2UFY6ACoDhBgAAAAAICagwRp0aIFBHsitCzMAZgZWouyAmwkLTNvU2KmStnHfbXk5Z8kN2ZHtgrsjViI7JOO33SIj19C/8Vubq5skxbWNGaAlYHcUu3FJRNWn+AlJqcvovzK97u+u6dz52Q/49Bl74OxpNasDIO8ms2SZQ6qWIVHMwk7DgsdANUBAgwAAAAAYI8wB2BmaC2ahW1hb1QFhszZzQ5rLdgbsRA5NKxpzADtHBLs/geHkTAbxZsxL3NFVNrUqtkvwYLDQgdAdYAAAwAAAADYI8wBmBlakZ+Ss9h7VZ68/JM9Jv3KDmhF2NuxEDk0rGnMAJ0cFhwWOgCqAwQYAAAAAMAeYQ7AzNCKNAvbUnZK58qQeDinfex2djTrwt6RhcihYU1jBujksOCw0AFQHSDAAAAAAAD2CHMAZoZW502/DaGL95X/rK9KXv7JeVvTbPTQL4O9NQuRQ8OaxgzQyWHBYaEDoDpAgAEAAAAA7BHmAMwMbUf72O1RS/eT4m5KzDyQnmucCmvcqgMjlyX7z9/bOGgT28V2sCCwEDk0rGnMAJ0cFhwWOgCqAwQYAAAAAMAeYQ7AzNBJYEFgIXJoWNOYATo5LDgsdABUBwgwAAAAAIA9whyAmaGTwILAQuTQsKYxA3RyWHBY6ACoDhBgAAAAAAB7hDkAM0MngQWBhcihYU1jBujksOCw0AFQHSDAAAAAAAD2CHMAZoZOAgsCC5FDw5rGDNDJYcFhoQOgOkCAAQAAAADsEeYAzAydBBYEFiKHhjWNGaCTw4LDQgdAdYAAAwAAAADYI8wBmBk6CSwILEQODWsaM0AnhwWHhQ6A6gABBgAAAACwR5gDMDN0ElgQWIgcGtY0ZoBODgsOCx0A1QECDAAAAABgjzAHYGboJLAgsBA5NHm5udqmvbunM5NAZyarIFsbHBY6AKoDBBgAAAAAwB7RCgDBzNBJYEFgIXJoUpKTtE1rv38gk0BnRhsZgoUOgOoAAQYAAAAAsEeYAzAzdBJYEFiIHJoNG25rXZ8D4UwCnZaPEntrI5N2OJWFDoDqAAEGAAAAALBHtA5AMDN0ElgQWIgcmmnTpmibNiMjnnmg0+J/aLQ2MgkJO1joAKgOEGAAAAAAAHtE6wAEM0MngQWBhcihcXfvpW1aWn56o90dmQo6J7/m7tNGJi4uloUOgOoAAQYAAAAAsEe0DkAwM3QG2sduZ0FgIXJoGjVqyFoXe2QmU0EnpM+BcBaWjt90YKEDoDpAgAEAAAAA7BGmAUwO6zCdx/8yc1PqgfTbJklWYSFydOLjl2hbl3fyxMf7+jEhdCre3dP5wIlUbUzwADCwOhBgAAAAAAB7RKsBBLPEOsabfhsGzNw1b2taVk4+a7iRvNxcFiJHp23bVqyNpH9O68Bkvz/l7GIBcXNzZUEDoJpAgAEAAAAA7BFmAswY6wbNwrYMmbN7WcLRvPyTrL1lWbVyBQtRHYBNhUVkFWR7H4xlcljn6Z4SzPp+CUx/BWwBBBgAAAAAwB5hMsDU0aFpEbk1dPG+TYmZrI3lsGjRgkaNGrIQ1QEaNKy/d89u1lji19x9/odGf5TYm4liHePdPZ3J9jfm/MKaT2RmZjRt9h4LFwDVBwIMAAAAAGCPMB9gDumItI/dPnJZcuLhHNY0c+Tl5sbHL/H09Gjc5C0WnLoEaR7JHmu7lqyCbJZTB0jLT2c5Wui/HnNfARsBAQYAAAAAsEeYEjCZdCDKmdTKJGSDc+bMcnfv1aBhfRaTukqLls1N9gM7J3QCwH6B7YAAAwAAAADYI8wKmFXaOZWZ1IqRkpw0bdoUpzWfRo0aLlq0gMXECUlI2IGRz8CmQIABAAAAAOwRJgbMMO0Tiya1Utm7Z3dcXGzbtq1Y850T8v8NG9azEDkJaYdTPT09WEAAsDoQYAAAAAAAe4TpAVNNu6IKk1pt27YlMNAPfX0madGyeXR0lJMMilZ7/rHcEagxIMAAAAAAAPYI8wTmnPaApZNaEc4wqRUAwJ6BAAMAAAAA2CNMHZl81iKY1AoA4LhAgAEAAAAA7BGmkcxCa5gqTGqVdjh12rQpXbp2Yu0CAIBaBAIMAAAAAGCPMJ9kRlozYFIrAEAdAwIMAAAAAGCPMLFkampTqjypVYuWzVkrAADAroAAAwAAAADYI8wwmaPagqpNauXj44VJrQAAjgIEGAAAAADAHmGqyWTVilRhUqtFixa4u/dq1KghqzMAANg5EGAAAAAAAHuEaSez1mpS5UmtsF4rAMChgQADAAAAANgjzD+ZwVaNqk1qNWHCWExqBQCoG0CAAQAAAADsESaiTGUtogqTWiUk7AgPD8GkVgCAOgYEGAAAAADAHmFGypy2MlRhUqtVK1dgUisAQB0GAgwAAAAAYI8wNWVyWw6WTmqVl5uLSa0AAE4CBBgAAAAAwB5hmsosl1G1Sa3mzJmFSa0AAE4FBBgAAAAAwB5hvsqMV6UKk1qlJCdNmDD2888/YW8HAADOAAQYAAAAAMAeYeKq9V5MagUAAFUDAgwAAAAAYI8wgyXvrcKkVhs2rPfx8Wra7D12cAAAcE4gwAAAAAAA9ghTWUsntfL09MCkVgAAwIAAAwAAAADYI0xrK8Q4qVWDhvXZoQAAAKhAgAEAAAAA7BHmt+ZQJ7Xq+E0HtjsAAICyQIABAAAAAOyRvNzyxjwnJOyIjo5q27YV2wsAAEA5QIABAAAAAOyRRYsWMOklNmxYHxjoh0mtAACgakCAAQAAAADsEbLchIQdJL15ubnx8UswqRUAAFQfCDAAAAAAAAAAAKcAAgwAAAAAAAAAwCmAAAMAAAAAAAAAcAogwAAAAAAAAAAAnAIIMAAAAAAAAAAApwACDAAAAAAAAADAKYAAAwAAAAAAAABwCiDAAAAAAAAAAACcAggwAAAAAAAAAACnAAIMAAAAAAAAAMApgAADAAAAAAAAAHAKIMAAAAAAAAAAAJwCCDAAAAAAAPj/9u78K6ozzQP4HzJ9elSo5d7aq6iFKqCAUjTi1iZqzNbDNOmYaGKCCeOGooAUQrHKVoCoiJrRqG3SJ8uxM4nppE9MxnYSJyJmU2ISl8SoqDggzzzknXNPzS0oS6WNge85n1Pn+t7nXS6/fX3fWwUAMC4gAAMAAAAAAMC4gAAMAAAAAAAA4wICMAAAAAAAAIwLCMAAAAAAAADwizEnOhx6n06faLHqHphmSPElqApGEQIwAAAAAAAA3Gs2jWu29HzelJ2r3e8u1f5Jp5NmzDRfOJZ26sPUN1/OWL9c9vokVZe7hwAMAAAAAAAA947FaHnEunaF/E6xuasmtafS2b3S9FedTp+dbbr+aRqdSadrD1Bv8lefOYqKDFarVtX9biAAAwAAAAAAwD3iS8x+3nCg2neqwtNdM/nLEt/xQumjF7WvDwXg6ebek7PpXIC+n0p96dTroEHnoYOO7OkTVIPcMQRgAAAAAAAAiJfX62xqrM/OzsrITM3KyuDPg2+9mZPzuKpsWFN0j6/RfBqUz5XYuqq8n5e7jq83fbpOOrHaeUjLAXiGqffrTPrOQ2dm0OWZdCmFLqcT+b7usj72iF411J1BAAYAAAAAAIC4zJs/9/33Dh09coR9fPgwX/NnXt5SVdmwJktPbDCfrHWfL7V+uTqhu9TzxUZHd9DxWb3/QjD9E61OmjVbS+cn008z6bSfvvfRVf+QH61E7m96nPPnaVQD3gEEYAAAAAAAgHuncO3q3NwcVeP9Y9bs6R/+7QOn0xLZKMmJi5csEtG3KlRutRmefDLHZJZYZFkMbu30VYmfVSf/VGbpCdlPV6X2BB1f1XrON0/vWWbf83DScp1e4/ZomkOuT1730KmpdCWTLnjorI167TRgIjKe7J44eUqiatjbhQAMAAAAAAAwIs5+aX6vqvFucJJ8eOE8VeP9gwPwx4cPZ2dnKS38F2hraeboW1tTGQikKe3FRYX7XtkTTwY2as3Pat6r1AyGvOcr3WfrM8/W+r4N2b7J8+2d4V9g0Bkii53WiYuekD9+M52uplJvEvW66YaT+nVEvjdef0A23FUGRgAGAAAAAAAY0VOLcjn7xfmO6y3l5uaIfdQ4o6OYXZU8R1d29tQdnR3K+NEBmKWkenjZB/bvi9wZ5rXF+RSP2spbAlRtv16sPbvRejY8/VJV0tn5iWtlSaeqVPBEu7a46WYmDfqoT6IBA1EyUebKVWZV5W1BAAYAAAAAgHFHBNHI91e9XmdhYUFWVoZSI0hy4pw5M6JjHrfPfXBWRXlZMFii3OVBFiyYm5LiVspUuMtjjy5I83uZOEXMjSNNzYqLCjkAC1Wh8njS5i2pFsn/7NzeoRx7HjYAs+gMzAE4+rB0NJ9paqX/TJOHShN6Q87ecue5GuP1x/S1qrJospywb0+AyEU3tHRzApGZyP7Vl7bU1Dv/YSQEYAAAAAAAGJs4o3LSiw6NnPHEtmpwQ7GIcCLdiZwZvdnLKTQcbhLXYtvTkWTm0MjFf371AH+KjVBlECUWuj0OZXbuuGrVcr7gsh2dHdnZU7mY54oxtbjFEV3sAysTRdYoRnpYlehFMqNJd/CtN8XgIwVgxlGZy5Q/BVfeMgDrpYRF6W0dAarQ9JWaLgWt10KWwRelD4ySSVU5rDS/4YvjNiIf9ZvppoEGrZyHyzY6VGXxQwAGAAAAAICxaaQsF312V9nMHPa91shGvj6wf5/YMhXHhlV9rTZDW0szR1mRKkXojSwTq5o5cxqX8d0YUyvrFzWcmd95+y/DRlMWI7hGUi1SaRfBmFtijxO5SK4UK48sUHFKqRX279r9VGG+WmbvK0u4HjLcyLYsVpXFUFbqpsFpdNNFA2k0aCQydh03Ol0JqrI4IQADAAAAAMDYFJnWCteu3tHZEQyWLF6yiHPp0SNHOMdWVVa8vGsnpz5OmJz68l/Ke27pYr5VW1O5YMFcxsUrVrzEcZfvVpSX5ecvEzuxrCpUzgXBDcXin8q2qjhcLcaMzIciYW5uDZdvDHIlTyHicYypeUYxLAuHm+bNnxtnNFUeduEj8/lTGXBre5tqkbyq5559RnkQ0cK3+Kl5SUpHcc01fOu2doAXyAXtTqqUBqts/dXm/lDCzfXS5xbZpiqLYfKUxL6rZqIkIonIRiQTWZ97bsSXh2NDAAYAAAAAgDFIfHexSGt8zflQJMlInH7F90txAYdG1V2FiMrimnMvB0Ill0Zat26NOBetbLEqWZGJDWG+yyGW5+UL8T5t7KnZ3j27lWtlP1klnocVRJ7nC5GWld/15VUpP8400nq4Zk3BSmWPWpXwh7XC/dewi+ptg7XSYLnmRo1+cLF8gFeoKovBYp302n65+6Sj67iu678Tuo7bTp5Mrq7+f18cHT8EYAAAAAAAGIMiM6Egwl5kiwpnVA6HMQoiRb7fOyxOodEBOGeEb5OOPTU/S+yfYrqDhx0Vsf8CLtnfFDgftlGTY7DJRRs1A/U2+oNli6rsloymiTb7BKttosDXJvNEVU2cEIABAAAAAGBseurn745aU7AyKysjIzNVdYJXZe6Ds8RR51u+RhunWT9/1VZVqJyzK8/Og4+0XzoqU9/Ww94b0zVLKn4zsMlEdWZqsFONfaDJSbmWbaqyW0mwa9I9E2Yn63+XrJudnJBt/+dpLt10syHWzvNIEIABAAAAAGDMUn53V5zgHemXhMSZ4QP7943uz+1Gzs6DD5tvR3HqOB/2nnlMX73NQR0pFE6mRjvVGgfDFvo3z8HbOgIt66Rl1t2rEj9Yrj20yvDeOu87hd53V9gOZSY+pqqMBwIwAAAAAACMcW6PI8Zv8wr/uKyY5vfGnn10p47nYe+NPOe/7/FTi5UaDFRvpJqEwbCNyo3nrDqPqjKGZNPkjd6umsBXJe5PyhzdId+nFRlHgrYTMye+qKqMBwIwAAAAAAAAjDK9TlPoOtjppnoNtXAA1lPlb6hOT2EzLXQWqIpjeNJf1vxAT8O005WTPw/6jq367XsFug+KzH9/1LxBVRkPBGAAAAAAAAAYZQatea35wx0uak+mbdMobKF6LdVL1GKjNbZuqxzXHrVbDpSkHN31x4sl5mMbXcfXaP5eoD0SmtxV5vwi196gl27714ARgAEAAAAAAGCUmXX2oOvIDidtTqI2L7X5qDaR6ibRpkTakkRLjH+S9bKqi4pFb3vB8dqmKT/UZX1RKB8L+T8PBT5bqf1wvf2ToOXkC2ltBqNW1eWWEIABAAAAAABglFll+3rNkS0SNeqoxULtdgrbqMVJHX5q5VScQkus+2xysqqXwqFPedq4u9x+uSKlp9jUXeroKfOcK7J1rTEeXW09WmL55I/GRklGAAYAAAAAAIBfmtVgWa0/3DKR2pKo1U7V/zR00aSlJiM1uqgmYegs9Dr5+Bw532tNV3pJcqLXMmW+Y9UK/X+GzBdL5O+qUs43P3S2Yfa58LyLZb4TRYbjFVldVUmnc3RNOj2OQAMAAAAAAMAvTZZ1+dLbWyVqs1GLnhoSqM1Kjdqh78Takk71NmpNpc0marZT1eQv85NfX2TvfFK/c6n0RpH9yzrHYMjWH0q+uEH/w0bnD3VZ32/7l4tNs78JuT4vlU+Ue09UOnseNZSrZowHAjAAAAAAAACMvhfsr7yaQZ0+akwc2vtt5rhrorpE2uygFjM1G6jRRptMtCWZNruoM0DtHqqVqVIerJBuVNj6qryXK10XK+w/hZJ66qedK9KfWit9UaDtLtAeK0rsenDSStV08UAABgAAAAAAgNH3B3PdbsvQNm+DhpoSqHkSteoobKVtbmoxDp2FbjZTOIlaXNSewWF4sNZ5o8Zxo9E/0JjeX5bYGzJfqvZd2uS/Upd8NuT9tsL/XdDRU2o6FbScCiadmmt9VjVdPBCAAQAAAAAAYPTNMSxtSxpoMtEWB7VJtFWmpsShMNxup1YbNRmoQUe1EymcQs0OCrupzjZQqR2ocw7UOfpC2uuVxsvV1ivVnmu1vh9LLN9WpXy/0fTt+gk9JZPOFCQcSzfPUk0XDwRgAAAAAAAYy1JSPe+/dygn53FVO/yj+YyBJsMPHTbaaqUdbtpqokZ56JXgoa/CkqlZotBvqXbC0LnoVjc1/7whXJtINdJAjb2/wtBXaeqtNF6tsP8Y1F8qs10otp0tsXxfbDy1Tnc2X/O+WW9RTRcPBGAAAAAAABjLRABetWq5qv3XyGjSBYMlJrOkar8/6fWJIefh/R7iDNzpHvoM64cycKOemrVDZ6E70mirc+hngevtV6ozTtcETjd4euvt1JJKVebBmuQbtf7/CTmuliVcKpUvBF29VZ4fN+i/LTf+9IyjQzVXnBCAAQAAAABgLBtjAbi5ufHXEoBZjmnDK07qMNN2L201UFg3tPHbaqAtzEnNyX35jtdnmRY7pRS7KclucrqN/t+ZXizw/8cmd3+zh0r1fVX2vk0ZFxseuFLu7S0zXynRXKg0Xp6Z9LRqojghAAMAAAAAwFgmAnBtTWXn9o6jR45UhcpFgMzNzeF20SLJiW0tzeFwk3LBBcVFhfte2cPFzy1dLCo/Pnz44YXz+JbX62xqrOcWxiNzzazZ0/nusmXPc+WB/fuqKiv4lugulhEpcmr+p+jLEV00iqyu1PBogUCa6HifBOCnFuWKB1cWNpJ0R2DX1Is7rbTdSVvN1KyjcMLQV2HtTqMqe/dUfa6qXjHD8Hy5+0ydnmqtN6q9lxsD10oNV0p039W7f1pt/y+rwamqjxMCMAAAAAAAjGUiAHNgEzhqZmdnceZUWhinTc69nFcDk/1c/OHfPvD6XAffepOTsKoyJ+dxTqF8S2kRA4pMGC363ePoAVV9eRkcuSNblO3rWwZgDvBz5sx46KE5qvYYuMvTi54UY3KwLywsyMrKiCyIVlxUqKxN+Q+FYemlhOX+na9l0svJtN1K7Zahw887jVTnOJFqmqYqVgnY5pUlnwlpKGi8UWW9Vjzx8roJl6rtNxcaN6gq44cADAAAAAAAY5kIwEpMFRcc4TjlBgJpygFp0ZKfv4xDHddwLuV2/hR5dUdnxxNPPJKS4uYBRV7lzCyuuZfTaRGNIrtyd74rOkYH4OipRd/NreE0v5dzOF/wp6pG9I0dgMX2NQ/FlC7Dys6emv9SHo/W1FivPGnk/xREL1shyvLylopls5E2ugW/NLtRe6VDM7QD3KqlbTpqd14O6OeryoaVbX9mk+t6g/tmbXJfmeVKhW5gjdTtkHyqsvghAAMAAAAAwFgWmSGV7MpB8cD+fRxcVSmU1W+q5ZaXd+0UyZZ7iW3V4IZivsuVIsFyihYDqqI1515xocqugsio0VOLLqJG7DCLY9hiVUocHSkA87CFa1fzmpXFxA6l/AjKdrf4a/B03Es8srg7UnflAUU9Z+l33v6LsvhhLTG07NZRh512ptBOGy1xtqgKYnjB+2qjh+qTb9bY+2td/fPNa1QFtwUBGAAAAAAAxjKxEyuCqLIrK4KlEJlX+ZqzrjjhrLwJrFQyHkcMEkkMGDkOt0TmWO4iGvk6emqlL99lkRu5So24NVIAFnOJ4mCwpHN7x59fPbCmYOWCBXPZwkfm57+UJ64XL1mkvJ8sDlqLt6NFAObuXKm0D9u9oryMn4ULGPeaN39u5AqHlWR2NWYe3+ukvV7amtmb7ohVrBKQH90o99c5qdVF66a+a7EZVAW3BQEYAAAAAADGMiX08rWy6Sq2TLmdw5s4zCxip8irkYmUu4hvz+IWjpQifIq+bEdnh0iPPIvoEjmFMmBkAI6eWhWAmZiUG/fu2R15K3YA5sga3FCspNMYXt61kz95ZBGGxRTKwuLBC1OuxX8uxDZFXtgs//hGGtVlfmSU9aq7MVhka7Hj6/YkKjaf9hpuIzkPCwEYAAAAAADgfsSJtHxjUDmJzUYKwCJsxxNEb4mnEJFe1R6NJ03ze1WNMTxoyNubPlDoOqBqj02v0622flRjvJah/b3q1h1AAAYAAAAAALiPiDSr7K9Gvo7Lt2bMHObLk0WXeFJrbHMfnCV2niO3o0fRv3rWv5DcIOk1qvYYjHrjM9btM0zPqtrvDAIwAAAAAADA/UU5ihz5I8CxFRcV3mUAFm87xz/jnbFKVkm6jQAs6bUW6f82wO8eAjAAAAAAAMCv3lO3+ubneNxl9/sfAjAAAAAAAACMCwjAAAAAAAAAMC4gAAMAAAAAAMC4gAAMAAAAAAAA4wICMAAAAAAAAIwLCMAAAAAAAAAwLiAAAwAAAAAAwLiAAAwAAAAAAADjAgIwAAAAAAAAjAsIwAAAAAAAADAuIAADAAAAAADAuIAADAAAAAAAAOMCAjAAAAAAAACMA/pJ/wt/etOs4iH9KgAAAABJRU5ErkJggg==)"
      ]
    },
    {
      "cell_type": "markdown",
      "metadata": {
        "id": "5qQhTahrpXGb"
      },
      "source": [
        "###🧩Discriminator"
      ]
    },
    {
      "cell_type": "markdown",
      "metadata": {
        "id": "G0s7uYOrpavm"
      },
      "source": [
        "![download (1).png](data:image/png;base64,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)"
      ]
    },
    {
      "cell_type": "markdown",
      "metadata": {
        "id": "uGWllBUkcPxn"
      },
      "source": [
        "#**🔴Model**"
      ]
    },
    {
      "cell_type": "markdown",
      "metadata": {
        "id": "DbuIZA7RkJPZ"
      },
      "source": [
        "###⚪Encoder block"
      ]
    },
    {
      "cell_type": "code",
      "execution_count": null,
      "metadata": {
        "id": "lVQzz3AXcw24"
      },
      "outputs": [],
      "source": [
        "class EncoderBlock(nn.Module):\n",
        "\n",
        "  def __init__(self, in_channels, out_channels, kernel_size=4, batchnorm=True):\n",
        "    super().__init__()\n",
        "    self.conv = nn.Conv2d(in_channels, out_channels, kernel_size, stride=2, padding=1, bias=False)\n",
        "    self.bn = nn.BatchNorm2d(out_channels) if batchnorm else None\n",
        "    self.af = nn.LeakyReLU(0.2, inplace=True)\n",
        "\n",
        "  def forward(self, x):\n",
        "    x = self.conv(x)\n",
        "    if self.bn:\n",
        "      x = self.bn(x)\n",
        "    x = self.af(x)\n",
        "    return x"
      ]
    },
    {
      "cell_type": "code",
      "execution_count": null,
      "metadata": {
        "colab": {
          "base_uri": "https://localhost:8080/"
        },
        "id": "M6Ywkq2WEyYl",
        "outputId": "95d809e1-4cfa-4a33-ff0d-8a3821d0a168"
      },
      "outputs": [
        {
          "data": {
            "text/plain": [
              "torch.Size([1, 64, 128, 128])"
            ]
          },
          "execution_count": 24,
          "metadata": {},
          "output_type": "execute_result"
        }
      ],
      "source": [
        "encoder_block = EncoderBlock(in_channels=3, out_channels=64, kernel_size=4, batchnorm=True)\n",
        "with torch.no_grad():\n",
        "  tmp = encoder_block(torch.randn(1, 3, 256, 256))\n",
        "tmp.shape"
      ]
    },
    {
      "cell_type": "markdown",
      "metadata": {
        "id": "TqZzShb8lDhv"
      },
      "source": [
        "###⚪Decoder block"
      ]
    },
    {
      "cell_type": "code",
      "execution_count": null,
      "metadata": {
        "id": "CVxq5sA6lHVN"
      },
      "outputs": [],
      "source": [
        "class DecoderBlock(nn.Module):\n",
        "\n",
        "  def __init__(self, in_channels, out_channels, kernel_size=4, dropout=False):\n",
        "    super().__init__()\n",
        "    self.tconv = nn.ConvTranspose2d(in_channels, out_channels, kernel_size, stride=2, padding=1, bias=False)\n",
        "    self.bn = nn.BatchNorm2d(out_channels)\n",
        "    self.dropout = nn.Dropout(0.5) if dropout else None\n",
        "    self.af = nn.ReLU()\n",
        "\n",
        "  def forward(self, x):\n",
        "    x = self.tconv(x)\n",
        "    x = self.bn(x)\n",
        "    if self.dropout:\n",
        "      x = self.dropout(x)\n",
        "    x = self.af(x)\n",
        "    return x"
      ]
    },
    {
      "cell_type": "code",
      "execution_count": null,
      "metadata": {
        "colab": {
          "base_uri": "https://localhost:8080/"
        },
        "id": "9gTuwmxnlXrf",
        "outputId": "d2486047-6042-4497-fc93-db2417138ccd"
      },
      "outputs": [
        {
          "data": {
            "text/plain": [
              "torch.Size([2, 256, 8, 8])"
            ]
          },
          "execution_count": 26,
          "metadata": {},
          "output_type": "execute_result"
        }
      ],
      "source": [
        "decoder_block = DecoderBlock(in_channels=512, out_channels=256, dropout=False)\n",
        "tmp = decoder_block(torch.randn(2, 512, 4, 4))\n",
        "tmp.shape"
      ]
    },
    {
      "cell_type": "markdown",
      "metadata": {
        "id": "u3zKVA6vlbPs"
      },
      "source": [
        "###🟡Generator"
      ]
    },
    {
      "cell_type": "code",
      "execution_count": null,
      "metadata": {
        "id": "z_HbhcGElkgh"
      },
      "outputs": [],
      "source": [
        "class Generator(nn.Module):\n",
        "\n",
        "  def __init__(self, in_channels=13):\n",
        "    super().__init__()\n",
        "\n",
        "    nc = [in_channels, 64, 128, 256, 512, 512, 512, 512, 512]\n",
        "    self.encoders = nn.ModuleList([\n",
        "        EncoderBlock(nc[i-1], nc[i], batchnorm=False if i==1 else True) for i in range(1, len(nc))\n",
        "    ])\n",
        "    nc.reverse()\n",
        "    self.decoders = nn.ModuleList([\n",
        "        DecoderBlock(2*nc[i-1] if i>1 else nc[i-1], nc[i], dropout=True if i<4 else False) for i in range(1, len(nc[:-1]))\n",
        "    ])\n",
        "\n",
        "    self.last = nn.ConvTranspose2d(128, 3, kernel_size=4, stride=2, padding=1)\n",
        "    self.tanh = nn.Tanh()\n",
        "\n",
        "  def forward(self, x, c):\n",
        "    # Concat\n",
        "    _, _, h, w = x.shape\n",
        "    c = c.repeat(1, 1, h, w)\n",
        "    x = torch.cat((x, c), dim=1)\n",
        "\n",
        "    # Encoder\n",
        "    skips = []\n",
        "    for encoder in self.encoders:\n",
        "      x = encoder(x)\n",
        "      skips.append(x)\n",
        "\n",
        "    skips = reversed(skips[:-1])\n",
        "\n",
        "    # Decoder\n",
        "    for decoder, skip in zip(self.decoders, skips):\n",
        "      x = decoder(x)\n",
        "      x = torch.cat((x, skip), 1)\n",
        "\n",
        "    out = self.last(x)\n",
        "    out = self.tanh(out)\n",
        "\n",
        "    return out"
      ]
    },
    {
      "cell_type": "code",
      "execution_count": null,
      "metadata": {
        "colab": {
          "base_uri": "https://localhost:8080/"
        },
        "id": "P1n8t_XNlvDt",
        "outputId": "facd93d1-d139-4701-c029-0ff986f0b5eb"
      },
      "outputs": [
        {
          "data": {
            "text/plain": [
              "torch.Size([2, 3, 256, 256])"
            ]
          },
          "execution_count": 28,
          "metadata": {},
          "output_type": "execute_result"
        }
      ],
      "source": [
        "generator = Generator(in_channels=13)\n",
        "tmp = generator(torch.randn(2, 3, 256, 256), torch.randn(2, 10, 1, 1))\n",
        "tmp.shape"
      ]
    },
    {
      "cell_type": "markdown",
      "metadata": {
        "id": "ekKzHJMocxTF"
      },
      "source": [
        "###🟡Discriminator"
      ]
    },
    {
      "cell_type": "code",
      "execution_count": null,
      "metadata": {
        "id": "C_THnj23c3vX"
      },
      "outputs": [],
      "source": [
        "class Discriminator(nn.Module):\n",
        "\n",
        "  def __init__(self, in_channels=16):\n",
        "    super().__init__()\n",
        "    nc = [in_channels, 64, 128, 256]\n",
        "    self.layers = nn.ModuleList([\n",
        "        EncoderBlock(nc[i-1], nc[i], batchnorm=True if i>1 else False) for i in range(1, len(nc))\n",
        "    ])\n",
        "\n",
        "    self.layers += nn.Sequential(\n",
        "        nn.ZeroPad2d(padding=1),\n",
        "        nn.Conv2d(256, 512, kernel_size=4, bias=False),\n",
        "        nn.BatchNorm2d(512),\n",
        "        nn.LeakyReLU(0.2))\n",
        "\n",
        "    self.layers += nn.Sequential(\n",
        "        nn.ZeroPad2d(1),\n",
        "        nn.Conv2d(512, 1, kernel_size=4)\n",
        "    )\n",
        "\n",
        "  def forward(self, x, y, c):\n",
        "    # Concat\n",
        "    _, _, h, w = x.shape\n",
        "    c = c.repeat(1, 1, h, w)\n",
        "    x = torch.cat((x, y, c), dim=1)\n",
        "\n",
        "    for layer in self.layers:\n",
        "      x = layer(x)\n",
        "    return x"
      ]
    },
    {
      "cell_type": "code",
      "execution_count": null,
      "metadata": {
        "colab": {
          "base_uri": "https://localhost:8080/"
        },
        "id": "JSZ-RAKZLAe-",
        "outputId": "d6986738-0879-4c61-8352-afacb601c2e0"
      },
      "outputs": [
        {
          "data": {
            "text/plain": [
              "torch.Size([2, 1, 30, 30])"
            ]
          },
          "execution_count": 30,
          "metadata": {},
          "output_type": "execute_result"
        }
      ],
      "source": [
        "discriminator = Discriminator(in_channels=16)\n",
        "tmp = discriminator(torch.randn(2, 3, 256, 256), torch.randn(2, 3, 256, 256), torch.randn(2, 10, 1, 1))\n",
        "tmp.shape"
      ]
    },
    {
      "cell_type": "markdown",
      "metadata": {
        "id": "m3zFJOwcmxdW"
      },
      "source": [
        "###🟡Try the model"
      ]
    },
    {
      "cell_type": "code",
      "execution_count": null,
      "metadata": {
        "colab": {
          "base_uri": "https://localhost:8080/"
        },
        "id": "q35Xg9iBm9Ah",
        "outputId": "5ca67148-7ddd-4a29-b3a8-c9b626d36d60"
      },
      "outputs": [
        {
          "name": "stdout",
          "output_type": "stream",
          "text": [
            "torch.Size([10, 3, 256, 256]) torch.Size([10, 3, 256, 256]) torch.Size([10, 10, 1, 1])\n"
          ]
        }
      ],
      "source": [
        "x, y, c = next(iter(train_loader))\n",
        "print(x.shape, y.shape, c.shape)"
      ]
    },
    {
      "cell_type": "code",
      "execution_count": null,
      "metadata": {
        "id": "mN5h-ZHjm3oE"
      },
      "outputs": [],
      "source": [
        "generator = Generator(in_channels=13)\n",
        "discriminator = Discriminator(in_channels=16)\n"
      ]
    },
    {
      "cell_type": "code",
      "execution_count": null,
      "metadata": {
        "colab": {
          "base_uri": "https://localhost:8080/"
        },
        "id": "Z2bCjaHMnCUX",
        "outputId": "73b4ade9-639e-4b4f-ab52-55bab3f12bf5"
      },
      "outputs": [
        {
          "data": {
            "text/plain": [
              "torch.Size([10, 3, 256, 256])"
            ]
          },
          "execution_count": 33,
          "metadata": {},
          "output_type": "execute_result"
        }
      ],
      "source": [
        "tmp = generator(x, c)\n",
        "tmp.shape"
      ]
    },
    {
      "cell_type": "code",
      "execution_count": null,
      "metadata": {
        "colab": {
          "base_uri": "https://localhost:8080/"
        },
        "id": "crY-YwQknGJn",
        "outputId": "1a5b96de-3535-4dee-b45e-8a03b6cf7995"
      },
      "outputs": [
        {
          "data": {
            "text/plain": [
              "torch.Size([10, 1, 30, 30])"
            ]
          },
          "execution_count": 34,
          "metadata": {},
          "output_type": "execute_result"
        }
      ],
      "source": [
        "tmp = discriminator(x, y, c)\n",
        "tmp.shape"
      ]
    },
    {
      "cell_type": "code",
      "execution_count": null,
      "metadata": {
        "colab": {
          "base_uri": "https://localhost:8080/"
        },
        "id": "GBOgSxnPnJva",
        "outputId": "b37619c0-050c-440e-a886-03367b6ac9c4"
      },
      "outputs": [
        {
          "data": {
            "text/plain": [
              "torch.Size([10, 1, 30, 30])"
            ]
          },
          "execution_count": 35,
          "metadata": {},
          "output_type": "execute_result"
        }
      ],
      "source": [
        "tmp = discriminator(x, generator(x, c), c)\n",
        "tmp.shape"
      ]
    },
    {
      "cell_type": "markdown",
      "metadata": {
        "id": "kkCBoWzNclOZ"
      },
      "source": [
        "#**🔴Train**"
      ]
    },
    {
      "cell_type": "markdown",
      "metadata": {
        "id": "Lx88SfSNc4f2"
      },
      "source": [
        "##🟠Train Function"
      ]
    },
    {
      "cell_type": "code",
      "execution_count": null,
      "metadata": {
        "id": "z2XHMxQ-csLn"
      },
      "outputs": [],
      "source": [
        "def train_one_epoch(generator, discriminator,\n",
        "                    train_loader,\n",
        "                    generator_loss_fn, discriminator_loss_fn,\n",
        "                    generator_optimizer, discriminator_optimizer,\n",
        "                    epoch=None):\n",
        "\n",
        "  generator.train()\n",
        "  discriminator.train()\n",
        "\n",
        "  gen_total_loss, disc_total_loss = MeanMetric(), MeanMetric()\n",
        "\n",
        "  with tqdm.tqdm(train_loader, unit='batch') as tepoch:\n",
        "    for inputs, targets, conditions in tepoch:\n",
        "      if epoch:\n",
        "        tepoch.set_description(f'Epoch {epoch}')\n",
        "\n",
        "      inputs = inputs.to(device)\n",
        "      targets = targets.to(device)\n",
        "      conditions = conditions.to(device)\n",
        "\n",
        "      # Generator's loss\n",
        "      gen_outputs = generator(inputs, conditions)\n",
        "      disc_gen_outputs = discriminator(inputs, gen_outputs, conditions)\n",
        "      gen_loss = generator_loss_fn(disc_gen_outputs, gen_outputs, targets)\n",
        "\n",
        "      # Discriminator's loss\n",
        "      # with torch.no_grad():\n",
        "      #   gen_outputs = generator(inputs, conditions)\n",
        "      # gen_outputs = gen_outputs.detach()\n",
        "      gen_outputs = generator(inputs, conditions).detach()\n",
        "      disc_gen_outputs = discriminator(inputs, gen_outputs, conditions)\n",
        "      disc_real_outputs = discriminator(inputs, targets, conditions)\n",
        "      disc_loss = discriminator_loss_fn(disc_real_outputs, disc_gen_outputs)\n",
        "\n",
        "      # Generator's params update\n",
        "      generator_optimizer.zero_grad()\n",
        "      gen_loss.backward()\n",
        "      generator_optimizer.step()\n",
        "\n",
        "      # Discriminator's params update\n",
        "      discriminator_optimizer.zero_grad()\n",
        "      disc_loss.backward()\n",
        "      discriminator_optimizer.step()\n",
        "\n",
        "      gen_total_loss.update(gen_loss.item(), weight=len(inputs))\n",
        "      disc_total_loss.update(disc_loss.item(), weight=len(inputs))\n",
        "\n",
        "      tepoch.set_postfix(\n",
        "          lossG=gen_total_loss.compute().item(),\n",
        "          lossD=disc_total_loss.compute().item()\n",
        "          )\n",
        "\n",
        "  return gen_total_loss.compute().item(), disc_total_loss.compute().item()"
      ]
    },
    {
      "cell_type": "markdown",
      "metadata": {
        "id": "jfwqfrpDqhoS"
      },
      "source": [
        "##🟠Evaluation"
      ]
    },
    {
      "cell_type": "code",
      "execution_count": null,
      "metadata": {
        "id": "jkRnylWpqoFd"
      },
      "outputs": [],
      "source": [
        "def evaluate(generator, test_loader, loss_fn):\n",
        "\n",
        "  loss_eval = MeanMetric()\n",
        "\n",
        "  with torch.inference_mode():\n",
        "    for inputs, targets, conditions in test_loader:\n",
        "\n",
        "      inputs = inputs.to(device)\n",
        "      targets = targets.to(device)\n",
        "      conditions = conditions.to(device)\n",
        "\n",
        "      outputs = generator(inputs, conditions)\n",
        "\n",
        "      loss = loss_fn(outputs, targets)\n",
        "      loss_eval.update(loss.item(), weight=len(targets))\n",
        "\n",
        "  return loss_eval.compute().item()"
      ]
    },
    {
      "cell_type": "markdown",
      "metadata": {
        "id": "__8GohE3qrTm"
      },
      "source": [
        "##🟠Generate"
      ]
    },
    {
      "cell_type": "code",
      "execution_count": null,
      "metadata": {
        "id": "HaE5kaUrquqD"
      },
      "outputs": [],
      "source": [
        "def generate(generator, valid_loader, filename='img.png'):\n",
        "\n",
        "  inputs, targets, conditions = next(iter(valid_loader))\n",
        "  inputs = inputs.to(device)\n",
        "  conditions = conditions.to(device)\n",
        "\n",
        "  with torch.inference_mode():\n",
        "    outputs = generator(inputs, conditions)\n",
        "\n",
        "  outputs = (255*(0.5*outputs + 0.5)).byte().cpu()\n",
        "  targets = (255*(0.5*targets + 0.5)).byte().cpu()\n",
        "\n",
        "  imgs = [t for t in targets] + [o for o in outputs]\n",
        "  grid = make_grid(imgs, nrow=10)\n",
        "\n",
        "  io.write_png(grid, filename)"
      ]
    },
    {
      "cell_type": "markdown",
      "metadata": {
        "id": "sMMcgE3NciYX"
      },
      "source": [
        "##🟠W&B"
      ]
    },
    {
      "cell_type": "code",
      "execution_count": null,
      "metadata": {
        "id": "9IMJGzXipDwn"
      },
      "outputs": [],
      "source": [
        "if wandb_enable:\n",
        "    key_file = '/content/key'\n",
        "\n",
        "    if os.path.exists(key_file):\n",
        "        with open(key_file) as f:\n",
        "            key = f.readline().strip()\n",
        "        wandb.login(key=key)\n",
        "    else:\n",
        "        print(\"Key file does not exist. Please create the key file with your wandb API key.\")"
      ]
    },
    {
      "cell_type": "markdown",
      "metadata": {
        "id": "cDwdd2EzdP4J"
      },
      "source": [
        "#**🔴Training Process**"
      ]
    },
    {
      "cell_type": "markdown",
      "metadata": {
        "id": "1eHqsedXodNF"
      },
      "source": [
        "##🟠Loss"
      ]
    },
    {
      "cell_type": "code",
      "execution_count": null,
      "metadata": {
        "id": "qnChgXXuof2d"
      },
      "outputs": [],
      "source": [
        "class GeneratorLoss(nn.Module):\n",
        "\n",
        "  def __init__(self, LAMBDA=100):\n",
        "    super().__init__()\n",
        "    self.LAMBDA = LAMBDA\n",
        "    self.l1 = nn.L1Loss()\n",
        "    self.bce = nn.BCEWithLogitsLoss()\n",
        "\n",
        "  def forward(self, disc_generated_output, gen_output, target):\n",
        "    l1_loss = self.l1(gen_output, target)\n",
        "\n",
        "    all_ones = torch.ones_like(disc_generated_output)\n",
        "    gan_loss = self.bce(disc_generated_output, all_ones)\n",
        "\n",
        "    total_gan_loss = gan_loss + self.LAMBDA * l1_loss\n",
        "\n",
        "    return total_gan_loss"
      ]
    },
    {
      "cell_type": "code",
      "execution_count": null,
      "metadata": {
        "id": "NBrqB7DZox7r"
      },
      "outputs": [],
      "source": [
        "class DiscriminatorLoss(nn.Module):\n",
        "\n",
        "  def __init__(self):\n",
        "    super().__init__()\n",
        "    self.bce = nn.BCEWithLogitsLoss()\n",
        "\n",
        "  def forward(self, disc_real_output, disc_generated_output):\n",
        "    all_ones = torch.ones_like(disc_real_output)\n",
        "    real_loss = self.bce(disc_real_output, all_ones)\n",
        "\n",
        "    all_zeros = torch.zeros_like(disc_generated_output)\n",
        "    generated_loss = self.bce(disc_generated_output, all_zeros)\n",
        "\n",
        "    total_disc_loss = real_loss + generated_loss\n",
        "\n",
        "    return total_disc_loss"
      ]
    },
    {
      "cell_type": "markdown",
      "metadata": {
        "id": "GqqUjkkecUpz"
      },
      "source": [
        "##🟠Optimizer"
      ]
    },
    {
      "cell_type": "code",
      "execution_count": null,
      "metadata": {
        "id": "8NTtZMUscn8v"
      },
      "outputs": [],
      "source": [
        "optimizer_g = optim.Adam(generator.parameters(), lr=2e-4, betas=(0.5, 0.999))\n",
        "optimizer_d = optim.Adam(discriminator.parameters(), lr=2e-4, betas=(0.5, 0.999))"
      ]
    },
    {
      "cell_type": "markdown",
      "metadata": {
        "id": "skFNUIITdZQT"
      },
      "source": [
        "##🟠Main Loop"
      ]
    },
    {
      "cell_type": "code",
      "execution_count": null,
      "metadata": {
        "id": "ktgKj-mLdbVv"
      },
      "outputs": [],
      "source": [
        "torch.cuda.empty_cache()"
      ]
    },
    {
      "cell_type": "code",
      "execution_count": null,
      "metadata": {
        "id": "wwc93FL6O9Gx"
      },
      "outputs": [],
      "source": [
        "set_seed(seed)\n",
        "\n",
        "generator = Generator(in_channels=13).to(device)\n",
        "discriminator = Discriminator(in_channels=16).to(device)"
      ]
    },
    {
      "cell_type": "code",
      "execution_count": null,
      "metadata": {
        "id": "bhoaQmYyPCFB"
      },
      "outputs": [],
      "source": [
        "gen_loss_fn = GeneratorLoss(LAMBDA=100)\n",
        "disc_loss_fn = DiscriminatorLoss()"
      ]
    },
    {
      "cell_type": "code",
      "execution_count": null,
      "metadata": {
        "id": "iWXHVuglPArx"
      },
      "outputs": [],
      "source": [
        "set_seed(seed)\n",
        "\n",
        "lr = 0.0001\n",
        "gen_optimizer = torch.optim.Adam(generator.parameters(), lr=lr, betas=(0.5, 0.999))\n",
        "disc_optimizer = torch.optim.Adam(discriminator.parameters(), lr=lr, betas=(0.5, 0.999))"
      ]
    },
    {
      "cell_type": "code",
      "execution_count": null,
      "metadata": {
        "id": "FreoGrioPGa8"
      },
      "outputs": [],
      "source": [
        "if wandb_enable:\n",
        "  wandb.init(\n",
        "      project=...,\n",
        "      name=wandb_arg_name,\n",
        "      config={\n",
        "          'lr': lr,\n",
        "          'momentum': momentum,\n",
        "          'batch_size': batch_size,\n",
        "          'seq_len': seq_len,\n",
        "          'hidden_dim': hidden_dim,\n",
        "          'embedding_dim': embedding_dim,\n",
        "          'num_layers': num_layers,\n",
        "          'dropout_embed': dropoute,\n",
        "          'dropout_in_lstm': dropouti,\n",
        "          'dropout_h_lstm': dropouth,\n",
        "          'dropout_out_lstm': dropouto,\n",
        "          'clip': clip,\n",
        "      }\n",
        "  )"
      ]
    },
    {
      "cell_type": "code",
      "execution_count": null,
      "metadata": {
        "id": "uy-Xdq86PKZB"
      },
      "outputs": [],
      "source": [
        "loss_gen_hist = []\n",
        "loss_disc_hist = []\n",
        "loss_valid_hist = []\n",
        "\n",
        "best_loss_valid = torch.inf\n",
        "epoch_counter = 0"
      ]
    },
    {
      "cell_type": "code",
      "execution_count": null,
      "metadata": {
        "colab": {
          "base_uri": "https://localhost:8080/",
          "height": 1000
        },
        "id": "KC9RyX6PPMuN",
        "outputId": "68cb50e2-40e5-45b5-bbfc-a8dc95018080"
      },
      "outputs": [
        {
          "name": "stderr",
          "output_type": "stream",
          "text": [
            "Epoch 1: 100%|██████████| 25/25 [00:11<00:00,  2.14batch/s, lossD=1.38, lossG=2.62]\n"
          ]
        },
        {
          "name": "stdout",
          "output_type": "stream",
          "text": [
            "Valid: Loss = 0.0168\n",
            "\n"
          ]
        },
        {
          "name": "stderr",
          "output_type": "stream",
          "text": [
            "Epoch 2: 100%|██████████| 25/25 [00:11<00:00,  2.13batch/s, lossD=1.38, lossG=2.16]\n"
          ]
        },
        {
          "name": "stdout",
          "output_type": "stream",
          "text": [
            "Generator Saved!\n",
            "Valid: Loss = 0.01587\n",
            "\n"
          ]
        },
        {
          "name": "stderr",
          "output_type": "stream",
          "text": [
            "Epoch 3: 100%|██████████| 25/25 [00:11<00:00,  2.10batch/s, lossD=1.37, lossG=2.28]\n"
          ]
        },
        {
          "name": "stdout",
          "output_type": "stream",
          "text": [
            "Valid: Loss = 0.01625\n",
            "\n"
          ]
        },
        {
          "name": "stderr",
          "output_type": "stream",
          "text": [
            "Epoch 4: 100%|██████████| 25/25 [00:11<00:00,  2.11batch/s, lossD=1.38, lossG=2.23]\n"
          ]
        },
        {
          "name": "stdout",
          "output_type": "stream",
          "text": [
            "Valid: Loss = 0.01671\n",
            "\n"
          ]
        },
        {
          "name": "stderr",
          "output_type": "stream",
          "text": [
            "Epoch 5: 100%|██████████| 25/25 [00:11<00:00,  2.13batch/s, lossD=1.38, lossG=2.25]\n"
          ]
        },
        {
          "name": "stdout",
          "output_type": "stream",
          "text": [
            "Valid: Loss = 0.01648\n",
            "\n"
          ]
        },
        {
          "name": "stderr",
          "output_type": "stream",
          "text": [
            "Epoch 6: 100%|██████████| 25/25 [00:11<00:00,  2.15batch/s, lossD=1.37, lossG=2.05]\n"
          ]
        },
        {
          "name": "stdout",
          "output_type": "stream",
          "text": [
            "Valid: Loss = 0.01655\n",
            "\n"
          ]
        },
        {
          "name": "stderr",
          "output_type": "stream",
          "text": [
            "Epoch 7: 100%|██████████| 25/25 [00:11<00:00,  2.16batch/s, lossD=1.38, lossG=2.06]\n"
          ]
        },
        {
          "name": "stdout",
          "output_type": "stream",
          "text": [
            "Valid: Loss = 0.01666\n",
            "\n"
          ]
        },
        {
          "name": "stderr",
          "output_type": "stream",
          "text": [
            "Epoch 8: 100%|██████████| 25/25 [00:11<00:00,  2.15batch/s, lossD=1.39, lossG=2.05]\n"
          ]
        },
        {
          "name": "stdout",
          "output_type": "stream",
          "text": [
            "Valid: Loss = 0.01602\n",
            "\n"
          ]
        },
        {
          "name": "stderr",
          "output_type": "stream",
          "text": [
            "Epoch 9: 100%|██████████| 25/25 [00:11<00:00,  2.13batch/s, lossD=1.38, lossG=2.17]\n"
          ]
        },
        {
          "name": "stdout",
          "output_type": "stream",
          "text": [
            "Valid: Loss = 0.01617\n",
            "\n"
          ]
        },
        {
          "name": "stderr",
          "output_type": "stream",
          "text": [
            "Epoch 10: 100%|██████████| 25/25 [00:11<00:00,  2.13batch/s, lossD=1.38, lossG=2.08]\n"
          ]
        },
        {
          "name": "stdout",
          "output_type": "stream",
          "text": [
            "Valid: Loss = 0.01633\n",
            "\n"
          ]
        },
        {
          "name": "stderr",
          "output_type": "stream",
          "text": [
            "Epoch 11: 100%|██████████| 25/25 [00:11<00:00,  2.13batch/s, lossD=1.38, lossG=2.17]\n"
          ]
        },
        {
          "name": "stdout",
          "output_type": "stream",
          "text": [
            "Valid: Loss = 0.01652\n",
            "\n"
          ]
        },
        {
          "name": "stderr",
          "output_type": "stream",
          "text": [
            "Epoch 12: 100%|██████████| 25/25 [00:11<00:00,  2.14batch/s, lossD=1.37, lossG=2.16]\n"
          ]
        },
        {
          "name": "stdout",
          "output_type": "stream",
          "text": [
            "Valid: Loss = 0.01629\n",
            "\n"
          ]
        },
        {
          "name": "stderr",
          "output_type": "stream",
          "text": [
            "Epoch 13: 100%|██████████| 25/25 [00:11<00:00,  2.14batch/s, lossD=1.38, lossG=2.11]\n"
          ]
        },
        {
          "name": "stdout",
          "output_type": "stream",
          "text": [
            "Valid: Loss = 0.01677\n",
            "\n"
          ]
        },
        {
          "name": "stderr",
          "output_type": "stream",
          "text": [
            "Epoch 14: 100%|██████████| 25/25 [00:11<00:00,  2.14batch/s, lossD=1.38, lossG=2.1]\n"
          ]
        },
        {
          "name": "stdout",
          "output_type": "stream",
          "text": [
            "Valid: Loss = 0.01612\n",
            "\n"
          ]
        },
        {
          "name": "stderr",
          "output_type": "stream",
          "text": [
            "Epoch 15: 100%|██████████| 25/25 [00:11<00:00,  2.15batch/s, lossD=1.38, lossG=2.05]\n"
          ]
        },
        {
          "name": "stdout",
          "output_type": "stream",
          "text": [
            "Valid: Loss = 0.0171\n",
            "\n"
          ]
        },
        {
          "name": "stderr",
          "output_type": "stream",
          "text": [
            "Epoch 16: 100%|██████████| 25/25 [00:11<00:00,  2.14batch/s, lossD=1.38, lossG=1.99]\n"
          ]
        },
        {
          "name": "stdout",
          "output_type": "stream",
          "text": [
            "Valid: Loss = 0.01679\n",
            "\n"
          ]
        },
        {
          "name": "stderr",
          "output_type": "stream",
          "text": [
            "Epoch 17: 100%|██████████| 25/25 [00:11<00:00,  2.14batch/s, lossD=1.38, lossG=2.09]\n"
          ]
        },
        {
          "name": "stdout",
          "output_type": "stream",
          "text": [
            "Valid: Loss = 0.01611\n",
            "\n"
          ]
        },
        {
          "name": "stderr",
          "output_type": "stream",
          "text": [
            "Epoch 18: 100%|██████████| 25/25 [00:11<00:00,  2.13batch/s, lossD=1.39, lossG=2]\n"
          ]
        },
        {
          "name": "stdout",
          "output_type": "stream",
          "text": [
            "Valid: Loss = 0.01663\n",
            "\n"
          ]
        },
        {
          "name": "stderr",
          "output_type": "stream",
          "text": [
            "Epoch 19: 100%|██████████| 25/25 [00:11<00:00,  2.13batch/s, lossD=1.38, lossG=1.99]\n"
          ]
        },
        {
          "name": "stdout",
          "output_type": "stream",
          "text": [
            "Valid: Loss = 0.01648\n",
            "\n"
          ]
        },
        {
          "name": "stderr",
          "output_type": "stream",
          "text": [
            "Epoch 20: 100%|██████████| 25/25 [00:11<00:00,  2.13batch/s, lossD=1.38, lossG=1.99]\n"
          ]
        },
        {
          "name": "stdout",
          "output_type": "stream",
          "text": [
            "Valid: Loss = 0.01666\n",
            "\n"
          ]
        },
        {
          "name": "stderr",
          "output_type": "stream",
          "text": [
            "Epoch 21: 100%|██████████| 25/25 [00:11<00:00,  2.13batch/s, lossD=1.38, lossG=1.95]\n"
          ]
        },
        {
          "name": "stdout",
          "output_type": "stream",
          "text": [
            "Valid: Loss = 0.01656\n",
            "\n"
          ]
        },
        {
          "name": "stderr",
          "output_type": "stream",
          "text": [
            "Epoch 22: 100%|██████████| 25/25 [00:11<00:00,  2.14batch/s, lossD=1.38, lossG=1.96]\n"
          ]
        },
        {
          "name": "stdout",
          "output_type": "stream",
          "text": [
            "Valid: Loss = 0.01633\n",
            "\n"
          ]
        },
        {
          "name": "stderr",
          "output_type": "stream",
          "text": [
            "Epoch 23: 100%|██████████| 25/25 [00:11<00:00,  2.15batch/s, lossD=1.38, lossG=1.89]\n"
          ]
        },
        {
          "name": "stdout",
          "output_type": "stream",
          "text": [
            "Valid: Loss = 0.01622\n",
            "\n"
          ]
        },
        {
          "name": "stderr",
          "output_type": "stream",
          "text": [
            "Epoch 24: 100%|██████████| 25/25 [00:11<00:00,  2.14batch/s, lossD=1.37, lossG=1.96]\n"
          ]
        },
        {
          "name": "stdout",
          "output_type": "stream",
          "text": [
            "Valid: Loss = 0.01689\n",
            "\n"
          ]
        },
        {
          "name": "stderr",
          "output_type": "stream",
          "text": [
            "Epoch 25: 100%|██████████| 25/25 [00:11<00:00,  2.14batch/s, lossD=1.38, lossG=1.87]\n"
          ]
        },
        {
          "name": "stdout",
          "output_type": "stream",
          "text": [
            "Valid: Loss = 0.01678\n",
            "\n"
          ]
        },
        {
          "name": "stderr",
          "output_type": "stream",
          "text": [
            "Epoch 26: 100%|██████████| 25/25 [00:11<00:00,  2.14batch/s, lossD=1.38, lossG=1.89]\n"
          ]
        },
        {
          "name": "stdout",
          "output_type": "stream",
          "text": [
            "Valid: Loss = 0.01625\n",
            "\n"
          ]
        },
        {
          "name": "stderr",
          "output_type": "stream",
          "text": [
            "Epoch 27: 100%|██████████| 25/25 [00:11<00:00,  2.13batch/s, lossD=1.38, lossG=1.93]\n"
          ]
        },
        {
          "name": "stdout",
          "output_type": "stream",
          "text": [
            "Valid: Loss = 0.0166\n",
            "\n"
          ]
        },
        {
          "name": "stderr",
          "output_type": "stream",
          "text": [
            "Epoch 28: 100%|██████████| 25/25 [00:11<00:00,  2.14batch/s, lossD=1.37, lossG=1.91]\n"
          ]
        },
        {
          "name": "stdout",
          "output_type": "stream",
          "text": [
            "Valid: Loss = 0.0165\n",
            "\n"
          ]
        },
        {
          "name": "stderr",
          "output_type": "stream",
          "text": [
            "Epoch 29: 100%|██████████| 25/25 [00:11<00:00,  2.13batch/s, lossD=1.38, lossG=1.83]\n"
          ]
        },
        {
          "name": "stdout",
          "output_type": "stream",
          "text": [
            "Valid: Loss = 0.01724\n",
            "\n"
          ]
        },
        {
          "name": "stderr",
          "output_type": "stream",
          "text": [
            "Epoch 30: 100%|██████████| 25/25 [00:11<00:00,  2.14batch/s, lossD=1.37, lossG=2]\n"
          ]
        },
        {
          "name": "stdout",
          "output_type": "stream",
          "text": [
            "Valid: Loss = 0.01635\n",
            "\n"
          ]
        },
        {
          "name": "stderr",
          "output_type": "stream",
          "text": [
            "Epoch 31: 100%|██████████| 25/25 [00:11<00:00,  2.14batch/s, lossD=1.38, lossG=1.95]\n"
          ]
        },
        {
          "name": "stdout",
          "output_type": "stream",
          "text": [
            "Valid: Loss = 0.01698\n",
            "\n"
          ]
        },
        {
          "name": "stderr",
          "output_type": "stream",
          "text": [
            "Epoch 32: 100%|██████████| 25/25 [00:11<00:00,  2.13batch/s, lossD=1.38, lossG=1.84]\n"
          ]
        },
        {
          "name": "stdout",
          "output_type": "stream",
          "text": [
            "Valid: Loss = 0.01609\n",
            "\n"
          ]
        },
        {
          "name": "stderr",
          "output_type": "stream",
          "text": [
            "Epoch 33: 100%|██████████| 25/25 [00:11<00:00,  2.14batch/s, lossD=1.38, lossG=1.84]\n"
          ]
        },
        {
          "name": "stdout",
          "output_type": "stream",
          "text": [
            "Valid: Loss = 0.0172\n",
            "\n"
          ]
        },
        {
          "name": "stderr",
          "output_type": "stream",
          "text": [
            "Epoch 34: 100%|██████████| 25/25 [00:11<00:00,  2.13batch/s, lossD=1.38, lossG=1.92]\n"
          ]
        },
        {
          "name": "stdout",
          "output_type": "stream",
          "text": [
            "Valid: Loss = 0.01675\n",
            "\n"
          ]
        },
        {
          "name": "stderr",
          "output_type": "stream",
          "text": [
            "Epoch 35: 100%|██████████| 25/25 [00:11<00:00,  2.13batch/s, lossD=1.38, lossG=1.84]\n"
          ]
        },
        {
          "name": "stdout",
          "output_type": "stream",
          "text": [
            "Valid: Loss = 0.01631\n",
            "\n"
          ]
        },
        {
          "name": "stderr",
          "output_type": "stream",
          "text": [
            "Epoch 36: 100%|██████████| 25/25 [00:11<00:00,  2.14batch/s, lossD=1.38, lossG=1.89]\n"
          ]
        },
        {
          "name": "stdout",
          "output_type": "stream",
          "text": [
            "Valid: Loss = 0.01646\n",
            "\n"
          ]
        },
        {
          "name": "stderr",
          "output_type": "stream",
          "text": [
            "Epoch 37: 100%|██████████| 25/25 [00:11<00:00,  2.14batch/s, lossD=1.38, lossG=1.88]\n"
          ]
        },
        {
          "name": "stdout",
          "output_type": "stream",
          "text": [
            "Valid: Loss = 0.01665\n",
            "\n"
          ]
        },
        {
          "name": "stderr",
          "output_type": "stream",
          "text": [
            "Epoch 38:   8%|▊         | 2/25 [00:01<00:16,  1.44batch/s, lossD=1.29, lossG=2.52]\n"
          ]
        },
        {
          "ename": "KeyboardInterrupt",
          "evalue": "",
          "output_type": "error",
          "traceback": [
            "\u001b[0;31m---------------------------------------------------------------------------\u001b[0m",
            "\u001b[0;31mKeyboardInterrupt\u001b[0m                         Traceback (most recent call last)",
            "\u001b[0;32m<ipython-input-57-95590d2aa097>\u001b[0m in \u001b[0;36m<cell line: 4>\u001b[0;34m()\u001b[0m\n\u001b[1;32m      4\u001b[0m \u001b[0;32mfor\u001b[0m \u001b[0mepoch\u001b[0m \u001b[0;32min\u001b[0m \u001b[0mrange\u001b[0m\u001b[0;34m(\u001b[0m\u001b[0mnum_epochs\u001b[0m\u001b[0;34m)\u001b[0m\u001b[0;34m:\u001b[0m\u001b[0;34m\u001b[0m\u001b[0;34m\u001b[0m\u001b[0m\n\u001b[1;32m      5\u001b[0m   \u001b[0;31m# Train\u001b[0m\u001b[0;34m\u001b[0m\u001b[0;34m\u001b[0m\u001b[0m\n\u001b[0;32m----> 6\u001b[0;31m   gen_loss, disc_loss = train_one_epoch(\n\u001b[0m\u001b[1;32m      7\u001b[0m       \u001b[0mgenerator\u001b[0m\u001b[0;34m,\u001b[0m \u001b[0mdiscriminator\u001b[0m\u001b[0;34m,\u001b[0m\u001b[0;34m\u001b[0m\u001b[0;34m\u001b[0m\u001b[0m\n\u001b[1;32m      8\u001b[0m       \u001b[0mtrain_loader\u001b[0m\u001b[0;34m,\u001b[0m\u001b[0;34m\u001b[0m\u001b[0;34m\u001b[0m\u001b[0m\n",
            "\u001b[0;32m<ipython-input-35-3d92a1d2809d>\u001b[0m in \u001b[0;36mtrain_one_epoch\u001b[0;34m(generator, discriminator, train_loader, generator_loss_fn, discriminator_loss_fn, generator_optimizer, discriminator_optimizer, epoch)\u001b[0m\n\u001b[1;32m     43\u001b[0m       \u001b[0mdiscriminator_optimizer\u001b[0m\u001b[0;34m.\u001b[0m\u001b[0mstep\u001b[0m\u001b[0;34m(\u001b[0m\u001b[0;34m)\u001b[0m\u001b[0;34m\u001b[0m\u001b[0;34m\u001b[0m\u001b[0m\n\u001b[1;32m     44\u001b[0m \u001b[0;34m\u001b[0m\u001b[0m\n\u001b[0;32m---> 45\u001b[0;31m       \u001b[0mgen_total_loss\u001b[0m\u001b[0;34m.\u001b[0m\u001b[0mupdate\u001b[0m\u001b[0;34m(\u001b[0m\u001b[0mgen_loss\u001b[0m\u001b[0;34m.\u001b[0m\u001b[0mitem\u001b[0m\u001b[0;34m(\u001b[0m\u001b[0;34m)\u001b[0m\u001b[0;34m,\u001b[0m \u001b[0mweight\u001b[0m\u001b[0;34m=\u001b[0m\u001b[0mlen\u001b[0m\u001b[0;34m(\u001b[0m\u001b[0minputs\u001b[0m\u001b[0;34m)\u001b[0m\u001b[0;34m)\u001b[0m\u001b[0;34m\u001b[0m\u001b[0;34m\u001b[0m\u001b[0m\n\u001b[0m\u001b[1;32m     46\u001b[0m       \u001b[0mdisc_total_loss\u001b[0m\u001b[0;34m.\u001b[0m\u001b[0mupdate\u001b[0m\u001b[0;34m(\u001b[0m\u001b[0mdisc_loss\u001b[0m\u001b[0;34m.\u001b[0m\u001b[0mitem\u001b[0m\u001b[0;34m(\u001b[0m\u001b[0;34m)\u001b[0m\u001b[0;34m,\u001b[0m \u001b[0mweight\u001b[0m\u001b[0;34m=\u001b[0m\u001b[0mlen\u001b[0m\u001b[0;34m(\u001b[0m\u001b[0minputs\u001b[0m\u001b[0;34m)\u001b[0m\u001b[0;34m)\u001b[0m\u001b[0;34m\u001b[0m\u001b[0;34m\u001b[0m\u001b[0m\n\u001b[1;32m     47\u001b[0m \u001b[0;34m\u001b[0m\u001b[0m\n",
            "\u001b[0;31mKeyboardInterrupt\u001b[0m: "
          ]
        }
      ],
      "source": [
        "num_epochs = 50\n",
        "root = '/content/drive/MyDrive/Colorize'\n",
        "\n",
        "for epoch in range(num_epochs):\n",
        "  # Train\n",
        "  gen_loss, disc_loss = train_one_epoch(\n",
        "      generator, discriminator,\n",
        "      train_loader,\n",
        "      gen_loss_fn, disc_loss_fn,\n",
        "      gen_optimizer, disc_optimizer,\n",
        "      epoch+1)\n",
        "\n",
        "  # Validation\n",
        "  loss_valid = evaluate(\n",
        "      generator,\n",
        "      test_loader,\n",
        "      nn.MSELoss())\n",
        "\n",
        "  generate(generator, test_loader, f'{root}/results/img-{epoch_counter+1}.png')\n",
        "\n",
        "  loss_gen_hist.append(gen_loss)\n",
        "  loss_disc_hist.append(disc_loss)\n",
        "  loss_valid_hist.append(loss_valid)\n",
        "\n",
        "  if loss_valid < best_loss_valid:\n",
        "    torch.save(generator, f'{root}/weights/generator-best.pt')\n",
        "    best_loss_valid = loss_valid\n",
        "    print('Generator Saved!')\n",
        "\n",
        "  print(f'Valid: Loss = {loss_valid:.4}')\n",
        "  print()\n",
        "\n",
        "  # if wandb_enable:\n",
        "  #   wandb.log({\"metric_train\": metric_train, \"loss_train\": loss_train,\n",
        "  #               \"metric_valid\": metric_valid, \"loss_valid\": loss_valid})\n",
        "\n",
        "  epoch_counter += 1\n",
        "\n",
        "torch.save(generator, f'{root}/generator-last.pt')"
      ]
    },
    {
      "cell_type": "markdown",
      "metadata": {
        "id": "rsypRB9TdgGn"
      },
      "source": [
        "##🟠Plot"
      ]
    },
    {
      "cell_type": "code",
      "execution_count": null,
      "metadata": {
        "colab": {
          "base_uri": "https://localhost:8080/",
          "height": 559
        },
        "id": "wvbku-dWdhkf",
        "outputId": "bc053cc2-dc11-405e-9c7f-8da8d63e681a"
      },
      "outputs": [
        {
          "data": {
            "text/plain": [
              "<matplotlib.legend.Legend at 0x7dad84877ca0>"
            ]
          },
          "execution_count": 58,
          "metadata": {},
          "output_type": "execute_result"
        },
        {
          "data": {
            "image/png": "[encoded data removed]",
            "text/plain": [
              "<Figure size 800x600 with 1 Axes>"
            ]
          },
          "metadata": {},
          "output_type": "display_data"
        }
      ],
      "source": [
        "plt.figure(figsize=(8, 6))\n",
        "\n",
        "plt.plot(range(epoch_counter), loss_gen_hist, 'r-', label='G')\n",
        "plt.plot(range(epoch_counter), loss_disc_hist, 'b-', label='D')\n",
        "\n",
        "plt.xlabel('Epoch')\n",
        "plt.ylabel('loss')\n",
        "plt.grid(True)\n",
        "plt.legend()"
      ]
    },
    {
      "cell_type": "markdown",
      "metadata": {
        "id": "E_dyHS1GdiqN"
      },
      "source": [
        "#**🔴Generate**"
      ]
    },
    {
      "cell_type": "code",
      "execution_count": null,
      "metadata": {
        "id": "Q1wqV9uPMVyb"
      },
      "outputs": [],
      "source": [
        "model = torch.load('/content/drive/MyDrive/Colorize/generator-last.pt').to(device)"
      ]
    },
    {
      "cell_type": "code",
      "execution_count": null,
      "metadata": {
        "id": "SicxTxG2dkq3"
      },
      "outputs": [],
      "source": [
        "root = '/content/drive/MyDrive/Colorize'\n",
        "filenames = glob(f'{root}/results/*')\n",
        "filenames = sorted(filenames, key=lambda x: int(x.split('-')[-1].split('.')[0]))\n",
        "images = []\n",
        "for filename in filenames:\n",
        "    images.append(imageio.imread(filename))\n",
        "imageio.mimsave(f'{root}/animation.gif', images, duration = 0.04)"
      ]
    },
    {
      "cell_type": "code",
      "execution_count": null,
      "metadata": {
        "colab": {
          "background_save": true
        },
        "id": "BDtxqyrVhE8y",
        "outputId": "1d2a8c4a-8f73-4d07-a4e2-646c8536aeb5"
      },
      "outputs": [],
      "source": [
        "embed.embed_file(f\"{root}/animation.gif\")"
      ]
    },
    {
      "cell_type": "code",
      "execution_count": null,
      "metadata": {
        "id": "NuNbU2e6SDtZ"
      },
      "outputs": [],
      "source": []
    }
  ],
  "metadata": {
    "accelerator": "GPU",
    "colab": {
      "collapsed_sections": [
        "8LCVSukQcJnr",
        "on-O-Md_cM1P",
        "TmNkjJSscohT",
        "53jbMPt8pUvu",
        "5qQhTahrpXGb",
        "uGWllBUkcPxn",
        "DbuIZA7RkJPZ",
        "TqZzShb8lDhv",
        "u3zKVA6vlbPs",
        "ekKzHJMocxTF",
        "m3zFJOwcmxdW",
        "Lx88SfSNc4f2",
        "jfwqfrpDqhoS",
        "1eHqsedXodNF"
      ],
      "gpuType": "T4",
      "provenance": []
    },
    "kernelspec": {
      "display_name": "Python 3",
      "name": "python3"
    },
    "language_info": {
      "name": "python"
    }
  },
  "nbformat": 4,
  "nbformat_minor": 0
}