{
  "nbformat": 4,
  "nbformat_minor": 0,
  "metadata": {
    "colab": {
      "provenance": [],
      "collapsed_sections": [
        "PtQF5Cb3JubJ",
        "VBGU8RYQJ-_q",
        "DQ6g3DJDRCEp",
        "XE0iTteJfMV8",
        "2gigfwfQT3qY",
        "VXf8UBTmd25X",
        "m3AhiURyd8jR"
      ]
    },
    "kernelspec": {
      "name": "python3",
      "display_name": "Python 3"
    },
    "language_info": {
      "name": "python"
    }
  },
  "cells": [
    {
      "cell_type": "markdown",
      "source": [
        "#Install😎"
      ],
      "metadata": {
        "id": "PtQF5Cb3JubJ"
      }
    },
    {
      "cell_type": "code",
      "source": [
        "!pip install torchmetrics"
      ],
      "metadata": {
        "colab": {
          "base_uri": "https://localhost:8080/"
        },
        "id": "kEws97iKJsZd",
        "outputId": "cbc6a69f-b1c9-48de-a023-d3c260661738"
      },
      "execution_count": 1,
      "outputs": [
        {
          "output_type": "stream",
          "name": "stdout",
          "text": [
            "Requirement already satisfied: torchmetrics in /usr/local/lib/python3.10/dist-packages (1.4.0.post0)\n",
            "Requirement already satisfied: numpy>1.20.0 in /usr/local/lib/python3.10/dist-packages (from torchmetrics) (1.25.2)\n",
            "Requirement already satisfied: packaging>17.1 in /usr/local/lib/python3.10/dist-packages (from torchmetrics) (24.0)\n",
            "Requirement already satisfied: torch>=1.10.0 in /usr/local/lib/python3.10/dist-packages (from torchmetrics) (2.2.1+cu121)\n",
            "Requirement already satisfied: lightning-utilities>=0.8.0 in /usr/local/lib/python3.10/dist-packages (from torchmetrics) (0.11.2)\n",
            "Requirement already satisfied: setuptools in /usr/local/lib/python3.10/dist-packages (from lightning-utilities>=0.8.0->torchmetrics) (67.7.2)\n",
            "Requirement already satisfied: typing-extensions in /usr/local/lib/python3.10/dist-packages (from lightning-utilities>=0.8.0->torchmetrics) (4.11.0)\n",
            "Requirement already satisfied: filelock in /usr/local/lib/python3.10/dist-packages (from torch>=1.10.0->torchmetrics) (3.14.0)\n",
            "Requirement already satisfied: sympy in /usr/local/lib/python3.10/dist-packages (from torch>=1.10.0->torchmetrics) (1.12)\n",
            "Requirement already satisfied: networkx in /usr/local/lib/python3.10/dist-packages (from torch>=1.10.0->torchmetrics) (3.3)\n",
            "Requirement already satisfied: jinja2 in /usr/local/lib/python3.10/dist-packages (from torch>=1.10.0->torchmetrics) (3.1.4)\n",
            "Requirement already satisfied: fsspec in /usr/local/lib/python3.10/dist-packages (from torch>=1.10.0->torchmetrics) (2023.6.0)\n",
            "Requirement already satisfied: nvidia-cuda-nvrtc-cu12==12.1.105 in /usr/local/lib/python3.10/dist-packages (from torch>=1.10.0->torchmetrics) (12.1.105)\n",
            "Requirement already satisfied: nvidia-cuda-runtime-cu12==12.1.105 in /usr/local/lib/python3.10/dist-packages (from torch>=1.10.0->torchmetrics) (12.1.105)\n",
            "Requirement already satisfied: nvidia-cuda-cupti-cu12==12.1.105 in /usr/local/lib/python3.10/dist-packages (from torch>=1.10.0->torchmetrics) (12.1.105)\n",
            "Requirement already satisfied: nvidia-cudnn-cu12==8.9.2.26 in /usr/local/lib/python3.10/dist-packages (from torch>=1.10.0->torchmetrics) (8.9.2.26)\n",
            "Requirement already satisfied: nvidia-cublas-cu12==12.1.3.1 in /usr/local/lib/python3.10/dist-packages (from torch>=1.10.0->torchmetrics) (12.1.3.1)\n",
            "Requirement already satisfied: nvidia-cufft-cu12==11.0.2.54 in /usr/local/lib/python3.10/dist-packages (from torch>=1.10.0->torchmetrics) (11.0.2.54)\n",
            "Requirement already satisfied: nvidia-curand-cu12==10.3.2.106 in /usr/local/lib/python3.10/dist-packages (from torch>=1.10.0->torchmetrics) (10.3.2.106)\n",
            "Requirement already satisfied: nvidia-cusolver-cu12==11.4.5.107 in /usr/local/lib/python3.10/dist-packages (from torch>=1.10.0->torchmetrics) (11.4.5.107)\n",
            "Requirement already satisfied: nvidia-cusparse-cu12==12.1.0.106 in /usr/local/lib/python3.10/dist-packages (from torch>=1.10.0->torchmetrics) (12.1.0.106)\n",
            "Requirement already satisfied: nvidia-nccl-cu12==2.19.3 in /usr/local/lib/python3.10/dist-packages (from torch>=1.10.0->torchmetrics) (2.19.3)\n",
            "Requirement already satisfied: nvidia-nvtx-cu12==12.1.105 in /usr/local/lib/python3.10/dist-packages (from torch>=1.10.0->torchmetrics) (12.1.105)\n",
            "Requirement already satisfied: triton==2.2.0 in /usr/local/lib/python3.10/dist-packages (from torch>=1.10.0->torchmetrics) (2.2.0)\n",
            "Requirement already satisfied: nvidia-nvjitlink-cu12 in /usr/local/lib/python3.10/dist-packages (from nvidia-cusolver-cu12==11.4.5.107->torch>=1.10.0->torchmetrics) (12.4.127)\n",
            "Requirement already satisfied: MarkupSafe>=2.0 in /usr/local/lib/python3.10/dist-packages (from jinja2->torch>=1.10.0->torchmetrics) (2.1.5)\n",
            "Requirement already satisfied: mpmath>=0.19 in /usr/local/lib/python3.10/dist-packages (from sympy->torch>=1.10.0->torchmetrics) (1.3.0)\n"
          ]
        }
      ]
    },
    {
      "cell_type": "markdown",
      "source": [
        "#Imports👽"
      ],
      "metadata": {
        "id": "VBGU8RYQJ-_q"
      }
    },
    {
      "cell_type": "code",
      "execution_count": 2,
      "metadata": {
        "id": "xeUzDr6nJO1V"
      },
      "outputs": [],
      "source": [
        "import torch\n",
        "import torch.nn as nn\n",
        "import torch.nn.functional as F\n",
        "from torch import optim\n",
        "from torch.utils.data import DataLoader,TensorDataset,random_split\n",
        "\n",
        "from sklearn.model_selection import train_test_split\n",
        "from sklearn.preprocessing import Normalizer, MinMaxScaler\n",
        "import matplotlib.pyplot as plt\n",
        "import seaborn as sns\n",
        "import requests\n",
        "import scipy\n",
        "import pylab\n",
        "import statsmodels.tsa.stattools as sts\n",
        "import pandas as pd\n",
        "import numpy as np\n",
        "\n",
        "from torchmetrics import Accuracy\n",
        "from tqdm import tqdm\n",
        "import glob\n",
        "import os\n",
        "\n",
        "from datetime import datetime,timedelta"
      ]
    },
    {
      "cell_type": "markdown",
      "source": [
        "#Download Data✨"
      ],
      "metadata": {
        "id": "e5TqFFL_KGlo"
      }
    },
    {
      "cell_type": "code",
      "source": [
        "api_key = 'e61479fbc59d62f40c959bd6021e9df48b79c324'"
      ],
      "metadata": {
        "id": "Wd-X4xcuJljc"
      },
      "execution_count": 22,
      "outputs": []
    },
    {
      "cell_type": "code",
      "source": [
        "end = datetime.now()\n",
        "start = end - timedelta(days=365*2)\n",
        "start_date = start.replace(hour=0, minute=0, second=0, microsecond=0)\n",
        "end_date = end.replace(hour=23, minute=59, second=59, microsecond=999999)"
      ],
      "metadata": {
        "id": "rYfFhkGbKaYa"
      },
      "execution_count": 23,
      "outputs": []
    },
    {
      "cell_type": "code",
      "source": [
        "ticker = 'EURJPY'\n",
        "interval = '1hour'\n",
        "\n",
        "url = f'https://api.tiingo.com/tiingo/fx/{ticker}/prices?startDate={start_date}&endDate={end_date}&resampleFreq={interval}&token={api_key}'"
      ],
      "metadata": {
        "id": "zLlLtYb7KbHx"
      },
      "execution_count": 24,
      "outputs": []
    },
    {
      "cell_type": "code",
      "source": [
        "response = requests.get(url)"
      ],
      "metadata": {
        "id": "Go0INhtOKv2k"
      },
      "execution_count": 25,
      "outputs": []
    },
    {
      "cell_type": "code",
      "source": [
        "if response.status_code == 200:\n",
        "    data = response.json()\n",
        "    df = pd.json_normalize(data)\n",
        "\n",
        "    df.to_excel('stock_data.xlsx', index=False)\n",
        "    print('Data saved successfully.')\n",
        "else:\n",
        "    print(\"Error receiving data\")"
      ],
      "metadata": {
        "colab": {
          "base_uri": "https://localhost:8080/"
        },
        "id": "dNAG_42HK18g",
        "outputId": "b9c902f5-9bc9-4bc8-d7a9-2e92d7884e31"
      },
      "execution_count": 26,
      "outputs": [
        {
          "output_type": "stream",
          "name": "stdout",
          "text": [
            "Data saved successfully.\n"
          ]
        }
      ]
    },
    {
      "cell_type": "code",
      "source": [
        "df.head(10)"
      ],
      "metadata": {
        "colab": {
          "base_uri": "https://localhost:8080/",
          "height": 362
        },
        "id": "spN07TcKK9gk",
        "outputId": "dd4869b9-ada3-437a-9dee-85fa65b5c382"
      },
      "execution_count": 27,
      "outputs": [
        {
          "output_type": "execute_result",
          "data": {
            "text/plain": [
              "                       date  ticker      open      high       low     close\n",
              "0  2022-05-19T00:00:00.000Z  eurjpy  133.9875  134.8415  133.9465  134.6370\n",
              "1  2022-05-19T01:00:00.000Z  eurjpy  134.6450  134.9070  134.5905  134.7190\n",
              "2  2022-05-19T02:00:00.000Z  eurjpy  134.7195  135.1620  134.6815  135.0895\n",
              "3  2022-05-19T03:00:00.000Z  eurjpy  135.0890  135.2725  135.0840  135.1930\n",
              "4  2022-05-19T04:00:00.000Z  eurjpy  135.1920  135.4630  135.1820  135.2375\n",
              "5  2022-05-19T05:00:00.000Z  eurjpy  135.2370  135.3090  134.8580  134.8640\n",
              "6  2022-05-19T06:00:00.000Z  eurjpy  134.8630  134.9860  134.6090  134.7335\n",
              "7  2022-05-19T07:00:00.000Z  eurjpy  134.7330  134.7400  134.1340  134.5560\n",
              "8  2022-05-19T08:00:00.000Z  eurjpy  134.5440  134.5460  134.1120  134.2065\n",
              "9  2022-05-19T09:00:00.000Z  eurjpy  134.2055  134.3475  133.9275  133.9960"
            ],
            "text/html": [
              "\n",
              "  <div id=\"df-24c21c55-b01a-454a-aa87-f239b0b4a2f5\" class=\"colab-df-container\">\n",
              "    <div>\n",
              "<style scoped>\n",
              "    .dataframe tbody tr th:only-of-type {\n",
              "        vertical-align: middle;\n",
              "    }\n",
              "\n",
              "    .dataframe tbody tr th {\n",
              "        vertical-align: top;\n",
              "    }\n",
              "\n",
              "    .dataframe thead th {\n",
              "        text-align: right;\n",
              "    }\n",
              "</style>\n",
              "<table border=\"1\" class=\"dataframe\">\n",
              "  <thead>\n",
              "    <tr style=\"text-align: right;\">\n",
              "      <th></th>\n",
              "      <th>date</th>\n",
              "      <th>ticker</th>\n",
              "      <th>open</th>\n",
              "      <th>high</th>\n",
              "      <th>low</th>\n",
              "      <th>close</th>\n",
              "    </tr>\n",
              "  </thead>\n",
              "  <tbody>\n",
              "    <tr>\n",
              "      <th>0</th>\n",
              "      <td>2022-05-19T00:00:00.000Z</td>\n",
              "      <td>eurjpy</td>\n",
              "      <td>133.9875</td>\n",
              "      <td>134.8415</td>\n",
              "      <td>133.9465</td>\n",
              "      <td>134.6370</td>\n",
              "    </tr>\n",
              "    <tr>\n",
              "      <th>1</th>\n",
              "      <td>2022-05-19T01:00:00.000Z</td>\n",
              "      <td>eurjpy</td>\n",
              "      <td>134.6450</td>\n",
              "      <td>134.9070</td>\n",
              "      <td>134.5905</td>\n",
              "      <td>134.7190</td>\n",
              "    </tr>\n",
              "    <tr>\n",
              "      <th>2</th>\n",
              "      <td>2022-05-19T02:00:00.000Z</td>\n",
              "      <td>eurjpy</td>\n",
              "      <td>134.7195</td>\n",
              "      <td>135.1620</td>\n",
              "      <td>134.6815</td>\n",
              "      <td>135.0895</td>\n",
              "    </tr>\n",
              "    <tr>\n",
              "      <th>3</th>\n",
              "      <td>2022-05-19T03:00:00.000Z</td>\n",
              "      <td>eurjpy</td>\n",
              "      <td>135.0890</td>\n",
              "      <td>135.2725</td>\n",
              "      <td>135.0840</td>\n",
              "      <td>135.1930</td>\n",
              "    </tr>\n",
              "    <tr>\n",
              "      <th>4</th>\n",
              "      <td>2022-05-19T04:00:00.000Z</td>\n",
              "      <td>eurjpy</td>\n",
              "      <td>135.1920</td>\n",
              "      <td>135.4630</td>\n",
              "      <td>135.1820</td>\n",
              "      <td>135.2375</td>\n",
              "    </tr>\n",
              "    <tr>\n",
              "      <th>5</th>\n",
              "      <td>2022-05-19T05:00:00.000Z</td>\n",
              "      <td>eurjpy</td>\n",
              "      <td>135.2370</td>\n",
              "      <td>135.3090</td>\n",
              "      <td>134.8580</td>\n",
              "      <td>134.8640</td>\n",
              "    </tr>\n",
              "    <tr>\n",
              "      <th>6</th>\n",
              "      <td>2022-05-19T06:00:00.000Z</td>\n",
              "      <td>eurjpy</td>\n",
              "      <td>134.8630</td>\n",
              "      <td>134.9860</td>\n",
              "      <td>134.6090</td>\n",
              "      <td>134.7335</td>\n",
              "    </tr>\n",
              "    <tr>\n",
              "      <th>7</th>\n",
              "      <td>2022-05-19T07:00:00.000Z</td>\n",
              "      <td>eurjpy</td>\n",
              "      <td>134.7330</td>\n",
              "      <td>134.7400</td>\n",
              "      <td>134.1340</td>\n",
              "      <td>134.5560</td>\n",
              "    </tr>\n",
              "    <tr>\n",
              "      <th>8</th>\n",
              "      <td>2022-05-19T08:00:00.000Z</td>\n",
              "      <td>eurjpy</td>\n",
              "      <td>134.5440</td>\n",
              "      <td>134.5460</td>\n",
              "      <td>134.1120</td>\n",
              "      <td>134.2065</td>\n",
              "    </tr>\n",
              "    <tr>\n",
              "      <th>9</th>\n",
              "      <td>2022-05-19T09:00:00.000Z</td>\n",
              "      <td>eurjpy</td>\n",
              "      <td>134.2055</td>\n",
              "      <td>134.3475</td>\n",
              "      <td>133.9275</td>\n",
              "      <td>133.9960</td>\n",
              "    </tr>\n",
              "  </tbody>\n",
              "</table>\n",
              "</div>\n",
              "    <div class=\"colab-df-buttons\">\n",
              "\n",
              "  <div class=\"colab-df-container\">\n",
              "    <button class=\"colab-df-convert\" onclick=\"convertToInteractive('df-24c21c55-b01a-454a-aa87-f239b0b4a2f5')\"\n",
              "            title=\"Convert this dataframe to an interactive table.\"\n",
              "            style=\"display:none;\">\n",
              "\n",
              "  <svg xmlns=\"http://www.w3.org/2000/svg\" height=\"24px\" viewBox=\"0 -960 960 960\">\n",
              "    <path d=\"M120-120v-720h720v720H120Zm60-500h600v-160H180v160Zm220 220h160v-160H400v160Zm0 220h160v-160H400v160ZM180-400h160v-160H180v160Zm440 0h160v-160H620v160ZM180-180h160v-160H180v160Zm440 0h160v-160H620v160Z\"/>\n",
              "  </svg>\n",
              "    </button>\n",
              "\n",
              "  <style>\n",
              "    .colab-df-container {\n",
              "      display:flex;\n",
              "      gap: 12px;\n",
              "    }\n",
              "\n",
              "    .colab-df-convert {\n",
              "      background-color: #E8F0FE;\n",
              "      border: none;\n",
              "      border-radius: 50%;\n",
              "      cursor: pointer;\n",
              "      display: none;\n",
              "      fill: #1967D2;\n",
              "      height: 32px;\n",
              "      padding: 0 0 0 0;\n",
              "      width: 32px;\n",
              "    }\n",
              "\n",
              "    .colab-df-convert:hover {\n",
              "      background-color: #E2EBFA;\n",
              "      box-shadow: 0px 1px 2px rgba(60, 64, 67, 0.3), 0px 1px 3px 1px rgba(60, 64, 67, 0.15);\n",
              "      fill: #174EA6;\n",
              "    }\n",
              "\n",
              "    .colab-df-buttons div {\n",
              "      margin-bottom: 4px;\n",
              "    }\n",
              "\n",
              "    [theme=dark] .colab-df-convert {\n",
              "      background-color: #3B4455;\n",
              "      fill: #D2E3FC;\n",
              "    }\n",
              "\n",
              "    [theme=dark] .colab-df-convert:hover {\n",
              "      background-color: #434B5C;\n",
              "      box-shadow: 0px 1px 3px 1px rgba(0, 0, 0, 0.15);\n",
              "      filter: drop-shadow(0px 1px 2px rgba(0, 0, 0, 0.3));\n",
              "      fill: #FFFFFF;\n",
              "    }\n",
              "  </style>\n",
              "\n",
              "    <script>\n",
              "      const buttonEl =\n",
              "        document.querySelector('#df-24c21c55-b01a-454a-aa87-f239b0b4a2f5 button.colab-df-convert');\n",
              "      buttonEl.style.display =\n",
              "        google.colab.kernel.accessAllowed ? 'block' : 'none';\n",
              "\n",
              "      async function convertToInteractive(key) {\n",
              "        const element = document.querySelector('#df-24c21c55-b01a-454a-aa87-f239b0b4a2f5');\n",
              "        const dataTable =\n",
              "          await google.colab.kernel.invokeFunction('convertToInteractive',\n",
              "                                                    [key], {});\n",
              "        if (!dataTable) return;\n",
              "\n",
              "        const docLinkHtml = 'Like what you see? Visit the ' +\n",
              "          '<a target=\"_blank\" href=https://colab.research.google.com/notebooks/data_table.ipynb>data table notebook</a>'\n",
              "          + ' to learn more about interactive tables.';\n",
              "        element.innerHTML = '';\n",
              "        dataTable['output_type'] = 'display_data';\n",
              "        await google.colab.output.renderOutput(dataTable, element);\n",
              "        const docLink = document.createElement('div');\n",
              "        docLink.innerHTML = docLinkHtml;\n",
              "        element.appendChild(docLink);\n",
              "      }\n",
              "    </script>\n",
              "  </div>\n",
              "\n",
              "\n",
              "<div id=\"df-75546e98-7866-4f19-8175-1141fb726f5a\">\n",
              "  <button class=\"colab-df-quickchart\" onclick=\"quickchart('df-75546e98-7866-4f19-8175-1141fb726f5a')\"\n",
              "            title=\"Suggest charts\"\n",
              "            style=\"display:none;\">\n",
              "\n",
              "<svg xmlns=\"http://www.w3.org/2000/svg\" height=\"24px\"viewBox=\"0 0 24 24\"\n",
              "     width=\"24px\">\n",
              "    <g>\n",
              "        <path d=\"M19 3H5c-1.1 0-2 .9-2 2v14c0 1.1.9 2 2 2h14c1.1 0 2-.9 2-2V5c0-1.1-.9-2-2-2zM9 17H7v-7h2v7zm4 0h-2V7h2v10zm4 0h-2v-4h2v4z\"/>\n",
              "    </g>\n",
              "</svg>\n",
              "  </button>\n",
              "\n",
              "<style>\n",
              "  .colab-df-quickchart {\n",
              "      --bg-color: #E8F0FE;\n",
              "      --fill-color: #1967D2;\n",
              "      --hover-bg-color: #E2EBFA;\n",
              "      --hover-fill-color: #174EA6;\n",
              "      --disabled-fill-color: #AAA;\n",
              "      --disabled-bg-color: #DDD;\n",
              "  }\n",
              "\n",
              "  [theme=dark] .colab-df-quickchart {\n",
              "      --bg-color: #3B4455;\n",
              "      --fill-color: #D2E3FC;\n",
              "      --hover-bg-color: #434B5C;\n",
              "      --hover-fill-color: #FFFFFF;\n",
              "      --disabled-bg-color: #3B4455;\n",
              "      --disabled-fill-color: #666;\n",
              "  }\n",
              "\n",
              "  .colab-df-quickchart {\n",
              "    background-color: var(--bg-color);\n",
              "    border: none;\n",
              "    border-radius: 50%;\n",
              "    cursor: pointer;\n",
              "    display: none;\n",
              "    fill: var(--fill-color);\n",
              "    height: 32px;\n",
              "    padding: 0;\n",
              "    width: 32px;\n",
              "  }\n",
              "\n",
              "  .colab-df-quickchart:hover {\n",
              "    background-color: var(--hover-bg-color);\n",
              "    box-shadow: 0 1px 2px rgba(60, 64, 67, 0.3), 0 1px 3px 1px rgba(60, 64, 67, 0.15);\n",
              "    fill: var(--button-hover-fill-color);\n",
              "  }\n",
              "\n",
              "  .colab-df-quickchart-complete:disabled,\n",
              "  .colab-df-quickchart-complete:disabled:hover {\n",
              "    background-color: var(--disabled-bg-color);\n",
              "    fill: var(--disabled-fill-color);\n",
              "    box-shadow: none;\n",
              "  }\n",
              "\n",
              "  .colab-df-spinner {\n",
              "    border: 2px solid var(--fill-color);\n",
              "    border-color: transparent;\n",
              "    border-bottom-color: var(--fill-color);\n",
              "    animation:\n",
              "      spin 1s steps(1) infinite;\n",
              "  }\n",
              "\n",
              "  @keyframes spin {\n",
              "    0% {\n",
              "      border-color: transparent;\n",
              "      border-bottom-color: var(--fill-color);\n",
              "      border-left-color: var(--fill-color);\n",
              "    }\n",
              "    20% {\n",
              "      border-color: transparent;\n",
              "      border-left-color: var(--fill-color);\n",
              "      border-top-color: var(--fill-color);\n",
              "    }\n",
              "    30% {\n",
              "      border-color: transparent;\n",
              "      border-left-color: var(--fill-color);\n",
              "      border-top-color: var(--fill-color);\n",
              "      border-right-color: var(--fill-color);\n",
              "    }\n",
              "    40% {\n",
              "      border-color: transparent;\n",
              "      border-right-color: var(--fill-color);\n",
              "      border-top-color: var(--fill-color);\n",
              "    }\n",
              "    60% {\n",
              "      border-color: transparent;\n",
              "      border-right-color: var(--fill-color);\n",
              "    }\n",
              "    80% {\n",
              "      border-color: transparent;\n",
              "      border-right-color: var(--fill-color);\n",
              "      border-bottom-color: var(--fill-color);\n",
              "    }\n",
              "    90% {\n",
              "      border-color: transparent;\n",
              "      border-bottom-color: var(--fill-color);\n",
              "    }\n",
              "  }\n",
              "</style>\n",
              "\n",
              "  <script>\n",
              "    async function quickchart(key) {\n",
              "      const quickchartButtonEl =\n",
              "        document.querySelector('#' + key + ' button');\n",
              "      quickchartButtonEl.disabled = true;  // To prevent multiple clicks.\n",
              "      quickchartButtonEl.classList.add('colab-df-spinner');\n",
              "      try {\n",
              "        const charts = await google.colab.kernel.invokeFunction(\n",
              "            'suggestCharts', [key], {});\n",
              "      } catch (error) {\n",
              "        console.error('Error during call to suggestCharts:', error);\n",
              "      }\n",
              "      quickchartButtonEl.classList.remove('colab-df-spinner');\n",
              "      quickchartButtonEl.classList.add('colab-df-quickchart-complete');\n",
              "    }\n",
              "    (() => {\n",
              "      let quickchartButtonEl =\n",
              "        document.querySelector('#df-75546e98-7866-4f19-8175-1141fb726f5a button');\n",
              "      quickchartButtonEl.style.display =\n",
              "        google.colab.kernel.accessAllowed ? 'block' : 'none';\n",
              "    })();\n",
              "  </script>\n",
              "</div>\n",
              "    </div>\n",
              "  </div>\n"
            ],
            "application/vnd.google.colaboratory.intrinsic+json": {
              "type": "dataframe",
              "variable_name": "df",
              "summary": "{\n  \"name\": \"df\",\n  \"rows\": 6961,\n  \"fields\": [\n    {\n      \"column\": \"date\",\n      \"properties\": {\n        \"dtype\": \"object\",\n        \"num_unique_values\": 6961,\n        \"samples\": [\n          \"2022-08-07T21:00:00.000Z\",\n          \"2023-04-25T10:00:00.000Z\",\n          \"2023-05-15T02:00:00.000Z\"\n        ],\n        \"semantic_type\": \"\",\n        \"description\": \"\"\n      }\n    },\n    {\n      \"column\": \"ticker\",\n      \"properties\": {\n        \"dtype\": \"category\",\n        \"num_unique_values\": 1,\n        \"samples\": [\n          \"eurjpy\"\n        ],\n        \"semantic_type\": \"\",\n        \"description\": \"\"\n      }\n    },\n    {\n      \"column\": \"open\",\n      \"properties\": {\n        \"dtype\": \"number\",\n        \"std\": 4.8873449709331815,\n        \"min\": 133.523,\n        \"max\": 157.935,\n        \"num_unique_values\": 6187,\n        \"samples\": [\n          147.989\n        ],\n        \"semantic_type\": \"\",\n        \"description\": \"\"\n      }\n    },\n    {\n      \"column\": \"high\",\n      \"properties\": {\n        \"dtype\": \"number\",\n        \"std\": 4.874213364058115,\n        \"min\": 134.0455,\n        \"max\": 158.0005,\n        \"num_unique_values\": 6104,\n        \"samples\": [\n          148.0515\n        ],\n        \"semantic_type\": \"\",\n        \"description\": \"\"\n      }\n    },\n    {\n      \"column\": \"low\",\n      \"properties\": {\n        \"dtype\": \"number\",\n        \"std\": 4.900020792175411,\n        \"min\": 133.405,\n        \"max\": 157.8875,\n        \"num_unique_values\": 6133,\n        \"samples\": [\n          140.5335\n        ],\n        \"semantic_type\": \"\",\n        \"description\": \"\"\n      }\n    },\n    {\n      \"column\": \"close\",\n      \"properties\": {\n        \"dtype\": \"number\",\n        \"std\": 4.8881629741062955,\n        \"min\": 133.534,\n        \"max\": 157.934,\n        \"num_unique_values\": 6105,\n        \"samples\": [\n          140.331\n        ],\n        \"semantic_type\": \"\",\n        \"description\": \"\"\n      }\n    }\n  ]\n}"
            }
          },
          "metadata": {},
          "execution_count": 27
        }
      ]
    },
    {
      "cell_type": "code",
      "source": [
        "df=df.drop('ticker',axis=1)"
      ],
      "metadata": {
        "id": "BXEE_gI3LAEX"
      },
      "execution_count": 28,
      "outputs": []
    },
    {
      "cell_type": "code",
      "source": [
        "df= pd.DataFrame(df)\n",
        "# Convert the 'date' column to a datetime format\n",
        "\n",
        "df['date']=pd.to_datetime(df['date'])\n",
        "df"
      ],
      "metadata": {
        "colab": {
          "base_uri": "https://localhost:8080/",
          "height": 423
        },
        "id": "yFFPdH0E09l3",
        "outputId": "07df94a2-19e9-465e-8d92-540e9c3ab965"
      },
      "execution_count": 29,
      "outputs": [
        {
          "output_type": "execute_result",
          "data": {
            "text/plain": [
              "                          date      open      high       low     close\n",
              "0    2022-05-19 00:00:00+00:00  133.9875  134.8415  133.9465  134.6370\n",
              "1    2022-05-19 01:00:00+00:00  134.6450  134.9070  134.5905  134.7190\n",
              "2    2022-05-19 02:00:00+00:00  134.7195  135.1620  134.6815  135.0895\n",
              "3    2022-05-19 03:00:00+00:00  135.0890  135.2725  135.0840  135.1930\n",
              "4    2022-05-19 04:00:00+00:00  135.1920  135.4630  135.1820  135.2375\n",
              "...                        ...       ...       ...       ...       ...\n",
              "6956 2023-07-07 16:00:00+00:00  155.9160  156.0040  155.8510  155.9190\n",
              "6957 2023-07-07 17:00:00+00:00  155.9185  155.9965  155.8940  155.9050\n",
              "6958 2023-07-07 18:00:00+00:00  155.9060  155.9360  155.8710  155.8805\n",
              "6959 2023-07-07 19:00:00+00:00  155.8800  155.9150  155.8135  155.8715\n",
              "6960 2023-07-07 20:00:00+00:00  155.8715  155.8905  155.8035  155.8775\n",
              "\n",
              "[6961 rows x 5 columns]"
            ],
            "text/html": [
              "\n",
              "  <div id=\"df-c71f6565-cb63-4115-96e0-08a9c5f5aea5\" class=\"colab-df-container\">\n",
              "    <div>\n",
              "<style scoped>\n",
              "    .dataframe tbody tr th:only-of-type {\n",
              "        vertical-align: middle;\n",
              "    }\n",
              "\n",
              "    .dataframe tbody tr th {\n",
              "        vertical-align: top;\n",
              "    }\n",
              "\n",
              "    .dataframe thead th {\n",
              "        text-align: right;\n",
              "    }\n",
              "</style>\n",
              "<table border=\"1\" class=\"dataframe\">\n",
              "  <thead>\n",
              "    <tr style=\"text-align: right;\">\n",
              "      <th></th>\n",
              "      <th>date</th>\n",
              "      <th>open</th>\n",
              "      <th>high</th>\n",
              "      <th>low</th>\n",
              "      <th>close</th>\n",
              "    </tr>\n",
              "  </thead>\n",
              "  <tbody>\n",
              "    <tr>\n",
              "      <th>0</th>\n",
              "      <td>2022-05-19 00:00:00+00:00</td>\n",
              "      <td>133.9875</td>\n",
              "      <td>134.8415</td>\n",
              "      <td>133.9465</td>\n",
              "      <td>134.6370</td>\n",
              "    </tr>\n",
              "    <tr>\n",
              "      <th>1</th>\n",
              "      <td>2022-05-19 01:00:00+00:00</td>\n",
              "      <td>134.6450</td>\n",
              "      <td>134.9070</td>\n",
              "      <td>134.5905</td>\n",
              "      <td>134.7190</td>\n",
              "    </tr>\n",
              "    <tr>\n",
              "      <th>2</th>\n",
              "      <td>2022-05-19 02:00:00+00:00</td>\n",
              "      <td>134.7195</td>\n",
              "      <td>135.1620</td>\n",
              "      <td>134.6815</td>\n",
              "      <td>135.0895</td>\n",
              "    </tr>\n",
              "    <tr>\n",
              "      <th>3</th>\n",
              "      <td>2022-05-19 03:00:00+00:00</td>\n",
              "      <td>135.0890</td>\n",
              "      <td>135.2725</td>\n",
              "      <td>135.0840</td>\n",
              "      <td>135.1930</td>\n",
              "    </tr>\n",
              "    <tr>\n",
              "      <th>4</th>\n",
              "      <td>2022-05-19 04:00:00+00:00</td>\n",
              "      <td>135.1920</td>\n",
              "      <td>135.4630</td>\n",
              "      <td>135.1820</td>\n",
              "      <td>135.2375</td>\n",
              "    </tr>\n",
              "    <tr>\n",
              "      <th>...</th>\n",
              "      <td>...</td>\n",
              "      <td>...</td>\n",
              "      <td>...</td>\n",
              "      <td>...</td>\n",
              "      <td>...</td>\n",
              "    </tr>\n",
              "    <tr>\n",
              "      <th>6956</th>\n",
              "      <td>2023-07-07 16:00:00+00:00</td>\n",
              "      <td>155.9160</td>\n",
              "      <td>156.0040</td>\n",
              "      <td>155.8510</td>\n",
              "      <td>155.9190</td>\n",
              "    </tr>\n",
              "    <tr>\n",
              "      <th>6957</th>\n",
              "      <td>2023-07-07 17:00:00+00:00</td>\n",
              "      <td>155.9185</td>\n",
              "      <td>155.9965</td>\n",
              "      <td>155.8940</td>\n",
              "      <td>155.9050</td>\n",
              "    </tr>\n",
              "    <tr>\n",
              "      <th>6958</th>\n",
              "      <td>2023-07-07 18:00:00+00:00</td>\n",
              "      <td>155.9060</td>\n",
              "      <td>155.9360</td>\n",
              "      <td>155.8710</td>\n",
              "      <td>155.8805</td>\n",
              "    </tr>\n",
              "    <tr>\n",
              "      <th>6959</th>\n",
              "      <td>2023-07-07 19:00:00+00:00</td>\n",
              "      <td>155.8800</td>\n",
              "      <td>155.9150</td>\n",
              "      <td>155.8135</td>\n",
              "      <td>155.8715</td>\n",
              "    </tr>\n",
              "    <tr>\n",
              "      <th>6960</th>\n",
              "      <td>2023-07-07 20:00:00+00:00</td>\n",
              "      <td>155.8715</td>\n",
              "      <td>155.8905</td>\n",
              "      <td>155.8035</td>\n",
              "      <td>155.8775</td>\n",
              "    </tr>\n",
              "  </tbody>\n",
              "</table>\n",
              "<p>6961 rows × 5 columns</p>\n",
              "</div>\n",
              "    <div class=\"colab-df-buttons\">\n",
              "\n",
              "  <div class=\"colab-df-container\">\n",
              "    <button class=\"colab-df-convert\" onclick=\"convertToInteractive('df-c71f6565-cb63-4115-96e0-08a9c5f5aea5')\"\n",
              "            title=\"Convert this dataframe to an interactive table.\"\n",
              "            style=\"display:none;\">\n",
              "\n",
              "  <svg xmlns=\"http://www.w3.org/2000/svg\" height=\"24px\" viewBox=\"0 -960 960 960\">\n",
              "    <path d=\"M120-120v-720h720v720H120Zm60-500h600v-160H180v160Zm220 220h160v-160H400v160Zm0 220h160v-160H400v160ZM180-400h160v-160H180v160Zm440 0h160v-160H620v160ZM180-180h160v-160H180v160Zm440 0h160v-160H620v160Z\"/>\n",
              "  </svg>\n",
              "    </button>\n",
              "\n",
              "  <style>\n",
              "    .colab-df-container {\n",
              "      display:flex;\n",
              "      gap: 12px;\n",
              "    }\n",
              "\n",
              "    .colab-df-convert {\n",
              "      background-color: #E8F0FE;\n",
              "      border: none;\n",
              "      border-radius: 50%;\n",
              "      cursor: pointer;\n",
              "      display: none;\n",
              "      fill: #1967D2;\n",
              "      height: 32px;\n",
              "      padding: 0 0 0 0;\n",
              "      width: 32px;\n",
              "    }\n",
              "\n",
              "    .colab-df-convert:hover {\n",
              "      background-color: #E2EBFA;\n",
              "      box-shadow: 0px 1px 2px rgba(60, 64, 67, 0.3), 0px 1px 3px 1px rgba(60, 64, 67, 0.15);\n",
              "      fill: #174EA6;\n",
              "    }\n",
              "\n",
              "    .colab-df-buttons div {\n",
              "      margin-bottom: 4px;\n",
              "    }\n",
              "\n",
              "    [theme=dark] .colab-df-convert {\n",
              "      background-color: #3B4455;\n",
              "      fill: #D2E3FC;\n",
              "    }\n",
              "\n",
              "    [theme=dark] .colab-df-convert:hover {\n",
              "      background-color: #434B5C;\n",
              "      box-shadow: 0px 1px 3px 1px rgba(0, 0, 0, 0.15);\n",
              "      filter: drop-shadow(0px 1px 2px rgba(0, 0, 0, 0.3));\n",
              "      fill: #FFFFFF;\n",
              "    }\n",
              "  </style>\n",
              "\n",
              "    <script>\n",
              "      const buttonEl =\n",
              "        document.querySelector('#df-c71f6565-cb63-4115-96e0-08a9c5f5aea5 button.colab-df-convert');\n",
              "      buttonEl.style.display =\n",
              "        google.colab.kernel.accessAllowed ? 'block' : 'none';\n",
              "\n",
              "      async function convertToInteractive(key) {\n",
              "        const element = document.querySelector('#df-c71f6565-cb63-4115-96e0-08a9c5f5aea5');\n",
              "        const dataTable =\n",
              "          await google.colab.kernel.invokeFunction('convertToInteractive',\n",
              "                                                    [key], {});\n",
              "        if (!dataTable) return;\n",
              "\n",
              "        const docLinkHtml = 'Like what you see? Visit the ' +\n",
              "          '<a target=\"_blank\" href=https://colab.research.google.com/notebooks/data_table.ipynb>data table notebook</a>'\n",
              "          + ' to learn more about interactive tables.';\n",
              "        element.innerHTML = '';\n",
              "        dataTable['output_type'] = 'display_data';\n",
              "        await google.colab.output.renderOutput(dataTable, element);\n",
              "        const docLink = document.createElement('div');\n",
              "        docLink.innerHTML = docLinkHtml;\n",
              "        element.appendChild(docLink);\n",
              "      }\n",
              "    </script>\n",
              "  </div>\n",
              "\n",
              "\n",
              "<div id=\"df-56866713-f74e-4e61-a2a7-74a183233ae4\">\n",
              "  <button class=\"colab-df-quickchart\" onclick=\"quickchart('df-56866713-f74e-4e61-a2a7-74a183233ae4')\"\n",
              "            title=\"Suggest charts\"\n",
              "            style=\"display:none;\">\n",
              "\n",
              "<svg xmlns=\"http://www.w3.org/2000/svg\" height=\"24px\"viewBox=\"0 0 24 24\"\n",
              "     width=\"24px\">\n",
              "    <g>\n",
              "        <path d=\"M19 3H5c-1.1 0-2 .9-2 2v14c0 1.1.9 2 2 2h14c1.1 0 2-.9 2-2V5c0-1.1-.9-2-2-2zM9 17H7v-7h2v7zm4 0h-2V7h2v10zm4 0h-2v-4h2v4z\"/>\n",
              "    </g>\n",
              "</svg>\n",
              "  </button>\n",
              "\n",
              "<style>\n",
              "  .colab-df-quickchart {\n",
              "      --bg-color: #E8F0FE;\n",
              "      --fill-color: #1967D2;\n",
              "      --hover-bg-color: #E2EBFA;\n",
              "      --hover-fill-color: #174EA6;\n",
              "      --disabled-fill-color: #AAA;\n",
              "      --disabled-bg-color: #DDD;\n",
              "  }\n",
              "\n",
              "  [theme=dark] .colab-df-quickchart {\n",
              "      --bg-color: #3B4455;\n",
              "      --fill-color: #D2E3FC;\n",
              "      --hover-bg-color: #434B5C;\n",
              "      --hover-fill-color: #FFFFFF;\n",
              "      --disabled-bg-color: #3B4455;\n",
              "      --disabled-fill-color: #666;\n",
              "  }\n",
              "\n",
              "  .colab-df-quickchart {\n",
              "    background-color: var(--bg-color);\n",
              "    border: none;\n",
              "    border-radius: 50%;\n",
              "    cursor: pointer;\n",
              "    display: none;\n",
              "    fill: var(--fill-color);\n",
              "    height: 32px;\n",
              "    padding: 0;\n",
              "    width: 32px;\n",
              "  }\n",
              "\n",
              "  .colab-df-quickchart:hover {\n",
              "    background-color: var(--hover-bg-color);\n",
              "    box-shadow: 0 1px 2px rgba(60, 64, 67, 0.3), 0 1px 3px 1px rgba(60, 64, 67, 0.15);\n",
              "    fill: var(--button-hover-fill-color);\n",
              "  }\n",
              "\n",
              "  .colab-df-quickchart-complete:disabled,\n",
              "  .colab-df-quickchart-complete:disabled:hover {\n",
              "    background-color: var(--disabled-bg-color);\n",
              "    fill: var(--disabled-fill-color);\n",
              "    box-shadow: none;\n",
              "  }\n",
              "\n",
              "  .colab-df-spinner {\n",
              "    border: 2px solid var(--fill-color);\n",
              "    border-color: transparent;\n",
              "    border-bottom-color: var(--fill-color);\n",
              "    animation:\n",
              "      spin 1s steps(1) infinite;\n",
              "  }\n",
              "\n",
              "  @keyframes spin {\n",
              "    0% {\n",
              "      border-color: transparent;\n",
              "      border-bottom-color: var(--fill-color);\n",
              "      border-left-color: var(--fill-color);\n",
              "    }\n",
              "    20% {\n",
              "      border-color: transparent;\n",
              "      border-left-color: var(--fill-color);\n",
              "      border-top-color: var(--fill-color);\n",
              "    }\n",
              "    30% {\n",
              "      border-color: transparent;\n",
              "      border-left-color: var(--fill-color);\n",
              "      border-top-color: var(--fill-color);\n",
              "      border-right-color: var(--fill-color);\n",
              "    }\n",
              "    40% {\n",
              "      border-color: transparent;\n",
              "      border-right-color: var(--fill-color);\n",
              "      border-top-color: var(--fill-color);\n",
              "    }\n",
              "    60% {\n",
              "      border-color: transparent;\n",
              "      border-right-color: var(--fill-color);\n",
              "    }\n",
              "    80% {\n",
              "      border-color: transparent;\n",
              "      border-right-color: var(--fill-color);\n",
              "      border-bottom-color: var(--fill-color);\n",
              "    }\n",
              "    90% {\n",
              "      border-color: transparent;\n",
              "      border-bottom-color: var(--fill-color);\n",
              "    }\n",
              "  }\n",
              "</style>\n",
              "\n",
              "  <script>\n",
              "    async function quickchart(key) {\n",
              "      const quickchartButtonEl =\n",
              "        document.querySelector('#' + key + ' button');\n",
              "      quickchartButtonEl.disabled = true;  // To prevent multiple clicks.\n",
              "      quickchartButtonEl.classList.add('colab-df-spinner');\n",
              "      try {\n",
              "        const charts = await google.colab.kernel.invokeFunction(\n",
              "            'suggestCharts', [key], {});\n",
              "      } catch (error) {\n",
              "        console.error('Error during call to suggestCharts:', error);\n",
              "      }\n",
              "      quickchartButtonEl.classList.remove('colab-df-spinner');\n",
              "      quickchartButtonEl.classList.add('colab-df-quickchart-complete');\n",
              "    }\n",
              "    (() => {\n",
              "      let quickchartButtonEl =\n",
              "        document.querySelector('#df-56866713-f74e-4e61-a2a7-74a183233ae4 button');\n",
              "      quickchartButtonEl.style.display =\n",
              "        google.colab.kernel.accessAllowed ? 'block' : 'none';\n",
              "    })();\n",
              "  </script>\n",
              "</div>\n",
              "    </div>\n",
              "  </div>\n"
            ],
            "application/vnd.google.colaboratory.intrinsic+json": {
              "type": "dataframe",
              "variable_name": "df",
              "summary": "{\n  \"name\": \"df\",\n  \"rows\": 6961,\n  \"fields\": [\n    {\n      \"column\": \"date\",\n      \"properties\": {\n        \"dtype\": \"date\",\n        \"min\": \"2022-05-19 00:00:00+00:00\",\n        \"max\": \"2023-07-07 20:00:00+00:00\",\n        \"num_unique_values\": 6961,\n        \"samples\": [\n          \"2022-08-07 21:00:00+00:00\",\n          \"2023-04-25 10:00:00+00:00\",\n          \"2023-05-15 02:00:00+00:00\"\n        ],\n        \"semantic_type\": \"\",\n        \"description\": \"\"\n      }\n    },\n    {\n      \"column\": \"open\",\n      \"properties\": {\n        \"dtype\": \"number\",\n        \"std\": 4.8873449709331815,\n        \"min\": 133.523,\n        \"max\": 157.935,\n        \"num_unique_values\": 6187,\n        \"samples\": [\n          147.989,\n          139.319,\n          137.5225\n        ],\n        \"semantic_type\": \"\",\n        \"description\": \"\"\n      }\n    },\n    {\n      \"column\": \"high\",\n      \"properties\": {\n        \"dtype\": \"number\",\n        \"std\": 4.874213364058115,\n        \"min\": 134.0455,\n        \"max\": 158.0005,\n        \"num_unique_values\": 6104,\n        \"samples\": [\n          148.0515,\n          141.792,\n          135.55\n        ],\n        \"semantic_type\": \"\",\n        \"description\": \"\"\n      }\n    },\n    {\n      \"column\": \"low\",\n      \"properties\": {\n        \"dtype\": \"number\",\n        \"std\": 4.900020792175411,\n        \"min\": 133.405,\n        \"max\": 157.8875,\n        \"num_unique_values\": 6133,\n        \"samples\": [\n          140.5335,\n          135.141,\n          148.3155\n        ],\n        \"semantic_type\": \"\",\n        \"description\": \"\"\n      }\n    },\n    {\n      \"column\": \"close\",\n      \"properties\": {\n        \"dtype\": \"number\",\n        \"std\": 4.8881629741062955,\n        \"min\": 133.534,\n        \"max\": 157.934,\n        \"num_unique_values\": 6105,\n        \"samples\": [\n          140.331,\n          155.624,\n          135.94\n        ],\n        \"semantic_type\": \"\",\n        \"description\": \"\"\n      }\n    }\n  ]\n}"
            }
          },
          "metadata": {},
          "execution_count": 29
        }
      ]
    },
    {
      "cell_type": "code",
      "source": [
        "df['date'] = df['date'].dt.strftime('%d-%m-%Y %H:%M:%S')\n",
        "df.set_index('date',inplace=True)\n"
      ],
      "metadata": {
        "id": "1vFwTXWZLMWZ"
      },
      "execution_count": 30,
      "outputs": []
    },
    {
      "cell_type": "code",
      "source": [
        "df.plot(figsize=(15,15),subplots=True)\n",
        "\n",
        "plt.show()"
      ],
      "metadata": {
        "colab": {
          "base_uri": "https://localhost:8080/",
          "height": 1000
        },
        "id": "62HnwngaLvE7",
        "outputId": "a3bcae0c-fbc2-4cdb-b2ce-592effa49d58"
      },
      "execution_count": 31,
      "outputs": [
        {
          "output_type": "display_data",
          "data": {
            "text/plain": [
              "<Figure size 1500x1500 with 4 Axes>"
            ],
            "image/png": "[encoded data removed]"
          },
          "metadata": {}
        }
      ]
    },
    {
      "cell_type": "markdown",
      "source": [
        "#Split🎫"
      ],
      "metadata": {
        "id": "GbOnnc6ZOK_X"
      }
    },
    {
      "cell_type": "code",
      "source": [
        "# def create_sequences(data, seq_length):\n",
        "#   xs = []\n",
        "#   ys = []\n",
        "#   for col in data.columns:\n",
        "#     x = []\n",
        "#     y = []\n",
        "#     for i in range(len(data[col])-seq_length):\n",
        "#       x.append(data[col][i:i+seq_length])\n",
        "#       y.append(data[col][i+seq_length])\n",
        "#     xs.append(x)\n",
        "#     ys.append(y)\n",
        "#   return np.array(xs), np.array(ys)"
      ],
      "metadata": {
        "id": "fz5fcWecLVMT"
      },
      "execution_count": 32,
      "outputs": []
    },
    {
      "cell_type": "code",
      "source": [
        "# x, y = create_sequences(df, 5)"
      ],
      "metadata": {
        "id": "oRVReKkBABUa"
      },
      "execution_count": 33,
      "outputs": []
    },
    {
      "cell_type": "code",
      "source": [
        "# x = x.swapaxes(1, 0).swapaxes(2, 1)\n",
        "# y = y.swapaxes(0, 1)"
      ],
      "metadata": {
        "id": "nj8XzDVrAinX"
      },
      "execution_count": 34,
      "outputs": []
    },
    {
      "cell_type": "code",
      "source": [
        "# x_train, x_test, y_train, y_test = train_test_split(x, y, test_size = 0.2, random_state=42)"
      ],
      "metadata": {
        "id": "fB_QkFk6A16t"
      },
      "execution_count": 35,
      "outputs": []
    },
    {
      "cell_type": "code",
      "source": [
        "lag=5\n",
        "train_split = int(len(df)*0.8)\n",
        "train_split"
      ],
      "metadata": {
        "colab": {
          "base_uri": "https://localhost:8080/"
        },
        "id": "-sZ3cWmdomXX",
        "outputId": "f2ede03c-0f5c-4893-fd93-1c4a02f5a301"
      },
      "execution_count": 36,
      "outputs": [
        {
          "output_type": "execute_result",
          "data": {
            "text/plain": [
              "5568"
            ]
          },
          "metadata": {},
          "execution_count": 36
        }
      ]
    },
    {
      "cell_type": "code",
      "source": [
        "df=np.array(df)"
      ],
      "metadata": {
        "id": "cgksnCzdopxY"
      },
      "execution_count": 37,
      "outputs": []
    },
    {
      "cell_type": "code",
      "source": [
        "def multivariate_data(dataset, target, start_index, end_index, history_size,\n",
        "                      target_size, step, single_step=False):\n",
        "    data = []\n",
        "    labels = []\n",
        "\n",
        "    start_index = start_index + history_size\n",
        "    if end_index is None:\n",
        "        end_index = len(dataset) - target_size\n",
        "\n",
        "    for i in range(start_index, end_index):\n",
        "        indices = range(i-history_size, i, step)\n",
        "        data.append(dataset[indices])\n",
        "\n",
        "        if single_step:\n",
        "            labels.append(target[i+target_size])\n",
        "        else:\n",
        "            labels.append(target[i:i+target_size])\n",
        "\n",
        "    return np.array(data), np.array(labels)"
      ],
      "metadata": {
        "id": "7-ZuMbPwogu4"
      },
      "execution_count": 38,
      "outputs": []
    },
    {
      "cell_type": "code",
      "source": [
        "n_step = 1\n",
        "past_history = lag\n",
        "n_step= 1\n",
        "STEP = 1"
      ],
      "metadata": {
        "id": "zOINpz0FouHs"
      },
      "execution_count": 39,
      "outputs": []
    },
    {
      "cell_type": "code",
      "source": [
        "x_train, y_train = multivariate_data(df, df[:, 0], 0,\n",
        "                                                   train_split, past_history,\n",
        "                                                   n_step, STEP,\n",
        "                                                   single_step=True)\n",
        "x_test, y_test = multivariate_data(df, df[:, 0],\n",
        "                                               train_split, None, past_history,\n",
        "                                               n_step, STEP,\n",
        "                                               single_step=True)"
      ],
      "metadata": {
        "id": "MSs_KfoKoxfF"
      },
      "execution_count": 40,
      "outputs": []
    },
    {
      "cell_type": "markdown",
      "source": [
        "#Preprocessing"
      ],
      "metadata": {
        "id": "1IrQQ6B4RYIJ"
      }
    },
    {
      "cell_type": "code",
      "source": [
        "scalers = {}\n",
        "for i in range(x_train.shape[2]):\n",
        "    scalers [i]= MinMaxScaler(feature_range=(0,1))\n",
        "    x_train[:, :, i] = scalers[i].fit_transform(x_train[:, :, i])\n",
        "\n",
        "for i in range(x_test.shape[2]):\n",
        "    x_test[:, :, i] = scalers[i].transform(x_test[:, :, i])"
      ],
      "metadata": {
        "id": "W87Z_F11RabE"
      },
      "execution_count": 41,
      "outputs": []
    },
    {
      "cell_type": "code",
      "source": [
        "scalers_test= MinMaxScaler(feature_range=(0,1))\n",
        "y_train = scalers_test.fit_transform(y_train.reshape(-1,1))\n",
        "y_test = scalers_test.transform(y_test.reshape(-1,1))"
      ],
      "metadata": {
        "id": "fcNtgFnJlAg_"
      },
      "execution_count": 42,
      "outputs": []
    },
    {
      "cell_type": "markdown",
      "source": [
        "#Convert to tensor🎡"
      ],
      "metadata": {
        "id": "m_eCyZKbQb7T"
      }
    },
    {
      "cell_type": "code",
      "source": [
        "x_train = torch.FloatTensor(x_train)\n",
        "x_test = torch.FloatTensor(x_test)\n",
        "\n",
        "y_train = torch.FloatTensor(y_train)\n",
        "y_test = torch.FloatTensor(y_test)"
      ],
      "metadata": {
        "id": "LCBVpIthOpNq"
      },
      "execution_count": 43,
      "outputs": []
    },
    {
      "cell_type": "markdown",
      "source": [
        "#Data Loader🧵"
      ],
      "metadata": {
        "id": "DQ6g3DJDRCEp"
      }
    },
    {
      "cell_type": "code",
      "source": [
        "train_set = TensorDataset(x_train, y_train)\n",
        "test_set = TensorDataset(x_test, y_test)"
      ],
      "metadata": {
        "id": "wAnt1tQTQ8w1"
      },
      "execution_count": 48,
      "outputs": []
    },
    {
      "cell_type": "code",
      "source": [
        "train_loader = DataLoader(train_set, 32, False)\n",
        "test_loader = DataLoader(test_set, 64, False)"
      ],
      "metadata": {
        "id": "gu885RiJSv0s"
      },
      "execution_count": 49,
      "outputs": []
    },
    {
      "cell_type": "code",
      "source": [
        "x, y = next(iter(train_loader))\n",
        "print(x.shape)\n",
        "print(y.shape)"
      ],
      "metadata": {
        "colab": {
          "base_uri": "https://localhost:8080/"
        },
        "id": "h41W2ctTTNqu",
        "outputId": "51b4f49b-efe6-4df8-d260-c41761c2ae11"
      },
      "execution_count": 50,
      "outputs": [
        {
          "output_type": "stream",
          "name": "stdout",
          "text": [
            "torch.Size([32, 5, 4])\n",
            "torch.Size([32, 1])\n"
          ]
        }
      ]
    },
    {
      "cell_type": "code",
      "source": [
        "plt.plot(x[0])"
      ],
      "metadata": {
        "colab": {
          "base_uri": "https://localhost:8080/",
          "height": 499
        },
        "id": "osiBuqteTSn6",
        "outputId": "a1fd9875-6a11-4225-ec3e-fe65b15c92ae"
      },
      "execution_count": 51,
      "outputs": [
        {
          "output_type": "execute_result",
          "data": {
            "text/plain": [
              "[<matplotlib.lines.Line2D at 0x7a667e7f7c10>,\n",
              " <matplotlib.lines.Line2D at 0x7a667e7f7dc0>,\n",
              " <matplotlib.lines.Line2D at 0x7a667e7f7eb0>,\n",
              " <matplotlib.lines.Line2D at 0x7a667e7f7fa0>]"
            ]
          },
          "metadata": {},
          "execution_count": 51
        },
        {
          "output_type": "display_data",
          "data": {
            "text/plain": [
              "<Figure size 640x480 with 1 Axes>"
            ],
            "image/png": "[encoded data removed]"
          },
          "metadata": {}
        }
      ]
    },
    {
      "cell_type": "markdown",
      "source": [
        "#Device"
      ],
      "metadata": {
        "id": "NI-BEr4rex7T"
      }
    },
    {
      "cell_type": "code",
      "source": [
        "device = 'cuda' if torch.cuda.is_available() else 'cpu'\n",
        "device"
      ],
      "metadata": {
        "colab": {
          "base_uri": "https://localhost:8080/",
          "height": 35
        },
        "id": "5Vx5NG1Re0Ui",
        "outputId": "8c81c2af-2b19-459a-b468-e337e05ba573"
      },
      "execution_count": 52,
      "outputs": [
        {
          "output_type": "execute_result",
          "data": {
            "text/plain": [
              "'cpu'"
            ],
            "application/vnd.google.colaboratory.intrinsic+json": {
              "type": "string"
            }
          },
          "metadata": {},
          "execution_count": 52
        }
      ]
    },
    {
      "cell_type": "markdown",
      "source": [
        "#Functions"
      ],
      "metadata": {
        "id": "XE0iTteJfMV8"
      }
    },
    {
      "cell_type": "code",
      "source": [
        "class AverageMeter(object):\n",
        "    \"\"\"Computes and stores the average and current value\"\"\"\n",
        "    def __init__(self):\n",
        "        self.reset()\n",
        "\n",
        "    def reset(self):\n",
        "        self.val = 0\n",
        "        self.avg = 0\n",
        "        self.sum = 0\n",
        "        self.count = 0\n",
        "\n",
        "    def update(self, val, n=1):\n",
        "        self.val = val\n",
        "        self.sum += val * n\n",
        "        self.count += n\n",
        "        self.avg = self.sum / self.count"
      ],
      "metadata": {
        "id": "i8kwPOogffw2"
      },
      "execution_count": 53,
      "outputs": []
    },
    {
      "cell_type": "code",
      "source": [
        "def train_one_epoch(model, train_loader, loss_fn, optimizer, epoch=None):\n",
        "  model.train()\n",
        "  loss_train = AverageMeter()\n",
        "  with tqdm(train_loader, unit=\"batch\") as tepoch:\n",
        "    for inputs, targets in tepoch:\n",
        "      if epoch is not None:\n",
        "        tepoch.set_description(f\"Epoch {epoch}\")\n",
        "      inputs = inputs.to(device)\n",
        "      targets = targets.to(device)\n",
        "      outputs = model(inputs)\n",
        "      loss = loss_fn(outputs, targets)\n",
        "      loss.backward()\n",
        "      optimizer.step()\n",
        "      optimizer.zero_grad()\n",
        "\n",
        "      loss_train.update(loss.item())\n",
        "      tepoch.set_postfix(loss=loss_train.avg)\n",
        "  return model, loss_train.avg"
      ],
      "metadata": {
        "id": "KBPj7vZKfOv7"
      },
      "execution_count": 54,
      "outputs": []
    },
    {
      "cell_type": "code",
      "source": [
        "def validation(model, test_loader, loss_fn):\n",
        "  model.eval()\n",
        "  with torch.no_grad():\n",
        "    loss_valid = AverageMeter()\n",
        "    for i, (inputs, targets) in enumerate(test_loader):\n",
        "      inputs = inputs.to(device)\n",
        "      targets = targets.to(device)\n",
        "      outputs = model(inputs)\n",
        "      loss = loss_fn(outputs, targets)\n",
        "      loss_valid.update(loss.item())\n",
        "  return loss_valid.avg"
      ],
      "metadata": {
        "id": "Q_IYZsSlfSas"
      },
      "execution_count": 55,
      "outputs": []
    },
    {
      "cell_type": "markdown",
      "source": [
        "#Model🧩"
      ],
      "metadata": {
        "id": "2gigfwfQT3qY"
      }
    },
    {
      "cell_type": "code",
      "source": [
        "class RNNModel(nn.Module):\n",
        "  def __init__(self, rnn, input_size, hidden_size, num_layers, dropout):\n",
        "    super().__init__()\n",
        "    self.hidden_size = hidden_size\n",
        "    self.rnn = rnn(input_size=input_size,\n",
        "                   hidden_size=hidden_size,\n",
        "                   num_layers = num_layers,\n",
        "                   dropout=dropout)\n",
        "    self.fc = nn.LazyLinear(1)\n",
        "\n",
        "  def forward(self, x):\n",
        "    outputs, h = self.rnn(x)\n",
        "    y = self.fc(outputs[:, -1])\n",
        "    return y"
      ],
      "metadata": {
        "id": "fPcn2t88Ts7U"
      },
      "execution_count": 79,
      "outputs": []
    },
    {
      "cell_type": "markdown",
      "source": [
        "#Forward check"
      ],
      "metadata": {
        "id": "VXf8UBTmd25X"
      }
    },
    {
      "cell_type": "code",
      "source": [
        "model = RNNModel(nn.RNN, 4, 32, 1, 0.)\n",
        "x_batch, y_batch = next(iter(train_loader))\n",
        "model(x_batch).shape"
      ],
      "metadata": {
        "colab": {
          "base_uri": "https://localhost:8080/"
        },
        "id": "G_ZnKLHcYguU",
        "outputId": "7cd30120-006a-4d0c-c800-bb690acb0ba0"
      },
      "execution_count": 81,
      "outputs": [
        {
          "output_type": "stream",
          "name": "stderr",
          "text": [
            "/usr/local/lib/python3.10/dist-packages/torch/nn/modules/lazy.py:181: UserWarning: Lazy modules are a new feature under heavy development so changes to the API or functionality can happen at any moment.\n",
            "  warnings.warn('Lazy modules are a new feature under heavy development '\n"
          ]
        },
        {
          "output_type": "execute_result",
          "data": {
            "text/plain": [
              "torch.Size([32, 1])"
            ]
          },
          "metadata": {},
          "execution_count": 81
        }
      ]
    },
    {
      "cell_type": "code",
      "source": [
        "y_batch.shape"
      ],
      "metadata": {
        "colab": {
          "base_uri": "https://localhost:8080/"
        },
        "id": "YfD1kvzYZwPW",
        "outputId": "b259984f-ed11-47b7-d12e-4fed8109a8a3"
      },
      "execution_count": 82,
      "outputs": [
        {
          "output_type": "execute_result",
          "data": {
            "text/plain": [
              "torch.Size([32, 1])"
            ]
          },
          "metadata": {},
          "execution_count": 82
        }
      ]
    },
    {
      "cell_type": "markdown",
      "source": [
        "#Backward Check"
      ],
      "metadata": {
        "id": "m3AhiURyd8jR"
      }
    },
    {
      "cell_type": "code",
      "source": [
        "miniset, _ = random_split(train_set, (100, len(train_set)-100))\n",
        "miniloader = DataLoader(miniset, 10)"
      ],
      "metadata": {
        "id": "t1Om-3zceOkT"
      },
      "execution_count": 83,
      "outputs": []
    },
    {
      "cell_type": "code",
      "source": [
        "model = RNNModel(nn.RNN, 4, 32, 1, 0.)\n",
        "optimizer = optim.Adam(model.parameters(), lr=0.01)\n",
        "loss_fn = nn.MSELoss()"
      ],
      "metadata": {
        "id": "IxiCX1Rrd_5k"
      },
      "execution_count": 84,
      "outputs": []
    },
    {
      "cell_type": "code",
      "source": [
        "num_epochs = 100\n",
        "\n",
        "for epoch in range(num_epochs):\n",
        "  model, _ = train_one_epoch(model, miniloader, loss_fn, optimizer, epoch)"
      ],
      "metadata": {
        "colab": {
          "base_uri": "https://localhost:8080/"
        },
        "id": "mRvC38gZeutj",
        "outputId": "df017866-aafc-4e57-ed99-180eb74e1bd7"
      },
      "execution_count": 85,
      "outputs": [
        {
          "output_type": "stream",
          "name": "stderr",
          "text": [
            "Epoch 0: 100%|██████████| 10/10 [00:00<00:00, 41.91batch/s, loss=0.0794]\n",
            "Epoch 1: 100%|██████████| 10/10 [00:00<00:00, 52.49batch/s, loss=0.0109]\n",
            "Epoch 2: 100%|██████████| 10/10 [00:00<00:00, 53.30batch/s, loss=0.00802]\n",
            "Epoch 3: 100%|██████████| 10/10 [00:00<00:00, 47.81batch/s, loss=0.0031]\n",
            "Epoch 4: 100%|██████████| 10/10 [00:00<00:00, 41.00batch/s, loss=0.0013]\n",
            "Epoch 5: 100%|██████████| 10/10 [00:00<00:00, 57.08batch/s, loss=0.000548]\n",
            "Epoch 6: 100%|██████████| 10/10 [00:00<00:00, 80.76batch/s, loss=0.000404]\n",
            "Epoch 7: 100%|██████████| 10/10 [00:00<00:00, 70.18batch/s, loss=0.000382]\n",
            "Epoch 8: 100%|██████████| 10/10 [00:00<00:00, 75.37batch/s, loss=0.000344]\n",
            "Epoch 9: 100%|██████████| 10/10 [00:00<00:00, 87.90batch/s, loss=0.000299]\n",
            "Epoch 10: 100%|██████████| 10/10 [00:00<00:00, 71.92batch/s, loss=0.000283]\n",
            "Epoch 11: 100%|██████████| 10/10 [00:00<00:00, 68.88batch/s, loss=0.000284]\n",
            "Epoch 12: 100%|██████████| 10/10 [00:00<00:00, 79.68batch/s, loss=0.000282]\n",
            "Epoch 13: 100%|██████████| 10/10 [00:00<00:00, 82.63batch/s, loss=0.00028]\n",
            "Epoch 14: 100%|██████████| 10/10 [00:00<00:00, 112.93batch/s, loss=0.000279]\n",
            "Epoch 15: 100%|██████████| 10/10 [00:00<00:00, 117.27batch/s, loss=0.000279]\n",
            "Epoch 16: 100%|██████████| 10/10 [00:00<00:00, 112.52batch/s, loss=0.000278]\n",
            "Epoch 17: 100%|██████████| 10/10 [00:00<00:00, 115.11batch/s, loss=0.000278]\n",
            "Epoch 18: 100%|██████████| 10/10 [00:00<00:00, 120.71batch/s, loss=0.000278]\n",
            "Epoch 19: 100%|██████████| 10/10 [00:00<00:00, 119.61batch/s, loss=0.000279]\n",
            "Epoch 20: 100%|██████████| 10/10 [00:00<00:00, 121.08batch/s, loss=0.000279]\n",
            "Epoch 21: 100%|██████████| 10/10 [00:00<00:00, 111.69batch/s, loss=0.00028]\n",
            "Epoch 22: 100%|██████████| 10/10 [00:00<00:00, 105.46batch/s, loss=0.00028]\n",
            "Epoch 23: 100%|██████████| 10/10 [00:00<00:00, 113.81batch/s, loss=0.000281]\n",
            "Epoch 24: 100%|██████████| 10/10 [00:00<00:00, 107.91batch/s, loss=0.000282]\n",
            "Epoch 25: 100%|██████████| 10/10 [00:00<00:00, 120.63batch/s, loss=0.000283]\n",
            "Epoch 26: 100%|██████████| 10/10 [00:00<00:00, 126.87batch/s, loss=0.000284]\n",
            "Epoch 27: 100%|██████████| 10/10 [00:00<00:00, 118.92batch/s, loss=0.000285]\n",
            "Epoch 28: 100%|██████████| 10/10 [00:00<00:00, 117.09batch/s, loss=0.000287]\n",
            "Epoch 29: 100%|██████████| 10/10 [00:00<00:00, 120.39batch/s, loss=0.000288]\n",
            "Epoch 30: 100%|██████████| 10/10 [00:00<00:00, 105.56batch/s, loss=0.000289]\n",
            "Epoch 31: 100%|██████████| 10/10 [00:00<00:00, 114.46batch/s, loss=0.000291]\n",
            "Epoch 32: 100%|██████████| 10/10 [00:00<00:00, 113.25batch/s, loss=0.000292]\n",
            "Epoch 33: 100%|██████████| 10/10 [00:00<00:00, 122.15batch/s, loss=0.000294]\n",
            "Epoch 34: 100%|██████████| 10/10 [00:00<00:00, 117.26batch/s, loss=0.000296]\n",
            "Epoch 35: 100%|██████████| 10/10 [00:00<00:00, 106.66batch/s, loss=0.000297]\n",
            "Epoch 36: 100%|██████████| 10/10 [00:00<00:00, 123.81batch/s, loss=0.000299]\n",
            "Epoch 37: 100%|██████████| 10/10 [00:00<00:00, 115.34batch/s, loss=0.000301]\n",
            "Epoch 38: 100%|██████████| 10/10 [00:00<00:00, 110.23batch/s, loss=0.000302]\n",
            "Epoch 39: 100%|██████████| 10/10 [00:00<00:00, 116.25batch/s, loss=0.000304]\n",
            "Epoch 40: 100%|██████████| 10/10 [00:00<00:00, 120.35batch/s, loss=0.000306]\n",
            "Epoch 41: 100%|██████████| 10/10 [00:00<00:00, 117.28batch/s, loss=0.000307]\n",
            "Epoch 42: 100%|██████████| 10/10 [00:00<00:00, 115.99batch/s, loss=0.000309]\n",
            "Epoch 43: 100%|██████████| 10/10 [00:00<00:00, 123.64batch/s, loss=0.00031]\n",
            "Epoch 44: 100%|██████████| 10/10 [00:00<00:00, 106.36batch/s, loss=0.000312]\n",
            "Epoch 45: 100%|██████████| 10/10 [00:00<00:00, 105.10batch/s, loss=0.000313]\n",
            "Epoch 46: 100%|██████████| 10/10 [00:00<00:00, 107.77batch/s, loss=0.000314]\n",
            "Epoch 47: 100%|██████████| 10/10 [00:00<00:00, 115.39batch/s, loss=0.000315]\n",
            "Epoch 48: 100%|██████████| 10/10 [00:00<00:00, 109.15batch/s, loss=0.000316]\n",
            "Epoch 49: 100%|██████████| 10/10 [00:00<00:00, 122.08batch/s, loss=0.000317]\n",
            "Epoch 50: 100%|██████████| 10/10 [00:00<00:00, 112.76batch/s, loss=0.000318]\n",
            "Epoch 51: 100%|██████████| 10/10 [00:00<00:00, 124.44batch/s, loss=0.000319]\n",
            "Epoch 52: 100%|██████████| 10/10 [00:00<00:00, 116.17batch/s, loss=0.000319]\n",
            "Epoch 53: 100%|██████████| 10/10 [00:00<00:00, 111.30batch/s, loss=0.00032]\n",
            "Epoch 54: 100%|██████████| 10/10 [00:00<00:00, 107.01batch/s, loss=0.00032]\n",
            "Epoch 55: 100%|██████████| 10/10 [00:00<00:00, 114.16batch/s, loss=0.000321]\n",
            "Epoch 56: 100%|██████████| 10/10 [00:00<00:00, 86.66batch/s, loss=0.000321]\n",
            "Epoch 57: 100%|██████████| 10/10 [00:00<00:00, 108.39batch/s, loss=0.000321]\n",
            "Epoch 58: 100%|██████████| 10/10 [00:00<00:00, 111.30batch/s, loss=0.000321]\n",
            "Epoch 59: 100%|██████████| 10/10 [00:00<00:00, 103.51batch/s, loss=0.000321]\n",
            "Epoch 60: 100%|██████████| 10/10 [00:00<00:00, 115.12batch/s, loss=0.000321]\n",
            "Epoch 61: 100%|██████████| 10/10 [00:00<00:00, 116.44batch/s, loss=0.000321]\n",
            "Epoch 62: 100%|██████████| 10/10 [00:00<00:00, 116.57batch/s, loss=0.00032]\n",
            "Epoch 63: 100%|██████████| 10/10 [00:00<00:00, 114.80batch/s, loss=0.00032]\n",
            "Epoch 64: 100%|██████████| 10/10 [00:00<00:00, 115.55batch/s, loss=0.00032]\n",
            "Epoch 65: 100%|██████████| 10/10 [00:00<00:00, 118.91batch/s, loss=0.000319]\n",
            "Epoch 66: 100%|██████████| 10/10 [00:00<00:00, 112.30batch/s, loss=0.000318]\n",
            "Epoch 67: 100%|██████████| 10/10 [00:00<00:00, 89.48batch/s, loss=0.000318]\n",
            "Epoch 68: 100%|██████████| 10/10 [00:00<00:00, 114.23batch/s, loss=0.000317]\n",
            "Epoch 69: 100%|██████████| 10/10 [00:00<00:00, 100.88batch/s, loss=0.000316]\n",
            "Epoch 70: 100%|██████████| 10/10 [00:00<00:00, 108.03batch/s, loss=0.000316]\n",
            "Epoch 71: 100%|██████████| 10/10 [00:00<00:00, 122.84batch/s, loss=0.000315]\n",
            "Epoch 72: 100%|██████████| 10/10 [00:00<00:00, 108.02batch/s, loss=0.000314]\n",
            "Epoch 73: 100%|██████████| 10/10 [00:00<00:00, 117.21batch/s, loss=0.000313]\n",
            "Epoch 74: 100%|██████████| 10/10 [00:00<00:00, 118.19batch/s, loss=0.000312]\n",
            "Epoch 75: 100%|██████████| 10/10 [00:00<00:00, 104.31batch/s, loss=0.000311]\n",
            "Epoch 76: 100%|██████████| 10/10 [00:00<00:00, 118.02batch/s, loss=0.000309]\n",
            "Epoch 77: 100%|██████████| 10/10 [00:00<00:00, 115.54batch/s, loss=0.000308]\n",
            "Epoch 78: 100%|██████████| 10/10 [00:00<00:00, 112.71batch/s, loss=0.000307]\n",
            "Epoch 79: 100%|██████████| 10/10 [00:00<00:00, 108.77batch/s, loss=0.000306]\n",
            "Epoch 80: 100%|██████████| 10/10 [00:00<00:00, 111.44batch/s, loss=0.000304]\n",
            "Epoch 81: 100%|██████████| 10/10 [00:00<00:00, 77.99batch/s, loss=0.000303]\n",
            "Epoch 82: 100%|██████████| 10/10 [00:00<00:00, 113.85batch/s, loss=0.000301]\n",
            "Epoch 83: 100%|██████████| 10/10 [00:00<00:00, 118.46batch/s, loss=0.0003]\n",
            "Epoch 84: 100%|██████████| 10/10 [00:00<00:00, 108.74batch/s, loss=0.000298]\n",
            "Epoch 85: 100%|██████████| 10/10 [00:00<00:00, 109.02batch/s, loss=0.000296]\n",
            "Epoch 86: 100%|██████████| 10/10 [00:00<00:00, 111.21batch/s, loss=0.000295]\n",
            "Epoch 87: 100%|██████████| 10/10 [00:00<00:00, 101.27batch/s, loss=0.000293]\n",
            "Epoch 88: 100%|██████████| 10/10 [00:00<00:00, 113.38batch/s, loss=0.000291]\n",
            "Epoch 89: 100%|██████████| 10/10 [00:00<00:00, 102.31batch/s, loss=0.000289]\n",
            "Epoch 90: 100%|██████████| 10/10 [00:00<00:00, 111.56batch/s, loss=0.000287]\n",
            "Epoch 91: 100%|██████████| 10/10 [00:00<00:00, 122.53batch/s, loss=0.000285]\n",
            "Epoch 92: 100%|██████████| 10/10 [00:00<00:00, 121.16batch/s, loss=0.000283]\n",
            "Epoch 93: 100%|██████████| 10/10 [00:00<00:00, 107.03batch/s, loss=0.000281]\n",
            "Epoch 94: 100%|██████████| 10/10 [00:00<00:00, 117.44batch/s, loss=0.000279]\n",
            "Epoch 95: 100%|██████████| 10/10 [00:00<00:00, 109.28batch/s, loss=0.000277]\n",
            "Epoch 96: 100%|██████████| 10/10 [00:00<00:00, 116.31batch/s, loss=0.000275]\n",
            "Epoch 97: 100%|██████████| 10/10 [00:00<00:00, 109.20batch/s, loss=0.000273]\n",
            "Epoch 98: 100%|██████████| 10/10 [00:00<00:00, 120.60batch/s, loss=0.000271]\n",
            "Epoch 99: 100%|██████████| 10/10 [00:00<00:00, 119.71batch/s, loss=0.00027]\n"
          ]
        }
      ]
    },
    {
      "cell_type": "markdown",
      "source": [
        "#TRAIN🎯"
      ],
      "metadata": {
        "id": "E-beF_IEggvT"
      }
    },
    {
      "cell_type": "code",
      "source": [
        "model = RNNModel(nn.LSTM, 4, 32,1, 0.3)"
      ],
      "metadata": {
        "colab": {
          "base_uri": "https://localhost:8080/"
        },
        "id": "HiSANJj0gntt",
        "outputId": "faba9b91-de4d-408e-8b0a-6332cf62cd4c"
      },
      "execution_count": 86,
      "outputs": [
        {
          "output_type": "stream",
          "name": "stderr",
          "text": [
            "/usr/local/lib/python3.10/dist-packages/torch/nn/modules/rnn.py:83: UserWarning: dropout option adds dropout after all but last recurrent layer, so non-zero dropout expects num_layers greater than 1, but got dropout=0.3 and num_layers=1\n",
            "  warnings.warn(\"dropout option adds dropout after all but last \"\n"
          ]
        }
      ]
    },
    {
      "cell_type": "code",
      "source": [
        "loss_train_hist = []\n",
        "loss_valid_hist = []\n",
        "\n",
        "best_loss_valid = torch.inf\n",
        "epoch_counter = 0"
      ],
      "metadata": {
        "id": "kXkDKcGyg3dT"
      },
      "execution_count": 87,
      "outputs": []
    },
    {
      "cell_type": "code",
      "source": [
        "optimizer = optim.Adam(model.parameters(), lr=0.0001, weight_decay=1e-4)\n",
        "loss_fn = nn.MSELoss()"
      ],
      "metadata": {
        "id": "i8_k-X1fhnoi"
      },
      "execution_count": 88,
      "outputs": []
    },
    {
      "cell_type": "code",
      "source": [
        "num_epochs = 20\n",
        "\n",
        "for epoch in range(num_epochs):\n",
        "  # Train\n",
        "  model, loss_train = train_one_epoch(model,\n",
        "                                      train_loader,\n",
        "                                      loss_fn,\n",
        "                                      optimizer,\n",
        "                                      epoch)\n",
        "  # Validation\n",
        "  loss_valid = validation(model,\n",
        "                          test_loader,\n",
        "                          loss_fn)\n",
        "\n",
        "  loss_train_hist.append(loss_train)\n",
        "  loss_valid_hist.append(loss_valid)\n",
        "\n",
        "  print(f'Valid: Loss = {loss_valid:.4}')\n",
        "\n",
        "  if loss_valid < best_loss_valid:\n",
        "    torch.save(model, 'model.pt')\n",
        "    best_loss_valid = loss_valid\n",
        "    print('Model Saved!')\n",
        "\n",
        "  print()\n",
        "  epoch_counter += 1\n"
      ],
      "metadata": {
        "colab": {
          "base_uri": "https://localhost:8080/"
        },
        "id": "ZuLPUHo-hPk0",
        "outputId": "3911e06c-0db9-4eb7-881f-6535ce9916db"
      },
      "execution_count": null,
      "outputs": [
        {
          "output_type": "stream",
          "name": "stderr",
          "text": [
            "Epoch 0: 100%|██████████| 174/174 [00:01<00:00, 113.56batch/s, loss=0.000369]\n"
          ]
        },
        {
          "output_type": "stream",
          "name": "stdout",
          "text": [
            "Valid: Loss = 0.001552\n",
            "Model Saved!\n",
            "\n"
          ]
        },
        {
          "output_type": "stream",
          "name": "stderr",
          "text": [
            "Epoch 1: 100%|██████████| 174/174 [00:01<00:00, 110.26batch/s, loss=0.000367]\n"
          ]
        },
        {
          "output_type": "stream",
          "name": "stdout",
          "text": [
            "Valid: Loss = 0.001533\n",
            "Model Saved!\n",
            "\n"
          ]
        },
        {
          "output_type": "stream",
          "name": "stderr",
          "text": [
            "Epoch 2: 100%|██████████| 174/174 [00:01<00:00, 112.79batch/s, loss=0.000365]\n"
          ]
        },
        {
          "output_type": "stream",
          "name": "stdout",
          "text": [
            "Valid: Loss = 0.001515\n",
            "Model Saved!\n",
            "\n"
          ]
        },
        {
          "output_type": "stream",
          "name": "stderr",
          "text": [
            "Epoch 3: 100%|██████████| 174/174 [00:01<00:00, 101.25batch/s, loss=0.000363]\n"
          ]
        },
        {
          "output_type": "stream",
          "name": "stdout",
          "text": [
            "Valid: Loss = 0.001497\n",
            "Model Saved!\n",
            "\n"
          ]
        },
        {
          "output_type": "stream",
          "name": "stderr",
          "text": [
            "Epoch 4: 100%|██████████| 174/174 [00:01<00:00, 104.01batch/s, loss=0.000361]\n"
          ]
        },
        {
          "output_type": "stream",
          "name": "stdout",
          "text": [
            "Valid: Loss = 0.00148\n",
            "Model Saved!\n",
            "\n"
          ]
        },
        {
          "output_type": "stream",
          "name": "stderr",
          "text": [
            "Epoch 5: 100%|██████████| 174/174 [00:01<00:00, 92.87batch/s, loss=0.000359]\n"
          ]
        },
        {
          "output_type": "stream",
          "name": "stdout",
          "text": [
            "Valid: Loss = 0.001464\n",
            "Model Saved!\n",
            "\n"
          ]
        },
        {
          "output_type": "stream",
          "name": "stderr",
          "text": [
            "Epoch 6: 100%|██████████| 174/174 [00:01<00:00, 99.52batch/s, loss=0.000358]\n"
          ]
        },
        {
          "output_type": "stream",
          "name": "stdout",
          "text": [
            "Valid: Loss = 0.001449\n",
            "Model Saved!\n",
            "\n"
          ]
        },
        {
          "output_type": "stream",
          "name": "stderr",
          "text": [
            "Epoch 7: 100%|██████████| 174/174 [00:01<00:00, 97.57batch/s, loss=0.000356] \n"
          ]
        },
        {
          "output_type": "stream",
          "name": "stdout",
          "text": [
            "Valid: Loss = 0.001434\n",
            "Model Saved!\n",
            "\n"
          ]
        },
        {
          "output_type": "stream",
          "name": "stderr",
          "text": [
            "Epoch 8: 100%|██████████| 174/174 [00:01<00:00, 107.79batch/s, loss=0.000354]\n"
          ]
        },
        {
          "output_type": "stream",
          "name": "stdout",
          "text": [
            "Valid: Loss = 0.00142\n",
            "Model Saved!\n",
            "\n"
          ]
        },
        {
          "output_type": "stream",
          "name": "stderr",
          "text": [
            "Epoch 9: 100%|██████████| 174/174 [00:01<00:00, 113.16batch/s, loss=0.000353]\n"
          ]
        },
        {
          "output_type": "stream",
          "name": "stdout",
          "text": [
            "Valid: Loss = 0.001406\n",
            "Model Saved!\n",
            "\n"
          ]
        },
        {
          "output_type": "stream",
          "name": "stderr",
          "text": [
            "Epoch 10: 100%|██████████| 174/174 [00:01<00:00, 101.71batch/s, loss=0.000352]\n"
          ]
        },
        {
          "output_type": "stream",
          "name": "stdout",
          "text": [
            "Valid: Loss = 0.001393\n",
            "Model Saved!\n",
            "\n"
          ]
        },
        {
          "output_type": "stream",
          "name": "stderr",
          "text": [
            "Epoch 11: 100%|██████████| 174/174 [00:01<00:00, 96.65batch/s, loss=0.00035]\n"
          ]
        },
        {
          "output_type": "stream",
          "name": "stdout",
          "text": [
            "Valid: Loss = 0.00138\n",
            "Model Saved!\n",
            "\n"
          ]
        },
        {
          "output_type": "stream",
          "name": "stderr",
          "text": [
            "Epoch 12: 100%|██████████| 174/174 [00:01<00:00, 90.75batch/s, loss=0.000349]\n"
          ]
        },
        {
          "output_type": "stream",
          "name": "stdout",
          "text": [
            "Valid: Loss = 0.001368\n",
            "Model Saved!\n",
            "\n"
          ]
        },
        {
          "output_type": "stream",
          "name": "stderr",
          "text": [
            "Epoch 13: 100%|██████████| 174/174 [00:01<00:00, 94.12batch/s, loss=0.000348] \n"
          ]
        },
        {
          "output_type": "stream",
          "name": "stdout",
          "text": [
            "Valid: Loss = 0.001356\n",
            "Model Saved!\n",
            "\n"
          ]
        },
        {
          "output_type": "stream",
          "name": "stderr",
          "text": [
            "Epoch 14:  82%|████████▏ | 143/174 [00:01<00:00, 90.04batch/s, loss=0.000341]"
          ]
        }
      ]
    },
    {
      "cell_type": "code",
      "source": [
        "plt.plot(range(epoch_counter), loss_train_hist, '-b', label='train')\n",
        "plt.plot(range(epoch_counter), loss_valid_hist, '-r', label='test')\n",
        "plt.legend()\n",
        "plt.show()"
      ],
      "metadata": {
        "colab": {
          "base_uri": "https://localhost:8080/",
          "height": 430
        },
        "id": "P8uu9hCLxnOf",
        "outputId": "bc81db25-d152-4be4-e130-62058e762a6c"
      },
      "execution_count": 94,
      "outputs": [
        {
          "output_type": "display_data",
          "data": {
            "text/plain": [
              "<Figure size 640x480 with 1 Axes>"
            ],
            "image/png": "[encoded data removed]"
          },
          "metadata": {}
        }
      ]
    },
    {
      "cell_type": "markdown",
      "source": [
        "#Test"
      ],
      "metadata": {
        "id": "AFLd5V5biqkD"
      }
    },
    {
      "cell_type": "code",
      "source": [
        "preds = model(x_test)"
      ],
      "metadata": {
        "id": "m0P6TKaOhWXF"
      },
      "execution_count": 95,
      "outputs": []
    },
    {
      "cell_type": "code",
      "source": [
        "predict = scalers_test.inverse_transform(preds.detach().numpy())\n",
        "\n",
        "y_test_inv = scalers_test.inverse_transform(y_test)"
      ],
      "metadata": {
        "id": "v9nBemKskBcU"
      },
      "execution_count": 96,
      "outputs": []
    },
    {
      "cell_type": "code",
      "source": [
        "fig = plt.figure(figsize = (30,5))\n",
        "plt.plot(y_test_inv, color='b', label='Real ')\n",
        "plt.plot(predict, color='r', label='Predicted ')\n",
        "plt.legend()\n",
        "plt.show()"
      ],
      "metadata": {
        "colab": {
          "base_uri": "https://localhost:8080/",
          "height": 226
        },
        "id": "RQ7ITgwFjFR_",
        "outputId": "ff50f288-6ce6-4cb6-f6d0-a8512cb52d35"
      },
      "execution_count": 97,
      "outputs": [
        {
          "output_type": "display_data",
          "data": {
            "text/plain": [
              "<Figure size 3000x500 with 1 Axes>"
            ],
            "image/png": "[encoded data removed]"
          },
          "metadata": {}
        }
      ]
    },
    {
      "cell_type": "code",
      "source": [
        "end = datetime.now()\n",
        "start = end - timedelta(days=1)\n",
        "start_date = start.replace(hour=0, minute=0, second=0, microsecond=0)\n",
        "end_date = end.replace(hour=23, minute=59, second=59, microsecond=999999)\n",
        "\n",
        "ticker = 'EURJPY'\n",
        "interval = '1hour'\n",
        "\n",
        "url = f'https://api.tiingo.com/tiingo/fx/{ticker}/prices?startDate={start_date}&endDate={end_date}&resampleFreq={interval}&token={api_key}'"
      ],
      "metadata": {
        "id": "rgRFgcWmjgJX"
      },
      "execution_count": 102,
      "outputs": []
    },
    {
      "cell_type": "code",
      "source": [
        "response = requests.get(url)"
      ],
      "metadata": {
        "id": "EE06_AvrC8x_"
      },
      "execution_count": 103,
      "outputs": []
    },
    {
      "cell_type": "code",
      "source": [
        "if response.status_code == 200:\n",
        "    data = response.json()\n",
        "    df = pd.json_normalize(data)\n",
        "\n",
        "    df.to_excel('test_data.xlsx', index=False)\n",
        "    print('Data saved successfully.')\n",
        "else:\n",
        "    print(\"Error receiving data\")"
      ],
      "metadata": {
        "colab": {
          "base_uri": "https://localhost:8080/"
        },
        "id": "wdldmkNWC9-G",
        "outputId": "f3b091ef-8069-45ec-ece8-0ac463408b18"
      },
      "execution_count": 104,
      "outputs": [
        {
          "output_type": "stream",
          "name": "stdout",
          "text": [
            "Data saved successfully.\n"
          ]
        }
      ]
    },
    {
      "cell_type": "code",
      "source": [
        "df= pd.DataFrame(df)\n",
        "# Convert the 'date' column to a datetime format\n",
        "\n",
        "df['date']=pd.to_datetime(df['date'])\n",
        "df"
      ],
      "metadata": {
        "colab": {
          "base_uri": "https://localhost:8080/",
          "height": 707
        },
        "id": "QX1jMHyFtBcS",
        "outputId": "fb1861ec-328f-4295-91b7-4b71b5a5dfe3"
      },
      "execution_count": 106,
      "outputs": [
        {
          "output_type": "execute_result",
          "data": {
            "text/plain": [
              "                        date  ticker      open      high       low     close\n",
              "0  2024-05-17 00:00:00+00:00  eurjpy  168.8865  168.9775  168.7830  168.8600\n",
              "1  2024-05-17 01:00:00+00:00  eurjpy  168.8620  169.2790  168.8400  169.2140\n",
              "2  2024-05-17 02:00:00+00:00  eurjpy  169.2160  169.2615  169.1470  169.2395\n",
              "3  2024-05-17 03:00:00+00:00  eurjpy  169.2390  169.2875  169.1655  169.1800\n",
              "4  2024-05-17 04:00:00+00:00  eurjpy  169.1795  169.2440  169.0985  169.1435\n",
              "5  2024-05-17 05:00:00+00:00  eurjpy  169.1440  169.2250  169.1250  169.2200\n",
              "6  2024-05-17 06:00:00+00:00  eurjpy  169.2190  169.2680  169.0085  169.0770\n",
              "7  2024-05-17 07:00:00+00:00  eurjpy  169.0820  169.2795  169.0690  169.2070\n",
              "8  2024-05-17 08:00:00+00:00  eurjpy  169.2080  169.2255  169.0090  169.0310\n",
              "9  2024-05-17 09:00:00+00:00  eurjpy  169.0305  169.0880  168.9330  169.0025\n",
              "10 2024-05-17 10:00:00+00:00  eurjpy  169.0030  169.0610  168.8710  168.9060\n",
              "11 2024-05-17 11:00:00+00:00  eurjpy  168.9060  169.0530  168.9060  169.0010\n",
              "12 2024-05-17 12:00:00+00:00  eurjpy  169.0015  169.0330  168.8230  168.9255\n",
              "13 2024-05-17 13:00:00+00:00  eurjpy  168.9250  169.0955  168.8740  169.0645\n",
              "14 2024-05-17 14:00:00+00:00  eurjpy  169.0640  169.1500  168.9520  169.0350\n",
              "15 2024-05-17 15:00:00+00:00  eurjpy  169.0260  169.0925  168.8560  169.0925\n",
              "16 2024-05-17 16:00:00+00:00  eurjpy  169.0900  169.1535  169.0530  169.1430\n",
              "17 2024-05-17 17:00:00+00:00  eurjpy  169.1440  169.2830  169.1260  169.2695\n",
              "18 2024-05-17 18:00:00+00:00  eurjpy  169.2660  169.3280  169.2090  169.3115\n",
              "19 2024-05-17 19:00:00+00:00  eurjpy  169.3110  169.3130  169.2070  169.2620\n",
              "20 2024-05-17 20:00:00+00:00  eurjpy  169.2615  169.2970  169.1650  169.1855"
            ],
            "text/html": [
              "\n",
              "  <div id=\"df-e6adfc00-573d-45a6-937b-128bfdf09857\" class=\"colab-df-container\">\n",
              "    <div>\n",
              "<style scoped>\n",
              "    .dataframe tbody tr th:only-of-type {\n",
              "        vertical-align: middle;\n",
              "    }\n",
              "\n",
              "    .dataframe tbody tr th {\n",
              "        vertical-align: top;\n",
              "    }\n",
              "\n",
              "    .dataframe thead th {\n",
              "        text-align: right;\n",
              "    }\n",
              "</style>\n",
              "<table border=\"1\" class=\"dataframe\">\n",
              "  <thead>\n",
              "    <tr style=\"text-align: right;\">\n",
              "      <th></th>\n",
              "      <th>date</th>\n",
              "      <th>ticker</th>\n",
              "      <th>open</th>\n",
              "      <th>high</th>\n",
              "      <th>low</th>\n",
              "      <th>close</th>\n",
              "    </tr>\n",
              "  </thead>\n",
              "  <tbody>\n",
              "    <tr>\n",
              "      <th>0</th>\n",
              "      <td>2024-05-17 00:00:00+00:00</td>\n",
              "      <td>eurjpy</td>\n",
              "      <td>168.8865</td>\n",
              "      <td>168.9775</td>\n",
              "      <td>168.7830</td>\n",
              "      <td>168.8600</td>\n",
              "    </tr>\n",
              "    <tr>\n",
              "      <th>1</th>\n",
              "      <td>2024-05-17 01:00:00+00:00</td>\n",
              "      <td>eurjpy</td>\n",
              "      <td>168.8620</td>\n",
              "      <td>169.2790</td>\n",
              "      <td>168.8400</td>\n",
              "      <td>169.2140</td>\n",
              "    </tr>\n",
              "    <tr>\n",
              "      <th>2</th>\n",
              "      <td>2024-05-17 02:00:00+00:00</td>\n",
              "      <td>eurjpy</td>\n",
              "      <td>169.2160</td>\n",
              "      <td>169.2615</td>\n",
              "      <td>169.1470</td>\n",
              "      <td>169.2395</td>\n",
              "    </tr>\n",
              "    <tr>\n",
              "      <th>3</th>\n",
              "      <td>2024-05-17 03:00:00+00:00</td>\n",
              "      <td>eurjpy</td>\n",
              "      <td>169.2390</td>\n",
              "      <td>169.2875</td>\n",
              "      <td>169.1655</td>\n",
              "      <td>169.1800</td>\n",
              "    </tr>\n",
              "    <tr>\n",
              "      <th>4</th>\n",
              "      <td>2024-05-17 04:00:00+00:00</td>\n",
              "      <td>eurjpy</td>\n",
              "      <td>169.1795</td>\n",
              "      <td>169.2440</td>\n",
              "      <td>169.0985</td>\n",
              "      <td>169.1435</td>\n",
              "    </tr>\n",
              "    <tr>\n",
              "      <th>5</th>\n",
              "      <td>2024-05-17 05:00:00+00:00</td>\n",
              "      <td>eurjpy</td>\n",
              "      <td>169.1440</td>\n",
              "      <td>169.2250</td>\n",
              "      <td>169.1250</td>\n",
              "      <td>169.2200</td>\n",
              "    </tr>\n",
              "    <tr>\n",
              "      <th>6</th>\n",
              "      <td>2024-05-17 06:00:00+00:00</td>\n",
              "      <td>eurjpy</td>\n",
              "      <td>169.2190</td>\n",
              "      <td>169.2680</td>\n",
              "      <td>169.0085</td>\n",
              "      <td>169.0770</td>\n",
              "    </tr>\n",
              "    <tr>\n",
              "      <th>7</th>\n",
              "      <td>2024-05-17 07:00:00+00:00</td>\n",
              "      <td>eurjpy</td>\n",
              "      <td>169.0820</td>\n",
              "      <td>169.2795</td>\n",
              "      <td>169.0690</td>\n",
              "      <td>169.2070</td>\n",
              "    </tr>\n",
              "    <tr>\n",
              "      <th>8</th>\n",
              "      <td>2024-05-17 08:00:00+00:00</td>\n",
              "      <td>eurjpy</td>\n",
              "      <td>169.2080</td>\n",
              "      <td>169.2255</td>\n",
              "      <td>169.0090</td>\n",
              "      <td>169.0310</td>\n",
              "    </tr>\n",
              "    <tr>\n",
              "      <th>9</th>\n",
              "      <td>2024-05-17 09:00:00+00:00</td>\n",
              "      <td>eurjpy</td>\n",
              "      <td>169.0305</td>\n",
              "      <td>169.0880</td>\n",
              "      <td>168.9330</td>\n",
              "      <td>169.0025</td>\n",
              "    </tr>\n",
              "    <tr>\n",
              "      <th>10</th>\n",
              "      <td>2024-05-17 10:00:00+00:00</td>\n",
              "      <td>eurjpy</td>\n",
              "      <td>169.0030</td>\n",
              "      <td>169.0610</td>\n",
              "      <td>168.8710</td>\n",
              "      <td>168.9060</td>\n",
              "    </tr>\n",
              "    <tr>\n",
              "      <th>11</th>\n",
              "      <td>2024-05-17 11:00:00+00:00</td>\n",
              "      <td>eurjpy</td>\n",
              "      <td>168.9060</td>\n",
              "      <td>169.0530</td>\n",
              "      <td>168.9060</td>\n",
              "      <td>169.0010</td>\n",
              "    </tr>\n",
              "    <tr>\n",
              "      <th>12</th>\n",
              "      <td>2024-05-17 12:00:00+00:00</td>\n",
              "      <td>eurjpy</td>\n",
              "      <td>169.0015</td>\n",
              "      <td>169.0330</td>\n",
              "      <td>168.8230</td>\n",
              "      <td>168.9255</td>\n",
              "    </tr>\n",
              "    <tr>\n",
              "      <th>13</th>\n",
              "      <td>2024-05-17 13:00:00+00:00</td>\n",
              "      <td>eurjpy</td>\n",
              "      <td>168.9250</td>\n",
              "      <td>169.0955</td>\n",
              "      <td>168.8740</td>\n",
              "      <td>169.0645</td>\n",
              "    </tr>\n",
              "    <tr>\n",
              "      <th>14</th>\n",
              "      <td>2024-05-17 14:00:00+00:00</td>\n",
              "      <td>eurjpy</td>\n",
              "      <td>169.0640</td>\n",
              "      <td>169.1500</td>\n",
              "      <td>168.9520</td>\n",
              "      <td>169.0350</td>\n",
              "    </tr>\n",
              "    <tr>\n",
              "      <th>15</th>\n",
              "      <td>2024-05-17 15:00:00+00:00</td>\n",
              "      <td>eurjpy</td>\n",
              "      <td>169.0260</td>\n",
              "      <td>169.0925</td>\n",
              "      <td>168.8560</td>\n",
              "      <td>169.0925</td>\n",
              "    </tr>\n",
              "    <tr>\n",
              "      <th>16</th>\n",
              "      <td>2024-05-17 16:00:00+00:00</td>\n",
              "      <td>eurjpy</td>\n",
              "      <td>169.0900</td>\n",
              "      <td>169.1535</td>\n",
              "      <td>169.0530</td>\n",
              "      <td>169.1430</td>\n",
              "    </tr>\n",
              "    <tr>\n",
              "      <th>17</th>\n",
              "      <td>2024-05-17 17:00:00+00:00</td>\n",
              "      <td>eurjpy</td>\n",
              "      <td>169.1440</td>\n",
              "      <td>169.2830</td>\n",
              "      <td>169.1260</td>\n",
              "      <td>169.2695</td>\n",
              "    </tr>\n",
              "    <tr>\n",
              "      <th>18</th>\n",
              "      <td>2024-05-17 18:00:00+00:00</td>\n",
              "      <td>eurjpy</td>\n",
              "      <td>169.2660</td>\n",
              "      <td>169.3280</td>\n",
              "      <td>169.2090</td>\n",
              "      <td>169.3115</td>\n",
              "    </tr>\n",
              "    <tr>\n",
              "      <th>19</th>\n",
              "      <td>2024-05-17 19:00:00+00:00</td>\n",
              "      <td>eurjpy</td>\n",
              "      <td>169.3110</td>\n",
              "      <td>169.3130</td>\n",
              "      <td>169.2070</td>\n",
              "      <td>169.2620</td>\n",
              "    </tr>\n",
              "    <tr>\n",
              "      <th>20</th>\n",
              "      <td>2024-05-17 20:00:00+00:00</td>\n",
              "      <td>eurjpy</td>\n",
              "      <td>169.2615</td>\n",
              "      <td>169.2970</td>\n",
              "      <td>169.1650</td>\n",
              "      <td>169.1855</td>\n",
              "    </tr>\n",
              "  </tbody>\n",
              "</table>\n",
              "</div>\n",
              "    <div class=\"colab-df-buttons\">\n",
              "\n",
              "  <div class=\"colab-df-container\">\n",
              "    <button class=\"colab-df-convert\" onclick=\"convertToInteractive('df-e6adfc00-573d-45a6-937b-128bfdf09857')\"\n",
              "            title=\"Convert this dataframe to an interactive table.\"\n",
              "            style=\"display:none;\">\n",
              "\n",
              "  <svg xmlns=\"http://www.w3.org/2000/svg\" height=\"24px\" viewBox=\"0 -960 960 960\">\n",
              "    <path d=\"M120-120v-720h720v720H120Zm60-500h600v-160H180v160Zm220 220h160v-160H400v160Zm0 220h160v-160H400v160ZM180-400h160v-160H180v160Zm440 0h160v-160H620v160ZM180-180h160v-160H180v160Zm440 0h160v-160H620v160Z\"/>\n",
              "  </svg>\n",
              "    </button>\n",
              "\n",
              "  <style>\n",
              "    .colab-df-container {\n",
              "      display:flex;\n",
              "      gap: 12px;\n",
              "    }\n",
              "\n",
              "    .colab-df-convert {\n",
              "      background-color: #E8F0FE;\n",
              "      border: none;\n",
              "      border-radius: 50%;\n",
              "      cursor: pointer;\n",
              "      display: none;\n",
              "      fill: #1967D2;\n",
              "      height: 32px;\n",
              "      padding: 0 0 0 0;\n",
              "      width: 32px;\n",
              "    }\n",
              "\n",
              "    .colab-df-convert:hover {\n",
              "      background-color: #E2EBFA;\n",
              "      box-shadow: 0px 1px 2px rgba(60, 64, 67, 0.3), 0px 1px 3px 1px rgba(60, 64, 67, 0.15);\n",
              "      fill: #174EA6;\n",
              "    }\n",
              "\n",
              "    .colab-df-buttons div {\n",
              "      margin-bottom: 4px;\n",
              "    }\n",
              "\n",
              "    [theme=dark] .colab-df-convert {\n",
              "      background-color: #3B4455;\n",
              "      fill: #D2E3FC;\n",
              "    }\n",
              "\n",
              "    [theme=dark] .colab-df-convert:hover {\n",
              "      background-color: #434B5C;\n",
              "      box-shadow: 0px 1px 3px 1px rgba(0, 0, 0, 0.15);\n",
              "      filter: drop-shadow(0px 1px 2px rgba(0, 0, 0, 0.3));\n",
              "      fill: #FFFFFF;\n",
              "    }\n",
              "  </style>\n",
              "\n",
              "    <script>\n",
              "      const buttonEl =\n",
              "        document.querySelector('#df-e6adfc00-573d-45a6-937b-128bfdf09857 button.colab-df-convert');\n",
              "      buttonEl.style.display =\n",
              "        google.colab.kernel.accessAllowed ? 'block' : 'none';\n",
              "\n",
              "      async function convertToInteractive(key) {\n",
              "        const element = document.querySelector('#df-e6adfc00-573d-45a6-937b-128bfdf09857');\n",
              "        const dataTable =\n",
              "          await google.colab.kernel.invokeFunction('convertToInteractive',\n",
              "                                                    [key], {});\n",
              "        if (!dataTable) return;\n",
              "\n",
              "        const docLinkHtml = 'Like what you see? Visit the ' +\n",
              "          '<a target=\"_blank\" href=https://colab.research.google.com/notebooks/data_table.ipynb>data table notebook</a>'\n",
              "          + ' to learn more about interactive tables.';\n",
              "        element.innerHTML = '';\n",
              "        dataTable['output_type'] = 'display_data';\n",
              "        await google.colab.output.renderOutput(dataTable, element);\n",
              "        const docLink = document.createElement('div');\n",
              "        docLink.innerHTML = docLinkHtml;\n",
              "        element.appendChild(docLink);\n",
              "      }\n",
              "    </script>\n",
              "  </div>\n",
              "\n",
              "\n",
              "<div id=\"df-238f9a0e-d669-41c0-a277-12100dde960a\">\n",
              "  <button class=\"colab-df-quickchart\" onclick=\"quickchart('df-238f9a0e-d669-41c0-a277-12100dde960a')\"\n",
              "            title=\"Suggest charts\"\n",
              "            style=\"display:none;\">\n",
              "\n",
              "<svg xmlns=\"http://www.w3.org/2000/svg\" height=\"24px\"viewBox=\"0 0 24 24\"\n",
              "     width=\"24px\">\n",
              "    <g>\n",
              "        <path d=\"M19 3H5c-1.1 0-2 .9-2 2v14c0 1.1.9 2 2 2h14c1.1 0 2-.9 2-2V5c0-1.1-.9-2-2-2zM9 17H7v-7h2v7zm4 0h-2V7h2v10zm4 0h-2v-4h2v4z\"/>\n",
              "    </g>\n",
              "</svg>\n",
              "  </button>\n",
              "\n",
              "<style>\n",
              "  .colab-df-quickchart {\n",
              "      --bg-color: #E8F0FE;\n",
              "      --fill-color: #1967D2;\n",
              "      --hover-bg-color: #E2EBFA;\n",
              "      --hover-fill-color: #174EA6;\n",
              "      --disabled-fill-color: #AAA;\n",
              "      --disabled-bg-color: #DDD;\n",
              "  }\n",
              "\n",
              "  [theme=dark] .colab-df-quickchart {\n",
              "      --bg-color: #3B4455;\n",
              "      --fill-color: #D2E3FC;\n",
              "      --hover-bg-color: #434B5C;\n",
              "      --hover-fill-color: #FFFFFF;\n",
              "      --disabled-bg-color: #3B4455;\n",
              "      --disabled-fill-color: #666;\n",
              "  }\n",
              "\n",
              "  .colab-df-quickchart {\n",
              "    background-color: var(--bg-color);\n",
              "    border: none;\n",
              "    border-radius: 50%;\n",
              "    cursor: pointer;\n",
              "    display: none;\n",
              "    fill: var(--fill-color);\n",
              "    height: 32px;\n",
              "    padding: 0;\n",
              "    width: 32px;\n",
              "  }\n",
              "\n",
              "  .colab-df-quickchart:hover {\n",
              "    background-color: var(--hover-bg-color);\n",
              "    box-shadow: 0 1px 2px rgba(60, 64, 67, 0.3), 0 1px 3px 1px rgba(60, 64, 67, 0.15);\n",
              "    fill: var(--button-hover-fill-color);\n",
              "  }\n",
              "\n",
              "  .colab-df-quickchart-complete:disabled,\n",
              "  .colab-df-quickchart-complete:disabled:hover {\n",
              "    background-color: var(--disabled-bg-color);\n",
              "    fill: var(--disabled-fill-color);\n",
              "    box-shadow: none;\n",
              "  }\n",
              "\n",
              "  .colab-df-spinner {\n",
              "    border: 2px solid var(--fill-color);\n",
              "    border-color: transparent;\n",
              "    border-bottom-color: var(--fill-color);\n",
              "    animation:\n",
              "      spin 1s steps(1) infinite;\n",
              "  }\n",
              "\n",
              "  @keyframes spin {\n",
              "    0% {\n",
              "      border-color: transparent;\n",
              "      border-bottom-color: var(--fill-color);\n",
              "      border-left-color: var(--fill-color);\n",
              "    }\n",
              "    20% {\n",
              "      border-color: transparent;\n",
              "      border-left-color: var(--fill-color);\n",
              "      border-top-color: var(--fill-color);\n",
              "    }\n",
              "    30% {\n",
              "      border-color: transparent;\n",
              "      border-left-color: var(--fill-color);\n",
              "      border-top-color: var(--fill-color);\n",
              "      border-right-color: var(--fill-color);\n",
              "    }\n",
              "    40% {\n",
              "      border-color: transparent;\n",
              "      border-right-color: var(--fill-color);\n",
              "      border-top-color: var(--fill-color);\n",
              "    }\n",
              "    60% {\n",
              "      border-color: transparent;\n",
              "      border-right-color: var(--fill-color);\n",
              "    }\n",
              "    80% {\n",
              "      border-color: transparent;\n",
              "      border-right-color: var(--fill-color);\n",
              "      border-bottom-color: var(--fill-color);\n",
              "    }\n",
              "    90% {\n",
              "      border-color: transparent;\n",
              "      border-bottom-color: var(--fill-color);\n",
              "    }\n",
              "  }\n",
              "</style>\n",
              "\n",
              "  <script>\n",
              "    async function quickchart(key) {\n",
              "      const quickchartButtonEl =\n",
              "        document.querySelector('#' + key + ' button');\n",
              "      quickchartButtonEl.disabled = true;  // To prevent multiple clicks.\n",
              "      quickchartButtonEl.classList.add('colab-df-spinner');\n",
              "      try {\n",
              "        const charts = await google.colab.kernel.invokeFunction(\n",
              "            'suggestCharts', [key], {});\n",
              "      } catch (error) {\n",
              "        console.error('Error during call to suggestCharts:', error);\n",
              "      }\n",
              "      quickchartButtonEl.classList.remove('colab-df-spinner');\n",
              "      quickchartButtonEl.classList.add('colab-df-quickchart-complete');\n",
              "    }\n",
              "    (() => {\n",
              "      let quickchartButtonEl =\n",
              "        document.querySelector('#df-238f9a0e-d669-41c0-a277-12100dde960a button');\n",
              "      quickchartButtonEl.style.display =\n",
              "        google.colab.kernel.accessAllowed ? 'block' : 'none';\n",
              "    })();\n",
              "  </script>\n",
              "</div>\n",
              "    </div>\n",
              "  </div>\n"
            ],
            "application/vnd.google.colaboratory.intrinsic+json": {
              "type": "dataframe",
              "variable_name": "df",
              "summary": "{\n  \"name\": \"df\",\n  \"rows\": 21,\n  \"fields\": [\n    {\n      \"column\": \"date\",\n      \"properties\": {\n        \"dtype\": \"date\",\n        \"min\": \"2024-05-17 00:00:00+00:00\",\n        \"max\": \"2024-05-17 20:00:00+00:00\",\n        \"num_unique_values\": 21,\n        \"samples\": [\n          \"2024-05-17 00:00:00+00:00\",\n          \"2024-05-17 17:00:00+00:00\",\n          \"2024-05-17 15:00:00+00:00\"\n        ],\n        \"semantic_type\": \"\",\n        \"description\": \"\"\n      }\n    },\n    {\n      \"column\": \"ticker\",\n      \"properties\": {\n        \"dtype\": \"category\",\n        \"num_unique_values\": 1,\n        \"samples\": [\n          \"eurjpy\"\n        ],\n        \"semantic_type\": \"\",\n        \"description\": \"\"\n      }\n    },\n    {\n      \"column\": \"open\",\n      \"properties\": {\n        \"dtype\": \"number\",\n        \"std\": 0.13574207860778442,\n        \"min\": 168.862,\n        \"max\": 169.311,\n        \"num_unique_values\": 20,\n        \"samples\": [\n          168.8865\n        ],\n        \"semantic_type\": \"\",\n        \"description\": \"\"\n      }\n    },\n    {\n      \"column\": \"high\",\n      \"properties\": {\n        \"dtype\": \"number\",\n        \"std\": 0.1080029651268464,\n        \"min\": 168.9775,\n        \"max\": 169.328,\n        \"num_unique_values\": 21,\n        \"samples\": [\n          168.9775\n        ],\n        \"semantic_type\": \"\",\n        \"description\": \"\"\n      }\n    },\n    {\n      \"column\": \"low\",\n      \"properties\": {\n        \"dtype\": \"number\",\n        \"std\": 0.13825076853312585,\n        \"min\": 168.783,\n        \"max\": 169.209,\n        \"num_unique_values\": 21,\n        \"samples\": [\n          168.783\n        ],\n        \"semantic_type\": \"\",\n        \"description\": \"\"\n      }\n    },\n    {\n      \"column\": \"close\",\n      \"properties\": {\n        \"dtype\": \"number\",\n        \"std\": 0.12802420716039073,\n        \"min\": 168.86,\n        \"max\": 169.3115,\n        \"num_unique_values\": 21,\n        \"samples\": [\n          168.86\n        ],\n        \"semantic_type\": \"\",\n        \"description\": \"\"\n      }\n    }\n  ]\n}"
            }
          },
          "metadata": {},
          "execution_count": 106
        }
      ]
    },
    {
      "cell_type": "code",
      "source": [
        "df = df.drop('ticker', axis=1)"
      ],
      "metadata": {
        "id": "6d9rLQbSEXx2"
      },
      "execution_count": 107,
      "outputs": []
    },
    {
      "cell_type": "code",
      "source": [
        "df['date'] = df['date'].dt.strftime('%d-%m-%Y %H:%M:%S')\n",
        "df.set_index('date',inplace=True)"
      ],
      "metadata": {
        "id": "ZYei5-l3txEn"
      },
      "execution_count": 108,
      "outputs": []
    },
    {
      "cell_type": "code",
      "source": [
        "df = df."
      ],
      "metadata": {
        "colab": {
          "base_uri": "https://localhost:8080/",
          "height": 739
        },
        "id": "rWQPT-aSvXjT",
        "outputId": "00bd380d-5055-4407-c731-0f6b9f36da2a"
      },
      "execution_count": 119,
      "outputs": [
        {
          "output_type": "execute_result",
          "data": {
            "text/plain": [
              "                         open      high       low     close\n",
              "date                                                       \n",
              "17-05-2024 00:00:00  168.8865  168.9775  168.7830  168.8600\n",
              "17-05-2024 01:00:00  168.8620  169.2790  168.8400  169.2140\n",
              "17-05-2024 02:00:00  169.2160  169.2615  169.1470  169.2395\n",
              "17-05-2024 03:00:00  169.2390  169.2875  169.1655  169.1800\n",
              "17-05-2024 04:00:00  169.1795  169.2440  169.0985  169.1435\n",
              "17-05-2024 05:00:00  169.1440  169.2250  169.1250  169.2200\n",
              "17-05-2024 06:00:00  169.2190  169.2680  169.0085  169.0770\n",
              "17-05-2024 07:00:00  169.0820  169.2795  169.0690  169.2070\n",
              "17-05-2024 08:00:00  169.2080  169.2255  169.0090  169.0310\n",
              "17-05-2024 09:00:00  169.0305  169.0880  168.9330  169.0025\n",
              "17-05-2024 10:00:00  169.0030  169.0610  168.8710  168.9060\n",
              "17-05-2024 11:00:00  168.9060  169.0530  168.9060  169.0010\n",
              "17-05-2024 12:00:00  169.0015  169.0330  168.8230  168.9255\n",
              "17-05-2024 13:00:00  168.9250  169.0955  168.8740  169.0645\n",
              "17-05-2024 14:00:00  169.0640  169.1500  168.9520  169.0350\n",
              "17-05-2024 15:00:00  169.0260  169.0925  168.8560  169.0925\n",
              "17-05-2024 16:00:00  169.0900  169.1535  169.0530  169.1430\n",
              "17-05-2024 17:00:00  169.1440  169.2830  169.1260  169.2695\n",
              "17-05-2024 18:00:00  169.2660  169.3280  169.2090  169.3115\n",
              "17-05-2024 19:00:00  169.3110  169.3130  169.2070  169.2620\n",
              "17-05-2024 20:00:00  169.2615  169.2970  169.1650  169.1855"
            ],
            "text/html": [
              "\n",
              "  <div id=\"df-510bf04e-0fc1-4f73-994a-8f661a8ca6e3\" class=\"colab-df-container\">\n",
              "    <div>\n",
              "<style scoped>\n",
              "    .dataframe tbody tr th:only-of-type {\n",
              "        vertical-align: middle;\n",
              "    }\n",
              "\n",
              "    .dataframe tbody tr th {\n",
              "        vertical-align: top;\n",
              "    }\n",
              "\n",
              "    .dataframe thead th {\n",
              "        text-align: right;\n",
              "    }\n",
              "</style>\n",
              "<table border=\"1\" class=\"dataframe\">\n",
              "  <thead>\n",
              "    <tr style=\"text-align: right;\">\n",
              "      <th></th>\n",
              "      <th>open</th>\n",
              "      <th>high</th>\n",
              "      <th>low</th>\n",
              "      <th>close</th>\n",
              "    </tr>\n",
              "    <tr>\n",
              "      <th>date</th>\n",
              "      <th></th>\n",
              "      <th></th>\n",
              "      <th></th>\n",
              "      <th></th>\n",
              "    </tr>\n",
              "  </thead>\n",
              "  <tbody>\n",
              "    <tr>\n",
              "      <th>17-05-2024 00:00:00</th>\n",
              "      <td>168.8865</td>\n",
              "      <td>168.9775</td>\n",
              "      <td>168.7830</td>\n",
              "      <td>168.8600</td>\n",
              "    </tr>\n",
              "    <tr>\n",
              "      <th>17-05-2024 01:00:00</th>\n",
              "      <td>168.8620</td>\n",
              "      <td>169.2790</td>\n",
              "      <td>168.8400</td>\n",
              "      <td>169.2140</td>\n",
              "    </tr>\n",
              "    <tr>\n",
              "      <th>17-05-2024 02:00:00</th>\n",
              "      <td>169.2160</td>\n",
              "      <td>169.2615</td>\n",
              "      <td>169.1470</td>\n",
              "      <td>169.2395</td>\n",
              "    </tr>\n",
              "    <tr>\n",
              "      <th>17-05-2024 03:00:00</th>\n",
              "      <td>169.2390</td>\n",
              "      <td>169.2875</td>\n",
              "      <td>169.1655</td>\n",
              "      <td>169.1800</td>\n",
              "    </tr>\n",
              "    <tr>\n",
              "      <th>17-05-2024 04:00:00</th>\n",
              "      <td>169.1795</td>\n",
              "      <td>169.2440</td>\n",
              "      <td>169.0985</td>\n",
              "      <td>169.1435</td>\n",
              "    </tr>\n",
              "    <tr>\n",
              "      <th>17-05-2024 05:00:00</th>\n",
              "      <td>169.1440</td>\n",
              "      <td>169.2250</td>\n",
              "      <td>169.1250</td>\n",
              "      <td>169.2200</td>\n",
              "    </tr>\n",
              "    <tr>\n",
              "      <th>17-05-2024 06:00:00</th>\n",
              "      <td>169.2190</td>\n",
              "      <td>169.2680</td>\n",
              "      <td>169.0085</td>\n",
              "      <td>169.0770</td>\n",
              "    </tr>\n",
              "    <tr>\n",
              "      <th>17-05-2024 07:00:00</th>\n",
              "      <td>169.0820</td>\n",
              "      <td>169.2795</td>\n",
              "      <td>169.0690</td>\n",
              "      <td>169.2070</td>\n",
              "    </tr>\n",
              "    <tr>\n",
              "      <th>17-05-2024 08:00:00</th>\n",
              "      <td>169.2080</td>\n",
              "      <td>169.2255</td>\n",
              "      <td>169.0090</td>\n",
              "      <td>169.0310</td>\n",
              "    </tr>\n",
              "    <tr>\n",
              "      <th>17-05-2024 09:00:00</th>\n",
              "      <td>169.0305</td>\n",
              "      <td>169.0880</td>\n",
              "      <td>168.9330</td>\n",
              "      <td>169.0025</td>\n",
              "    </tr>\n",
              "    <tr>\n",
              "      <th>17-05-2024 10:00:00</th>\n",
              "      <td>169.0030</td>\n",
              "      <td>169.0610</td>\n",
              "      <td>168.8710</td>\n",
              "      <td>168.9060</td>\n",
              "    </tr>\n",
              "    <tr>\n",
              "      <th>17-05-2024 11:00:00</th>\n",
              "      <td>168.9060</td>\n",
              "      <td>169.0530</td>\n",
              "      <td>168.9060</td>\n",
              "      <td>169.0010</td>\n",
              "    </tr>\n",
              "    <tr>\n",
              "      <th>17-05-2024 12:00:00</th>\n",
              "      <td>169.0015</td>\n",
              "      <td>169.0330</td>\n",
              "      <td>168.8230</td>\n",
              "      <td>168.9255</td>\n",
              "    </tr>\n",
              "    <tr>\n",
              "      <th>17-05-2024 13:00:00</th>\n",
              "      <td>168.9250</td>\n",
              "      <td>169.0955</td>\n",
              "      <td>168.8740</td>\n",
              "      <td>169.0645</td>\n",
              "    </tr>\n",
              "    <tr>\n",
              "      <th>17-05-2024 14:00:00</th>\n",
              "      <td>169.0640</td>\n",
              "      <td>169.1500</td>\n",
              "      <td>168.9520</td>\n",
              "      <td>169.0350</td>\n",
              "    </tr>\n",
              "    <tr>\n",
              "      <th>17-05-2024 15:00:00</th>\n",
              "      <td>169.0260</td>\n",
              "      <td>169.0925</td>\n",
              "      <td>168.8560</td>\n",
              "      <td>169.0925</td>\n",
              "    </tr>\n",
              "    <tr>\n",
              "      <th>17-05-2024 16:00:00</th>\n",
              "      <td>169.0900</td>\n",
              "      <td>169.1535</td>\n",
              "      <td>169.0530</td>\n",
              "      <td>169.1430</td>\n",
              "    </tr>\n",
              "    <tr>\n",
              "      <th>17-05-2024 17:00:00</th>\n",
              "      <td>169.1440</td>\n",
              "      <td>169.2830</td>\n",
              "      <td>169.1260</td>\n",
              "      <td>169.2695</td>\n",
              "    </tr>\n",
              "    <tr>\n",
              "      <th>17-05-2024 18:00:00</th>\n",
              "      <td>169.2660</td>\n",
              "      <td>169.3280</td>\n",
              "      <td>169.2090</td>\n",
              "      <td>169.3115</td>\n",
              "    </tr>\n",
              "    <tr>\n",
              "      <th>17-05-2024 19:00:00</th>\n",
              "      <td>169.3110</td>\n",
              "      <td>169.3130</td>\n",
              "      <td>169.2070</td>\n",
              "      <td>169.2620</td>\n",
              "    </tr>\n",
              "    <tr>\n",
              "      <th>17-05-2024 20:00:00</th>\n",
              "      <td>169.2615</td>\n",
              "      <td>169.2970</td>\n",
              "      <td>169.1650</td>\n",
              "      <td>169.1855</td>\n",
              "    </tr>\n",
              "  </tbody>\n",
              "</table>\n",
              "</div>\n",
              "    <div class=\"colab-df-buttons\">\n",
              "\n",
              "  <div class=\"colab-df-container\">\n",
              "    <button class=\"colab-df-convert\" onclick=\"convertToInteractive('df-510bf04e-0fc1-4f73-994a-8f661a8ca6e3')\"\n",
              "            title=\"Convert this dataframe to an interactive table.\"\n",
              "            style=\"display:none;\">\n",
              "\n",
              "  <svg xmlns=\"http://www.w3.org/2000/svg\" height=\"24px\" viewBox=\"0 -960 960 960\">\n",
              "    <path d=\"M120-120v-720h720v720H120Zm60-500h600v-160H180v160Zm220 220h160v-160H400v160Zm0 220h160v-160H400v160ZM180-400h160v-160H180v160Zm440 0h160v-160H620v160ZM180-180h160v-160H180v160Zm440 0h160v-160H620v160Z\"/>\n",
              "  </svg>\n",
              "    </button>\n",
              "\n",
              "  <style>\n",
              "    .colab-df-container {\n",
              "      display:flex;\n",
              "      gap: 12px;\n",
              "    }\n",
              "\n",
              "    .colab-df-convert {\n",
              "      background-color: #E8F0FE;\n",
              "      border: none;\n",
              "      border-radius: 50%;\n",
              "      cursor: pointer;\n",
              "      display: none;\n",
              "      fill: #1967D2;\n",
              "      height: 32px;\n",
              "      padding: 0 0 0 0;\n",
              "      width: 32px;\n",
              "    }\n",
              "\n",
              "    .colab-df-convert:hover {\n",
              "      background-color: #E2EBFA;\n",
              "      box-shadow: 0px 1px 2px rgba(60, 64, 67, 0.3), 0px 1px 3px 1px rgba(60, 64, 67, 0.15);\n",
              "      fill: #174EA6;\n",
              "    }\n",
              "\n",
              "    .colab-df-buttons div {\n",
              "      margin-bottom: 4px;\n",
              "    }\n",
              "\n",
              "    [theme=dark] .colab-df-convert {\n",
              "      background-color: #3B4455;\n",
              "      fill: #D2E3FC;\n",
              "    }\n",
              "\n",
              "    [theme=dark] .colab-df-convert:hover {\n",
              "      background-color: #434B5C;\n",
              "      box-shadow: 0px 1px 3px 1px rgba(0, 0, 0, 0.15);\n",
              "      filter: drop-shadow(0px 1px 2px rgba(0, 0, 0, 0.3));\n",
              "      fill: #FFFFFF;\n",
              "    }\n",
              "  </style>\n",
              "\n",
              "    <script>\n",
              "      const buttonEl =\n",
              "        document.querySelector('#df-510bf04e-0fc1-4f73-994a-8f661a8ca6e3 button.colab-df-convert');\n",
              "      buttonEl.style.display =\n",
              "        google.colab.kernel.accessAllowed ? 'block' : 'none';\n",
              "\n",
              "      async function convertToInteractive(key) {\n",
              "        const element = document.querySelector('#df-510bf04e-0fc1-4f73-994a-8f661a8ca6e3');\n",
              "        const dataTable =\n",
              "          await google.colab.kernel.invokeFunction('convertToInteractive',\n",
              "                                                    [key], {});\n",
              "        if (!dataTable) return;\n",
              "\n",
              "        const docLinkHtml = 'Like what you see? Visit the ' +\n",
              "          '<a target=\"_blank\" href=https://colab.research.google.com/notebooks/data_table.ipynb>data table notebook</a>'\n",
              "          + ' to learn more about interactive tables.';\n",
              "        element.innerHTML = '';\n",
              "        dataTable['output_type'] = 'display_data';\n",
              "        await google.colab.output.renderOutput(dataTable, element);\n",
              "        const docLink = document.createElement('div');\n",
              "        docLink.innerHTML = docLinkHtml;\n",
              "        element.appendChild(docLink);\n",
              "      }\n",
              "    </script>\n",
              "  </div>\n",
              "\n",
              "\n",
              "<div id=\"df-be7a9069-9baf-4723-be9e-c3d9cccb49b1\">\n",
              "  <button class=\"colab-df-quickchart\" onclick=\"quickchart('df-be7a9069-9baf-4723-be9e-c3d9cccb49b1')\"\n",
              "            title=\"Suggest charts\"\n",
              "            style=\"display:none;\">\n",
              "\n",
              "<svg xmlns=\"http://www.w3.org/2000/svg\" height=\"24px\"viewBox=\"0 0 24 24\"\n",
              "     width=\"24px\">\n",
              "    <g>\n",
              "        <path d=\"M19 3H5c-1.1 0-2 .9-2 2v14c0 1.1.9 2 2 2h14c1.1 0 2-.9 2-2V5c0-1.1-.9-2-2-2zM9 17H7v-7h2v7zm4 0h-2V7h2v10zm4 0h-2v-4h2v4z\"/>\n",
              "    </g>\n",
              "</svg>\n",
              "  </button>\n",
              "\n",
              "<style>\n",
              "  .colab-df-quickchart {\n",
              "      --bg-color: #E8F0FE;\n",
              "      --fill-color: #1967D2;\n",
              "      --hover-bg-color: #E2EBFA;\n",
              "      --hover-fill-color: #174EA6;\n",
              "      --disabled-fill-color: #AAA;\n",
              "      --disabled-bg-color: #DDD;\n",
              "  }\n",
              "\n",
              "  [theme=dark] .colab-df-quickchart {\n",
              "      --bg-color: #3B4455;\n",
              "      --fill-color: #D2E3FC;\n",
              "      --hover-bg-color: #434B5C;\n",
              "      --hover-fill-color: #FFFFFF;\n",
              "      --disabled-bg-color: #3B4455;\n",
              "      --disabled-fill-color: #666;\n",
              "  }\n",
              "\n",
              "  .colab-df-quickchart {\n",
              "    background-color: var(--bg-color);\n",
              "    border: none;\n",
              "    border-radius: 50%;\n",
              "    cursor: pointer;\n",
              "    display: none;\n",
              "    fill: var(--fill-color);\n",
              "    height: 32px;\n",
              "    padding: 0;\n",
              "    width: 32px;\n",
              "  }\n",
              "\n",
              "  .colab-df-quickchart:hover {\n",
              "    background-color: var(--hover-bg-color);\n",
              "    box-shadow: 0 1px 2px rgba(60, 64, 67, 0.3), 0 1px 3px 1px rgba(60, 64, 67, 0.15);\n",
              "    fill: var(--button-hover-fill-color);\n",
              "  }\n",
              "\n",
              "  .colab-df-quickchart-complete:disabled,\n",
              "  .colab-df-quickchart-complete:disabled:hover {\n",
              "    background-color: var(--disabled-bg-color);\n",
              "    fill: var(--disabled-fill-color);\n",
              "    box-shadow: none;\n",
              "  }\n",
              "\n",
              "  .colab-df-spinner {\n",
              "    border: 2px solid var(--fill-color);\n",
              "    border-color: transparent;\n",
              "    border-bottom-color: var(--fill-color);\n",
              "    animation:\n",
              "      spin 1s steps(1) infinite;\n",
              "  }\n",
              "\n",
              "  @keyframes spin {\n",
              "    0% {\n",
              "      border-color: transparent;\n",
              "      border-bottom-color: var(--fill-color);\n",
              "      border-left-color: var(--fill-color);\n",
              "    }\n",
              "    20% {\n",
              "      border-color: transparent;\n",
              "      border-left-color: var(--fill-color);\n",
              "      border-top-color: var(--fill-color);\n",
              "    }\n",
              "    30% {\n",
              "      border-color: transparent;\n",
              "      border-left-color: var(--fill-color);\n",
              "      border-top-color: var(--fill-color);\n",
              "      border-right-color: var(--fill-color);\n",
              "    }\n",
              "    40% {\n",
              "      border-color: transparent;\n",
              "      border-right-color: var(--fill-color);\n",
              "      border-top-color: var(--fill-color);\n",
              "    }\n",
              "    60% {\n",
              "      border-color: transparent;\n",
              "      border-right-color: var(--fill-color);\n",
              "    }\n",
              "    80% {\n",
              "      border-color: transparent;\n",
              "      border-right-color: var(--fill-color);\n",
              "      border-bottom-color: var(--fill-color);\n",
              "    }\n",
              "    90% {\n",
              "      border-color: transparent;\n",
              "      border-bottom-color: var(--fill-color);\n",
              "    }\n",
              "  }\n",
              "</style>\n",
              "\n",
              "  <script>\n",
              "    async function quickchart(key) {\n",
              "      const quickchartButtonEl =\n",
              "        document.querySelector('#' + key + ' button');\n",
              "      quickchartButtonEl.disabled = true;  // To prevent multiple clicks.\n",
              "      quickchartButtonEl.classList.add('colab-df-spinner');\n",
              "      try {\n",
              "        const charts = await google.colab.kernel.invokeFunction(\n",
              "            'suggestCharts', [key], {});\n",
              "      } catch (error) {\n",
              "        console.error('Error during call to suggestCharts:', error);\n",
              "      }\n",
              "      quickchartButtonEl.classList.remove('colab-df-spinner');\n",
              "      quickchartButtonEl.classList.add('colab-df-quickchart-complete');\n",
              "    }\n",
              "    (() => {\n",
              "      let quickchartButtonEl =\n",
              "        document.querySelector('#df-be7a9069-9baf-4723-be9e-c3d9cccb49b1 button');\n",
              "      quickchartButtonEl.style.display =\n",
              "        google.colab.kernel.accessAllowed ? 'block' : 'none';\n",
              "    })();\n",
              "  </script>\n",
              "</div>\n",
              "    </div>\n",
              "  </div>\n"
            ],
            "application/vnd.google.colaboratory.intrinsic+json": {
              "type": "dataframe",
              "variable_name": "df",
              "summary": "{\n  \"name\": \"df\",\n  \"rows\": 21,\n  \"fields\": [\n    {\n      \"column\": \"date\",\n      \"properties\": {\n        \"dtype\": \"object\",\n        \"num_unique_values\": 21,\n        \"samples\": [\n          \"17-05-2024 00:00:00\",\n          \"17-05-2024 17:00:00\",\n          \"17-05-2024 15:00:00\"\n        ],\n        \"semantic_type\": \"\",\n        \"description\": \"\"\n      }\n    },\n    {\n      \"column\": \"open\",\n      \"properties\": {\n        \"dtype\": \"number\",\n        \"std\": 0.13574207860778442,\n        \"min\": 168.862,\n        \"max\": 169.311,\n        \"num_unique_values\": 20,\n        \"samples\": [\n          168.8865,\n          169.266,\n          169.026\n        ],\n        \"semantic_type\": \"\",\n        \"description\": \"\"\n      }\n    },\n    {\n      \"column\": \"high\",\n      \"properties\": {\n        \"dtype\": \"number\",\n        \"std\": 0.1080029651268464,\n        \"min\": 168.9775,\n        \"max\": 169.328,\n        \"num_unique_values\": 21,\n        \"samples\": [\n          168.9775,\n          169.283,\n          169.0925\n        ],\n        \"semantic_type\": \"\",\n        \"description\": \"\"\n      }\n    },\n    {\n      \"column\": \"low\",\n      \"properties\": {\n        \"dtype\": \"number\",\n        \"std\": 0.13825076853312585,\n        \"min\": 168.783,\n        \"max\": 169.209,\n        \"num_unique_values\": 21,\n        \"samples\": [\n          168.783,\n          169.126,\n          168.856\n        ],\n        \"semantic_type\": \"\",\n        \"description\": \"\"\n      }\n    },\n    {\n      \"column\": \"close\",\n      \"properties\": {\n        \"dtype\": \"number\",\n        \"std\": 0.12802420716039073,\n        \"min\": 168.86,\n        \"max\": 169.3115,\n        \"num_unique_values\": 21,\n        \"samples\": [\n          168.86,\n          169.2695,\n          169.0925\n        ],\n        \"semantic_type\": \"\",\n        \"description\": \"\"\n      }\n    }\n  ]\n}"
            }
          },
          "metadata": {},
          "execution_count": 119
        }
      ]
    },
    {
      "cell_type": "code",
      "source": [
        "df=np.array(df)"
      ],
      "metadata": {
        "id": "wCOWNm4XvnhK"
      },
      "execution_count": 120,
      "outputs": []
    },
    {
      "cell_type": "code",
      "source": [
        "def multivariate_test(dataset, target, start_index, end_index, history_size,\n",
        "                      target_size, step, single_step=False):\n",
        "    data = []\n",
        "    labels = []\n",
        "    if end_index is None:\n",
        "        end_index = len(dataset) - target_size\n",
        "\n",
        "    for i in range(start_index, end_index):\n",
        "        indices = range(i-history_size, i, step)\n",
        "        data.append(dataset[indices])\n",
        "\n",
        "        if single_step:\n",
        "            labels.append(target[i+target_size])\n",
        "        else:\n",
        "            labels.append(target[i:i+target_size])\n",
        "\n",
        "    return np.array(data), np.array(labels)"
      ],
      "metadata": {
        "id": "_iVM3jhjwlh-"
      },
      "execution_count": 135,
      "outputs": []
    },
    {
      "cell_type": "code",
      "source": [
        "x_t, y_t = multivariate_test(df, df[:, 0], 0,\n",
        "                             20, past_history,\n",
        "                             n_step, STEP,\n",
        "                             single_step=True)"
      ],
      "metadata": {
        "id": "wx7j82VDDHGi"
      },
      "execution_count": 144,
      "outputs": []
    },
    {
      "cell_type": "code",
      "source": [
        "x_t.shape"
      ],
      "metadata": {
        "colab": {
          "base_uri": "https://localhost:8080/"
        },
        "id": "Iikh9vmZFdXM",
        "outputId": "ab51ff25-15d4-4a98-ebf6-afeb13cb5da6"
      },
      "execution_count": 140,
      "outputs": [
        {
          "output_type": "execute_result",
          "data": {
            "text/plain": [
              "(20, 5, 4)"
            ]
          },
          "metadata": {},
          "execution_count": 140
        }
      ]
    },
    {
      "cell_type": "code",
      "source": [
        "for i in range(x_t.shape[2]):\n",
        "    x_t[:, :, i] = scalers[i].transform(x_t[:, :, i])"
      ],
      "metadata": {
        "id": "iq8HZ6nDxOCj"
      },
      "execution_count": 145,
      "outputs": []
    },
    {
      "cell_type": "code",
      "source": [
        "x_t = torch.FloatTensor(x_t)\n",
        "y_t = torch.FloatTensor(y_t)"
      ],
      "metadata": {
        "id": "ajknOlfiD854"
      },
      "execution_count": 146,
      "outputs": []
    },
    {
      "cell_type": "code",
      "source": [
        "pred = model(x_t)"
      ],
      "metadata": {
        "id": "oum1bGdyDzyc"
      },
      "execution_count": 147,
      "outputs": []
    },
    {
      "cell_type": "code",
      "source": [
        "pred = scalers_test.inverse_transform(pred.detach().numpy())"
      ],
      "metadata": {
        "id": "rZaSxf2SD2p2"
      },
      "execution_count": 151,
      "outputs": []
    },
    {
      "cell_type": "code",
      "source": [
        "y_t"
      ],
      "metadata": {
        "colab": {
          "base_uri": "https://localhost:8080/"
        },
        "id": "MsGWboC6xkym",
        "outputId": "e46c388e-84c2-45b3-f632-da433c54845e"
      },
      "execution_count": 152,
      "outputs": [
        {
          "output_type": "execute_result",
          "data": {
            "text/plain": [
              "tensor([168.8620, 169.2160, 169.2390, 169.1795, 169.1440, 169.2190, 169.0820,\n",
              "        169.2080, 169.0305, 169.0030, 168.9060, 169.0015, 168.9250, 169.0640,\n",
              "        169.0260, 169.0900, 169.1440, 169.2660, 169.3110, 169.2615])"
            ]
          },
          "metadata": {},
          "execution_count": 152
        }
      ]
    },
    {
      "cell_type": "code",
      "source": [
        "fig = plt.figure(figsize = (15,10))\n",
        "plt.plot(pred, color='b', label='Real ')\n",
        "plt.plot(y_t, color='r', label='Predicted ')\n",
        "plt.legend()"
      ],
      "metadata": {
        "colab": {
          "base_uri": "https://localhost:8080/",
          "height": 809
        },
        "id": "U0IfuuN_xzRk",
        "outputId": "1390fa3a-1829-4756-8919-c545c6988f6b"
      },
      "execution_count": 153,
      "outputs": [
        {
          "output_type": "execute_result",
          "data": {
            "text/plain": [
              "<matplotlib.legend.Legend at 0x7a6681bc3820>"
            ]
          },
          "metadata": {},
          "execution_count": 153
        },
        {
          "output_type": "display_data",
          "data": {
            "text/plain": [
              "<Figure size 1500x1000 with 1 Axes>"
            ],
            "image/png": "[encoded data removed]"
          },
          "metadata": {}
        }
      ]
    },
    {
      "cell_type": "code",
      "source": [],
      "metadata": {
        "id": "ohmbuvTBx_ZF"
      },
      "execution_count": null,
      "outputs": []
    }
  ]
}